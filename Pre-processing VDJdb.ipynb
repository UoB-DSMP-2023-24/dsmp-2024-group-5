{
 "cells": [
  {
   "cell_type": "markdown",
   "id": "e9acfecd",
   "metadata": {
    "toc": true
   },
   "source": [
    "<h1>Table of Contents<span class=\"tocSkip\"></span></h1>\n",
    "<div class=\"toc\"><ul class=\"toc-item\"><li><span><a href=\"#Pre-processing-VDJdb\" data-toc-modified-id=\"Pre-processing-VDJdb-1\">Pre-processing VDJdb</a></span><ul class=\"toc-item\"><li><span><a href=\"#1.-Load-the-packages-and-data\" data-toc-modified-id=\"1.-Load-the-packages-and-data-1.1\">1. Load the packages and data</a></span></li><li><span><a href=\"#2.-Data-describtion\" data-toc-modified-id=\"2.-Data-describtion-1.2\">2. Data describtion</a></span></li><li><span><a href=\"#3.-Data-wrangling\" data-toc-modified-id=\"3.-Data-wrangling-1.3\">3. Data wrangling</a></span><ul class=\"toc-item\"><li><span><a href=\"#3.1-Remove-columns\" data-toc-modified-id=\"3.1-Remove-columns-1.3.1\">3.1 Remove columns</a></span></li><li><span><a href=\"#3.2-Null-values\" data-toc-modified-id=\"3.2-Null-values-1.3.2\">3.2 Null values</a></span></li><li><span><a href=\"#3.3-Unique-values\" data-toc-modified-id=\"3.3-Unique-values-1.3.3\">3.3 Unique values</a></span></li><li><span><a href=\"#3.4-complex.id\" data-toc-modified-id=\"3.4-complex.id-1.3.4\">3.4 complex.id</a></span></li></ul></li><li><span><a href=\"#4.-Inference\" data-toc-modified-id=\"4.-Inference-1.4\">4. Inference</a></span><ul class=\"toc-item\"><li><span><a href=\"#4.1-TCRdist3\" data-toc-modified-id=\"4.1-TCRdist3-1.4.1\">4.1 TCRdist3</a></span></li><li><span><a href=\"#4.2-GLIPH\" data-toc-modified-id=\"4.2-GLIPH-1.4.2\">4.2 GLIPH</a></span></li><li><span><a href=\"#4.3-GIANA\" data-toc-modified-id=\"4.3-GIANA-1.4.3\">4.3 GIANA</a></span></li></ul></li></ul></li><li><span><a href=\"#Task3\" data-toc-modified-id=\"Task3-2\">Task3</a></span></li><li><span><a href=\"#1.-TCRdist\" data-toc-modified-id=\"1.-TCRdist-3\">1. TCRdist</a></span><ul class=\"toc-item\"><li><span><a href=\"#1.1-Load-the-package\" data-toc-modified-id=\"1.1-Load-the-package-3.1\">1.1 Load the package</a></span></li><li><span><a href=\"#1.2-Format-the-data\" data-toc-modified-id=\"1.2-Format-the-data-3.2\">1.2 Format the data</a></span><ul class=\"toc-item\"><li><span><a href=\"#1.2.1-Add-'clone_id'\" data-toc-modified-id=\"1.2.1-Add-'clone_id'-3.2.1\">1.2.1 Add 'clone_id'</a></span></li><li><span><a href=\"#1.2.2-Duplicate-complex.id-0-records\" data-toc-modified-id=\"1.2.2-Duplicate-complex.id-0-records-3.2.2\">1.2.2 Duplicate complex.id 0 records</a></span></li><li><span><a href=\"#1.2.3-Add-'count'\" data-toc-modified-id=\"1.2.3-Add-'count'-3.2.3\">1.2.3 Add 'count'</a></span></li><li><span><a href=\"#1.2.4-Select-the-columns-for-TCRdist-input\" data-toc-modified-id=\"1.2.4-Select-the-columns-for-TCRdist-input-3.2.4\">1.2.4 Select the columns for TCRdist input</a></span></li><li><span><a href=\"#1.2.5-Fill-null-values-and-pivot-wider\" data-toc-modified-id=\"1.2.5-Fill-null-values-and-pivot-wider-3.2.5\">1.2.5 Fill null values and pivot wider</a></span></li><li><span><a href=\"#1.2.6-Final-input\" data-toc-modified-id=\"1.2.6-Final-input-3.2.6\">1.2.6 Final input</a></span></li></ul></li><li><span><a href=\"#1.3-Distance-matrix\" data-toc-modified-id=\"1.3-Distance-matrix-3.3\">1.3 Distance matrix</a></span></li></ul></li></ul></div>"
   ]
  },
  {
   "cell_type": "markdown",
   "id": "463190b1",
   "metadata": {},
   "source": [
    "# Pre-processing VDJdb"
   ]
  },
  {
   "cell_type": "markdown",
   "id": "fca305c3",
   "metadata": {},
   "source": [
    "## 1. Load the packages and data"
   ]
  },
  {
   "cell_type": "code",
   "execution_count": 27,
   "id": "dde59446",
   "metadata": {},
   "outputs": [],
   "source": [
    "import pandas as pd\n",
    "import numpy as np\n",
    "from IPython.display import display\n",
    "import matplotlib.pyplot as plt\n",
    "%matplotlib inline"
   ]
  },
  {
   "cell_type": "code",
   "execution_count": 2,
   "id": "4d5dff23",
   "metadata": {},
   "outputs": [],
   "source": [
    "rawdata = pd.read_excel('vdjdb.xlsx')"
   ]
  },
  {
   "cell_type": "code",
   "execution_count": 3,
   "id": "3266a1b0",
   "metadata": {},
   "outputs": [
    {
     "data": {
      "text/html": [
       "<div>\n",
       "<style scoped>\n",
       "    .dataframe tbody tr th:only-of-type {\n",
       "        vertical-align: middle;\n",
       "    }\n",
       "\n",
       "    .dataframe tbody tr th {\n",
       "        vertical-align: top;\n",
       "    }\n",
       "\n",
       "    .dataframe thead th {\n",
       "        text-align: right;\n",
       "    }\n",
       "</style>\n",
       "<table border=\"1\" class=\"dataframe\">\n",
       "  <thead>\n",
       "    <tr style=\"text-align: right;\">\n",
       "      <th></th>\n",
       "      <th>complex.id</th>\n",
       "      <th>gene</th>\n",
       "      <th>cdr3</th>\n",
       "      <th>v.segm</th>\n",
       "      <th>j.segm</th>\n",
       "      <th>species</th>\n",
       "      <th>mhc.a</th>\n",
       "      <th>mhc.b</th>\n",
       "      <th>mhc.class</th>\n",
       "      <th>antigen.epitope</th>\n",
       "      <th>...</th>\n",
       "      <th>antigen.species</th>\n",
       "      <th>reference.id</th>\n",
       "      <th>method</th>\n",
       "      <th>meta</th>\n",
       "      <th>cdr3fix</th>\n",
       "      <th>vdjdb.score</th>\n",
       "      <th>web.method</th>\n",
       "      <th>web.method.seq</th>\n",
       "      <th>web.cdr3fix.nc</th>\n",
       "      <th>web.cdr3fix.unmp</th>\n",
       "    </tr>\n",
       "  </thead>\n",
       "  <tbody>\n",
       "    <tr>\n",
       "      <th>0</th>\n",
       "      <td>1</td>\n",
       "      <td>TRA</td>\n",
       "      <td>CIVRAPGRADMRF</td>\n",
       "      <td>TRAV26-1*01</td>\n",
       "      <td>TRAJ43*01</td>\n",
       "      <td>HomoSapiens</td>\n",
       "      <td>HLA-B*08</td>\n",
       "      <td>B2M</td>\n",
       "      <td>MHCI</td>\n",
       "      <td>FLKEKGGL</td>\n",
       "      <td>...</td>\n",
       "      <td>HIV-1</td>\n",
       "      <td>PMID:15596521</td>\n",
       "      <td>{\"frequency\": \"\", \"identification\": \"tetramer-...</td>\n",
       "      <td>{\"cell.subset\": \"CD8+\", \"clone.id\": \"\", \"donor...</td>\n",
       "      <td>{\"cdr3\": \"CIVRAPGRADMRF\", \"cdr3_old\": \"CIVRAPG...</td>\n",
       "      <td>2</td>\n",
       "      <td>sort</td>\n",
       "      <td>sanger</td>\n",
       "      <td>no</td>\n",
       "      <td>no</td>\n",
       "    </tr>\n",
       "    <tr>\n",
       "      <th>1</th>\n",
       "      <td>1</td>\n",
       "      <td>TRB</td>\n",
       "      <td>CASSYLPGQGDHYSNQPQHF</td>\n",
       "      <td>TRBV13*01</td>\n",
       "      <td>TRBJ1-5*01</td>\n",
       "      <td>HomoSapiens</td>\n",
       "      <td>HLA-B*08</td>\n",
       "      <td>B2M</td>\n",
       "      <td>MHCI</td>\n",
       "      <td>FLKEKGGL</td>\n",
       "      <td>...</td>\n",
       "      <td>HIV-1</td>\n",
       "      <td>PMID:15596521</td>\n",
       "      <td>{\"frequency\": \"\", \"identification\": \"tetramer-...</td>\n",
       "      <td>{\"cell.subset\": \"CD8+\", \"clone.id\": \"\", \"donor...</td>\n",
       "      <td>{\"cdr3\": \"CASSYLPGQGDHYSNQPQHF\", \"cdr3_old\": \"...</td>\n",
       "      <td>2</td>\n",
       "      <td>sort</td>\n",
       "      <td>sanger</td>\n",
       "      <td>no</td>\n",
       "      <td>no</td>\n",
       "    </tr>\n",
       "    <tr>\n",
       "      <th>2</th>\n",
       "      <td>0</td>\n",
       "      <td>TRB</td>\n",
       "      <td>CASSFEAGQGFFSNQPQHF</td>\n",
       "      <td>TRBV13*01</td>\n",
       "      <td>TRBJ1-5*01</td>\n",
       "      <td>HomoSapiens</td>\n",
       "      <td>HLA-B*08</td>\n",
       "      <td>B2M</td>\n",
       "      <td>MHCI</td>\n",
       "      <td>FLKEKGGL</td>\n",
       "      <td>...</td>\n",
       "      <td>HIV-1</td>\n",
       "      <td>PMID:15596521</td>\n",
       "      <td>{\"frequency\": \"\", \"identification\": \"tetramer-...</td>\n",
       "      <td>{\"cell.subset\": \"CD8+\", \"clone.id\": \"\", \"donor...</td>\n",
       "      <td>{\"cdr3\": \"CASSFEAGQGFFSNQPQHF\", \"cdr3_old\": \"C...</td>\n",
       "      <td>2</td>\n",
       "      <td>sort</td>\n",
       "      <td>sanger</td>\n",
       "      <td>no</td>\n",
       "      <td>no</td>\n",
       "    </tr>\n",
       "  </tbody>\n",
       "</table>\n",
       "<p>3 rows × 21 columns</p>\n",
       "</div>"
      ],
      "text/plain": [
       "   complex.id gene                  cdr3       v.segm      j.segm  \\\n",
       "0           1  TRA         CIVRAPGRADMRF  TRAV26-1*01   TRAJ43*01   \n",
       "1           1  TRB  CASSYLPGQGDHYSNQPQHF    TRBV13*01  TRBJ1-5*01   \n",
       "2           0  TRB   CASSFEAGQGFFSNQPQHF    TRBV13*01  TRBJ1-5*01   \n",
       "\n",
       "       species     mhc.a mhc.b mhc.class antigen.epitope  ... antigen.species  \\\n",
       "0  HomoSapiens  HLA-B*08   B2M      MHCI        FLKEKGGL  ...           HIV-1   \n",
       "1  HomoSapiens  HLA-B*08   B2M      MHCI        FLKEKGGL  ...           HIV-1   \n",
       "2  HomoSapiens  HLA-B*08   B2M      MHCI        FLKEKGGL  ...           HIV-1   \n",
       "\n",
       "    reference.id                                             method  \\\n",
       "0  PMID:15596521  {\"frequency\": \"\", \"identification\": \"tetramer-...   \n",
       "1  PMID:15596521  {\"frequency\": \"\", \"identification\": \"tetramer-...   \n",
       "2  PMID:15596521  {\"frequency\": \"\", \"identification\": \"tetramer-...   \n",
       "\n",
       "                                                meta  \\\n",
       "0  {\"cell.subset\": \"CD8+\", \"clone.id\": \"\", \"donor...   \n",
       "1  {\"cell.subset\": \"CD8+\", \"clone.id\": \"\", \"donor...   \n",
       "2  {\"cell.subset\": \"CD8+\", \"clone.id\": \"\", \"donor...   \n",
       "\n",
       "                                             cdr3fix vdjdb.score  web.method  \\\n",
       "0  {\"cdr3\": \"CIVRAPGRADMRF\", \"cdr3_old\": \"CIVRAPG...           2        sort   \n",
       "1  {\"cdr3\": \"CASSYLPGQGDHYSNQPQHF\", \"cdr3_old\": \"...           2        sort   \n",
       "2  {\"cdr3\": \"CASSFEAGQGFFSNQPQHF\", \"cdr3_old\": \"C...           2        sort   \n",
       "\n",
       "  web.method.seq web.cdr3fix.nc web.cdr3fix.unmp  \n",
       "0         sanger             no               no  \n",
       "1         sanger             no               no  \n",
       "2         sanger             no               no  \n",
       "\n",
       "[3 rows x 21 columns]"
      ]
     },
     "execution_count": 3,
     "metadata": {},
     "output_type": "execute_result"
    }
   ],
   "source": [
    "rawdata.head(3)"
   ]
  },
  {
   "cell_type": "code",
   "execution_count": 4,
   "id": "6b1e7ee5",
   "metadata": {
    "scrolled": true
   },
   "outputs": [
    {
     "name": "stdout",
     "output_type": "stream",
     "text": [
      "<class 'pandas.core.frame.DataFrame'>\n",
      "RangeIndex: 92771 entries, 0 to 92770\n",
      "Data columns (total 21 columns):\n",
      " #   Column            Non-Null Count  Dtype \n",
      "---  ------            --------------  ----- \n",
      " 0   complex.id        92771 non-null  int64 \n",
      " 1   gene              92771 non-null  object\n",
      " 2   cdr3              92771 non-null  object\n",
      " 3   v.segm            92670 non-null  object\n",
      " 4   j.segm            91626 non-null  object\n",
      " 5   species           92771 non-null  object\n",
      " 6   mhc.a             92771 non-null  object\n",
      " 7   mhc.b             92771 non-null  object\n",
      " 8   mhc.class         92771 non-null  object\n",
      " 9   antigen.epitope   92771 non-null  object\n",
      " 10  antigen.gene      92709 non-null  object\n",
      " 11  antigen.species   92771 non-null  object\n",
      " 12  reference.id      91260 non-null  object\n",
      " 13  method            92771 non-null  object\n",
      " 14  meta              92771 non-null  object\n",
      " 15  cdr3fix           92771 non-null  object\n",
      " 16  vdjdb.score       92771 non-null  int64 \n",
      " 17  web.method        92771 non-null  object\n",
      " 18  web.method.seq    92771 non-null  object\n",
      " 19  web.cdr3fix.nc    92771 non-null  object\n",
      " 20  web.cdr3fix.unmp  92771 non-null  object\n",
      "dtypes: int64(2), object(19)\n",
      "memory usage: 14.9+ MB\n"
     ]
    }
   ],
   "source": [
    "rawdata.info()"
   ]
  },
  {
   "cell_type": "code",
   "execution_count": 5,
   "id": "34ead6d4",
   "metadata": {
    "scrolled": false
   },
   "outputs": [],
   "source": [
    "# dtype_df = pd.DataFrame(columns=['Column', 'Data Type'])\n",
    "\n",
    "# for column in rawdata.columns:\n",
    "#     data_type = type(rawdata[column][0]).__name__\n",
    "#     dtype_df = pd.concat([dtype_df, pd.DataFrame({'Column': [column], 'Data Type': [data_type]})], ignore_index=True)\n",
    "\n",
    "# print(dtype_df)"
   ]
  },
  {
   "cell_type": "markdown",
   "id": "293d6aa9",
   "metadata": {},
   "source": [
    "## 2. Data describtion"
   ]
  },
  {
   "cell_type": "markdown",
   "id": "caf94352",
   "metadata": {},
   "source": [
    "From the data type of each column we can see that all are of type **str** except *conplex.id* and *vdjdb.score* which are of type **int**.\n",
    "\n",
    "The data contains a total of 21 columns, we can make an initial filter by the type and meaning of each column."
   ]
  },
  {
   "cell_type": "code",
   "execution_count": 6,
   "id": "42783ce8",
   "metadata": {},
   "outputs": [],
   "source": [
    "rawdata_info = pd.read_excel('vdjdb.xlsx', sheet_name='Sheet2')"
   ]
  },
  {
   "cell_type": "code",
   "execution_count": 7,
   "id": "80083258",
   "metadata": {},
   "outputs": [],
   "source": [
    "def display_left_aligned(df):\n",
    "    style = df.style.set_properties(**{\n",
    "        'text-align': 'left',\n",
    "        'white-space': 'pre-wrap',\n",
    "    })\n",
    "\n",
    "    style.set_table_styles([{\n",
    "        'selector': 'th',\n",
    "        'props': [('text-align', 'left')]\n",
    "    }])\n",
    "\n",
    "    display(style)"
   ]
  },
  {
   "cell_type": "code",
   "execution_count": 8,
   "id": "caa0de11",
   "metadata": {},
   "outputs": [
    {
     "data": {
      "text/html": [
       "<style type=\"text/css\">\n",
       "#T_5d20a th {\n",
       "  text-align: left;\n",
       "}\n",
       "#T_5d20a_row0_col0, #T_5d20a_row0_col1, #T_5d20a_row0_col2, #T_5d20a_row1_col0, #T_5d20a_row1_col1, #T_5d20a_row1_col2, #T_5d20a_row2_col0, #T_5d20a_row2_col1, #T_5d20a_row2_col2, #T_5d20a_row3_col0, #T_5d20a_row3_col1, #T_5d20a_row3_col2, #T_5d20a_row4_col0, #T_5d20a_row4_col1, #T_5d20a_row4_col2, #T_5d20a_row5_col0, #T_5d20a_row5_col1, #T_5d20a_row5_col2, #T_5d20a_row6_col0, #T_5d20a_row6_col1, #T_5d20a_row6_col2, #T_5d20a_row7_col0, #T_5d20a_row7_col1, #T_5d20a_row7_col2, #T_5d20a_row8_col0, #T_5d20a_row8_col1, #T_5d20a_row8_col2, #T_5d20a_row9_col0, #T_5d20a_row9_col1, #T_5d20a_row9_col2, #T_5d20a_row10_col0, #T_5d20a_row10_col1, #T_5d20a_row10_col2, #T_5d20a_row11_col0, #T_5d20a_row11_col1, #T_5d20a_row11_col2, #T_5d20a_row12_col0, #T_5d20a_row12_col1, #T_5d20a_row12_col2, #T_5d20a_row13_col0, #T_5d20a_row13_col1, #T_5d20a_row13_col2, #T_5d20a_row14_col0, #T_5d20a_row14_col1, #T_5d20a_row14_col2, #T_5d20a_row15_col0, #T_5d20a_row15_col1, #T_5d20a_row15_col2, #T_5d20a_row16_col0, #T_5d20a_row16_col1, #T_5d20a_row16_col2, #T_5d20a_row17_col0, #T_5d20a_row17_col1, #T_5d20a_row17_col2, #T_5d20a_row18_col0, #T_5d20a_row18_col1, #T_5d20a_row18_col2, #T_5d20a_row19_col0, #T_5d20a_row19_col1, #T_5d20a_row19_col2, #T_5d20a_row20_col0, #T_5d20a_row20_col1, #T_5d20a_row20_col2 {\n",
       "  text-align: left;\n",
       "  white-space: pre-wrap;\n",
       "}\n",
       "</style>\n",
       "<table id=\"T_5d20a\">\n",
       "  <thead>\n",
       "    <tr>\n",
       "      <th class=\"blank level0\" >&nbsp;</th>\n",
       "      <th id=\"T_5d20a_level0_col0\" class=\"col_heading level0 col0\" >Column Name</th>\n",
       "      <th id=\"T_5d20a_level0_col1\" class=\"col_heading level0 col1\" >Data Type</th>\n",
       "      <th id=\"T_5d20a_level0_col2\" class=\"col_heading level0 col2\" >Description</th>\n",
       "    </tr>\n",
       "  </thead>\n",
       "  <tbody>\n",
       "    <tr>\n",
       "      <th id=\"T_5d20a_level0_row0\" class=\"row_heading level0 row0\" >0</th>\n",
       "      <td id=\"T_5d20a_row0_col0\" class=\"data row0 col0\" >complex.id</td>\n",
       "      <td id=\"T_5d20a_row0_col1\" class=\"data row0 col1\" >int64</td>\n",
       "      <td id=\"T_5d20a_row0_col2\" class=\"data row0 col2\" >TCR id:\n",
       "\n",
       "1. TCR alpha and beta chain records belonging to the same T-cell clone.\n",
       "2. In case complex.id is equal to 0, a record doesn't have either alpha or beta chain.</td>\n",
       "    </tr>\n",
       "    <tr>\n",
       "      <th id=\"T_5d20a_level0_row1\" class=\"row_heading level0 row1\" >1</th>\n",
       "      <td id=\"T_5d20a_row1_col0\" class=\"data row1 col0\" >gene</td>\n",
       "      <td id=\"T_5d20a_row1_col1\" class=\"data row1 col1\" >str</td>\n",
       "      <td id=\"T_5d20a_row1_col2\" class=\"data row1 col2\" >TCR chain as alpha or beta</td>\n",
       "    </tr>\n",
       "    <tr>\n",
       "      <th id=\"T_5d20a_level0_row2\" class=\"row_heading level0 row2\" >2</th>\n",
       "      <td id=\"T_5d20a_row2_col0\" class=\"data row2 col0\" >cdr3</td>\n",
       "      <td id=\"T_5d20a_row2_col1\" class=\"data row2 col1\" >str</td>\n",
       "      <td id=\"T_5d20a_row2_col2\" class=\"data row2 col2\" >TCR Complementarity Determining Region 3 (CDR3) amino acid sequence</td>\n",
       "    </tr>\n",
       "    <tr>\n",
       "      <th id=\"T_5d20a_level0_row3\" class=\"row_heading level0 row3\" >3</th>\n",
       "      <td id=\"T_5d20a_row3_col0\" class=\"data row3 col0\" >v.segm</td>\n",
       "      <td id=\"T_5d20a_row3_col1\" class=\"data row3 col1\" >str</td>\n",
       "      <td id=\"T_5d20a_row3_col2\" class=\"data row3 col2\" >TCR Variable (V) segment</td>\n",
       "    </tr>\n",
       "    <tr>\n",
       "      <th id=\"T_5d20a_level0_row4\" class=\"row_heading level0 row4\" >4</th>\n",
       "      <td id=\"T_5d20a_row4_col0\" class=\"data row4 col0\" >j.segm</td>\n",
       "      <td id=\"T_5d20a_row4_col1\" class=\"data row4 col1\" >str</td>\n",
       "      <td id=\"T_5d20a_row4_col2\" class=\"data row4 col2\" >TCR Joining (J) gene segment</td>\n",
       "    </tr>\n",
       "    <tr>\n",
       "      <th id=\"T_5d20a_level0_row5\" class=\"row_heading level0 row5\" >5</th>\n",
       "      <td id=\"T_5d20a_row5_col0\" class=\"data row5 col0\" >species</td>\n",
       "      <td id=\"T_5d20a_row5_col1\" class=\"data row5 col1\" >str</td>\n",
       "      <td id=\"T_5d20a_row5_col2\" class=\"data row5 col2\" >TCR parent species</td>\n",
       "    </tr>\n",
       "    <tr>\n",
       "      <th id=\"T_5d20a_level0_row6\" class=\"row_heading level0 row6\" >6</th>\n",
       "      <td id=\"T_5d20a_row6_col0\" class=\"data row6 col0\" >mhc.a</td>\n",
       "      <td id=\"T_5d20a_row6_col1\" class=\"data row6 col1\" >str</td>\n",
       "      <td id=\"T_5d20a_row6_col2\" class=\"data row6 col2\" >First MHC chain allele</td>\n",
       "    </tr>\n",
       "    <tr>\n",
       "      <th id=\"T_5d20a_level0_row7\" class=\"row_heading level0 row7\" >7</th>\n",
       "      <td id=\"T_5d20a_row7_col0\" class=\"data row7 col0\" >mhc.b</td>\n",
       "      <td id=\"T_5d20a_row7_col1\" class=\"data row7 col1\" >str</td>\n",
       "      <td id=\"T_5d20a_row7_col2\" class=\"data row7 col2\" >Second MHC chain allele (MHC I: beta2-microglobulin <B2M>)</td>\n",
       "    </tr>\n",
       "    <tr>\n",
       "      <th id=\"T_5d20a_level0_row8\" class=\"row_heading level0 row8\" >8</th>\n",
       "      <td id=\"T_5d20a_row8_col0\" class=\"data row8 col0\" >mhc.class</td>\n",
       "      <td id=\"T_5d20a_row8_col1\" class=\"data row8 col1\" >str</td>\n",
       "      <td id=\"T_5d20a_row8_col2\" class=\"data row8 col2\" >MHC I or MHC II</td>\n",
       "    </tr>\n",
       "    <tr>\n",
       "      <th id=\"T_5d20a_level0_row9\" class=\"row_heading level0 row9\" >9</th>\n",
       "      <td id=\"T_5d20a_row9_col0\" class=\"data row9 col0\" >antigen.epitope</td>\n",
       "      <td id=\"T_5d20a_row9_col1\" class=\"data row9 col1\" >str</td>\n",
       "      <td id=\"T_5d20a_row9_col2\" class=\"data row9 col2\" >Amino acid sequence of the epitope</td>\n",
       "    </tr>\n",
       "    <tr>\n",
       "      <th id=\"T_5d20a_level0_row10\" class=\"row_heading level0 row10\" >10</th>\n",
       "      <td id=\"T_5d20a_row10_col0\" class=\"data row10 col0\" >antigen.gene</td>\n",
       "      <td id=\"T_5d20a_row10_col1\" class=\"data row10 col1\" >str</td>\n",
       "      <td id=\"T_5d20a_row10_col2\" class=\"data row10 col2\" >Parent gene of the epitope sequence</td>\n",
       "    </tr>\n",
       "    <tr>\n",
       "      <th id=\"T_5d20a_level0_row11\" class=\"row_heading level0 row11\" >11</th>\n",
       "      <td id=\"T_5d20a_row11_col0\" class=\"data row11 col0\" >antigen.species</td>\n",
       "      <td id=\"T_5d20a_row11_col1\" class=\"data row11 col1\" >str</td>\n",
       "      <td id=\"T_5d20a_row11_col2\" class=\"data row11 col2\" >Parent species of the antigen</td>\n",
       "    </tr>\n",
       "    <tr>\n",
       "      <th id=\"T_5d20a_level0_row12\" class=\"row_heading level0 row12\" >12</th>\n",
       "      <td id=\"T_5d20a_row12_col0\" class=\"data row12 col0\" >reference.id</td>\n",
       "      <td id=\"T_5d20a_row12_col1\" class=\"data row12 col1\" >str</td>\n",
       "      <td id=\"T_5d20a_row12_col2\" class=\"data row12 col2\" >Pubmed id, doi, etc</td>\n",
       "    </tr>\n",
       "    <tr>\n",
       "      <th id=\"T_5d20a_level0_row13\" class=\"row_heading level0 row13\" >13</th>\n",
       "      <td id=\"T_5d20a_row13_col0\" class=\"data row13 col0\" >method</td>\n",
       "      <td id=\"T_5d20a_row13_col1\" class=\"data row13 col1\" >str</td>\n",
       "      <td id=\"T_5d20a_row13_col2\" class=\"data row13 col2\" >Method information for frequency, identification, etc</td>\n",
       "    </tr>\n",
       "    <tr>\n",
       "      <th id=\"T_5d20a_level0_row14\" class=\"row_heading level0 row14\" >14</th>\n",
       "      <td id=\"T_5d20a_row14_col0\" class=\"data row14 col0\" >meta</td>\n",
       "      <td id=\"T_5d20a_row14_col1\" class=\"data row14 col1\" >str</td>\n",
       "      <td id=\"T_5d20a_row14_col2\" class=\"data row14 col2\" >Meta information for cell.subset, clone.id, donor.MHC ,etc</td>\n",
       "    </tr>\n",
       "    <tr>\n",
       "      <th id=\"T_5d20a_level0_row15\" class=\"row_heading level0 row15\" >15</th>\n",
       "      <td id=\"T_5d20a_row15_col0\" class=\"data row15 col0\" >cdr3fix</td>\n",
       "      <td id=\"T_5d20a_row15_col1\" class=\"data row15 col1\" >str</td>\n",
       "      <td id=\"T_5d20a_row15_col2\" class=\"data row15 col2\" >CDR3 fixing</td>\n",
       "    </tr>\n",
       "    <tr>\n",
       "      <th id=\"T_5d20a_level0_row16\" class=\"row_heading level0 row16\" >16</th>\n",
       "      <td id=\"T_5d20a_row16_col0\" class=\"data row16 col0\" >vdjdb.score</td>\n",
       "      <td id=\"T_5d20a_row16_col1\" class=\"data row16 col1\" >int64</td>\n",
       "      <td id=\"T_5d20a_row16_col2\" class=\"data row16 col2\" >Confidence score for the antigen specificity annotation of a given TCR clonotype/clone:\n",
       "\n",
       "0 - low confidence\n",
       "1 - medium confidence\n",
       "2 - high confidence\n",
       "3 - very high confidence</td>\n",
       "    </tr>\n",
       "    <tr>\n",
       "      <th id=\"T_5d20a_level0_row17\" class=\"row_heading level0 row17\" >17</th>\n",
       "      <td id=\"T_5d20a_row17_col0\" class=\"data row17 col0\" >web.method</td>\n",
       "      <td id=\"T_5d20a_row17_col1\" class=\"data row17 col1\" >str</td>\n",
       "      <td id=\"T_5d20a_row17_col2\" class=\"data row17 col2\" >Source or collection method of data</td>\n",
       "    </tr>\n",
       "    <tr>\n",
       "      <th id=\"T_5d20a_level0_row18\" class=\"row_heading level0 row18\" >18</th>\n",
       "      <td id=\"T_5d20a_row18_col0\" class=\"data row18 col0\" >web.method.seq</td>\n",
       "      <td id=\"T_5d20a_row18_col1\" class=\"data row18 col1\" >str</td>\n",
       "      <td id=\"T_5d20a_row18_col2\" class=\"data row18 col2\" >Sequencing technology</td>\n",
       "    </tr>\n",
       "    <tr>\n",
       "      <th id=\"T_5d20a_level0_row19\" class=\"row_heading level0 row19\" >19</th>\n",
       "      <td id=\"T_5d20a_row19_col0\" class=\"data row19 col0\" >web.cdr3fix.nc</td>\n",
       "      <td id=\"T_5d20a_row19_col1\" class=\"data row19 col1\" >str</td>\n",
       "      <td id=\"T_5d20a_row19_col2\" class=\"data row19 col2\" >Whether the CDR3 needs to be corrected</td>\n",
       "    </tr>\n",
       "    <tr>\n",
       "      <th id=\"T_5d20a_level0_row20\" class=\"row_heading level0 row20\" >20</th>\n",
       "      <td id=\"T_5d20a_row20_col0\" class=\"data row20 col0\" >web.cdr3fix.unmp</td>\n",
       "      <td id=\"T_5d20a_row20_col1\" class=\"data row20 col1\" >str</td>\n",
       "      <td id=\"T_5d20a_row20_col2\" class=\"data row20 col2\" >CDR3 sequence mapping status</td>\n",
       "    </tr>\n",
       "  </tbody>\n",
       "</table>\n"
      ],
      "text/plain": [
       "<pandas.io.formats.style.Styler at 0x1a44e6fee90>"
      ]
     },
     "metadata": {},
     "output_type": "display_data"
    }
   ],
   "source": [
    "display_left_aligned(rawdata_info)"
   ]
  },
  {
   "cell_type": "markdown",
   "id": "a521b82b",
   "metadata": {},
   "source": [
    "## 3. Data wrangling"
   ]
  },
  {
   "cell_type": "markdown",
   "id": "12bf3169",
   "metadata": {},
   "source": [
    "### 3.1 Remove columns"
   ]
  },
  {
   "cell_type": "markdown",
   "id": "25fba959",
   "metadata": {},
   "source": [
    "Some of the columns contain specific information about the literature sources (reference.id), sequencing methods (method, web.method.seq), collection method (web.method) etc., some of which are related to how **vdjdb.score** is calculated.\n",
    "\n",
    "Therefore we first remove these columns. Deleted columns are as follows: \n",
    "-  reference.id\n",
    "-  method\n",
    "-  meta\n",
    "-  cdr3fix\n",
    "-  web.method  \n",
    "-  web.method.seq\n",
    "-  web.cdr3fix.nc\n",
    "-  web.cdr3fix.unmp"
   ]
  },
  {
   "cell_type": "code",
   "execution_count": 9,
   "id": "a50dafec",
   "metadata": {
    "scrolled": false
   },
   "outputs": [
    {
     "name": "stdout",
     "output_type": "stream",
     "text": [
      "<class 'pandas.core.frame.DataFrame'>\n",
      "RangeIndex: 92771 entries, 0 to 92770\n",
      "Data columns (total 13 columns):\n",
      " #   Column           Non-Null Count  Dtype \n",
      "---  ------           --------------  ----- \n",
      " 0   complex.id       92771 non-null  int64 \n",
      " 1   gene             92771 non-null  object\n",
      " 2   cdr3             92771 non-null  object\n",
      " 3   v.segm           92670 non-null  object\n",
      " 4   j.segm           91626 non-null  object\n",
      " 5   species          92771 non-null  object\n",
      " 6   mhc.a            92771 non-null  object\n",
      " 7   mhc.b            92771 non-null  object\n",
      " 8   mhc.class        92771 non-null  object\n",
      " 9   antigen.epitope  92771 non-null  object\n",
      " 10  antigen.gene     92709 non-null  object\n",
      " 11  antigen.species  92771 non-null  object\n",
      " 12  vdjdb.score      92771 non-null  int64 \n",
      "dtypes: int64(2), object(11)\n",
      "memory usage: 9.2+ MB\n"
     ]
    }
   ],
   "source": [
    "data = rawdata.iloc[:, list(range(0, 12)) + [16]]\n",
    "data.info()"
   ]
  },
  {
   "cell_type": "markdown",
   "id": "f6058d8b",
   "metadata": {},
   "source": [
    "### 3.2 Null values\n",
    "\n",
    "The colums v.segm and j.segm have 101, 1145 null values respectively. Due to the fact "
   ]
  },
  {
   "cell_type": "code",
   "execution_count": 10,
   "id": "db595773",
   "metadata": {
    "scrolled": true
   },
   "outputs": [
    {
     "data": {
      "text/plain": [
       "complex.id            0\n",
       "gene                  0\n",
       "cdr3                  0\n",
       "v.segm              101\n",
       "j.segm             1145\n",
       "species               0\n",
       "mhc.a                 0\n",
       "mhc.b                 0\n",
       "mhc.class             0\n",
       "antigen.epitope       0\n",
       "antigen.gene         62\n",
       "antigen.species       0\n",
       "vdjdb.score           0\n",
       "dtype: int64"
      ]
     },
     "execution_count": 10,
     "metadata": {},
     "output_type": "execute_result"
    }
   ],
   "source": [
    "data.isnull().sum()"
   ]
  },
  {
   "cell_type": "code",
   "execution_count": 11,
   "id": "c498d364",
   "metadata": {},
   "outputs": [
    {
     "name": "stdout",
     "output_type": "stream",
     "text": [
      "The number of null rows: 1221\n"
     ]
    }
   ],
   "source": [
    "null_count = data.isnull().any(axis=1).sum()\n",
    "print(f\"The number of null rows: {null_count}\")"
   ]
  },
  {
   "cell_type": "markdown",
   "id": "be37161b",
   "metadata": {},
   "source": [
    "### 3.3 Unique values"
   ]
  },
  {
   "cell_type": "markdown",
   "id": "27e3b761",
   "metadata": {},
   "source": [
    "Then, we check the unique value counts in the remaining columns."
   ]
  },
  {
   "cell_type": "code",
   "execution_count": 12,
   "id": "4406728a",
   "metadata": {},
   "outputs": [],
   "source": [
    "def plot_unique_value_counts(df, wid):\n",
    "    unique_counts = df.nunique()\n",
    "    showplt = input('If you want to show a bar chart, please input 1.\\nElse, input 0:\\n')\n",
    "    if showplt:\n",
    "        plt.figure(figsize=(6, 4))\n",
    "        ax = unique_counts.plot(kind='bar', width=wid)\n",
    "        plt.title('Unique Value Counts')\n",
    "        plt.xlabel('Columns')\n",
    "        plt.ylabel('Unique Value Counts')\n",
    "        plt.xticks(rotation=45)\n",
    "\n",
    "    for i, v in enumerate(unique_counts):\n",
    "        ax.text(i, v + 0.1, str(v), ha='center', va='bottom')\n",
    "\n",
    "    return unique_counts"
   ]
  },
  {
   "cell_type": "code",
   "execution_count": 13,
   "id": "ded6dad4",
   "metadata": {},
   "outputs": [
    {
     "name": "stdout",
     "output_type": "stream",
     "text": [
      "If you want to show a bar chart, please input 1.\n",
      "Else, input 0:\n",
      "1\n"
     ]
    },
    {
     "data": {
      "text/plain": [
       "complex.id         30595\n",
       "gene                   2\n",
       "cdr3               68994\n",
       "v.segm               224\n",
       "j.segm                71\n",
       "species                3\n",
       "mhc.a                119\n",
       "mhc.b                 45\n",
       "mhc.class              2\n",
       "antigen.epitope     1169\n",
       "antigen.gene         268\n",
       "antigen.species       42\n",
       "vdjdb.score            4\n",
       "dtype: int64"
      ]
     },
     "execution_count": 13,
     "metadata": {},
     "output_type": "execute_result"
    },
    {
     "data": {
      "image/png": "[encoded data removed]",
      "text/plain": [
       "<Figure size 600x400 with 1 Axes>"
      ]
     },
     "metadata": {},
     "output_type": "display_data"
    }
   ],
   "source": [
    "plot_unique_value_counts(data,0.6)"
   ]
  },
  {
   "cell_type": "code",
   "execution_count": 14,
   "id": "b99d53ec",
   "metadata": {},
   "outputs": [
    {
     "name": "stdout",
     "output_type": "stream",
     "text": [
      "If you want to show a bar chart, please input 1.\n",
      "Else, input 0:\n",
      "1\n"
     ]
    },
    {
     "data": {
      "text/plain": [
       "cdr3               68994\n",
       "antigen.epitope     1169\n",
       "dtype: int64"
      ]
     },
     "execution_count": 14,
     "metadata": {},
     "output_type": "execute_result"
    },
    {
     "data": {
      "image/png": "[encoded data removed]",
      "text/plain": [
       "<Figure size 600x400 with 1 Axes>"
      ]
     },
     "metadata": {},
     "output_type": "display_data"
    }
   ],
   "source": [
    "plot_unique_value_counts(data[['cdr3','antigen.epitope']],0.1)"
   ]
  },
  {
   "cell_type": "code",
   "execution_count": 15,
   "id": "837523cb",
   "metadata": {},
   "outputs": [
    {
     "data": {
      "text/plain": [
       "array(['HIV-1', 'TriticumAestivum', 'CMV', 'SARS-CoV-2', 'HomoSapiens',\n",
       "       'EBV', 'M.tuberculosis', 'HTLV-1', 'GallusGallus', 'MusMusculus',\n",
       "       'InfluenzaA', 'Synthetic', 'VSV', 'SaccharomycesCerevisiae',\n",
       "       'ManducaSexta', 'HCV', 'synthetic', 'E.Coli', 'HHV', 'LCMV',\n",
       "       'DENV1', 'DENV3/4', 'PlasmodiumBerghei',\n",
       "       'SelaginellaMoellendorffii', 'PseudomonasFluorescens',\n",
       "       'PseudomonasAeruginosa', 'HIV1', 'Homo sapiens', 'YFV', 'RSV',\n",
       "       'HSV-2', 'DENV2', 'HPV-16', 'MCMV', 'MCPyV', 'HPV',\n",
       "       'StreptomycesKanamyceticus', 'Wheat', 'HIV', 'HCoV-HKU1', 'SIV',\n",
       "       'AdV'], dtype=object)"
      ]
     },
     "execution_count": 15,
     "metadata": {},
     "output_type": "execute_result"
    }
   ],
   "source": [
    "data['antigen.species'].unique()"
   ]
  },
  {
   "cell_type": "code",
   "execution_count": 16,
   "id": "845fe6eb",
   "metadata": {},
   "outputs": [
    {
     "data": {
      "text/plain": [
       "array(['HomoSapiens', 'MusMusculus', 'MacacaMulatta'], dtype=object)"
      ]
     },
     "execution_count": 16,
     "metadata": {},
     "output_type": "execute_result"
    }
   ],
   "source": [
    "data['species'].unique()"
   ]
  },
  {
   "cell_type": "markdown",
   "id": "b008a03f",
   "metadata": {},
   "source": [
    "### 3.4 complex.id\n",
    "\n",
    "Due to the fact that TCR alpha and beta chain records belonging to the same T-cell clone, and in case the complex.id is equal to zero, a record doesn't have either alpha or beta chain, we count both zero and non-zero values, and then check if the non-zero values occur twice."
   ]
  },
  {
   "cell_type": "code",
   "execution_count": 17,
   "id": "4f73b726",
   "metadata": {
    "scrolled": false
   },
   "outputs": [
    {
     "name": "stdout",
     "output_type": "stream",
     "text": [
      "1. The number of rows in the VDJdb: 92771\n",
      "   The number of null rows: 1221\n",
      "   The number of duplicate rows: 4245\n",
      "\n",
      "2. The zero complex.id info:\n",
      "   The number of zero complex.id: 31583\n",
      "   The number of the alpha chain: 7455\n",
      "   The number of the beta chain: 24128\n",
      "   The number of non-duplicate rows: 27338\n",
      "   The number of duplicate rows: 4245\n",
      "   The number of null rows: 326\n",
      "\n",
      "3. The non-zero complex.id info:\n",
      "   The number of non-zero complex.id: 61188\n",
      "   The number of non-duplicate rows: 61188\n",
      "   The number of duplicate rows: 0\n",
      "\n",
      "   All non-zero values occur in pairs.\n",
      "   The number of the paired values is 30594\n",
      "\n",
      "   The number of null rows: 895\n",
      "   The number of duplicate rows with null: 32\n"
     ]
    }
   ],
   "source": [
    "print(f\"1. The number of rows in the VDJdb: {len(data)}\\n\"\n",
    "      f\"   The number of null rows: {null_count}\\n\"\n",
    "      f\"   The number of duplicate rows: {len(data)-data.drop_duplicates().shape[0]}\")\n",
    "\n",
    "zeros = data[data['complex.id'] == 0]\n",
    "zeros_count = zeros['complex.id'].count()\n",
    "zeros_a_count = zeros[zeros['gene'] == 'TRA']['gene'].count()\n",
    "zeros_b_count = zeros[zeros['gene'] == 'TRB']['gene'].count()\n",
    "zeros_unique_count = zeros.drop_duplicates().shape[0]\n",
    "zeros_null = zeros.isnull().any(axis=1).sum()\n",
    "print(\"\\n2. The zero complex.id info:\"\n",
    "      f\"\\n   The number of zero complex.id: {zeros_count}\"\n",
    "      f\"\\n   The number of the alpha chain: {zeros_a_count}\"\n",
    "      f\"\\n   The number of the beta chain: {zeros_b_count}\"\n",
    "      f\"\\n   The number of non-duplicate rows: {zeros_unique_count}\"\n",
    "      f\"\\n   The number of duplicate rows: {zeros_count-zeros_unique_count}\"\n",
    "      f\"\\n   The number of null rows: {zeros_null}\")\n",
    "\n",
    "\n",
    "non_zeros = data[data['complex.id'] != 0]\n",
    "non_zeros_count = non_zeros['complex.id'].count()\n",
    "non_zeros_pair_count = non_zeros['complex.id'].value_counts()\n",
    "non_zeros_unique_count = non_zeros.drop_duplicates().shape[0]\n",
    "non_zeros_null = non_zeros.isnull().any(axis=1).sum()\n",
    "print(\"\\n3. The non-zero complex.id info:\"\n",
    "      f\"\\n   The number of non-zero complex.id: {non_zeros_count}\"\n",
    "      f\"\\n   The number of non-duplicate rows: {non_zeros_unique_count}\"\n",
    "      f\"\\n   The number of duplicate rows: {non_zeros_count-non_zeros_unique_count}\")\n",
    "\n",
    "# Check if all non-zero values occur twice\n",
    "pairs_check = all(non_zeros_pair_count == 2)\n",
    "if pairs_check:\n",
    "    print(f\"\\n   All non-zero values occur in pairs.\"\n",
    "          f\"\\n   The number of the paired values is {len(non_zeros_pair_count)}\")\n",
    "else:\n",
    "    print(\"\\n   There are non-paired values among non-zero values.\")\n",
    "\n",
    "# Find non-duplicate rows with null values in non_zeros\n",
    "complex_id_with_null = non_zeros.loc[non_zeros.isnull().any(axis=1), [\n",
    "    'complex.id']]\n",
    "\n",
    "print(f\"\\n   The number of null rows: {non_zeros_null}\"\n",
    "      f\"\\n   The number of duplicate rows with null: \"\n",
    "      f\"{non_zeros_null-complex_id_with_null.drop_duplicates().shape[0]}\")"
   ]
  },
  {
   "cell_type": "code",
   "execution_count": 18,
   "id": "4c80aa52",
   "metadata": {},
   "outputs": [
    {
     "data": {
      "text/plain": [
       "<matplotlib.legend.Legend at 0x1a44a4cf410>"
      ]
     },
     "execution_count": 18,
     "metadata": {},
     "output_type": "execute_result"
    },
    {
     "data": {
      "image/png": "[encoded data removed]",
      "text/plain": [
       "<Figure size 800x600 with 1 Axes>"
      ]
     },
     "metadata": {},
     "output_type": "display_data"
    }
   ],
   "source": [
    "# complex.id info visualization\n",
    "# Define data\n",
    "categories = ['VDJdb', 'Zero complex.id', 'Non-zero complex.id']\n",
    "counts = [len(data), zeros_count, non_zeros_count]\n",
    "unique_counts = [0, zeros_unique_count, non_zeros_unique_count]\n",
    "duplicate_counts = [0, zeros_count - zeros_unique_count, non_zeros_count - non_zeros_unique_count]\n",
    "null_counts = [null_count, zeros_null, non_zeros_null]\n",
    "\n",
    "# Create a bar chart\n",
    "plt.figure(figsize=(8, 6))\n",
    "bar_width = 0.25\n",
    "index = range(len(categories))\n",
    "\n",
    "bars1 = plt.bar(index, counts, color='skyblue', label='Total count', width=bar_width)\n",
    "bars2 = plt.bar([i + bar_width for i in index], unique_counts, color='orange', label='Non-duplicate count', width=bar_width)\n",
    "bars3 = plt.bar([i + 2 * bar_width for i in index], duplicate_counts, color='lightgreen', label='Duplicate count', width=bar_width)\n",
    "barsnull = plt.bar(index, null_counts, color='red', label='Null count', width=bar_width)\n",
    "\n",
    "# Add labels and legend\n",
    "def autolabel(bars):\n",
    "    for bar in bars:\n",
    "        height = bar.get_height()\n",
    "        plt.text(bar.get_x() + bar.get_width() / 2, height, '%d' % int(height), ha='center', va='bottom', fontsize=8)\n",
    "\n",
    "autolabel(bars1)\n",
    "autolabel(bars2)\n",
    "autolabel(bars3)\n",
    "autolabel(barsnull)\n",
    "\n",
    "plt.xlabel('Complex.id Information')\n",
    "plt.ylabel('Count')\n",
    "plt.title('Complex.id Information Counts')\n",
    "plt.xticks([i + bar_width for i in index], categories)\n",
    "plt.legend()"
   ]
  },
  {
   "cell_type": "markdown",
   "id": "6d8e4e11",
   "metadata": {},
   "source": [
    "Next, we check if the paired records of non-zero complex.id have the same information for other columns expect the column 'gene'."
   ]
  },
  {
   "cell_type": "code",
   "execution_count": 19,
   "id": "ef5cc8a3",
   "metadata": {},
   "outputs": [
    {
     "name": "stdout",
     "output_type": "stream",
     "text": [
      "All species, mhc.a, mhc.b, mhc.class, antigen.epitope, antigen.gene, antigen.species, vdjdb.score columns of the same complex.id are consistent.\n"
     ]
    }
   ],
   "source": [
    "grouped = non_zeros.groupby('complex.id')\n",
    "\n",
    "# Create an empty list to store inconsistent complex.id\n",
    "not_consistent_ids = []\n",
    "\n",
    "for group_name, group_data in grouped:\n",
    "    # Compare columns 6 to 13 for consistency\n",
    "    columns_to_compare = group_data.columns[5:13]\n",
    "    comparison_result = group_data.iloc[0][columns_to_compare].equals(\n",
    "        group_data.iloc[1][columns_to_compare])\n",
    "\n",
    "    if not comparison_result:\n",
    "        not_consistent_ids.append(group_name)\n",
    "\n",
    "if not_consistent_ids:\n",
    "    print(\"Inconsistent complex.id:\", not_consistent_ids)\n",
    "else:\n",
    "    print(\n",
    "        f\"All {', '.join(non_zeros.columns[5:13])} columns of the same complex.id are consistent.\")"
   ]
  },
  {
   "cell_type": "markdown",
   "id": "88a4e0ca",
   "metadata": {},
   "source": [
    "## 4. Inference"
   ]
  },
  {
   "cell_type": "markdown",
   "id": "23f5ff84",
   "metadata": {},
   "source": [
    "Based on various measures we could use to calculate the distance/similarity matrix, the columns we choose as the input are different. Besides we should calculate these metrics for the alpha and beta chains seperately in the further study.\n",
    "\n",
    "**Therefore we don't have to remove the lines with null values and complex.id values that are equal to 0 right away.**"
   ]
  },
  {
   "cell_type": "markdown",
   "id": "840ee922",
   "metadata": {},
   "source": [
    "### 4.1 TCRdist3\n",
    "\n",
    "Tcrdist3 only requires 3 input columns for single chain analysis (i.e., for beta chain cdr3_b_aa and v_b_gene, j_b_gene) and 6 columns for paired chain analysis (i.e., cdr3_b_aa, v_b_gene, j_b_gene, cdr3_a_aa, v_a_gene, and j_a_gene).\n",
    "\n",
    "A unique feature of tcrdist3 is that all of the parameters of the distance metric can be adjusted (e.g. alpha-chain only, weights on CDR loops, etc.) or completely new user-defined metrics can be provided to calculate pairwise distances. The package comes with a distance based on Needleman-Wunsch global sequence alignment and a BLOSUM62 similarity matrix, as well as the Levenshtein/edit distance, which is employed by other TCR analysis packages such as *TCRNET/VDJtools*, *ALICE*, and *GLIPH2*.\n",
    "\n",
    "https://tcrdist3.readthedocs.io/en/latest/index.html\n",
    "\n",
    "https://github.com/kmayerb/tcrdist3"
   ]
  },
  {
   "cell_type": "markdown",
   "id": "e44b95bc",
   "metadata": {},
   "source": [
    "### 4.2 GLIPH\n",
    "\n",
    "Input TCR data are formated as follow\n",
    "#CDR3b  TRBV  TRBJ  CDR3a  subject:condition count\n",
    "CSARDQGGAGNQPQHF\tTRBV20-1\tTRBJ1-5\tCAVGVGYKLSF\t01/0906:MtbLys\t1\n",
    "\n",
    "All fields are tab-delimited except that subject and condition are delimited with \":\". Condition can be anything such as tissue type, cell subset or treatment et al. CDR3b, TRBV, subject, and count are required. Other fields can be replaced with \"NA\". A demo input TCR dataset can be found at the link [TCR](http://50.255.35.37:8080/demo).\n",
    "\n",
    "Huang, Huang, et al. \"Analyzing the Mycobacterium tuberculosis immune response by T-cell receptor clustering with GLIPH2 and genome-wide antigen screening.\" Nature Biotechnology 38.10 (2020): 1194-1202. [Link](https://www.nature.com/articles/s41587-020-0505-4)\n",
    "\n",
    "GLIPH1 works well on small and clean data sets. However, as data sets are becoming larger and noisier, the algorithm tends to generate large clusters of mixed specificities. [Link](https://www.ncbi.nlm.nih.gov/pmc/articles/PMC10035763/)\n",
    "\n",
    "http://50.255.35.37:8080/tools\n",
    "\n",
    "https://github.com/immunoengineer/gliph"
   ]
  },
  {
   "cell_type": "markdown",
   "id": "bb382bc2",
   "metadata": {},
   "source": [
    "### 4.3 GIANA\n",
    "\n",
    "Input of GIANA is flexible. The first column is kept for CDR3 amino acid sequence. If TRBV allele information is enabled (by default), the second column is required to be TRBV genes. As the TCR-seq data provided by the Adaptive Biotechnologies does not comply with the IMGT format, we provide the R code (ProcessAdaptiveFile.R) to convert the Adaptive data input to standard format. In the output, GIANA inserts a column between the first and the second column as the cluster IDs. Other columns in the input data may contain any information, and will be kept in the final output.\n",
    "\n",
    "https://github.com/s175573/GIANA"
   ]
  },
  {
   "cell_type": "markdown",
   "id": "915ef2be",
   "metadata": {},
   "source": [
    "# Task3"
   ]
  },
  {
   "cell_type": "markdown",
   "id": "e9acf5e7",
   "metadata": {},
   "source": [
    "# 1. TCRdist"
   ]
  },
  {
   "cell_type": "markdown",
   "id": "fac26800",
   "metadata": {},
   "source": [
    "## 1.1 Load the package"
   ]
  },
  {
   "cell_type": "code",
   "execution_count": 20,
   "id": "3d867581",
   "metadata": {},
   "outputs": [],
   "source": [
    "from tcrdist.repertoire import TCRrep"
   ]
  },
  {
   "cell_type": "markdown",
   "id": "691be3b9",
   "metadata": {},
   "source": [
    "## 1.2 Format the data"
   ]
  },
  {
   "cell_type": "markdown",
   "id": "9f4eb20a",
   "metadata": {},
   "source": [
    "### 1.2.1 Add 'clone_id'\n",
    "\n",
    "Add a column of **'clone_id'** to all rows in data. And the value is: \n",
    "\n",
    "- zero complex.id records: clone_0_{number of rows in the original record}\n",
    "- non-zero complex.id records: complex_1_{clone.id of the original record}"
   ]
  },
  {
   "cell_type": "code",
   "execution_count": 21,
   "id": "f888fe3a",
   "metadata": {},
   "outputs": [],
   "source": [
    "#data = rawdata.iloc[:, list(range(0, 12)) + [16]]"
   ]
  },
  {
   "cell_type": "code",
   "execution_count": 22,
   "id": "eee47450",
   "metadata": {},
   "outputs": [
    {
     "name": "stderr",
     "output_type": "stream",
     "text": [
      "C:\\Users\\86139\\AppData\\Local\\Temp\\ipykernel_22120\\3019494910.py:2: SettingWithCopyWarning: \n",
      "A value is trying to be set on a copy of a slice from a DataFrame.\n",
      "Try using .loc[row_indexer,col_indexer] = value instead\n",
      "\n",
      "See the caveats in the documentation: https://pandas.pydata.org/pandas-docs/stable/user_guide/indexing.html#returning-a-view-versus-a-copy\n",
      "  data['clone_id'] = ''\n"
     ]
    }
   ],
   "source": [
    "# Add a column of 'clone_id' to all rows\n",
    "data['clone_id'] = ''\n",
    "\n",
    "# Give the 'clone_id' record with zero complex.id the value:\n",
    "# clone_0_{number of rows in the original record}\n",
    "zero_complex_ids = data[data['complex.id'] == 0].index\n",
    "data.loc[zero_complex_ids, 'clone_id'] = zero_complex_ids.map(\n",
    "    lambda x: f'clone_0_{x}')\n",
    "\n",
    "# Give the 'clone_id' record with non-zero complex.id the value:\n",
    "# clone_1_{complex.id of the original record}\n",
    "non_zero_complex_ids = data[data['complex.id'] != 0]['complex.id'].unique()\n",
    "for complex_id in non_zero_complex_ids:\n",
    "    indices = data[data['complex.id'] == complex_id].index\n",
    "    data.loc[indices, 'clone_id'] = f'clone_1_{complex_id}'"
   ]
  },
  {
   "cell_type": "markdown",
   "id": "7f063363",
   "metadata": {},
   "source": [
    "### 1.2.2 Duplicate complex.id 0 records \n",
    "\n",
    "Duplicate the records with complex.id of 0 and modify the gene columns."
   ]
  },
  {
   "cell_type": "code",
   "execution_count": 23,
   "id": "3549e9c2",
   "metadata": {},
   "outputs": [],
   "source": [
    "data_copy = data[data['complex.id'] == 0].copy()\n",
    "data_copy['gene'] = data_copy['gene'].map({'TRA': 'TRB', 'TRB': 'TRA'})"
   ]
  },
  {
   "cell_type": "code",
   "execution_count": 29,
   "id": "7d6a33db",
   "metadata": {},
   "outputs": [],
   "source": [
    "# set all columns except 'complex.id', 'clone_id' and the modified 'gene' column to e,.\n",
    "for col in data_copy.columns:\n",
    "    if col not in ['complex.id', 'species', 'antigen.gene', 'count', 'clone_id','gene']:\n",
    "        data_copy[col] = np.nan\n",
    "\n",
    "# Merge original and copied data\n",
    "data_copy = pd.concat([data, data_copy], ignore_index=True)"
   ]
  },
  {
   "cell_type": "code",
   "execution_count": 30,
   "id": "b8344e7d",
   "metadata": {},
   "outputs": [
    {
     "data": {
      "text/html": [
       "<div>\n",
       "<style scoped>\n",
       "    .dataframe tbody tr th:only-of-type {\n",
       "        vertical-align: middle;\n",
       "    }\n",
       "\n",
       "    .dataframe tbody tr th {\n",
       "        vertical-align: top;\n",
       "    }\n",
       "\n",
       "    .dataframe thead th {\n",
       "        text-align: right;\n",
       "    }\n",
       "</style>\n",
       "<table border=\"1\" class=\"dataframe\">\n",
       "  <thead>\n",
       "    <tr style=\"text-align: right;\">\n",
       "      <th></th>\n",
       "      <th>complex.id</th>\n",
       "      <th>gene</th>\n",
       "      <th>cdr3</th>\n",
       "      <th>v.segm</th>\n",
       "      <th>j.segm</th>\n",
       "      <th>species</th>\n",
       "      <th>mhc.a</th>\n",
       "      <th>mhc.b</th>\n",
       "      <th>mhc.class</th>\n",
       "      <th>antigen.epitope</th>\n",
       "      <th>antigen.gene</th>\n",
       "      <th>antigen.species</th>\n",
       "      <th>vdjdb.score</th>\n",
       "      <th>clone_id</th>\n",
       "    </tr>\n",
       "  </thead>\n",
       "  <tbody>\n",
       "    <tr>\n",
       "      <th>0</th>\n",
       "      <td>1</td>\n",
       "      <td>TRA</td>\n",
       "      <td>CIVRAPGRADMRF</td>\n",
       "      <td>TRAV26-1*01</td>\n",
       "      <td>TRAJ43*01</td>\n",
       "      <td>HomoSapiens</td>\n",
       "      <td>HLA-B*08</td>\n",
       "      <td>B2M</td>\n",
       "      <td>MHCI</td>\n",
       "      <td>FLKEKGGL</td>\n",
       "      <td>Nef</td>\n",
       "      <td>HIV-1</td>\n",
       "      <td>2.0</td>\n",
       "      <td>clone_1_1</td>\n",
       "    </tr>\n",
       "    <tr>\n",
       "      <th>1</th>\n",
       "      <td>1</td>\n",
       "      <td>TRB</td>\n",
       "      <td>CASSYLPGQGDHYSNQPQHF</td>\n",
       "      <td>TRBV13*01</td>\n",
       "      <td>TRBJ1-5*01</td>\n",
       "      <td>HomoSapiens</td>\n",
       "      <td>HLA-B*08</td>\n",
       "      <td>B2M</td>\n",
       "      <td>MHCI</td>\n",
       "      <td>FLKEKGGL</td>\n",
       "      <td>Nef</td>\n",
       "      <td>HIV-1</td>\n",
       "      <td>2.0</td>\n",
       "      <td>clone_1_1</td>\n",
       "    </tr>\n",
       "    <tr>\n",
       "      <th>3</th>\n",
       "      <td>2</td>\n",
       "      <td>TRA</td>\n",
       "      <td>CAVPSGAGSYQLTF</td>\n",
       "      <td>TRAV20*01</td>\n",
       "      <td>TRAJ28*01</td>\n",
       "      <td>HomoSapiens</td>\n",
       "      <td>HLA-B*08</td>\n",
       "      <td>B2M</td>\n",
       "      <td>MHCI</td>\n",
       "      <td>FLKEKGGL</td>\n",
       "      <td>Nef</td>\n",
       "      <td>HIV-1</td>\n",
       "      <td>2.0</td>\n",
       "      <td>clone_1_2</td>\n",
       "    </tr>\n",
       "    <tr>\n",
       "      <th>4</th>\n",
       "      <td>2</td>\n",
       "      <td>TRB</td>\n",
       "      <td>CASSFEPGQGFYSNQPQHF</td>\n",
       "      <td>TRBV13*01</td>\n",
       "      <td>TRBJ1-5*01</td>\n",
       "      <td>HomoSapiens</td>\n",
       "      <td>HLA-B*08</td>\n",
       "      <td>B2M</td>\n",
       "      <td>MHCI</td>\n",
       "      <td>FLKEKGGL</td>\n",
       "      <td>Nef</td>\n",
       "      <td>HIV-1</td>\n",
       "      <td>2.0</td>\n",
       "      <td>clone_1_2</td>\n",
       "    </tr>\n",
       "    <tr>\n",
       "      <th>5</th>\n",
       "      <td>3</td>\n",
       "      <td>TRA</td>\n",
       "      <td>CAVKASGSRLT</td>\n",
       "      <td>TRAV2*01</td>\n",
       "      <td>NaN</td>\n",
       "      <td>HomoSapiens</td>\n",
       "      <td>HLA-B*08</td>\n",
       "      <td>B2M</td>\n",
       "      <td>MHCI</td>\n",
       "      <td>FLKEKGGL</td>\n",
       "      <td>Nef</td>\n",
       "      <td>HIV-1</td>\n",
       "      <td>2.0</td>\n",
       "      <td>clone_1_3</td>\n",
       "    </tr>\n",
       "    <tr>\n",
       "      <th>...</th>\n",
       "      <td>...</td>\n",
       "      <td>...</td>\n",
       "      <td>...</td>\n",
       "      <td>...</td>\n",
       "      <td>...</td>\n",
       "      <td>...</td>\n",
       "      <td>...</td>\n",
       "      <td>...</td>\n",
       "      <td>...</td>\n",
       "      <td>...</td>\n",
       "      <td>...</td>\n",
       "      <td>...</td>\n",
       "      <td>...</td>\n",
       "      <td>...</td>\n",
       "    </tr>\n",
       "    <tr>\n",
       "      <th>92766</th>\n",
       "      <td>30592</td>\n",
       "      <td>TRB</td>\n",
       "      <td>CASSPGQGGDNEQFF</td>\n",
       "      <td>TRBV7-3*01</td>\n",
       "      <td>TRBJ2-1*01</td>\n",
       "      <td>HomoSapiens</td>\n",
       "      <td>HLA-DQA1*05:01</td>\n",
       "      <td>HLA-DQB1*02:01</td>\n",
       "      <td>MHCII</td>\n",
       "      <td>PQQPFPQPEQPFP</td>\n",
       "      <td>Gluten</td>\n",
       "      <td>Wheat</td>\n",
       "      <td>0.0</td>\n",
       "      <td>clone_1_30592</td>\n",
       "    </tr>\n",
       "    <tr>\n",
       "      <th>92767</th>\n",
       "      <td>30593</td>\n",
       "      <td>TRA</td>\n",
       "      <td>CAPQGATNKLIF</td>\n",
       "      <td>TRAV12-2*01</td>\n",
       "      <td>TRAJ32*01</td>\n",
       "      <td>HomoSapiens</td>\n",
       "      <td>HLA-DQA1*05:01</td>\n",
       "      <td>HLA-DQB1*02:01</td>\n",
       "      <td>MHCII</td>\n",
       "      <td>PQQPFPQPEQPFP</td>\n",
       "      <td>Gluten</td>\n",
       "      <td>Wheat</td>\n",
       "      <td>2.0</td>\n",
       "      <td>clone_1_30593</td>\n",
       "    </tr>\n",
       "    <tr>\n",
       "      <th>92768</th>\n",
       "      <td>30593</td>\n",
       "      <td>TRB</td>\n",
       "      <td>CASSLGAGGQETQYF</td>\n",
       "      <td>TRBV5-1*01</td>\n",
       "      <td>TRBJ2-5*01</td>\n",
       "      <td>HomoSapiens</td>\n",
       "      <td>HLA-DQA1*05:01</td>\n",
       "      <td>HLA-DQB1*02:01</td>\n",
       "      <td>MHCII</td>\n",
       "      <td>PQQPFPQPEQPFP</td>\n",
       "      <td>Gluten</td>\n",
       "      <td>Wheat</td>\n",
       "      <td>2.0</td>\n",
       "      <td>clone_1_30593</td>\n",
       "    </tr>\n",
       "    <tr>\n",
       "      <th>92769</th>\n",
       "      <td>30594</td>\n",
       "      <td>TRA</td>\n",
       "      <td>CLVGGSGGYNKLIF</td>\n",
       "      <td>TRAV4*01</td>\n",
       "      <td>TRAJ4*01</td>\n",
       "      <td>HomoSapiens</td>\n",
       "      <td>HLA-DQA1*05:01</td>\n",
       "      <td>HLA-DQB1*02:01</td>\n",
       "      <td>MHCII</td>\n",
       "      <td>PQQPFPQPEQPFP</td>\n",
       "      <td>Gluten</td>\n",
       "      <td>Wheat</td>\n",
       "      <td>0.0</td>\n",
       "      <td>clone_1_30594</td>\n",
       "    </tr>\n",
       "    <tr>\n",
       "      <th>92770</th>\n",
       "      <td>30594</td>\n",
       "      <td>TRB</td>\n",
       "      <td>CASSSTAQETQYF</td>\n",
       "      <td>TRBV11-2*01</td>\n",
       "      <td>TRBJ2-5*01</td>\n",
       "      <td>HomoSapiens</td>\n",
       "      <td>HLA-DQA1*05:01</td>\n",
       "      <td>HLA-DQB1*02:01</td>\n",
       "      <td>MHCII</td>\n",
       "      <td>PQQPFPQPEQPFP</td>\n",
       "      <td>Gluten</td>\n",
       "      <td>Wheat</td>\n",
       "      <td>0.0</td>\n",
       "      <td>clone_1_30594</td>\n",
       "    </tr>\n",
       "  </tbody>\n",
       "</table>\n",
       "<p>61188 rows × 14 columns</p>\n",
       "</div>"
      ],
      "text/plain": [
       "       complex.id gene                  cdr3       v.segm      j.segm  \\\n",
       "0               1  TRA         CIVRAPGRADMRF  TRAV26-1*01   TRAJ43*01   \n",
       "1               1  TRB  CASSYLPGQGDHYSNQPQHF    TRBV13*01  TRBJ1-5*01   \n",
       "3               2  TRA        CAVPSGAGSYQLTF    TRAV20*01   TRAJ28*01   \n",
       "4               2  TRB   CASSFEPGQGFYSNQPQHF    TRBV13*01  TRBJ1-5*01   \n",
       "5               3  TRA           CAVKASGSRLT     TRAV2*01         NaN   \n",
       "...           ...  ...                   ...          ...         ...   \n",
       "92766       30592  TRB       CASSPGQGGDNEQFF   TRBV7-3*01  TRBJ2-1*01   \n",
       "92767       30593  TRA          CAPQGATNKLIF  TRAV12-2*01   TRAJ32*01   \n",
       "92768       30593  TRB       CASSLGAGGQETQYF   TRBV5-1*01  TRBJ2-5*01   \n",
       "92769       30594  TRA        CLVGGSGGYNKLIF     TRAV4*01    TRAJ4*01   \n",
       "92770       30594  TRB         CASSSTAQETQYF  TRBV11-2*01  TRBJ2-5*01   \n",
       "\n",
       "           species           mhc.a           mhc.b mhc.class antigen.epitope  \\\n",
       "0      HomoSapiens        HLA-B*08             B2M      MHCI        FLKEKGGL   \n",
       "1      HomoSapiens        HLA-B*08             B2M      MHCI        FLKEKGGL   \n",
       "3      HomoSapiens        HLA-B*08             B2M      MHCI        FLKEKGGL   \n",
       "4      HomoSapiens        HLA-B*08             B2M      MHCI        FLKEKGGL   \n",
       "5      HomoSapiens        HLA-B*08             B2M      MHCI        FLKEKGGL   \n",
       "...            ...             ...             ...       ...             ...   \n",
       "92766  HomoSapiens  HLA-DQA1*05:01  HLA-DQB1*02:01     MHCII   PQQPFPQPEQPFP   \n",
       "92767  HomoSapiens  HLA-DQA1*05:01  HLA-DQB1*02:01     MHCII   PQQPFPQPEQPFP   \n",
       "92768  HomoSapiens  HLA-DQA1*05:01  HLA-DQB1*02:01     MHCII   PQQPFPQPEQPFP   \n",
       "92769  HomoSapiens  HLA-DQA1*05:01  HLA-DQB1*02:01     MHCII   PQQPFPQPEQPFP   \n",
       "92770  HomoSapiens  HLA-DQA1*05:01  HLA-DQB1*02:01     MHCII   PQQPFPQPEQPFP   \n",
       "\n",
       "      antigen.gene antigen.species  vdjdb.score       clone_id  \n",
       "0              Nef           HIV-1          2.0      clone_1_1  \n",
       "1              Nef           HIV-1          2.0      clone_1_1  \n",
       "3              Nef           HIV-1          2.0      clone_1_2  \n",
       "4              Nef           HIV-1          2.0      clone_1_2  \n",
       "5              Nef           HIV-1          2.0      clone_1_3  \n",
       "...            ...             ...          ...            ...  \n",
       "92766       Gluten           Wheat          0.0  clone_1_30592  \n",
       "92767       Gluten           Wheat          2.0  clone_1_30593  \n",
       "92768       Gluten           Wheat          2.0  clone_1_30593  \n",
       "92769       Gluten           Wheat          0.0  clone_1_30594  \n",
       "92770       Gluten           Wheat          0.0  clone_1_30594  \n",
       "\n",
       "[61188 rows x 14 columns]"
      ]
     },
     "execution_count": 30,
     "metadata": {},
     "output_type": "execute_result"
    }
   ],
   "source": [
    "data_copy[data_copy['complex.id']!=0]"
   ]
  },
  {
   "cell_type": "markdown",
   "id": "f8ce9a2f",
   "metadata": {},
   "source": [
    "### 1.2.3 Add 'count'\n",
    "\n",
    "Set 'count' of all rows to 1"
   ]
  },
  {
   "cell_type": "code",
   "execution_count": 31,
   "id": "23d29ec3",
   "metadata": {},
   "outputs": [],
   "source": [
    "data_copy['count'] = 1"
   ]
  },
  {
   "cell_type": "markdown",
   "id": "d08c1121",
   "metadata": {},
   "source": [
    "### 1.2.4 Select the columns for TCRdist input\n",
    "\n",
    "The tcrdist3 standard input is a Pandas DataFrame.\n",
    "\n",
    "The header and first line of a typical input for a beta-chain analysis would look like this:\n",
    "\n",
    "\n",
    "| subject | epitope | count | v_b_gene | j_b_gene |\n",
    "|---------|---------|-------|----------|----------|\n",
    "| s1      | NP      | 1     | TRBV1*01 | TRBJ1-1*01 |\n",
    "\n",
    "| cdr3_b_aa                | cdr3_b_nucseq                                 |\n",
    "|--------------------------|-----------------------------------------------|\n",
    "| CACDSLGDKSSWDTRQMFF      | TGTGCCTGTGACTCGCTGGGGGATAAGAGCTCCTGGGACACCCGACAGATGTTTTTC |\n",
    "\n",
    "\n",
    "\n",
    "- Tcrdist3 only requires 3 input columns for single chain analysis (i.e., for beta chain cdr3_b_aa and v_b_gene, j_b_gene) and 6 columns for paired chain analysis (i.e., cdr3_b_aa, v_b_gene, j_b_gene, cdr3_a_aa, v_a_gene, and j_a_gene).\n",
    "\n",
    "- The columns **‘cdr3_a_nucseq’, ‘cdr3_b_nucseq’ are optional**, but useful to include if you wish to prevent aggregation of multiple geneically distinct clones identical at the amino acid level (see critical information below for more information).\n",
    "\n",
    "- By default, tcrdist3 uses all supplied columns provided in the DataFrame passed to the cell_df argument to look for potentially **duplicated rows** based on the default setting (deduplicate = True). The initialization of a TCRrep instance automatically aggregates counts over duplicated rows.\n",
    "\n",
    "- This has practical consequences. For instance, if **no subject** column is included identical clones from two or more individuals will be **combined into a single row**.\n",
    "\n",
    "- If any columns have *missing values*, the corresponding row containing the **missing value** is excluded. Thus, do not include columns that have missing values. If you wish to retain every clonotype, adding an index column or the nucleotide sequence will prevent rows with identical amino acid sequences from being merged."
   ]
  },
  {
   "cell_type": "markdown",
   "id": "dc0ab73d",
   "metadata": {},
   "source": [
    "**The standard input in the dash.csv looks like this:**"
   ]
  },
  {
   "cell_type": "code",
   "execution_count": 39,
   "id": "3ea0db12",
   "metadata": {
    "scrolled": true
   },
   "outputs": [
    {
     "data": {
      "text/html": [
       "<div>\n",
       "<style scoped>\n",
       "    .dataframe tbody tr th:only-of-type {\n",
       "        vertical-align: middle;\n",
       "    }\n",
       "\n",
       "    .dataframe tbody tr th {\n",
       "        vertical-align: top;\n",
       "    }\n",
       "\n",
       "    .dataframe thead th {\n",
       "        text-align: right;\n",
       "    }\n",
       "</style>\n",
       "<table border=\"1\" class=\"dataframe\">\n",
       "  <thead>\n",
       "    <tr style=\"text-align: right;\">\n",
       "      <th></th>\n",
       "      <th>subject</th>\n",
       "      <th>epitope</th>\n",
       "      <th>count</th>\n",
       "      <th>v_a_gene</th>\n",
       "      <th>j_a_gene</th>\n",
       "      <th>cdr3_a_aa</th>\n",
       "      <th>cdr3_a_nucseq</th>\n",
       "      <th>v_b_gene</th>\n",
       "      <th>j_b_gene</th>\n",
       "      <th>cdr3_b_aa</th>\n",
       "      <th>cdr3_b_nucseq</th>\n",
       "      <th>clone_id</th>\n",
       "    </tr>\n",
       "  </thead>\n",
       "  <tbody>\n",
       "    <tr>\n",
       "      <th>0</th>\n",
       "      <td>mouse_subject0050</td>\n",
       "      <td>PA</td>\n",
       "      <td>2</td>\n",
       "      <td>TRAV7-3*01</td>\n",
       "      <td>TRAJ33*01</td>\n",
       "      <td>CAVSLDSNYQLIW</td>\n",
       "      <td>tgtgcagtgagcctcgatagcaactatcagttgatctgg</td>\n",
       "      <td>TRBV13-1*01</td>\n",
       "      <td>TRBJ2-3*01</td>\n",
       "      <td>CASSDFDWGGDAETLYF</td>\n",
       "      <td>tgtgccagcagtgatttcgactggggaggggatgcagaaacgctgt...</td>\n",
       "      <td>mouse_tcr0072.clone</td>\n",
       "    </tr>\n",
       "    <tr>\n",
       "      <th>1</th>\n",
       "      <td>mouse_subject0050</td>\n",
       "      <td>PA</td>\n",
       "      <td>6</td>\n",
       "      <td>TRAV6D-6*01</td>\n",
       "      <td>TRAJ56*01</td>\n",
       "      <td>CALGDRATGGNNKLTF</td>\n",
       "      <td>tgtgctctgggtgacagggctactggaggcaataataagctgactttt</td>\n",
       "      <td>TRBV29*01</td>\n",
       "      <td>TRBJ1-1*01</td>\n",
       "      <td>CASSPDRGEVFF</td>\n",
       "      <td>tgtgctagcagtccggacaggggtgaagtcttcttt</td>\n",
       "      <td>mouse_tcr0096.clone</td>\n",
       "    </tr>\n",
       "    <tr>\n",
       "      <th>2</th>\n",
       "      <td>mouse_subject0050</td>\n",
       "      <td>PA</td>\n",
       "      <td>1</td>\n",
       "      <td>TRAV6D-6*01</td>\n",
       "      <td>TRAJ49*01</td>\n",
       "      <td>CALGSNTGYQNFYF</td>\n",
       "      <td>tgtgctctgggctcgaacacgggttaccagaacttctatttt</td>\n",
       "      <td>TRBV29*01</td>\n",
       "      <td>TRBJ1-5*01</td>\n",
       "      <td>CASTGGGAPLF</td>\n",
       "      <td>tgtgctagcacagggggaggggctccgcttttt</td>\n",
       "      <td>mouse_tcr0276.clone</td>\n",
       "    </tr>\n",
       "  </tbody>\n",
       "</table>\n",
       "</div>"
      ],
      "text/plain": [
       "             subject epitope  count     v_a_gene   j_a_gene         cdr3_a_aa  \\\n",
       "0  mouse_subject0050      PA      2   TRAV7-3*01  TRAJ33*01     CAVSLDSNYQLIW   \n",
       "1  mouse_subject0050      PA      6  TRAV6D-6*01  TRAJ56*01  CALGDRATGGNNKLTF   \n",
       "2  mouse_subject0050      PA      1  TRAV6D-6*01  TRAJ49*01    CALGSNTGYQNFYF   \n",
       "\n",
       "                                      cdr3_a_nucseq     v_b_gene    j_b_gene  \\\n",
       "0           tgtgcagtgagcctcgatagcaactatcagttgatctgg  TRBV13-1*01  TRBJ2-3*01   \n",
       "1  tgtgctctgggtgacagggctactggaggcaataataagctgactttt    TRBV29*01  TRBJ1-1*01   \n",
       "2        tgtgctctgggctcgaacacgggttaccagaacttctatttt    TRBV29*01  TRBJ1-5*01   \n",
       "\n",
       "           cdr3_b_aa                                      cdr3_b_nucseq  \\\n",
       "0  CASSDFDWGGDAETLYF  tgtgccagcagtgatttcgactggggaggggatgcagaaacgctgt...   \n",
       "1       CASSPDRGEVFF               tgtgctagcagtccggacaggggtgaagtcttcttt   \n",
       "2        CASTGGGAPLF                  tgtgctagcacagggggaggggctccgcttttt   \n",
       "\n",
       "              clone_id  \n",
       "0  mouse_tcr0072.clone  \n",
       "1  mouse_tcr0096.clone  \n",
       "2  mouse_tcr0276.clone  "
      ]
     },
     "execution_count": 39,
     "metadata": {},
     "output_type": "execute_result"
    }
   ],
   "source": [
    "pd.read_csv(\"dash.csv\").head(3)"
   ]
  },
  {
   "cell_type": "code",
   "execution_count": 33,
   "id": "b8cd004f",
   "metadata": {
    "scrolled": false
   },
   "outputs": [],
   "source": [
    "df = data_copy.iloc[:, list(range(0, 6)) + [10,13,14]]"
   ]
  },
  {
   "cell_type": "code",
   "execution_count": 41,
   "id": "da6ae396",
   "metadata": {},
   "outputs": [
    {
     "data": {
      "text/html": [
       "<div>\n",
       "<style scoped>\n",
       "    .dataframe tbody tr th:only-of-type {\n",
       "        vertical-align: middle;\n",
       "    }\n",
       "\n",
       "    .dataframe tbody tr th {\n",
       "        vertical-align: top;\n",
       "    }\n",
       "\n",
       "    .dataframe thead th {\n",
       "        text-align: right;\n",
       "    }\n",
       "</style>\n",
       "<table border=\"1\" class=\"dataframe\">\n",
       "  <thead>\n",
       "    <tr style=\"text-align: right;\">\n",
       "      <th></th>\n",
       "      <th>complex.id</th>\n",
       "      <th>gene</th>\n",
       "      <th>cdr3</th>\n",
       "      <th>v.segm</th>\n",
       "      <th>j.segm</th>\n",
       "      <th>species</th>\n",
       "      <th>antigen.gene</th>\n",
       "      <th>clone_id</th>\n",
       "      <th>count</th>\n",
       "    </tr>\n",
       "  </thead>\n",
       "  <tbody>\n",
       "    <tr>\n",
       "      <th>0</th>\n",
       "      <td>1</td>\n",
       "      <td>TRA</td>\n",
       "      <td>CIVRAPGRADMRF</td>\n",
       "      <td>TRAV26-1*01</td>\n",
       "      <td>TRAJ43*01</td>\n",
       "      <td>HomoSapiens</td>\n",
       "      <td>Nef</td>\n",
       "      <td>clone_1_1</td>\n",
       "      <td>1</td>\n",
       "    </tr>\n",
       "    <tr>\n",
       "      <th>1</th>\n",
       "      <td>1</td>\n",
       "      <td>TRB</td>\n",
       "      <td>CASSYLPGQGDHYSNQPQHF</td>\n",
       "      <td>TRBV13*01</td>\n",
       "      <td>TRBJ1-5*01</td>\n",
       "      <td>HomoSapiens</td>\n",
       "      <td>Nef</td>\n",
       "      <td>clone_1_1</td>\n",
       "      <td>1</td>\n",
       "    </tr>\n",
       "    <tr>\n",
       "      <th>3</th>\n",
       "      <td>2</td>\n",
       "      <td>TRA</td>\n",
       "      <td>CAVPSGAGSYQLTF</td>\n",
       "      <td>TRAV20*01</td>\n",
       "      <td>TRAJ28*01</td>\n",
       "      <td>HomoSapiens</td>\n",
       "      <td>Nef</td>\n",
       "      <td>clone_1_2</td>\n",
       "      <td>1</td>\n",
       "    </tr>\n",
       "    <tr>\n",
       "      <th>4</th>\n",
       "      <td>2</td>\n",
       "      <td>TRB</td>\n",
       "      <td>CASSFEPGQGFYSNQPQHF</td>\n",
       "      <td>TRBV13*01</td>\n",
       "      <td>TRBJ1-5*01</td>\n",
       "      <td>HomoSapiens</td>\n",
       "      <td>Nef</td>\n",
       "      <td>clone_1_2</td>\n",
       "      <td>1</td>\n",
       "    </tr>\n",
       "    <tr>\n",
       "      <th>5</th>\n",
       "      <td>3</td>\n",
       "      <td>TRA</td>\n",
       "      <td>CAVKASGSRLT</td>\n",
       "      <td>TRAV2*01</td>\n",
       "      <td>NaN</td>\n",
       "      <td>HomoSapiens</td>\n",
       "      <td>Nef</td>\n",
       "      <td>clone_1_3</td>\n",
       "      <td>1</td>\n",
       "    </tr>\n",
       "    <tr>\n",
       "      <th>...</th>\n",
       "      <td>...</td>\n",
       "      <td>...</td>\n",
       "      <td>...</td>\n",
       "      <td>...</td>\n",
       "      <td>...</td>\n",
       "      <td>...</td>\n",
       "      <td>...</td>\n",
       "      <td>...</td>\n",
       "      <td>...</td>\n",
       "    </tr>\n",
       "    <tr>\n",
       "      <th>92766</th>\n",
       "      <td>30592</td>\n",
       "      <td>TRB</td>\n",
       "      <td>CASSPGQGGDNEQFF</td>\n",
       "      <td>TRBV7-3*01</td>\n",
       "      <td>TRBJ2-1*01</td>\n",
       "      <td>HomoSapiens</td>\n",
       "      <td>Gluten</td>\n",
       "      <td>clone_1_30592</td>\n",
       "      <td>1</td>\n",
       "    </tr>\n",
       "    <tr>\n",
       "      <th>92767</th>\n",
       "      <td>30593</td>\n",
       "      <td>TRA</td>\n",
       "      <td>CAPQGATNKLIF</td>\n",
       "      <td>TRAV12-2*01</td>\n",
       "      <td>TRAJ32*01</td>\n",
       "      <td>HomoSapiens</td>\n",
       "      <td>Gluten</td>\n",
       "      <td>clone_1_30593</td>\n",
       "      <td>1</td>\n",
       "    </tr>\n",
       "    <tr>\n",
       "      <th>92768</th>\n",
       "      <td>30593</td>\n",
       "      <td>TRB</td>\n",
       "      <td>CASSLGAGGQETQYF</td>\n",
       "      <td>TRBV5-1*01</td>\n",
       "      <td>TRBJ2-5*01</td>\n",
       "      <td>HomoSapiens</td>\n",
       "      <td>Gluten</td>\n",
       "      <td>clone_1_30593</td>\n",
       "      <td>1</td>\n",
       "    </tr>\n",
       "    <tr>\n",
       "      <th>92769</th>\n",
       "      <td>30594</td>\n",
       "      <td>TRA</td>\n",
       "      <td>CLVGGSGGYNKLIF</td>\n",
       "      <td>TRAV4*01</td>\n",
       "      <td>TRAJ4*01</td>\n",
       "      <td>HomoSapiens</td>\n",
       "      <td>Gluten</td>\n",
       "      <td>clone_1_30594</td>\n",
       "      <td>1</td>\n",
       "    </tr>\n",
       "    <tr>\n",
       "      <th>92770</th>\n",
       "      <td>30594</td>\n",
       "      <td>TRB</td>\n",
       "      <td>CASSSTAQETQYF</td>\n",
       "      <td>TRBV11-2*01</td>\n",
       "      <td>TRBJ2-5*01</td>\n",
       "      <td>HomoSapiens</td>\n",
       "      <td>Gluten</td>\n",
       "      <td>clone_1_30594</td>\n",
       "      <td>1</td>\n",
       "    </tr>\n",
       "  </tbody>\n",
       "</table>\n",
       "<p>61188 rows × 9 columns</p>\n",
       "</div>"
      ],
      "text/plain": [
       "       complex.id gene                  cdr3       v.segm      j.segm  \\\n",
       "0               1  TRA         CIVRAPGRADMRF  TRAV26-1*01   TRAJ43*01   \n",
       "1               1  TRB  CASSYLPGQGDHYSNQPQHF    TRBV13*01  TRBJ1-5*01   \n",
       "3               2  TRA        CAVPSGAGSYQLTF    TRAV20*01   TRAJ28*01   \n",
       "4               2  TRB   CASSFEPGQGFYSNQPQHF    TRBV13*01  TRBJ1-5*01   \n",
       "5               3  TRA           CAVKASGSRLT     TRAV2*01         NaN   \n",
       "...           ...  ...                   ...          ...         ...   \n",
       "92766       30592  TRB       CASSPGQGGDNEQFF   TRBV7-3*01  TRBJ2-1*01   \n",
       "92767       30593  TRA          CAPQGATNKLIF  TRAV12-2*01   TRAJ32*01   \n",
       "92768       30593  TRB       CASSLGAGGQETQYF   TRBV5-1*01  TRBJ2-5*01   \n",
       "92769       30594  TRA        CLVGGSGGYNKLIF     TRAV4*01    TRAJ4*01   \n",
       "92770       30594  TRB         CASSSTAQETQYF  TRBV11-2*01  TRBJ2-5*01   \n",
       "\n",
       "           species antigen.gene       clone_id  count  \n",
       "0      HomoSapiens          Nef      clone_1_1      1  \n",
       "1      HomoSapiens          Nef      clone_1_1      1  \n",
       "3      HomoSapiens          Nef      clone_1_2      1  \n",
       "4      HomoSapiens          Nef      clone_1_2      1  \n",
       "5      HomoSapiens          Nef      clone_1_3      1  \n",
       "...            ...          ...            ...    ...  \n",
       "92766  HomoSapiens       Gluten  clone_1_30592      1  \n",
       "92767  HomoSapiens       Gluten  clone_1_30593      1  \n",
       "92768  HomoSapiens       Gluten  clone_1_30593      1  \n",
       "92769  HomoSapiens       Gluten  clone_1_30594      1  \n",
       "92770  HomoSapiens       Gluten  clone_1_30594      1  \n",
       "\n",
       "[61188 rows x 9 columns]"
      ]
     },
     "execution_count": 41,
     "metadata": {},
     "output_type": "execute_result"
    }
   ],
   "source": [
    "df[df['complex.id']!=0]"
   ]
  },
  {
   "cell_type": "code",
   "execution_count": 42,
   "id": "f5cfa6d5",
   "metadata": {},
   "outputs": [
    {
     "data": {
      "text/html": [
       "<div>\n",
       "<style scoped>\n",
       "    .dataframe tbody tr th:only-of-type {\n",
       "        vertical-align: middle;\n",
       "    }\n",
       "\n",
       "    .dataframe tbody tr th {\n",
       "        vertical-align: top;\n",
       "    }\n",
       "\n",
       "    .dataframe thead th {\n",
       "        text-align: right;\n",
       "    }\n",
       "</style>\n",
       "<table border=\"1\" class=\"dataframe\">\n",
       "  <thead>\n",
       "    <tr style=\"text-align: right;\">\n",
       "      <th></th>\n",
       "      <th>complex.id</th>\n",
       "      <th>gene</th>\n",
       "      <th>cdr3</th>\n",
       "      <th>v.segm</th>\n",
       "      <th>j.segm</th>\n",
       "      <th>species</th>\n",
       "      <th>antigen.gene</th>\n",
       "      <th>clone_id</th>\n",
       "      <th>count</th>\n",
       "    </tr>\n",
       "  </thead>\n",
       "  <tbody>\n",
       "    <tr>\n",
       "      <th>2</th>\n",
       "      <td>0</td>\n",
       "      <td>TRB</td>\n",
       "      <td>CASSFEAGQGFFSNQPQHF</td>\n",
       "      <td>TRBV13*01</td>\n",
       "      <td>TRBJ1-5*01</td>\n",
       "      <td>HomoSapiens</td>\n",
       "      <td>Nef</td>\n",
       "      <td>clone_0_2</td>\n",
       "      <td>1</td>\n",
       "    </tr>\n",
       "    <tr>\n",
       "      <th>11</th>\n",
       "      <td>0</td>\n",
       "      <td>TRB</td>\n",
       "      <td>CASSFEAGQGFFSNQPQHF</td>\n",
       "      <td>TRBV13*01</td>\n",
       "      <td>TRBJ1-5*01</td>\n",
       "      <td>HomoSapiens</td>\n",
       "      <td>Nef</td>\n",
       "      <td>clone_0_11</td>\n",
       "      <td>1</td>\n",
       "    </tr>\n",
       "    <tr>\n",
       "      <th>18</th>\n",
       "      <td>0</td>\n",
       "      <td>TRB</td>\n",
       "      <td>CASSFEAGQGFFSNQPQHF</td>\n",
       "      <td>TRBV13*01</td>\n",
       "      <td>TRBJ1-5*01</td>\n",
       "      <td>HomoSapiens</td>\n",
       "      <td>Nef</td>\n",
       "      <td>clone_0_18</td>\n",
       "      <td>1</td>\n",
       "    </tr>\n",
       "    <tr>\n",
       "      <th>25</th>\n",
       "      <td>0</td>\n",
       "      <td>TRB</td>\n",
       "      <td>CASSFEAGQGFFSNQPQHF</td>\n",
       "      <td>TRBV13*01</td>\n",
       "      <td>TRBJ1-5*01</td>\n",
       "      <td>HomoSapiens</td>\n",
       "      <td>Nef</td>\n",
       "      <td>clone_0_25</td>\n",
       "      <td>1</td>\n",
       "    </tr>\n",
       "    <tr>\n",
       "      <th>30</th>\n",
       "      <td>0</td>\n",
       "      <td>TRB</td>\n",
       "      <td>CASSFGVEDEQYF</td>\n",
       "      <td>TRBV7-2*01</td>\n",
       "      <td>TRBJ2-7*01</td>\n",
       "      <td>HomoSapiens</td>\n",
       "      <td>Gliadin</td>\n",
       "      <td>clone_0_30</td>\n",
       "      <td>1</td>\n",
       "    </tr>\n",
       "    <tr>\n",
       "      <th>...</th>\n",
       "      <td>...</td>\n",
       "      <td>...</td>\n",
       "      <td>...</td>\n",
       "      <td>...</td>\n",
       "      <td>...</td>\n",
       "      <td>...</td>\n",
       "      <td>...</td>\n",
       "      <td>...</td>\n",
       "      <td>...</td>\n",
       "    </tr>\n",
       "    <tr>\n",
       "      <th>124349</th>\n",
       "      <td>0</td>\n",
       "      <td>TRB</td>\n",
       "      <td>NaN</td>\n",
       "      <td>NaN</td>\n",
       "      <td>NaN</td>\n",
       "      <td>HomoSapiens</td>\n",
       "      <td>Gluten</td>\n",
       "      <td>clone_0_92664</td>\n",
       "      <td>1</td>\n",
       "    </tr>\n",
       "    <tr>\n",
       "      <th>124350</th>\n",
       "      <td>0</td>\n",
       "      <td>TRB</td>\n",
       "      <td>NaN</td>\n",
       "      <td>NaN</td>\n",
       "      <td>NaN</td>\n",
       "      <td>HomoSapiens</td>\n",
       "      <td>Gluten</td>\n",
       "      <td>clone_0_92665</td>\n",
       "      <td>1</td>\n",
       "    </tr>\n",
       "    <tr>\n",
       "      <th>124351</th>\n",
       "      <td>0</td>\n",
       "      <td>TRB</td>\n",
       "      <td>NaN</td>\n",
       "      <td>NaN</td>\n",
       "      <td>NaN</td>\n",
       "      <td>HomoSapiens</td>\n",
       "      <td>Gluten</td>\n",
       "      <td>clone_0_92666</td>\n",
       "      <td>1</td>\n",
       "    </tr>\n",
       "    <tr>\n",
       "      <th>124352</th>\n",
       "      <td>0</td>\n",
       "      <td>TRA</td>\n",
       "      <td>NaN</td>\n",
       "      <td>NaN</td>\n",
       "      <td>NaN</td>\n",
       "      <td>HomoSapiens</td>\n",
       "      <td>Gluten</td>\n",
       "      <td>clone_0_92667</td>\n",
       "      <td>1</td>\n",
       "    </tr>\n",
       "    <tr>\n",
       "      <th>124353</th>\n",
       "      <td>0</td>\n",
       "      <td>TRA</td>\n",
       "      <td>NaN</td>\n",
       "      <td>NaN</td>\n",
       "      <td>NaN</td>\n",
       "      <td>HomoSapiens</td>\n",
       "      <td>Gluten</td>\n",
       "      <td>clone_0_92668</td>\n",
       "      <td>1</td>\n",
       "    </tr>\n",
       "  </tbody>\n",
       "</table>\n",
       "<p>63166 rows × 9 columns</p>\n",
       "</div>"
      ],
      "text/plain": [
       "        complex.id gene                 cdr3      v.segm      j.segm  \\\n",
       "2                0  TRB  CASSFEAGQGFFSNQPQHF   TRBV13*01  TRBJ1-5*01   \n",
       "11               0  TRB  CASSFEAGQGFFSNQPQHF   TRBV13*01  TRBJ1-5*01   \n",
       "18               0  TRB  CASSFEAGQGFFSNQPQHF   TRBV13*01  TRBJ1-5*01   \n",
       "25               0  TRB  CASSFEAGQGFFSNQPQHF   TRBV13*01  TRBJ1-5*01   \n",
       "30               0  TRB        CASSFGVEDEQYF  TRBV7-2*01  TRBJ2-7*01   \n",
       "...            ...  ...                  ...         ...         ...   \n",
       "124349           0  TRB                  NaN         NaN         NaN   \n",
       "124350           0  TRB                  NaN         NaN         NaN   \n",
       "124351           0  TRB                  NaN         NaN         NaN   \n",
       "124352           0  TRA                  NaN         NaN         NaN   \n",
       "124353           0  TRA                  NaN         NaN         NaN   \n",
       "\n",
       "            species antigen.gene       clone_id  count  \n",
       "2       HomoSapiens          Nef      clone_0_2      1  \n",
       "11      HomoSapiens          Nef     clone_0_11      1  \n",
       "18      HomoSapiens          Nef     clone_0_18      1  \n",
       "25      HomoSapiens          Nef     clone_0_25      1  \n",
       "30      HomoSapiens      Gliadin     clone_0_30      1  \n",
       "...             ...          ...            ...    ...  \n",
       "124349  HomoSapiens       Gluten  clone_0_92664      1  \n",
       "124350  HomoSapiens       Gluten  clone_0_92665      1  \n",
       "124351  HomoSapiens       Gluten  clone_0_92666      1  \n",
       "124352  HomoSapiens       Gluten  clone_0_92667      1  \n",
       "124353  HomoSapiens       Gluten  clone_0_92668      1  \n",
       "\n",
       "[63166 rows x 9 columns]"
      ]
     },
     "execution_count": 42,
     "metadata": {},
     "output_type": "execute_result"
    }
   ],
   "source": [
    "df[df['complex.id']==0]"
   ]
  },
  {
   "cell_type": "markdown",
   "id": "2126996a",
   "metadata": {},
   "source": [
    "### 1.2.5 Fill null values and pivot wider\n",
    "\n",
    "Based on the column 'gene', we pivot the data wider so that it looks like the standard input. Meanwhile, we change the name of the columns as the TCRdist requires."
   ]
  },
  {
   "cell_type": "markdown",
   "id": "78ba36ff",
   "metadata": {},
   "source": [
    "**Fill the null values in antigen.gene with the string 'empty'**"
   ]
  },
  {
   "cell_type": "code",
   "execution_count": 61,
   "id": "47f5bb2a",
   "metadata": {},
   "outputs": [
    {
     "name": "stderr",
     "output_type": "stream",
     "text": [
      "C:\\Users\\86139\\AppData\\Local\\Temp\\ipykernel_22120\\1375095455.py:1: SettingWithCopyWarning: \n",
      "A value is trying to be set on a copy of a slice from a DataFrame\n",
      "\n",
      "See the caveats in the documentation: https://pandas.pydata.org/pandas-docs/stable/user_guide/indexing.html#returning-a-view-versus-a-copy\n",
      "  df['antigen.gene'].fillna('empty', inplace=True)\n"
     ]
    },
    {
     "data": {
      "text/plain": [
       "complex.id          0\n",
       "gene                0\n",
       "cdr3            31583\n",
       "v.segm          31684\n",
       "j.segm          32728\n",
       "species             0\n",
       "antigen.gene        0\n",
       "clone_id            0\n",
       "count               0\n",
       "dtype: int64"
      ]
     },
     "execution_count": 61,
     "metadata": {},
     "output_type": "execute_result"
    }
   ],
   "source": [
    "df['antigen.gene'].fillna('empty', inplace=True)\n",
    "df.isnull().sum()"
   ]
  },
  {
   "cell_type": "code",
   "execution_count": 62,
   "id": "8c30e07d",
   "metadata": {},
   "outputs": [],
   "source": [
    "df_wide = df.pivot_table(index=['clone_id','complex.id', 'species', 'antigen.gene', 'count'], columns='gene', values=[\n",
    "                         'cdr3', 'v.segm', 'j.segm'], aggfunc='first').reset_index()\n",
    "# df_wide.columns\n",
    "df_wide.columns = [f'{col[0]}_{col[1]}' if col[1] else col[0]\n",
    "                   for col in df_wide.columns]"
   ]
  },
  {
   "cell_type": "code",
   "execution_count": 63,
   "id": "03135dfe",
   "metadata": {},
   "outputs": [],
   "source": [
    "df_wide.columns = ['clone_id', 'complex_id', 'organism', 'epitope','count', 'cdr3_a_aa',\n",
    "                   'cdr3_b_aa', 'j_a_gene', 'j_b_gene', 'v_a_gene', 'v_b_gene']"
   ]
  },
  {
   "cell_type": "code",
   "execution_count": 64,
   "id": "38cc5cd5",
   "metadata": {},
   "outputs": [
    {
     "data": {
      "text/html": [
       "<div>\n",
       "<style scoped>\n",
       "    .dataframe tbody tr th:only-of-type {\n",
       "        vertical-align: middle;\n",
       "    }\n",
       "\n",
       "    .dataframe tbody tr th {\n",
       "        vertical-align: top;\n",
       "    }\n",
       "\n",
       "    .dataframe thead th {\n",
       "        text-align: right;\n",
       "    }\n",
       "</style>\n",
       "<table border=\"1\" class=\"dataframe\">\n",
       "  <thead>\n",
       "    <tr style=\"text-align: right;\">\n",
       "      <th></th>\n",
       "      <th>clone_id</th>\n",
       "      <th>complex_id</th>\n",
       "      <th>organism</th>\n",
       "      <th>epitope</th>\n",
       "      <th>count</th>\n",
       "      <th>cdr3_a_aa</th>\n",
       "      <th>cdr3_b_aa</th>\n",
       "      <th>j_a_gene</th>\n",
       "      <th>j_b_gene</th>\n",
       "      <th>v_a_gene</th>\n",
       "      <th>v_b_gene</th>\n",
       "    </tr>\n",
       "  </thead>\n",
       "  <tbody>\n",
       "    <tr>\n",
       "      <th>40139</th>\n",
       "      <td>clone_1_177</td>\n",
       "      <td>177</td>\n",
       "      <td>HomoSapiens</td>\n",
       "      <td>Gag</td>\n",
       "      <td>1</td>\n",
       "      <td>CAMRDLRDNFNKFYF</td>\n",
       "      <td>CASREGLGGTEAFF</td>\n",
       "      <td>TRAJ21*01</td>\n",
       "      <td>TRBJ1-1*01</td>\n",
       "      <td>TRAV14/DV4*01</td>\n",
       "      <td>TRBV6-5*01</td>\n",
       "    </tr>\n",
       "  </tbody>\n",
       "</table>\n",
       "</div>"
      ],
      "text/plain": [
       "          clone_id  complex_id     organism epitope  count        cdr3_a_aa  \\\n",
       "40139  clone_1_177         177  HomoSapiens     Gag      1  CAMRDLRDNFNKFYF   \n",
       "\n",
       "            cdr3_b_aa   j_a_gene    j_b_gene       v_a_gene    v_b_gene  \n",
       "40139  CASREGLGGTEAFF  TRAJ21*01  TRBJ1-1*01  TRAV14/DV4*01  TRBV6-5*01  "
      ]
     },
     "execution_count": 64,
     "metadata": {},
     "output_type": "execute_result"
    }
   ],
   "source": [
    "df_wide[df_wide['complex_id']==177]"
   ]
  },
  {
   "cell_type": "code",
   "execution_count": 65,
   "id": "890dec54",
   "metadata": {},
   "outputs": [
    {
     "data": {
      "text/plain": [
       "62177"
      ]
     },
     "execution_count": 65,
     "metadata": {},
     "output_type": "execute_result"
    }
   ],
   "source": [
    "len(df_wide)"
   ]
  },
  {
   "cell_type": "code",
   "execution_count": 66,
   "id": "588bafe4",
   "metadata": {},
   "outputs": [
    {
     "data": {
      "text/plain": [
       "31583"
      ]
     },
     "execution_count": 66,
     "metadata": {},
     "output_type": "execute_result"
    }
   ],
   "source": [
    "len(df_wide[df_wide['complex_id'] ==0])"
   ]
  },
  {
   "cell_type": "code",
   "execution_count": 67,
   "id": "095df170",
   "metadata": {},
   "outputs": [
    {
     "data": {
      "text/plain": [
       "30594"
      ]
     },
     "execution_count": 67,
     "metadata": {},
     "output_type": "execute_result"
    }
   ],
   "source": [
    "len(df_wide[df_wide['complex_id'] !=0])"
   ]
  },
  {
   "cell_type": "markdown",
   "id": "74539d4e",
   "metadata": {},
   "source": [
    "**Check if any rows are deleted:**"
   ]
  },
  {
   "cell_type": "markdown",
   "id": "2a420059",
   "metadata": {},
   "source": [
    "**Note**: For the initial trials, we could see that there are some rows with non-zero complex_id missing. Missing values in 'complex_id':\n",
    "\n",
    "        [ 178,  187,  188,  189,  190,  201,  202,  203,  229,  234,  262,306,  308,  310,  314,  \n",
    "        \n",
    "        320,  322, 1621, 1622, 1623, 1624, 1625, 1626, 1627, 1628, 1629, 1630, 1631, 1632, 1633, 1634]\n",
    "        \n",
    "By checking the data in the original dataset, we figured out that it's due to the null values in the 'antigen.gene' ('epitope') column. **There should not be null values in the index columns** that will be used for **pivot_table**. \n",
    "\n",
    "\n",
    "Therefore we decided to:\n",
    "- fill the null values in 'antigen.gene' with the string 'empty'.\n",
    "- change those 'empty' strings in the 'epitope' back to null after the pivot wide step. "
   ]
  },
  {
   "cell_type": "code",
   "execution_count": 68,
   "id": "e901b4e1",
   "metadata": {},
   "outputs": [
    {
     "name": "stdout",
     "output_type": "stream",
     "text": [
      "1. The number of rows in the pivot wide data: 62177\n",
      "\n",
      "2. The zero complex.id info:\n",
      "   The number of zero complex.id in the VDJdb: 31583\n",
      "   The number of zero complex.id in the pivot wide data: 31583\n",
      "\n",
      "3. The non-zero complex.id info:\n",
      "   The number of paired non-zero complex.id: 30594\n",
      "   The number of non-zero complex.id in the pivot wide data: 30594\n"
     ]
    }
   ],
   "source": [
    "print(f\"1. The number of rows in the pivot wide data: {len(df_wide)}\\n\"\n",
    "      \"\\n2. The zero complex.id info:\"\n",
    "      f\"\\n   The number of zero complex.id in the VDJdb: {zeros_count}\"\n",
    "      f\"\\n   The number of zero complex.id in the pivot wide data: {len(df_wide[df_wide['complex_id'] ==0])}\\n\"\n",
    "      \"\\n3. The non-zero complex.id info:\"\n",
    "      f\"\\n   The number of paired non-zero complex.id: {int(non_zeros_count/2)}\"\n",
    "      f\"\\n   The number of non-zero complex.id in the pivot wide data: {len(df_wide[df_wide['complex_id'] !=0])}\")"
   ]
  },
  {
   "cell_type": "code",
   "execution_count": 69,
   "id": "92ef5cdb",
   "metadata": {
    "scrolled": true
   },
   "outputs": [
    {
     "name": "stdout",
     "output_type": "stream",
     "text": [
      "Missing values in 'complex_id' from 1 to 30594:\n",
      "Series([], dtype: int64)\n"
     ]
    }
   ],
   "source": [
    "# Create a Series containing all values from 1 to 30594\n",
    "all_values = pd.Series(range(1, 30595))\n",
    "\n",
    "# Found a value that is not in the 'complex_id' column\n",
    "missing_values = all_values[~all_values.isin(df_wide['complex_id'])]\n",
    "\n",
    "print(\"Missing values in 'complex_id' from 1 to 30594:\")\n",
    "print(missing_values)"
   ]
  },
  {
   "cell_type": "markdown",
   "id": "3955694d",
   "metadata": {},
   "source": [
    "**Change those 'empty' strings in the 'epitope' column back to null**"
   ]
  },
  {
   "cell_type": "code",
   "execution_count": 70,
   "id": "b67ae821",
   "metadata": {},
   "outputs": [],
   "source": [
    "df_wide.replace('empty', np.nan, inplace=True)"
   ]
  },
  {
   "cell_type": "markdown",
   "id": "c5b80a53",
   "metadata": {},
   "source": [
    "### 1.2.6 Final input"
   ]
  },
  {
   "cell_type": "code",
   "execution_count": 73,
   "id": "e8b295fb",
   "metadata": {},
   "outputs": [
    {
     "name": "stdout",
     "output_type": "stream",
     "text": [
      "<class 'pandas.core.frame.DataFrame'>\n",
      "RangeIndex: 62177 entries, 0 to 62176\n",
      "Data columns (total 11 columns):\n",
      " #   Column      Non-Null Count  Dtype \n",
      "---  ------      --------------  ----- \n",
      " 0   clone_id    62177 non-null  object\n",
      " 1   complex_id  62177 non-null  int64 \n",
      " 2   organism    62177 non-null  object\n",
      " 3   epitope     62146 non-null  object\n",
      " 4   count       62177 non-null  int64 \n",
      " 5   cdr3_a_aa   38049 non-null  object\n",
      " 6   cdr3_b_aa   54722 non-null  object\n",
      " 7   j_a_gene    37004 non-null  object\n",
      " 8   j_b_gene    54622 non-null  object\n",
      " 9   v_a_gene    37957 non-null  object\n",
      " 10  v_b_gene    54713 non-null  object\n",
      "dtypes: int64(2), object(9)\n",
      "memory usage: 5.2+ MB\n"
     ]
    }
   ],
   "source": [
    "tcrdist_input = df_wide\n",
    "tcrdist_input.info()"
   ]
  },
  {
   "cell_type": "markdown",
   "id": "f687825d",
   "metadata": {},
   "source": [
    "## 1.3 Distance matrix"
   ]
  },
  {
   "cell_type": "code",
   "execution_count": null,
   "id": "ffa017bf",
   "metadata": {},
   "outputs": [],
   "source": [
    "\"\"\"\n",
    "If you just want a 'tcrdistances' using pre-set default setting.\n",
    "\n",
    "    You can access distance matrices:\n",
    "        tr.pw_alpha     - alpha chain pairwise distance matrix\n",
    "        tr.pw_beta      - alpha chain pairwise distance matrix\n",
    "        tr.pw_cdr3_a_aa - cdr3 alpha chain distance matrix\n",
    "        tr.pw_cdr3_b_aa - cdr3 beta chain distance matrix\n",
    "\"\"\"\n",
    "import pandas as pd\n",
    "from tcrdist.repertoire import TCRrep\n",
    "\n",
    "df = pd.read_csv(\"dash.csv\")\n",
    "tr = TCRrep(cell_df=df,\n",
    "            organism='mouse',\n",
    "            chains=['alpha', 'beta'],\n",
    "            db_file='alphabeta_gammadelta_db.tsv')\n",
    "\n",
    "print('alpha chain pairwise distance matrix:\\n',\n",
    "      tr.pw_alpha, 'type:\\n', type(tr.pw_alpha))\n",
    "print('alpha chain pairwise distance matrix:\\n', tr.pw_beta)\n",
    "print('cdr3 alpha chain distance matrix:\\n', tr.pw_cdr3_a_aa)\n",
    "print('cdr3 beta chain distance matrix:\\n', tr.pw_cdr3_b_aa)"
   ]
  },
  {
   "cell_type": "code",
   "execution_count": null,
   "id": "7b234235",
   "metadata": {},
   "outputs": [],
   "source": [
    "# from tcrdist.setup_tests import list_available_zip_files  \n",
    "# list_available_zip_files()\n",
    "# \"\"\"\n",
    "# ['dash.zip',\n",
    "# 'human_T_alpha_beta_sim200K.zip',\n",
    "# 'vdjDB_PMID28636592.zip',\n",
    "# 'sant.csv.zip',\n",
    "# 'bulk.csv.zip',\n",
    "# 'wiraninha_sampler.zip',\n",
    "# 'ruggiero_mouse_sampler.zip',\n",
    "# 'ruggiero_human_sampler.zip',\n",
    "# 'britanova_human_beta_t_cb.tsv.sampler.tsv.zip',\n",
    "# 'emerson_human_beta_t_cmvneg.tsv.sampler.tsv.zip',\n",
    "# 'ruggiero_human_alpha_t.tsv.sampler.tsv.zip',\n",
    "# 'ruggiero_human_beta_t.tsv.sampler.tsv.zip']\n",
    "# \"\"\"\n",
    "# from tcrdist.setup_tests import download_and_extract_zip_file\n",
    "# \"\"\"\n",
    "# Get dash.zip contents\n",
    "# \"\"\"\n",
    "# download_and_extract_zip_file( 'dash.zip', source = \"dropbox\", dest = \".\")\n",
    "# \"\"\"\n",
    "# Assert that file has been downloaded\n",
    "# \"\"\"\n",
    "# import os\n",
    "# assert os.path.isfile(\"dash.zip\")\n",
    "# \"\"\"\n",
    "# Assert that individual files of successively been inflated\n",
    "# \"\"\"\n",
    "# assert os.path.isfile(\"dash.csv\")\n",
    "# assert os.path.isfile(\"dash2.csv\")\n",
    "# assert os.path.isfile(\"dash_human.csv\")\n",
    "# assert os.path.isfile(\"dash_beta_airr.csv\")"
   ]
  },
  {
   "cell_type": "code",
   "execution_count": null,
   "id": "4e3e7704",
   "metadata": {},
   "outputs": [],
   "source": [
    "\"\"\"  \n",
    "If you want 'tcrdistances' with changes over some parameters.\n",
    "For instance you want to change the gap penalty on CDR3s to 5. \n",
    "\"\"\"\n",
    "import pwseqdist as pw\n",
    "import pandas as pd\n",
    "from tcrdist.repertoire import TCRrep\n",
    "\n",
    "df = pd.read_csv(\"dash.csv\")\n",
    "tr = TCRrep(cell_df=df,\n",
    "            organism='mouse',\n",
    "            chains=['alpha', 'beta'],\n",
    "            compute_distances=False,\n",
    "            db_file='alphabeta_gammadelta_db.tsv')\n",
    "\n",
    "tr.kargs_a['cdr3_a_aa']['gap_penalty'] = 5\n",
    "tr.kargs_b['cdr3_b_aa']['gap_penalty'] = 5\n",
    "\n",
    "tr.compute_distances()\n",
    "\n",
    "print(tr.pw_alpha)\n",
    "\n",
    "print(tr.pw_beta)"
   ]
  }
 ],
 "metadata": {
  "kernelspec": {
   "display_name": "Python 3 (ipykernel)",
   "language": "python",
   "name": "python3"
  },
  "language_info": {
   "codemirror_mode": {
    "name": "ipython",
    "version": 3
   },
   "file_extension": ".py",
   "mimetype": "text/x-python",
   "name": "python",
   "nbconvert_exporter": "python",
   "pygments_lexer": "ipython3",
   "version": "3.11.4"
  },
  "toc": {
   "base_numbering": 1,
   "nav_menu": {
    "height": "101.983px",
    "width": "188.99px"
   },
   "number_sections": false,
   "sideBar": true,
   "skip_h1_title": false,
   "title_cell": "Table of Contents",
   "title_sidebar": "Contents",
   "toc_cell": true,
   "toc_position": {
    "height": "calc(100% - 180px)",
    "left": "10px",
    "top": "150px",
    "width": "310.598px"
   },
   "toc_section_display": true,
   "toc_window_display": true
  },
  "varInspector": {
   "cols": {
    "lenName": 16,
    "lenType": 16,
    "lenVar": 40
   },
   "kernels_config": {
    "python": {
     "delete_cmd_postfix": "",
     "delete_cmd_prefix": "del ",
     "library": "var_list.py",
     "varRefreshCmd": "print(var_dic_list())"
    },
    "r": {
     "delete_cmd_postfix": ") ",
     "delete_cmd_prefix": "rm(",
     "library": "var_list.r",
     "varRefreshCmd": "cat(var_dic_list()) "
    }
   },
   "position": {
    "height": "296.528px",
    "left": "757.892px",
    "right": "20px",
    "top": "106.998px",
    "width": "543.106px"
   },
   "types_to_exclude": [
    "module",
    "function",
    "builtin_function_or_method",
    "instance",
    "_Feature"
   ],
   "window_display": false
  }
 },
 "nbformat": 4,
 "nbformat_minor": 5
}
