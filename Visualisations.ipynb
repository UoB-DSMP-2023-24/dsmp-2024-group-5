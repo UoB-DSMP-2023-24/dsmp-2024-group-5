{
 "cells": [
  {
   "cell_type": "markdown",
   "id": "e03aeb2a-b141-4f7d-8a8f-87aed80881e1",
   "metadata": {},
   "source": [
    "# EDA/Pre-processing"
   ]
  },
  {
   "cell_type": "markdown",
   "id": "08feeac7-b019-4ba6-a80a-730c79e8fe57",
   "metadata": {},
   "source": [
    "## Showcasing 1-many relationship between epitope and (cdr3 + v-segment + j-segment)"
   ]
  },
  {
   "cell_type": "markdown",
   "id": "1111ad0f-36d4-4bdd-9e0a-df8639d6365c",
   "metadata": {},
   "source": [
    "## Showcasing number of (CDR3s + v-seg + j-seg) and Epitope relationship we have for each specifies"
   ]
  },
  {
   "cell_type": "markdown",
   "id": "412ff9a5-d5b2-4f45-9faa-381320736e06",
   "metadata": {},
   "source": [
    "## Showcasing number of records grouped by confidence score and species (vdj value)"
   ]
  },
  {
   "cell_type": "markdown",
   "id": "5d6344ad-be74-4a1e-b91c-0a806fb06cb0",
   "metadata": {},
   "source": [
    "# Task 2"
   ]
  },
  {
   "cell_type": "markdown",
   "id": "e3b0845a-973f-4e20-a718-2139c0b82d69",
   "metadata": {},
   "source": [
    "## Showcasing the number of dimensions that get created due to one-hot encoding`"
   ]
  },
  {
   "cell_type": "markdown",
   "id": "4ae6b5f8-6c57-4571-9667-8de5dfa466ed",
   "metadata": {},
   "source": [
    "# Task 3"
   ]
  },
  {
   "cell_type": "markdown",
   "id": "fa507bfc-8d37-487c-bff2-ca14f5649046",
   "metadata": {},
   "source": [
    "# Task 4/5"
   ]
  },
  {
   "cell_type": "markdown",
   "id": "12ea3aa6-8924-4267-92b5-8da6696c01ee",
   "metadata": {},
   "source": [
    "# Task 6"
   ]
  }
 ],
 "metadata": {
  "kernelspec": {
   "display_name": "Python 3",
   "language": "python",
   "name": "python3"
  },
  "language_info": {
   "codemirror_mode": {
    "name": "ipython",
    "version": 3
   },
   "file_extension": ".py",
   "mimetype": "text/x-python",
   "name": "python",
   "nbconvert_exporter": "python",
   "pygments_lexer": "ipython3",
   "version": "3.8.8"
  }
 },
 "nbformat": 4,
 "nbformat_minor": 5
}
