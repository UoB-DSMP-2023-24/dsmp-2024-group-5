{
 "cells": [
  {
   "cell_type": "markdown",
   "id": "852e68ed-59c7-4fcb-9afe-459b0aa562c9",
   "metadata": {},
   "source": [
    "## Predicting antigen specificity "
   ]
  },
  {
   "cell_type": "code",
   "execution_count": 33,
   "id": "c79b1d97-61cf-43ea-a561-9c12c159b58b",
   "metadata": {},
   "outputs": [],
   "source": [
    "import pandas as pd\n",
    "\n",
    "import seaborn as sns\n",
    "import matplotlib.pyplot as plt"
   ]
  },
  {
   "cell_type": "code",
   "execution_count": 34,
   "id": "746c7bb4-6ec8-4e32-bd44-6014e0d9fcf9",
   "metadata": {},
   "outputs": [
    {
     "name": "stdout",
     "output_type": "stream",
     "text": [
      "<class 'pandas.core.frame.DataFrame'>\n",
      "RangeIndex: 92771 entries, 0 to 92770\n",
      "Data columns (total 21 columns):\n",
      " #   Column            Non-Null Count  Dtype \n",
      "---  ------            --------------  ----- \n",
      " 0   complex.id        92771 non-null  int64 \n",
      " 1   gene              92771 non-null  object\n",
      " 2   cdr3              92771 non-null  object\n",
      " 3   v.segm            92670 non-null  object\n",
      " 4   j.segm            91626 non-null  object\n",
      " 5   species           92771 non-null  object\n",
      " 6   mhc.a             92771 non-null  object\n",
      " 7   mhc.b             92771 non-null  object\n",
      " 8   mhc.class         92771 non-null  object\n",
      " 9   antigen.epitope   92771 non-null  object\n",
      " 10  antigen.gene      92709 non-null  object\n",
      " 11  antigen.species   92771 non-null  object\n",
      " 12  reference.id      91260 non-null  object\n",
      " 13  method            92771 non-null  object\n",
      " 14  meta              92771 non-null  object\n",
      " 15  cdr3fix           92771 non-null  object\n",
      " 16  vdjdb.score       92771 non-null  int64 \n",
      " 17  web.method        92771 non-null  object\n",
      " 18  web.method.seq    92771 non-null  object\n",
      " 19  web.cdr3fix.nc    92771 non-null  object\n",
      " 20  web.cdr3fix.unmp  92771 non-null  object\n",
      "dtypes: int64(2), object(19)\n",
      "memory usage: 14.9+ MB\n"
     ]
    }
   ],
   "source": [
    "dataset = pd.read_csv('vdjdb.csv')\n",
    "\n",
    "dataset.info()"
   ]
  },
  {
   "cell_type": "code",
   "execution_count": 35,
   "id": "a16e8bdb-103c-4076-856d-35e4e223bfb6",
   "metadata": {},
   "outputs": [
    {
     "data": {
      "text/plain": [
       "complex.id             0\n",
       "gene                   0\n",
       "cdr3                   0\n",
       "v.segm               101\n",
       "j.segm              1145\n",
       "species                0\n",
       "mhc.a                  0\n",
       "mhc.b                  0\n",
       "mhc.class              0\n",
       "antigen.epitope        0\n",
       "antigen.gene          62\n",
       "antigen.species        0\n",
       "reference.id        1511\n",
       "method                 0\n",
       "meta                   0\n",
       "cdr3fix                0\n",
       "vdjdb.score            0\n",
       "web.method             0\n",
       "web.method.seq         0\n",
       "web.cdr3fix.nc         0\n",
       "web.cdr3fix.unmp       0\n",
       "dtype: int64"
      ]
     },
     "execution_count": 35,
     "metadata": {},
     "output_type": "execute_result"
    }
   ],
   "source": [
    "dataset.isnull().sum()"
   ]
  },
  {
   "cell_type": "markdown",
   "id": "0947c1eb-b112-4a3c-bf96-95090977a687",
   "metadata": {},
   "source": [
    "# Data Transformation"
   ]
  },
  {
   "cell_type": "markdown",
   "id": "7ea63675-a5ea-4edc-9b67-434417f2fc18",
   "metadata": {},
   "source": [
    "## Removing Unwanted Columns"
   ]
  },
  {
   "cell_type": "markdown",
   "id": "11cff6f8-903a-4c16-9d18-02e188a02acf",
   "metadata": {},
   "source": [
    "Some of the columns contain specific information about the literature sources (reference.id), sequencing methods (method, web.method.seq), collection method (web.method) etc., some of which are related to how **vdjdb.score** is calculated.\n",
    "\n",
    "Therefore we first remove these columns. Deleted columns are as follows: \n",
    "-  reference.id\n",
    "-  method\n",
    "-  meta\n",
    "-  cdr3fix\n",
    "-  web.method  \n",
    "-  web.method.seq\n",
    "-  web.cdr3fix.nc\n",
    "-  web.cdr3fix.unmp\n",
    "\n",
    "(Work by Yutong)"
   ]
  },
  {
   "cell_type": "code",
   "execution_count": 36,
   "id": "66e39cf9-5a61-4444-83d4-d000a3fbe1be",
   "metadata": {},
   "outputs": [
    {
     "name": "stdout",
     "output_type": "stream",
     "text": [
      "<class 'pandas.core.frame.DataFrame'>\n",
      "RangeIndex: 92771 entries, 0 to 92770\n",
      "Data columns (total 13 columns):\n",
      " #   Column           Non-Null Count  Dtype \n",
      "---  ------           --------------  ----- \n",
      " 0   complex.id       92771 non-null  int64 \n",
      " 1   gene             92771 non-null  object\n",
      " 2   cdr3             92771 non-null  object\n",
      " 3   v.segm           92670 non-null  object\n",
      " 4   j.segm           91626 non-null  object\n",
      " 5   species          92771 non-null  object\n",
      " 6   mhc.a            92771 non-null  object\n",
      " 7   mhc.b            92771 non-null  object\n",
      " 8   mhc.class        92771 non-null  object\n",
      " 9   antigen.epitope  92771 non-null  object\n",
      " 10  antigen.gene     92709 non-null  object\n",
      " 11  antigen.species  92771 non-null  object\n",
      " 12  vdjdb.score      92771 non-null  int64 \n",
      "dtypes: int64(2), object(11)\n",
      "memory usage: 9.2+ MB\n"
     ]
    }
   ],
   "source": [
    "dataset = dataset.iloc[:, list(range(0, 12)) + [16]]\n",
    "dataset.info()"
   ]
  },
  {
   "cell_type": "code",
   "execution_count": 37,
   "id": "1de0bf09-c9bc-419a-9438-b4631ed10797",
   "metadata": {},
   "outputs": [
    {
     "data": {
      "text/html": [
       "<div>\n",
       "<style scoped>\n",
       "    .dataframe tbody tr th:only-of-type {\n",
       "        vertical-align: middle;\n",
       "    }\n",
       "\n",
       "    .dataframe tbody tr th {\n",
       "        vertical-align: top;\n",
       "    }\n",
       "\n",
       "    .dataframe thead th {\n",
       "        text-align: right;\n",
       "    }\n",
       "</style>\n",
       "<table border=\"1\" class=\"dataframe\">\n",
       "  <thead>\n",
       "    <tr style=\"text-align: right;\">\n",
       "      <th></th>\n",
       "      <th>complex.id</th>\n",
       "      <th>gene</th>\n",
       "      <th>cdr3</th>\n",
       "      <th>v.segm</th>\n",
       "      <th>j.segm</th>\n",
       "      <th>species</th>\n",
       "      <th>mhc.a</th>\n",
       "      <th>mhc.b</th>\n",
       "      <th>mhc.class</th>\n",
       "      <th>antigen.epitope</th>\n",
       "      <th>antigen.gene</th>\n",
       "      <th>antigen.species</th>\n",
       "      <th>vdjdb.score</th>\n",
       "    </tr>\n",
       "  </thead>\n",
       "  <tbody>\n",
       "    <tr>\n",
       "      <th>0</th>\n",
       "      <td>1</td>\n",
       "      <td>TRA</td>\n",
       "      <td>CIVRAPGRADMRF</td>\n",
       "      <td>TRAV26-1*01</td>\n",
       "      <td>TRAJ43*01</td>\n",
       "      <td>HomoSapiens</td>\n",
       "      <td>HLA-B*08</td>\n",
       "      <td>B2M</td>\n",
       "      <td>MHCI</td>\n",
       "      <td>FLKEKGGL</td>\n",
       "      <td>Nef</td>\n",
       "      <td>HIV-1</td>\n",
       "      <td>2</td>\n",
       "    </tr>\n",
       "    <tr>\n",
       "      <th>1</th>\n",
       "      <td>1</td>\n",
       "      <td>TRB</td>\n",
       "      <td>CASSYLPGQGDHYSNQPQHF</td>\n",
       "      <td>TRBV13*01</td>\n",
       "      <td>TRBJ1-5*01</td>\n",
       "      <td>HomoSapiens</td>\n",
       "      <td>HLA-B*08</td>\n",
       "      <td>B2M</td>\n",
       "      <td>MHCI</td>\n",
       "      <td>FLKEKGGL</td>\n",
       "      <td>Nef</td>\n",
       "      <td>HIV-1</td>\n",
       "      <td>2</td>\n",
       "    </tr>\n",
       "    <tr>\n",
       "      <th>2</th>\n",
       "      <td>0</td>\n",
       "      <td>TRB</td>\n",
       "      <td>CASSFEAGQGFFSNQPQHF</td>\n",
       "      <td>TRBV13*01</td>\n",
       "      <td>TRBJ1-5*01</td>\n",
       "      <td>HomoSapiens</td>\n",
       "      <td>HLA-B*08</td>\n",
       "      <td>B2M</td>\n",
       "      <td>MHCI</td>\n",
       "      <td>FLKEKGGL</td>\n",
       "      <td>Nef</td>\n",
       "      <td>HIV-1</td>\n",
       "      <td>2</td>\n",
       "    </tr>\n",
       "    <tr>\n",
       "      <th>3</th>\n",
       "      <td>2</td>\n",
       "      <td>TRA</td>\n",
       "      <td>CAVPSGAGSYQLTF</td>\n",
       "      <td>TRAV20*01</td>\n",
       "      <td>TRAJ28*01</td>\n",
       "      <td>HomoSapiens</td>\n",
       "      <td>HLA-B*08</td>\n",
       "      <td>B2M</td>\n",
       "      <td>MHCI</td>\n",
       "      <td>FLKEKGGL</td>\n",
       "      <td>Nef</td>\n",
       "      <td>HIV-1</td>\n",
       "      <td>2</td>\n",
       "    </tr>\n",
       "    <tr>\n",
       "      <th>4</th>\n",
       "      <td>2</td>\n",
       "      <td>TRB</td>\n",
       "      <td>CASSFEPGQGFYSNQPQHF</td>\n",
       "      <td>TRBV13*01</td>\n",
       "      <td>TRBJ1-5*01</td>\n",
       "      <td>HomoSapiens</td>\n",
       "      <td>HLA-B*08</td>\n",
       "      <td>B2M</td>\n",
       "      <td>MHCI</td>\n",
       "      <td>FLKEKGGL</td>\n",
       "      <td>Nef</td>\n",
       "      <td>HIV-1</td>\n",
       "      <td>2</td>\n",
       "    </tr>\n",
       "  </tbody>\n",
       "</table>\n",
       "</div>"
      ],
      "text/plain": [
       "   complex.id gene                  cdr3       v.segm      j.segm  \\\n",
       "0           1  TRA         CIVRAPGRADMRF  TRAV26-1*01   TRAJ43*01   \n",
       "1           1  TRB  CASSYLPGQGDHYSNQPQHF    TRBV13*01  TRBJ1-5*01   \n",
       "2           0  TRB   CASSFEAGQGFFSNQPQHF    TRBV13*01  TRBJ1-5*01   \n",
       "3           2  TRA        CAVPSGAGSYQLTF    TRAV20*01   TRAJ28*01   \n",
       "4           2  TRB   CASSFEPGQGFYSNQPQHF    TRBV13*01  TRBJ1-5*01   \n",
       "\n",
       "       species     mhc.a mhc.b mhc.class antigen.epitope antigen.gene  \\\n",
       "0  HomoSapiens  HLA-B*08   B2M      MHCI        FLKEKGGL          Nef   \n",
       "1  HomoSapiens  HLA-B*08   B2M      MHCI        FLKEKGGL          Nef   \n",
       "2  HomoSapiens  HLA-B*08   B2M      MHCI        FLKEKGGL          Nef   \n",
       "3  HomoSapiens  HLA-B*08   B2M      MHCI        FLKEKGGL          Nef   \n",
       "4  HomoSapiens  HLA-B*08   B2M      MHCI        FLKEKGGL          Nef   \n",
       "\n",
       "  antigen.species  vdjdb.score  \n",
       "0           HIV-1            2  \n",
       "1           HIV-1            2  \n",
       "2           HIV-1            2  \n",
       "3           HIV-1            2  \n",
       "4           HIV-1            2  "
      ]
     },
     "execution_count": 37,
     "metadata": {},
     "output_type": "execute_result"
    }
   ],
   "source": [
    "dataset.head(5)"
   ]
  },
  {
   "cell_type": "markdown",
   "id": "1dc2a0f6-e127-4a73-93ca-6cb85dfabdc0",
   "metadata": {},
   "source": [
    "---"
   ]
  },
  {
   "cell_type": "markdown",
   "id": "5a13e68c-d3b1-4c04-8f0b-6cbedab26517",
   "metadata": {},
   "source": [
    "## How to filter the dataset\n",
    "\n",
    "1. Using only beta chains  -- The CDR3 regions of TCRβ chains are located in the center of the paratope and are considered as the key determinant of specificity in antigen recognition (Jiang, Huo and Cheng Li, 2023). Moreover, the database contain mostly beta chained samples. -- <b>Done</b>\n",
    "2. Only taking human species (Why?)  -- <b>Done</b>\n",
    "    1. Most samples\n",
    "3. Removed duplicates -- <b>Done</b>\n",
    "3. Restricted to MHC Class 1 (Why?)  - <b>Not Sure?</b>\n",
    "    1. There are around 80K records of MHC class 1\n",
    "    2. The TIENET paper maybe focused mainly on MHC1 only"
   ]
  },
  {
   "cell_type": "markdown",
   "id": "4ede1dee-c39a-4b14-81f7-861c83b36faf",
   "metadata": {},
   "source": [
    "---\n",
    "4. <b> only kept the CDR3β and epitope sequences whose lengths lie between 5–30 and 7–15 amino acids, respectively (Why?) </b>\n",
    "    1. This was likely done to focus the model on reasonable sequence lengths and remove potentially noisy or erroneous data. (Explore more)\n",
    "    2. CDR3s with lengths between 10-20  -- <b> Done </b>\n",
    "\n",
    "\n",
    "#### Explanation for CDR3 Lengths\n",
    "The optimal length for the CDR3 region in predicting TCR-peptide interactions can vary depending on the specific dataset and model used. However, most studies suggest that the CDR3 loop sequence's mid-region creates most of the contacts with the peptide due to its length and flexibility[3]. The CDR3 region is typically 10-20 amino acids long, and its length can impact antigen specificity[3].\n",
    "\n",
    "In the case of the VDJ.db dataset, the authors report that the CDR3 loop sequence's mid-region creates most of the contacts with the peptide due to the loop and peptide's flexibility[3]. They also demonstrate that the modeling pipeline can be used to study features of residue interactions in TCR:pMHC complexes, providing access to structural data for immunologists and in silico structural modeling[3].\n",
    "\n",
    "When dealing with the VDJ.db dataset, it is essential to consider the specific length of the CDR3 region for predicting TCR-peptide interactions. The optimal length may depend on the specific dataset and model used, but generally, a CDR3 region of 10-20 amino acids is considered suitable for predicting TCR-peptide interactions.\n",
    "    \n",
    "Citations:\n",
    "[3] https://www.ncbi.nlm.nih.gov/pmc/articles/PMC10464843/\n",
    "\n",
    "#### Explanation for epitope lengths\n",
    "\n",
    "In the context of immunology and T-cell receptor (TCR) research, the length of 7–15 amino acids for epitopes is commonly used because this range represents the typical length of peptides that can be presented by Major Histocompatibility Complex (MHC) molecules to TCRs. MHC molecules play a crucial role in the immune response by presenting peptide fragments derived from pathogens to TCRs on T cells, which are then able to recognize and respond to these peptides. The peptides that bind to Class I MHC molecules are generally 8-10 amino acids in length, while those that bind to Class II MHC molecules are often longer, ranging from 13 to 25 amino acids, with a core region of about 9 amino acids that interacts most directly with the TCR\n"
   ]
  },
  {
   "cell_type": "markdown",
   "id": "4aec09ed-57c6-4231-a138-c250242eadcb",
   "metadata": {},
   "source": [
    "---\n",
    "5. Removing epitopes with less than 10 associated TCR sequences: (Why?) <b> Done </b>\n",
    "    1. The merged dataset was highly imbalanced, with some epitopes having many associated TCRs and others having very few.\n",
    "    2. To address this imbalance, the authors removed epitopes that had less than 10 associated TCR sequences.\n",
    "    3. This ensured a minimum number of examples for each epitope, which can help the model learn more robust patterns.\n",
    "6. Removing TCR sequences with ambiguous amino acids (Why?) -- <b> Done </b>\n",
    "    1. Some TCR sequences contained ambiguous amino acid characters (B, J, O, U, X), which the authors removed.\n",
    "6. I should keep both positive and negative dataset. (Why?)\n",
    "    1. All the records in the VDJ db are positive dataset with varying confidence scores, since there are only 1400 records with high confidence score. I will make use of only the high confidence scores and it will be biased towards high confidence records"
   ]
  },
  {
   "cell_type": "markdown",
   "id": "2be40e51-95f9-43d9-881e-02168309ecd8",
   "metadata": {},
   "source": [
    "## How to prepare the data for ML model?\n",
    "\n",
    "1. Encoding the input sequences: (Is this process too complex?)\n",
    "    1. The authors used two separate pre-trained TCRpeg models to encode the TCR (CDR3β) and epitope sequences into numerical vector representations.\n",
    "        2. This transfer learning approach was used to leverage the knowledge learned from the pre-training tasks.\n",
    "        3. \n",
    "    2. catElmo technique -\n",
    "        1. https://elifesciences.org/reviewed-preprints/88837v1\n",
    "        2. https://github.com/Lee-CBG/catELMo\n",
    "    3. Blossom\n",
    "   \n",
    "   \n",
    "<spam color='red'>?? Why do we combine peptide and TCRs before putting them into a model?</spam>"
   ]
  },
  {
   "cell_type": "markdown",
   "id": "c0503740-95ce-42c7-83f4-bd10fd42f5c0",
   "metadata": {},
   "source": [
    "## Which ML algo to use?\n",
    "\n",
    "1. The encoded TCR and epitope vectors were concatenated and fed into the final fully connected neural network (FCN) of the TEINet model (Is this too complex?)"
   ]
  },
  {
   "cell_type": "markdown",
   "id": "5dc877ff-d7c9-4100-9ac9-7dad7e5ea4ec",
   "metadata": {},
   "source": [
    "## Using hyper-parameters"
   ]
  },
  {
   "cell_type": "markdown",
   "id": "9363331c-fe51-4ea5-afbe-bb4364e9c201",
   "metadata": {},
   "source": [
    "---"
   ]
  },
  {
   "cell_type": "markdown",
   "id": "48e4103e-e2b3-45e7-8203-2980b2591b3c",
   "metadata": {},
   "source": [
    "# TASK 6"
   ]
  },
  {
   "cell_type": "markdown",
   "id": "4837fd41-845d-4e42-b729-42e2e0c00c71",
   "metadata": {},
   "source": [
    "## How valueable is the different lengths of the CDR"
   ]
  },
  {
   "cell_type": "code",
   "execution_count": 38,
   "id": "fa5c982e-32f1-452e-9b36-fa49b32c6389",
   "metadata": {},
   "outputs": [],
   "source": [
    "sample_dataset = dataset[['cdr3','antigen.epitope','vdjdb.score','species','antigen.species','gene','mhc.class']]"
   ]
  },
  {
   "cell_type": "markdown",
   "id": "ad44010e-9223-4c05-850f-0a388f192db9",
   "metadata": {},
   "source": [
    "#### Taking only beta chains of humans"
   ]
  },
  {
   "cell_type": "code",
   "execution_count": 39,
   "id": "13e45d21-9dca-4559-8173-c39e8f5684c7",
   "metadata": {},
   "outputs": [],
   "source": [
    "sample_dataset = sample_dataset[(sample_dataset['gene'] == 'TRB') & (sample_dataset['species'] == 'HomoSapiens')]"
   ]
  },
  {
   "cell_type": "code",
   "execution_count": 40,
   "id": "562cec92-a61c-4dff-9c68-0628cab30231",
   "metadata": {},
   "outputs": [
    {
     "data": {
      "text/html": [
       "<div>\n",
       "<style scoped>\n",
       "    .dataframe tbody tr th:only-of-type {\n",
       "        vertical-align: middle;\n",
       "    }\n",
       "\n",
       "    .dataframe tbody tr th {\n",
       "        vertical-align: top;\n",
       "    }\n",
       "\n",
       "    .dataframe thead th {\n",
       "        text-align: right;\n",
       "    }\n",
       "</style>\n",
       "<table border=\"1\" class=\"dataframe\">\n",
       "  <thead>\n",
       "    <tr style=\"text-align: right;\">\n",
       "      <th></th>\n",
       "      <th>cdr3</th>\n",
       "      <th>antigen.epitope</th>\n",
       "      <th>vdjdb.score</th>\n",
       "      <th>species</th>\n",
       "      <th>antigen.species</th>\n",
       "      <th>gene</th>\n",
       "      <th>mhc.class</th>\n",
       "    </tr>\n",
       "  </thead>\n",
       "  <tbody>\n",
       "    <tr>\n",
       "      <th>1</th>\n",
       "      <td>CASSYLPGQGDHYSNQPQHF</td>\n",
       "      <td>FLKEKGGL</td>\n",
       "      <td>2</td>\n",
       "      <td>HomoSapiens</td>\n",
       "      <td>HIV-1</td>\n",
       "      <td>TRB</td>\n",
       "      <td>MHCI</td>\n",
       "    </tr>\n",
       "    <tr>\n",
       "      <th>2</th>\n",
       "      <td>CASSFEAGQGFFSNQPQHF</td>\n",
       "      <td>FLKEKGGL</td>\n",
       "      <td>2</td>\n",
       "      <td>HomoSapiens</td>\n",
       "      <td>HIV-1</td>\n",
       "      <td>TRB</td>\n",
       "      <td>MHCI</td>\n",
       "    </tr>\n",
       "    <tr>\n",
       "      <th>4</th>\n",
       "      <td>CASSFEPGQGFYSNQPQHF</td>\n",
       "      <td>FLKEKGGL</td>\n",
       "      <td>2</td>\n",
       "      <td>HomoSapiens</td>\n",
       "      <td>HIV-1</td>\n",
       "      <td>TRB</td>\n",
       "      <td>MHCI</td>\n",
       "    </tr>\n",
       "    <tr>\n",
       "      <th>6</th>\n",
       "      <td>CASSYEPGQVSHYSNQPQHF</td>\n",
       "      <td>FLKEKGGL</td>\n",
       "      <td>2</td>\n",
       "      <td>HomoSapiens</td>\n",
       "      <td>HIV-1</td>\n",
       "      <td>TRB</td>\n",
       "      <td>MHCI</td>\n",
       "    </tr>\n",
       "    <tr>\n",
       "      <th>8</th>\n",
       "      <td>CASSALASLNEQFF</td>\n",
       "      <td>FLKEKGGL</td>\n",
       "      <td>2</td>\n",
       "      <td>HomoSapiens</td>\n",
       "      <td>HIV-1</td>\n",
       "      <td>TRB</td>\n",
       "      <td>MHCI</td>\n",
       "    </tr>\n",
       "  </tbody>\n",
       "</table>\n",
       "</div>"
      ],
      "text/plain": [
       "                   cdr3 antigen.epitope  vdjdb.score      species  \\\n",
       "1  CASSYLPGQGDHYSNQPQHF        FLKEKGGL            2  HomoSapiens   \n",
       "2   CASSFEAGQGFFSNQPQHF        FLKEKGGL            2  HomoSapiens   \n",
       "4   CASSFEPGQGFYSNQPQHF        FLKEKGGL            2  HomoSapiens   \n",
       "6  CASSYEPGQVSHYSNQPQHF        FLKEKGGL            2  HomoSapiens   \n",
       "8        CASSALASLNEQFF        FLKEKGGL            2  HomoSapiens   \n",
       "\n",
       "  antigen.species gene mhc.class  \n",
       "1           HIV-1  TRB      MHCI  \n",
       "2           HIV-1  TRB      MHCI  \n",
       "4           HIV-1  TRB      MHCI  \n",
       "6           HIV-1  TRB      MHCI  \n",
       "8           HIV-1  TRB      MHCI  "
      ]
     },
     "execution_count": 40,
     "metadata": {},
     "output_type": "execute_result"
    }
   ],
   "source": [
    "sample_dataset.head(5)"
   ]
  },
  {
   "cell_type": "markdown",
   "id": "dfe8ce1e-fb6d-4cd8-9804-2b24b9f0783a",
   "metadata": {},
   "source": [
    "### Creating subset for positive and negative sampling"
   ]
  },
  {
   "cell_type": "code",
   "execution_count": 41,
   "id": "6b1e32f0-ee42-40a1-9a7c-9e236f18fbc8",
   "metadata": {},
   "outputs": [],
   "source": [
    "# positive = sample_dataset[sample_dataset['vdjdb.score'] > 1]\n",
    "# negative = sample_dataset[sample_dataset['vdjdb.score'] < 2]"
   ]
  },
  {
   "cell_type": "markdown",
   "id": "2a9101fc-894a-4e40-8cf7-30b6f3032e5a",
   "metadata": {},
   "source": [
    "### Removing Duplicates"
   ]
  },
  {
   "cell_type": "code",
   "execution_count": 42,
   "id": "579a7fcd-e811-478a-9777-506f98d4cfb2",
   "metadata": {},
   "outputs": [
    {
     "data": {
      "text/plain": [
       "Index(['cdr3', 'antigen.epitope', 'vdjdb.score', 'species', 'antigen.species',\n",
       "       'gene', 'mhc.class'],\n",
       "      dtype='object')"
      ]
     },
     "execution_count": 42,
     "metadata": {},
     "output_type": "execute_result"
    }
   ],
   "source": [
    "sample_dataset.columns"
   ]
  },
  {
   "cell_type": "code",
   "execution_count": 43,
   "id": "a4641ed6-e083-41cb-b864-f047b67c6570",
   "metadata": {},
   "outputs": [
    {
     "data": {
      "text/plain": [
       "Int64Index([   30,    31,    33,    37,   104,   154,   171,   221,   233,\n",
       "              398,\n",
       "            ...\n",
       "            92726, 92728, 92732, 92734, 92738, 92746, 92750, 92752, 92754,\n",
       "            92756],\n",
       "           dtype='int64', length=7824)"
      ]
     },
     "execution_count": 43,
     "metadata": {},
     "output_type": "execute_result"
    }
   ],
   "source": [
    "duplicate_indexes = sample_dataset[sample_dataset.duplicated(keep='last')].index\n",
    "duplicate_indexes"
   ]
  },
  {
   "cell_type": "code",
   "execution_count": 44,
   "id": "a9d49944-9671-457f-9af4-0e925ae10635",
   "metadata": {},
   "outputs": [],
   "source": [
    "sample_dataset.drop(index=duplicate_indexes,inplace=True)"
   ]
  },
  {
   "cell_type": "code",
   "execution_count": 45,
   "id": "4ef9746e-7e2b-424b-8417-8ea1e920409e",
   "metadata": {},
   "outputs": [
    {
     "data": {
      "text/html": [
       "<div>\n",
       "<style scoped>\n",
       "    .dataframe tbody tr th:only-of-type {\n",
       "        vertical-align: middle;\n",
       "    }\n",
       "\n",
       "    .dataframe tbody tr th {\n",
       "        vertical-align: top;\n",
       "    }\n",
       "\n",
       "    .dataframe thead th {\n",
       "        text-align: right;\n",
       "    }\n",
       "</style>\n",
       "<table border=\"1\" class=\"dataframe\">\n",
       "  <thead>\n",
       "    <tr style=\"text-align: right;\">\n",
       "      <th></th>\n",
       "      <th>cdr3</th>\n",
       "      <th>antigen.epitope</th>\n",
       "      <th>vdjdb.score</th>\n",
       "      <th>species</th>\n",
       "      <th>antigen.species</th>\n",
       "      <th>gene</th>\n",
       "      <th>mhc.class</th>\n",
       "    </tr>\n",
       "  </thead>\n",
       "  <tbody>\n",
       "    <tr>\n",
       "      <th>1</th>\n",
       "      <td>CASSYLPGQGDHYSNQPQHF</td>\n",
       "      <td>FLKEKGGL</td>\n",
       "      <td>2</td>\n",
       "      <td>HomoSapiens</td>\n",
       "      <td>HIV-1</td>\n",
       "      <td>TRB</td>\n",
       "      <td>MHCI</td>\n",
       "    </tr>\n",
       "    <tr>\n",
       "      <th>2</th>\n",
       "      <td>CASSFEAGQGFFSNQPQHF</td>\n",
       "      <td>FLKEKGGL</td>\n",
       "      <td>2</td>\n",
       "      <td>HomoSapiens</td>\n",
       "      <td>HIV-1</td>\n",
       "      <td>TRB</td>\n",
       "      <td>MHCI</td>\n",
       "    </tr>\n",
       "    <tr>\n",
       "      <th>4</th>\n",
       "      <td>CASSFEPGQGFYSNQPQHF</td>\n",
       "      <td>FLKEKGGL</td>\n",
       "      <td>2</td>\n",
       "      <td>HomoSapiens</td>\n",
       "      <td>HIV-1</td>\n",
       "      <td>TRB</td>\n",
       "      <td>MHCI</td>\n",
       "    </tr>\n",
       "    <tr>\n",
       "      <th>6</th>\n",
       "      <td>CASSYEPGQVSHYSNQPQHF</td>\n",
       "      <td>FLKEKGGL</td>\n",
       "      <td>2</td>\n",
       "      <td>HomoSapiens</td>\n",
       "      <td>HIV-1</td>\n",
       "      <td>TRB</td>\n",
       "      <td>MHCI</td>\n",
       "    </tr>\n",
       "    <tr>\n",
       "      <th>8</th>\n",
       "      <td>CASSALASLNEQFF</td>\n",
       "      <td>FLKEKGGL</td>\n",
       "      <td>2</td>\n",
       "      <td>HomoSapiens</td>\n",
       "      <td>HIV-1</td>\n",
       "      <td>TRB</td>\n",
       "      <td>MHCI</td>\n",
       "    </tr>\n",
       "    <tr>\n",
       "      <th>10</th>\n",
       "      <td>CASSYLPGQGDHYSNQPQHF</td>\n",
       "      <td>FLKEQGGL</td>\n",
       "      <td>2</td>\n",
       "      <td>HomoSapiens</td>\n",
       "      <td>HIV-1</td>\n",
       "      <td>TRB</td>\n",
       "      <td>MHCI</td>\n",
       "    </tr>\n",
       "    <tr>\n",
       "      <th>11</th>\n",
       "      <td>CASSFEAGQGFFSNQPQHF</td>\n",
       "      <td>FLKEQGGL</td>\n",
       "      <td>2</td>\n",
       "      <td>HomoSapiens</td>\n",
       "      <td>HIV-1</td>\n",
       "      <td>TRB</td>\n",
       "      <td>MHCI</td>\n",
       "    </tr>\n",
       "    <tr>\n",
       "      <th>13</th>\n",
       "      <td>CASSFEPGQGFYSNQPQHF</td>\n",
       "      <td>FLKEQGGL</td>\n",
       "      <td>2</td>\n",
       "      <td>HomoSapiens</td>\n",
       "      <td>HIV-1</td>\n",
       "      <td>TRB</td>\n",
       "      <td>MHCI</td>\n",
       "    </tr>\n",
       "    <tr>\n",
       "      <th>15</th>\n",
       "      <td>CASSYEPGQVSHYSNQPQHF</td>\n",
       "      <td>FLKEQGGL</td>\n",
       "      <td>2</td>\n",
       "      <td>HomoSapiens</td>\n",
       "      <td>HIV-1</td>\n",
       "      <td>TRB</td>\n",
       "      <td>MHCI</td>\n",
       "    </tr>\n",
       "    <tr>\n",
       "      <th>17</th>\n",
       "      <td>CASSYLPGQGDHYSNQPQHF</td>\n",
       "      <td>FLKETGGL</td>\n",
       "      <td>2</td>\n",
       "      <td>HomoSapiens</td>\n",
       "      <td>HIV-1</td>\n",
       "      <td>TRB</td>\n",
       "      <td>MHCI</td>\n",
       "    </tr>\n",
       "  </tbody>\n",
       "</table>\n",
       "</div>"
      ],
      "text/plain": [
       "                    cdr3 antigen.epitope  vdjdb.score      species  \\\n",
       "1   CASSYLPGQGDHYSNQPQHF        FLKEKGGL            2  HomoSapiens   \n",
       "2    CASSFEAGQGFFSNQPQHF        FLKEKGGL            2  HomoSapiens   \n",
       "4    CASSFEPGQGFYSNQPQHF        FLKEKGGL            2  HomoSapiens   \n",
       "6   CASSYEPGQVSHYSNQPQHF        FLKEKGGL            2  HomoSapiens   \n",
       "8         CASSALASLNEQFF        FLKEKGGL            2  HomoSapiens   \n",
       "10  CASSYLPGQGDHYSNQPQHF        FLKEQGGL            2  HomoSapiens   \n",
       "11   CASSFEAGQGFFSNQPQHF        FLKEQGGL            2  HomoSapiens   \n",
       "13   CASSFEPGQGFYSNQPQHF        FLKEQGGL            2  HomoSapiens   \n",
       "15  CASSYEPGQVSHYSNQPQHF        FLKEQGGL            2  HomoSapiens   \n",
       "17  CASSYLPGQGDHYSNQPQHF        FLKETGGL            2  HomoSapiens   \n",
       "\n",
       "   antigen.species gene mhc.class  \n",
       "1            HIV-1  TRB      MHCI  \n",
       "2            HIV-1  TRB      MHCI  \n",
       "4            HIV-1  TRB      MHCI  \n",
       "6            HIV-1  TRB      MHCI  \n",
       "8            HIV-1  TRB      MHCI  \n",
       "10           HIV-1  TRB      MHCI  \n",
       "11           HIV-1  TRB      MHCI  \n",
       "13           HIV-1  TRB      MHCI  \n",
       "15           HIV-1  TRB      MHCI  \n",
       "17           HIV-1  TRB      MHCI  "
      ]
     },
     "execution_count": 45,
     "metadata": {},
     "output_type": "execute_result"
    }
   ],
   "source": [
    "sample_dataset.head(10)"
   ]
  },
  {
   "cell_type": "markdown",
   "id": "42670dbd-96fa-4557-a93b-e1b4d6bd0029",
   "metadata": {},
   "source": [
    "# CDR3 Lengths"
   ]
  },
  {
   "cell_type": "markdown",
   "id": "ed33047f-356b-4fed-a037-f2f99a7e050f",
   "metadata": {},
   "source": [
    "## Adding column of length of CDR3 chain"
   ]
  },
  {
   "cell_type": "code",
   "execution_count": 46,
   "id": "4a45b2e9-c170-4f4b-9ed2-f52bf3aab722",
   "metadata": {},
   "outputs": [],
   "source": [
    "sample_dataset['CDR3_Length'] = sample_dataset.apply(lambda row: len(row['cdr3']),axis=1)"
   ]
  },
  {
   "cell_type": "code",
   "execution_count": 47,
   "id": "c6a1d93f-a39f-4985-9422-3e4bef2508e9",
   "metadata": {},
   "outputs": [],
   "source": [
    "cdr3_length_count = sample_dataset.groupby(by=['CDR3_Length']).size().to_frame('count_of_records').reset_index()"
   ]
  },
  {
   "cell_type": "code",
   "execution_count": 48,
   "id": "0fef814f-ab3d-4f18-a579-f4f3380aecb2",
   "metadata": {},
   "outputs": [
    {
     "data": {
      "image/png": "[encoded data removed]",
      "text/plain": [
       "<Figure size 720x432 with 1 Axes>"
      ]
     },
     "metadata": {
      "needs_background": "light"
     },
     "output_type": "display_data"
    }
   ],
   "source": [
    "# Plotting\n",
    "plt.figure(figsize=(10, 6))\n",
    "plt.bar(cdr3_length_count['CDR3_Length'], cdr3_length_count['count_of_records'], width=0.8, color='b')\n",
    "plt.xlabel('CDR3 Length')\n",
    "plt.ylabel('Count of Records')\n",
    "plt.title('Frequency Histogram of CDR3 Length')\n",
    "plt.grid(True)\n",
    "plt.show()"
   ]
  },
  {
   "cell_type": "code",
   "execution_count": 49,
   "id": "c3059b15-e349-41b3-aaf4-583672da9a72",
   "metadata": {},
   "outputs": [
    {
     "data": {
      "text/html": [
       "<div>\n",
       "<style scoped>\n",
       "    .dataframe tbody tr th:only-of-type {\n",
       "        vertical-align: middle;\n",
       "    }\n",
       "\n",
       "    .dataframe tbody tr th {\n",
       "        vertical-align: top;\n",
       "    }\n",
       "\n",
       "    .dataframe thead th {\n",
       "        text-align: right;\n",
       "    }\n",
       "</style>\n",
       "<table border=\"1\" class=\"dataframe\">\n",
       "  <thead>\n",
       "    <tr style=\"text-align: right;\">\n",
       "      <th></th>\n",
       "      <th>cdr3</th>\n",
       "      <th>antigen.epitope</th>\n",
       "      <th>vdjdb.score</th>\n",
       "      <th>species</th>\n",
       "      <th>antigen.species</th>\n",
       "      <th>gene</th>\n",
       "      <th>mhc.class</th>\n",
       "      <th>CDR3_Length</th>\n",
       "    </tr>\n",
       "  </thead>\n",
       "  <tbody>\n",
       "    <tr>\n",
       "      <th>1</th>\n",
       "      <td>CASSYLPGQGDHYSNQPQHF</td>\n",
       "      <td>FLKEKGGL</td>\n",
       "      <td>2</td>\n",
       "      <td>HomoSapiens</td>\n",
       "      <td>HIV-1</td>\n",
       "      <td>TRB</td>\n",
       "      <td>MHCI</td>\n",
       "      <td>20</td>\n",
       "    </tr>\n",
       "    <tr>\n",
       "      <th>2</th>\n",
       "      <td>CASSFEAGQGFFSNQPQHF</td>\n",
       "      <td>FLKEKGGL</td>\n",
       "      <td>2</td>\n",
       "      <td>HomoSapiens</td>\n",
       "      <td>HIV-1</td>\n",
       "      <td>TRB</td>\n",
       "      <td>MHCI</td>\n",
       "      <td>19</td>\n",
       "    </tr>\n",
       "    <tr>\n",
       "      <th>4</th>\n",
       "      <td>CASSFEPGQGFYSNQPQHF</td>\n",
       "      <td>FLKEKGGL</td>\n",
       "      <td>2</td>\n",
       "      <td>HomoSapiens</td>\n",
       "      <td>HIV-1</td>\n",
       "      <td>TRB</td>\n",
       "      <td>MHCI</td>\n",
       "      <td>19</td>\n",
       "    </tr>\n",
       "    <tr>\n",
       "      <th>6</th>\n",
       "      <td>CASSYEPGQVSHYSNQPQHF</td>\n",
       "      <td>FLKEKGGL</td>\n",
       "      <td>2</td>\n",
       "      <td>HomoSapiens</td>\n",
       "      <td>HIV-1</td>\n",
       "      <td>TRB</td>\n",
       "      <td>MHCI</td>\n",
       "      <td>20</td>\n",
       "    </tr>\n",
       "    <tr>\n",
       "      <th>8</th>\n",
       "      <td>CASSALASLNEQFF</td>\n",
       "      <td>FLKEKGGL</td>\n",
       "      <td>2</td>\n",
       "      <td>HomoSapiens</td>\n",
       "      <td>HIV-1</td>\n",
       "      <td>TRB</td>\n",
       "      <td>MHCI</td>\n",
       "      <td>14</td>\n",
       "    </tr>\n",
       "    <tr>\n",
       "      <th>10</th>\n",
       "      <td>CASSYLPGQGDHYSNQPQHF</td>\n",
       "      <td>FLKEQGGL</td>\n",
       "      <td>2</td>\n",
       "      <td>HomoSapiens</td>\n",
       "      <td>HIV-1</td>\n",
       "      <td>TRB</td>\n",
       "      <td>MHCI</td>\n",
       "      <td>20</td>\n",
       "    </tr>\n",
       "    <tr>\n",
       "      <th>11</th>\n",
       "      <td>CASSFEAGQGFFSNQPQHF</td>\n",
       "      <td>FLKEQGGL</td>\n",
       "      <td>2</td>\n",
       "      <td>HomoSapiens</td>\n",
       "      <td>HIV-1</td>\n",
       "      <td>TRB</td>\n",
       "      <td>MHCI</td>\n",
       "      <td>19</td>\n",
       "    </tr>\n",
       "    <tr>\n",
       "      <th>13</th>\n",
       "      <td>CASSFEPGQGFYSNQPQHF</td>\n",
       "      <td>FLKEQGGL</td>\n",
       "      <td>2</td>\n",
       "      <td>HomoSapiens</td>\n",
       "      <td>HIV-1</td>\n",
       "      <td>TRB</td>\n",
       "      <td>MHCI</td>\n",
       "      <td>19</td>\n",
       "    </tr>\n",
       "    <tr>\n",
       "      <th>15</th>\n",
       "      <td>CASSYEPGQVSHYSNQPQHF</td>\n",
       "      <td>FLKEQGGL</td>\n",
       "      <td>2</td>\n",
       "      <td>HomoSapiens</td>\n",
       "      <td>HIV-1</td>\n",
       "      <td>TRB</td>\n",
       "      <td>MHCI</td>\n",
       "      <td>20</td>\n",
       "    </tr>\n",
       "    <tr>\n",
       "      <th>17</th>\n",
       "      <td>CASSYLPGQGDHYSNQPQHF</td>\n",
       "      <td>FLKETGGL</td>\n",
       "      <td>2</td>\n",
       "      <td>HomoSapiens</td>\n",
       "      <td>HIV-1</td>\n",
       "      <td>TRB</td>\n",
       "      <td>MHCI</td>\n",
       "      <td>20</td>\n",
       "    </tr>\n",
       "  </tbody>\n",
       "</table>\n",
       "</div>"
      ],
      "text/plain": [
       "                    cdr3 antigen.epitope  vdjdb.score      species  \\\n",
       "1   CASSYLPGQGDHYSNQPQHF        FLKEKGGL            2  HomoSapiens   \n",
       "2    CASSFEAGQGFFSNQPQHF        FLKEKGGL            2  HomoSapiens   \n",
       "4    CASSFEPGQGFYSNQPQHF        FLKEKGGL            2  HomoSapiens   \n",
       "6   CASSYEPGQVSHYSNQPQHF        FLKEKGGL            2  HomoSapiens   \n",
       "8         CASSALASLNEQFF        FLKEKGGL            2  HomoSapiens   \n",
       "10  CASSYLPGQGDHYSNQPQHF        FLKEQGGL            2  HomoSapiens   \n",
       "11   CASSFEAGQGFFSNQPQHF        FLKEQGGL            2  HomoSapiens   \n",
       "13   CASSFEPGQGFYSNQPQHF        FLKEQGGL            2  HomoSapiens   \n",
       "15  CASSYEPGQVSHYSNQPQHF        FLKEQGGL            2  HomoSapiens   \n",
       "17  CASSYLPGQGDHYSNQPQHF        FLKETGGL            2  HomoSapiens   \n",
       "\n",
       "   antigen.species gene mhc.class  CDR3_Length  \n",
       "1            HIV-1  TRB      MHCI           20  \n",
       "2            HIV-1  TRB      MHCI           19  \n",
       "4            HIV-1  TRB      MHCI           19  \n",
       "6            HIV-1  TRB      MHCI           20  \n",
       "8            HIV-1  TRB      MHCI           14  \n",
       "10           HIV-1  TRB      MHCI           20  \n",
       "11           HIV-1  TRB      MHCI           19  \n",
       "13           HIV-1  TRB      MHCI           19  \n",
       "15           HIV-1  TRB      MHCI           20  \n",
       "17           HIV-1  TRB      MHCI           20  "
      ]
     },
     "execution_count": 49,
     "metadata": {},
     "output_type": "execute_result"
    }
   ],
   "source": [
    "sample_dataset.head(10)"
   ]
  },
  {
   "cell_type": "code",
   "execution_count": 50,
   "id": "970d571d-c60a-4f1d-b4ad-ae44b7c131bd",
   "metadata": {},
   "outputs": [],
   "source": [
    "## Remove rows which have CDR3 lengths < 10 or > 20\n",
    "sample_dataset = sample_dataset[(sample_dataset['CDR3_Length'] >= 10) & (sample_dataset['CDR3_Length'] <= 20)]"
   ]
  },
  {
   "cell_type": "markdown",
   "id": "cc2a8147-05fb-41ae-b857-25f204f127c1",
   "metadata": {},
   "source": [
    "## Finding Epitope Lengths"
   ]
  },
  {
   "cell_type": "code",
   "execution_count": 51,
   "id": "c6475d57-9c33-4d6c-aa3e-fb25c155b2ab",
   "metadata": {},
   "outputs": [],
   "source": [
    "sample_dataset['Epitope_Length'] = sample_dataset.apply(lambda row: len(row['antigen.epitope']),axis=1)"
   ]
  },
  {
   "cell_type": "code",
   "execution_count": 52,
   "id": "6552d8c9-3d5b-4937-9482-3dc7a0dc5dba",
   "metadata": {},
   "outputs": [],
   "source": [
    "epitope_length_count = sample_dataset.groupby(by=['Epitope_Length']).size().to_frame('count_of_records').reset_index()"
   ]
  },
  {
   "cell_type": "code",
   "execution_count": 53,
   "id": "ed0ee60e-6cdf-4aef-ad41-3a3f5e6bfd92",
   "metadata": {},
   "outputs": [
    {
     "data": {
      "image/png": "[encoded data removed]",
      "text/plain": [
       "<Figure size 720x432 with 1 Axes>"
      ]
     },
     "metadata": {
      "needs_background": "light"
     },
     "output_type": "display_data"
    }
   ],
   "source": [
    "# Plotting\n",
    "plt.figure(figsize=(10, 6))\n",
    "plt.bar(epitope_length_count['Epitope_Length'], epitope_length_count['count_of_records'], width=0.8, color='b')\n",
    "plt.xlabel('Epitope_Length')\n",
    "plt.ylabel('Count of Records')\n",
    "plt.title('Frequency Histogram of Epitope_Length')\n",
    "plt.grid(True)\n",
    "plt.show()"
   ]
  },
  {
   "cell_type": "markdown",
   "id": "2e914cf6-7ef1-4459-ae44-b7ca406d6752",
   "metadata": {},
   "source": [
    "## Taking only those epitopes which have 10 or more associated TCR sequences"
   ]
  },
  {
   "cell_type": "code",
   "execution_count": 54,
   "id": "2d9955c2-50c1-45f0-bb14-6234c1ad6a57",
   "metadata": {},
   "outputs": [],
   "source": [
    "group_antigen_cdr3 = sample_dataset.groupby(['antigen.epitope'])['cdr3'].unique().to_frame('cdr3_found').reset_index()"
   ]
  },
  {
   "cell_type": "code",
   "execution_count": 55,
   "id": "55fb0cad-1211-454d-aa91-8b2f7164c4cd",
   "metadata": {},
   "outputs": [],
   "source": [
    "group_antigen_cdr3['cdr3_found_count'] = group_antigen_cdr3['cdr3_found'].apply(lambda x:len(x))"
   ]
  },
  {
   "cell_type": "code",
   "execution_count": 56,
   "id": "7bb7158d-62e2-49f8-a728-59c7d678c65a",
   "metadata": {},
   "outputs": [],
   "source": [
    "group_antigen_cdr3_count = group_antigen_cdr3.groupby(by=['cdr3_found_count']).size().to_frame('count').reset_index()"
   ]
  },
  {
   "cell_type": "code",
   "execution_count": 57,
   "id": "bb08b2f6-443a-456c-98d8-5456a187aed5",
   "metadata": {},
   "outputs": [],
   "source": [
    "group_antigen_cdr3_count.sort_values('count',ascending=False).to_csv('group_antigen_cdr3_count.csv',index=False)"
   ]
  },
  {
   "cell_type": "code",
   "execution_count": 58,
   "id": "0ce95109-d1c8-4589-b210-eadfdc195cfe",
   "metadata": {},
   "outputs": [],
   "source": [
    "antigen_needed_list = group_antigen_cdr3[group_antigen_cdr3['cdr3_found_count'] >= 10]['antigen.epitope']"
   ]
  },
  {
   "cell_type": "code",
   "execution_count": 59,
   "id": "1873895c-0d93-4fb7-990d-8f733e96acdd",
   "metadata": {},
   "outputs": [
    {
     "data": {
      "text/plain": [
       "8      AIFYLITPV\n",
       "29     ALSKGVHFV\n",
       "33     ALWEIQQVV\n",
       "41     AMFWSVPTV\n",
       "62     ARMILMTHF\n",
       "64     ATDALMTGF\n",
       "65     ATDALMTGY\n",
       "71    AVFDRKSDAK\n",
       "77     AYAQKIFKI\n",
       "79     CINGVCWTV\n",
       "Name: antigen.epitope, dtype: object"
      ]
     },
     "execution_count": 59,
     "metadata": {},
     "output_type": "execute_result"
    }
   ],
   "source": [
    "antigen_needed_list[:10]"
   ]
  },
  {
   "cell_type": "markdown",
   "id": "75409327-2bfd-405a-8f9b-5a04d937a84a",
   "metadata": {},
   "source": [
    "### Selecting only these epitopes"
   ]
  },
  {
   "cell_type": "code",
   "execution_count": 60,
   "id": "4cb53dc6-5efa-4c49-af5f-fa0c003f1e17",
   "metadata": {},
   "outputs": [],
   "source": [
    "sample_dataset = sample_dataset[sample_dataset['antigen.epitope'].isin(antigen_needed_list)]"
   ]
  },
  {
   "cell_type": "markdown",
   "id": "54a48e5a-2d9b-46c3-a5fe-0ba89e84fdb0",
   "metadata": {},
   "source": [
    "## Checking for ambigous amino acids\n",
    "\n",
    "Taking only those TCR which have common (20) amino acids\n",
    "\n",
    "https://www.imgt.org/IMGTeducation/Aide-memoire/_UK/aminoacids/IMGTclasses.html\n",
    "Citation:  Citing this page: Pommié, C. et al., J. Mol. Recognit., 17, 17-32 (2004). PMID: 14872534 pdf "
   ]
  },
  {
   "cell_type": "code",
   "execution_count": 61,
   "id": "b75bd84e-23f2-48f6-a766-304738f7eb62",
   "metadata": {},
   "outputs": [],
   "source": [
    "amino_acids_df = pd.DataFrame([\n",
    "{\n",
    "\"name\": \"Alanine\",\n",
    "\"abbreviation\": \"Ala\",\n",
    "\"symbol\": \"A\",\n",
    "\"description\": \"A nonpolar, aliphatic amino acid.\"\n",
    "},\n",
    "{\n",
    "\"name\": \"Arginine\",\n",
    "\"abbreviation\": \"Arg\",\n",
    "\"symbol\": \"R\",\n",
    "\"description\": \"A positively charged, polar amino acid with a guanidino group.\"\n",
    "},\n",
    "{\n",
    "\"name\": \"Asparagine\",\n",
    "\"abbreviation\": \"Asn\",\n",
    "\"symbol\": \"N\",\n",
    "\"description\": \"A polar amino acid with an amide group.\"\n",
    "},\n",
    "{\n",
    "\"name\": \"Aspartic acid\",\n",
    "\"abbreviation\": \"Asp\",\n",
    "\"symbol\": \"D\",\n",
    "\"description\": \"A negatively charged, polar amino acid.\"\n",
    "},\n",
    "{\n",
    "\"name\": \"Cysteine\",\n",
    "\"abbreviation\": \"Cys\",\n",
    "\"symbol\": \"C\",\n",
    "\"description\": \"A polar amino acid that can form disulfide bridges.\"\n",
    "},\n",
    "{\n",
    "\"name\": \"Glutamic acid\",\n",
    "\"abbreviation\": \"Glu\",\n",
    "\"symbol\": \"E\",\n",
    "\"description\": \"A negatively charged, polar amino acid.\"\n",
    "},\n",
    "{\n",
    "\"name\": \"Glutamine\",\n",
    "\"abbreviation\": \"Gln\",\n",
    "\"symbol\": \"Q\",\n",
    "\"description\": \"A polar amino acid with an amide group.\"\n",
    "},\n",
    "{\n",
    "\"name\": \"Glycine\",\n",
    "\"abbreviation\": \"Gly\",\n",
    "\"symbol\": \"G\",\n",
    "\"description\": \"The smallest amino acid, often found in tight turns and bends.\"\n",
    "},\n",
    "{\n",
    "\"name\": \"Histidine\",\n",
    "\"abbreviation\": \"His\",\n",
    "\"symbol\": \"H\",\n",
    "\"description\": \"A weakly polar amino acid with an imidazole ring.\"\n",
    "},\n",
    "{\n",
    "\"name\": \"Isoleucine\",\n",
    "\"abbreviation\": \"Ile\",\n",
    "\"symbol\": \"I\",\n",
    "\"description\": \"A nonpolar, aliphatic amino acid.\"\n",
    "},\n",
    "{\n",
    "\"name\": \"Leucine\",\n",
    "\"abbreviation\": \"Leu\",\n",
    "\"symbol\": \"L\",\n",
    "\"description\": \"A nonpolar, aliphatic amino acid.\"\n",
    "},\n",
    "{\n",
    "\"name\": \"Lysine\",\n",
    "\"abbreviation\": \"Lys\",\n",
    "\"symbol\": \"K\",\n",
    "\"description\": \"A positively charged, polar amino acid with a long side chain.\"\n",
    "},\n",
    "{\n",
    "\"name\": \"Methionine\",\n",
    "\"abbreviation\": \"Met\",\n",
    "\"symbol\": \"M\",\n",
    "\"description\": \"A nonpolar amino acid with a sulfur-containing side chain.\"\n",
    "},\n",
    "{\n",
    "\"name\": \"Phenylalanine\",\n",
    "\"abbreviation\": \"Phe\",\n",
    "\"symbol\": \"F\",\n",
    "\"description\": \"A nonpolar amino acid with an aromatic ring.\"\n",
    "},\n",
    "{\n",
    "\"name\": \"Proline\",\n",
    "\"abbreviation\": \"Pro\",\n",
    "\"symbol\": \"P\",\n",
    "\"description\": \"A cyclic amino acid that introduces bends and kinks in protein structures.\"\n",
    "},\n",
    "{\n",
    "\"name\": \"Serine\",\n",
    "\"abbreviation\": \"Ser\",\n",
    "\"symbol\": \"S\",\n",
    "\"description\": \"A polar amino acid with a hydroxyl group.\"\n",
    "},\n",
    "{\n",
    "\"name\": \"Threonine\",\n",
    "\"abbreviation\": \"Thr\",\n",
    "\"symbol\": \"T\",\n",
    "\"description\": \"A polar amino acid with a hydroxyl group.\"\n",
    "},\n",
    "{\n",
    "\"name\": \"Tryptophan\",\n",
    "\"abbreviation\": \"Trp\",\n",
    "\"symbol\": \"W\",\n",
    "\"description\": \"A nonpolar amino acid with an aromatic indole ring.\"\n",
    "},\n",
    "{\n",
    "\"name\": \"Tyrosine\",\n",
    "\"abbreviation\": \"Tyr\",\n",
    "\"symbol\": \"Y\",\n",
    "\"description\": \"A polar amino acid with a phenol group.\"\n",
    "},\n",
    "{\n",
    "\"name\": \"Valine\",\n",
    "\"abbreviation\": \"Val\",\n",
    "\"symbol\": \"V\",\n",
    "\"description\": \"A nonpolar, aliphatic amino acid.\"\n",
    "}\n",
    "])"
   ]
  },
  {
   "cell_type": "code",
   "execution_count": 62,
   "id": "66158121-3a3e-4bd1-af68-1bb600adc6df",
   "metadata": {},
   "outputs": [],
   "source": [
    "amino_acids_symbols = list(amino_acids_df['symbol'])\n",
    "def filter_ambiguous_cdr3(row):\n",
    "    cdr3 = row['cdr3']\n",
    "    for amino_acid in cdr3:\n",
    "        if amino_acid not in amino_acids_symbols:\n",
    "            return 1\n",
    "    return 0        "
   ]
  },
  {
   "cell_type": "code",
   "execution_count": 63,
   "id": "ec62c006-2c6b-4b6c-9dc1-2fe588226a4b",
   "metadata": {},
   "outputs": [],
   "source": [
    "sample_dataset['ambiguous_cdr3s'] = sample_dataset.apply(filter_ambiguous_cdr3,axis=1)"
   ]
  },
  {
   "cell_type": "code",
   "execution_count": 64,
   "id": "bd2b2560-0044-45d9-863f-47129253dd01",
   "metadata": {},
   "outputs": [
    {
     "data": {
      "text/plain": [
       "array([0], dtype=int64)"
      ]
     },
     "execution_count": 64,
     "metadata": {},
     "output_type": "execute_result"
    }
   ],
   "source": [
    "sample_dataset['ambiguous_cdr3s'].unique()"
   ]
  },
  {
   "cell_type": "markdown",
   "id": "bcc44912-c1c6-4f4f-b873-5e25d4bd85bc",
   "metadata": {},
   "source": [
    "There were no ambiguous CDRs found"
   ]
  },
  {
   "cell_type": "markdown",
   "id": "85a620b5-95c9-4caf-855b-57fd11e3e611",
   "metadata": {},
   "source": [
    "## Finding which antigen.species have how many records for each vdjdb.score"
   ]
  },
  {
   "cell_type": "code",
   "execution_count": 65,
   "id": "fd20f113-6e74-4a7b-a85f-313c0da13c5d",
   "metadata": {},
   "outputs": [],
   "source": [
    "graph_df = sample_dataset.groupby(['antigen.species','antigen.epitope','vdjdb.score']).size().to_frame('count').reset_index()"
   ]
  },
  {
   "cell_type": "markdown",
   "id": "6df7cc04-b513-4b23-a0f0-e538c689f4ac",
   "metadata": {},
   "source": [
    "#### We can see that not all antigen.species have records with all vdjdb.score"
   ]
  },
  {
   "cell_type": "code",
   "execution_count": 66,
   "id": "442e8b6f-97c7-4b03-9ddd-5f81239db94a",
   "metadata": {},
   "outputs": [
    {
     "data": {
      "text/html": [
       "<div>\n",
       "<style scoped>\n",
       "    .dataframe tbody tr th:only-of-type {\n",
       "        vertical-align: middle;\n",
       "    }\n",
       "\n",
       "    .dataframe tbody tr th {\n",
       "        vertical-align: top;\n",
       "    }\n",
       "\n",
       "    .dataframe thead th {\n",
       "        text-align: right;\n",
       "    }\n",
       "</style>\n",
       "<table border=\"1\" class=\"dataframe\">\n",
       "  <thead>\n",
       "    <tr style=\"text-align: right;\">\n",
       "      <th></th>\n",
       "      <th>antigen.species</th>\n",
       "      <th>antigen.epitope</th>\n",
       "      <th>vdjdb.score</th>\n",
       "      <th>count</th>\n",
       "    </tr>\n",
       "  </thead>\n",
       "  <tbody>\n",
       "    <tr>\n",
       "      <th>0</th>\n",
       "      <td>AdV</td>\n",
       "      <td>TDLGQNLLY</td>\n",
       "      <td>0</td>\n",
       "      <td>12</td>\n",
       "    </tr>\n",
       "    <tr>\n",
       "      <th>1</th>\n",
       "      <td>CMV</td>\n",
       "      <td>AYAQKIFKI</td>\n",
       "      <td>0</td>\n",
       "      <td>39</td>\n",
       "    </tr>\n",
       "    <tr>\n",
       "      <th>2</th>\n",
       "      <td>CMV</td>\n",
       "      <td>CRVLCCYVL</td>\n",
       "      <td>2</td>\n",
       "      <td>31</td>\n",
       "    </tr>\n",
       "    <tr>\n",
       "      <th>3</th>\n",
       "      <td>CMV</td>\n",
       "      <td>EHPTFTSQYRIQGKL</td>\n",
       "      <td>0</td>\n",
       "      <td>30</td>\n",
       "    </tr>\n",
       "    <tr>\n",
       "      <th>4</th>\n",
       "      <td>CMV</td>\n",
       "      <td>ELRRKMMYM</td>\n",
       "      <td>0</td>\n",
       "      <td>7</td>\n",
       "    </tr>\n",
       "    <tr>\n",
       "      <th>5</th>\n",
       "      <td>CMV</td>\n",
       "      <td>ELRRKMMYM</td>\n",
       "      <td>1</td>\n",
       "      <td>3</td>\n",
       "    </tr>\n",
       "    <tr>\n",
       "      <th>6</th>\n",
       "      <td>CMV</td>\n",
       "      <td>ELRRKMMYM</td>\n",
       "      <td>2</td>\n",
       "      <td>1</td>\n",
       "    </tr>\n",
       "    <tr>\n",
       "      <th>7</th>\n",
       "      <td>CMV</td>\n",
       "      <td>FPTKDVAL</td>\n",
       "      <td>1</td>\n",
       "      <td>10</td>\n",
       "    </tr>\n",
       "    <tr>\n",
       "      <th>8</th>\n",
       "      <td>CMV</td>\n",
       "      <td>FRCPRRFCF</td>\n",
       "      <td>2</td>\n",
       "      <td>10</td>\n",
       "    </tr>\n",
       "    <tr>\n",
       "      <th>9</th>\n",
       "      <td>CMV</td>\n",
       "      <td>IPSINVHHY</td>\n",
       "      <td>0</td>\n",
       "      <td>34</td>\n",
       "    </tr>\n",
       "  </tbody>\n",
       "</table>\n",
       "</div>"
      ],
      "text/plain": [
       "  antigen.species  antigen.epitope  vdjdb.score  count\n",
       "0             AdV        TDLGQNLLY            0     12\n",
       "1             CMV        AYAQKIFKI            0     39\n",
       "2             CMV        CRVLCCYVL            2     31\n",
       "3             CMV  EHPTFTSQYRIQGKL            0     30\n",
       "4             CMV        ELRRKMMYM            0      7\n",
       "5             CMV        ELRRKMMYM            1      3\n",
       "6             CMV        ELRRKMMYM            2      1\n",
       "7             CMV         FPTKDVAL            1     10\n",
       "8             CMV        FRCPRRFCF            2     10\n",
       "9             CMV        IPSINVHHY            0     34"
      ]
     },
     "execution_count": 66,
     "metadata": {},
     "output_type": "execute_result"
    }
   ],
   "source": [
    "graph_df.head(10)"
   ]
  },
  {
   "cell_type": "code",
   "execution_count": 67,
   "id": "504e604f-efcc-4b0e-a983-39dc96e9a362",
   "metadata": {},
   "outputs": [
    {
     "data": {
      "image/png": "[encoded data removed]",
      "text/plain": [
       "<Figure size 1152x720 with 1 Axes>"
      ]
     },
     "metadata": {
      "needs_background": "light"
     },
     "output_type": "display_data"
    }
   ],
   "source": [
    "plt.figure(figsize=(16, 10))  # Set the figure size\n",
    "sns.barplot(x='antigen.species', y='count', hue='vdjdb.score', data=graph_df)\n",
    "plt.title('Count of Records for Each Species by VDJdb Score')\n",
    "plt.xlabel('Antigen Species')\n",
    "plt.ylabel('Count')\n",
    "plt.legend(title='VDJdb Score')\n",
    "plt.xticks(rotation=45, ha='right')\n",
    "plt.show()"
   ]
  },
  {
   "cell_type": "code",
   "execution_count": 68,
   "id": "8ef193bd-bf00-476b-98ce-a803e2bd2831",
   "metadata": {},
   "outputs": [],
   "source": [
    "scores_needed = {0, 1, 2, 3}\n",
    "species_with_all_scores = graph_df.groupby('antigen.species').apply(\n",
    "    lambda x: scores_needed.issubset(x['vdjdb.score'].unique()))"
   ]
  },
  {
   "cell_type": "code",
   "execution_count": 69,
   "id": "476a8822-a7c9-4d4a-82bc-53a756b5c289",
   "metadata": {},
   "outputs": [],
   "source": [
    "species_to_plot = species_with_all_scores[species_with_all_scores].index"
   ]
  },
  {
   "cell_type": "code",
   "execution_count": 70,
   "id": "2cec097b-5c13-4a31-bd01-179ff9c587b9",
   "metadata": {},
   "outputs": [],
   "source": [
    "filtered_df = graph_df[graph_df['antigen.species'].isin(species_to_plot)]"
   ]
  },
  {
   "cell_type": "markdown",
   "id": "19732cb5-3040-45db-a1a1-37f3351cb101",
   "metadata": {},
   "source": [
    "#### Removed species which don't have all vdjdb.score"
   ]
  },
  {
   "cell_type": "code",
   "execution_count": 71,
   "id": "909da93e-3388-4c3e-b5e4-2c139f5cdf75",
   "metadata": {},
   "outputs": [],
   "source": [
    "sample_dataset = sample_dataset[sample_dataset['antigen.species'].isin(species_to_plot)]"
   ]
  },
  {
   "cell_type": "code",
   "execution_count": 72,
   "id": "f0f4f338-1995-40fa-b306-f63a3cc3c5d6",
   "metadata": {},
   "outputs": [
    {
     "data": {
      "text/html": [
       "<div>\n",
       "<style scoped>\n",
       "    .dataframe tbody tr th:only-of-type {\n",
       "        vertical-align: middle;\n",
       "    }\n",
       "\n",
       "    .dataframe tbody tr th {\n",
       "        vertical-align: top;\n",
       "    }\n",
       "\n",
       "    .dataframe thead th {\n",
       "        text-align: right;\n",
       "    }\n",
       "</style>\n",
       "<table border=\"1\" class=\"dataframe\">\n",
       "  <thead>\n",
       "    <tr style=\"text-align: right;\">\n",
       "      <th></th>\n",
       "      <th>cdr3</th>\n",
       "      <th>antigen.epitope</th>\n",
       "      <th>vdjdb.score</th>\n",
       "      <th>species</th>\n",
       "      <th>antigen.species</th>\n",
       "      <th>gene</th>\n",
       "      <th>mhc.class</th>\n",
       "      <th>CDR3_Length</th>\n",
       "      <th>Epitope_Length</th>\n",
       "      <th>ambiguous_cdr3s</th>\n",
       "    </tr>\n",
       "  </thead>\n",
       "  <tbody>\n",
       "    <tr>\n",
       "      <th>1</th>\n",
       "      <td>CASSYLPGQGDHYSNQPQHF</td>\n",
       "      <td>FLKEKGGL</td>\n",
       "      <td>2</td>\n",
       "      <td>HomoSapiens</td>\n",
       "      <td>HIV-1</td>\n",
       "      <td>TRB</td>\n",
       "      <td>MHCI</td>\n",
       "      <td>20</td>\n",
       "      <td>8</td>\n",
       "      <td>0</td>\n",
       "    </tr>\n",
       "    <tr>\n",
       "      <th>2</th>\n",
       "      <td>CASSFEAGQGFFSNQPQHF</td>\n",
       "      <td>FLKEKGGL</td>\n",
       "      <td>2</td>\n",
       "      <td>HomoSapiens</td>\n",
       "      <td>HIV-1</td>\n",
       "      <td>TRB</td>\n",
       "      <td>MHCI</td>\n",
       "      <td>19</td>\n",
       "      <td>8</td>\n",
       "      <td>0</td>\n",
       "    </tr>\n",
       "    <tr>\n",
       "      <th>4</th>\n",
       "      <td>CASSFEPGQGFYSNQPQHF</td>\n",
       "      <td>FLKEKGGL</td>\n",
       "      <td>2</td>\n",
       "      <td>HomoSapiens</td>\n",
       "      <td>HIV-1</td>\n",
       "      <td>TRB</td>\n",
       "      <td>MHCI</td>\n",
       "      <td>19</td>\n",
       "      <td>8</td>\n",
       "      <td>0</td>\n",
       "    </tr>\n",
       "    <tr>\n",
       "      <th>6</th>\n",
       "      <td>CASSYEPGQVSHYSNQPQHF</td>\n",
       "      <td>FLKEKGGL</td>\n",
       "      <td>2</td>\n",
       "      <td>HomoSapiens</td>\n",
       "      <td>HIV-1</td>\n",
       "      <td>TRB</td>\n",
       "      <td>MHCI</td>\n",
       "      <td>20</td>\n",
       "      <td>8</td>\n",
       "      <td>0</td>\n",
       "    </tr>\n",
       "    <tr>\n",
       "      <th>8</th>\n",
       "      <td>CASSALASLNEQFF</td>\n",
       "      <td>FLKEKGGL</td>\n",
       "      <td>2</td>\n",
       "      <td>HomoSapiens</td>\n",
       "      <td>HIV-1</td>\n",
       "      <td>TRB</td>\n",
       "      <td>MHCI</td>\n",
       "      <td>14</td>\n",
       "      <td>8</td>\n",
       "      <td>0</td>\n",
       "    </tr>\n",
       "    <tr>\n",
       "      <th>57</th>\n",
       "      <td>CASSLGETQYF</td>\n",
       "      <td>LLQTGIHVRVSQPSL</td>\n",
       "      <td>0</td>\n",
       "      <td>HomoSapiens</td>\n",
       "      <td>CMV</td>\n",
       "      <td>TRB</td>\n",
       "      <td>MHCII</td>\n",
       "      <td>11</td>\n",
       "      <td>15</td>\n",
       "      <td>0</td>\n",
       "    </tr>\n",
       "    <tr>\n",
       "      <th>58</th>\n",
       "      <td>CASSLGSRAQETQYF</td>\n",
       "      <td>LLQTGIHVRVSQPSL</td>\n",
       "      <td>0</td>\n",
       "      <td>HomoSapiens</td>\n",
       "      <td>CMV</td>\n",
       "      <td>TRB</td>\n",
       "      <td>MHCII</td>\n",
       "      <td>15</td>\n",
       "      <td>15</td>\n",
       "      <td>0</td>\n",
       "    </tr>\n",
       "    <tr>\n",
       "      <th>59</th>\n",
       "      <td>CASSLGQSTQYF</td>\n",
       "      <td>LLQTGIHVRVSQPSL</td>\n",
       "      <td>0</td>\n",
       "      <td>HomoSapiens</td>\n",
       "      <td>CMV</td>\n",
       "      <td>TRB</td>\n",
       "      <td>MHCII</td>\n",
       "      <td>12</td>\n",
       "      <td>15</td>\n",
       "      <td>0</td>\n",
       "    </tr>\n",
       "    <tr>\n",
       "      <th>60</th>\n",
       "      <td>CASSLQGSRRQGQNEQYF</td>\n",
       "      <td>LLQTGIHVRVSQPSL</td>\n",
       "      <td>0</td>\n",
       "      <td>HomoSapiens</td>\n",
       "      <td>CMV</td>\n",
       "      <td>TRB</td>\n",
       "      <td>MHCII</td>\n",
       "      <td>18</td>\n",
       "      <td>15</td>\n",
       "      <td>0</td>\n",
       "    </tr>\n",
       "    <tr>\n",
       "      <th>61</th>\n",
       "      <td>CASSSQGGEGTEAFF</td>\n",
       "      <td>LLQTGIHVRVSQPSL</td>\n",
       "      <td>0</td>\n",
       "      <td>HomoSapiens</td>\n",
       "      <td>CMV</td>\n",
       "      <td>TRB</td>\n",
       "      <td>MHCII</td>\n",
       "      <td>15</td>\n",
       "      <td>15</td>\n",
       "      <td>0</td>\n",
       "    </tr>\n",
       "  </tbody>\n",
       "</table>\n",
       "</div>"
      ],
      "text/plain": [
       "                    cdr3  antigen.epitope  vdjdb.score      species  \\\n",
       "1   CASSYLPGQGDHYSNQPQHF         FLKEKGGL            2  HomoSapiens   \n",
       "2    CASSFEAGQGFFSNQPQHF         FLKEKGGL            2  HomoSapiens   \n",
       "4    CASSFEPGQGFYSNQPQHF         FLKEKGGL            2  HomoSapiens   \n",
       "6   CASSYEPGQVSHYSNQPQHF         FLKEKGGL            2  HomoSapiens   \n",
       "8         CASSALASLNEQFF         FLKEKGGL            2  HomoSapiens   \n",
       "57           CASSLGETQYF  LLQTGIHVRVSQPSL            0  HomoSapiens   \n",
       "58       CASSLGSRAQETQYF  LLQTGIHVRVSQPSL            0  HomoSapiens   \n",
       "59          CASSLGQSTQYF  LLQTGIHVRVSQPSL            0  HomoSapiens   \n",
       "60    CASSLQGSRRQGQNEQYF  LLQTGIHVRVSQPSL            0  HomoSapiens   \n",
       "61       CASSSQGGEGTEAFF  LLQTGIHVRVSQPSL            0  HomoSapiens   \n",
       "\n",
       "   antigen.species gene mhc.class  CDR3_Length  Epitope_Length  \\\n",
       "1            HIV-1  TRB      MHCI           20               8   \n",
       "2            HIV-1  TRB      MHCI           19               8   \n",
       "4            HIV-1  TRB      MHCI           19               8   \n",
       "6            HIV-1  TRB      MHCI           20               8   \n",
       "8            HIV-1  TRB      MHCI           14               8   \n",
       "57             CMV  TRB     MHCII           11              15   \n",
       "58             CMV  TRB     MHCII           15              15   \n",
       "59             CMV  TRB     MHCII           12              15   \n",
       "60             CMV  TRB     MHCII           18              15   \n",
       "61             CMV  TRB     MHCII           15              15   \n",
       "\n",
       "    ambiguous_cdr3s  \n",
       "1                 0  \n",
       "2                 0  \n",
       "4                 0  \n",
       "6                 0  \n",
       "8                 0  \n",
       "57                0  \n",
       "58                0  \n",
       "59                0  \n",
       "60                0  \n",
       "61                0  "
      ]
     },
     "execution_count": 72,
     "metadata": {},
     "output_type": "execute_result"
    }
   ],
   "source": [
    "sample_dataset.head(10)"
   ]
  },
  {
   "cell_type": "code",
   "execution_count": 73,
   "id": "f0a58b1d-04f4-4f91-bd5d-248cb53f0604",
   "metadata": {},
   "outputs": [],
   "source": [
    "sample_dataset.to_csv('./Prepared_Df/pre_processed_vdj_db.csv',index=False)"
   ]
  },
  {
   "cell_type": "markdown",
   "id": "7c6eada3-eb7a-43d4-8d41-725006a5dcde",
   "metadata": {},
   "source": [
    "---"
   ]
  },
  {
   "cell_type": "markdown",
   "id": "77a636e3-a3e7-4756-82b9-dc605b88932c",
   "metadata": {},
   "source": [
    "### Encoding TCR and epitopes"
   ]
  },
  {
   "cell_type": "markdown",
   "id": "900cdddd-3f77-48d1-98c6-e89f7f1edf0e",
   "metadata": {},
   "source": [
    "Using Blosum62 to encode the amino acid sequences"
   ]
  },
  {
   "cell_type": "code",
   "execution_count": 74,
   "id": "8a42b4db-5455-47d3-96f5-d69d64d6449b",
   "metadata": {},
   "outputs": [],
   "source": [
    "# def encode_sequence(sequence, blosum_matrix):\n",
    "#     encoded_seq = []\n",
    "#     for acid in sequence:\n",
    "#         encoded_seq.append(blosum_matrix[acid])\n",
    "#     return encoded_seq\n",
    "\n",
    "# bl62={'A':[4,-1,-2,-2,0,-1,-1,0,-2,-1,-1,-1,-1,-2,-1,1,0,-3,-2,0],\n",
    "#       'R':[-1,4,0,-2,-3,1,0,-2,0,-3,-2,2,-1,-3,-2,-1,-1,-3,-2,-3],\n",
    "#       'N':[-2,0,4,1,-3,0,0,0,1,-3,-3,0,-2,-3,-2,1,0,-4,-2,-3],\n",
    "#       'D':[-2,-2,1,4,-3,0,2,-1,-1,-3,-4,-1,-3,-3,-1,0,-1,-4,-3,-3],\n",
    "#       'C':[0,-3,-3,-3,4,-3,-4,-3,-3,-1,-1,-3,-1,-2,-3,-1,-1,-2,-2,-1],\n",
    "#       'Q':[-1,1,0,0,-3,4,2,-2,0,-3,-2,1,0,-3,-1,0,-1,-2,-1,-2],\n",
    "#       'E':[-1,0,0,2,-4,2,4,-2,0,-3,-3,1,-2,-3,-1,0,-1,-3,-2,-2],\n",
    "#       'G':[0,-2,0,-1,-3,-2,-2,4,-2,-4,-4,-2,-3,-3,-2,0,-2,-2,-3,-3],\n",
    "#       'H':[-2,0,1,-1,-3,0,0,-2,4,-3,-3,-1,-2,-1,-2,-1,-2,-2,2,-3],\n",
    "#       'I':[-1,-3,-3,-3,-1,-3,-3,-4,-3,4,2,-3,1,0,-3,-2,-1,-3,-1,3],\n",
    "#       'L':[-1,-2,-3,-4,-1,-2,-3,-4,-3,2,4,-2,2,0,-3,-2,-1,-2,-1,1],\n",
    "#       'K':[-1,2,0,-1,-3,1,1,-2,-1,-3,-2,4,-1,-3,-1,0,-1,-3,-2,-2],\n",
    "#       'M':[-1,-1,-2,-3,-1,0,-2,-3,-2,1,2,-1,4,0,-2,-1,-1,-1,-1,1],\n",
    "#       'F':[-2,-3,-3,-3,-2,-3,-3,-3,-1,0,0,-3,0,4,-4,-2,-2,1,3,-1],\n",
    "#       'P':[-1,-2,-2,-1,-3,-1,-1,-2,-2,-3,-3,-1,-2,-4,4,-1,-1,-4,-3,-2],\n",
    "#       'S':[1,-1,1,0,-1,0,0,0,-1,-2,-2,0,-1,-2,-1,4,1,-3,-2,-2],\n",
    "#       'T':[0,-1,0,-1,-1,-1,-1,-2,-2,-1,-1,-1,-1,-2,-1,1,4,-2,-2,0],\n",
    "#       'W':[-3,-3,-4,-4,-2,-2,-3,-2,-2,-3,-2,-3,-1,1,-4,-3,-2,4,2,-3],\n",
    "#       'Y':[-2,-2,-2,-3,-2,-1,-2,-3,2,-1,-1,-2,-1,3,-3,-2,-2,2,4,-1],\n",
    "#       'V':[0,-3,-3,-3,-1,-2,-2,-3,-3,3,1,-2,1,-1,-2,-2,0,-3,-1,4]}\n",
    "\n",
    "# encoded_vectors = encode_sequence(sequence=\"CAISEYPPTGRKADTQYF\", blosum_matrix=bl62)\n",
    "\n",
    "# import numpy as np\n",
    "# print(np.ravel(encoded_vectors))"
   ]
  },
  {
   "cell_type": "markdown",
   "id": "728e321c-8963-4089-94fb-915f38c2d493",
   "metadata": {},
   "source": [
    "Using Pandas Categorical to encode the columns"
   ]
  },
  {
   "cell_type": "code",
   "execution_count": 75,
   "id": "c0720b3f-5e06-4446-aca7-038b047b79bd",
   "metadata": {},
   "outputs": [
    {
     "data": {
      "text/plain": [
       "Index(['cdr3', 'antigen.epitope', 'vdjdb.score', 'species', 'antigen.species',\n",
       "       'gene', 'mhc.class', 'CDR3_Length', 'Epitope_Length',\n",
       "       'ambiguous_cdr3s'],\n",
       "      dtype='object')"
      ]
     },
     "execution_count": 75,
     "metadata": {},
     "output_type": "execute_result"
    }
   ],
   "source": [
    "sample_dataset.columns"
   ]
  },
  {
   "cell_type": "code",
   "execution_count": 76,
   "id": "0dc98e01-6108-4e60-9bc9-c036f97824e3",
   "metadata": {},
   "outputs": [],
   "source": [
    "model_df = sample_dataset[['cdr3','antigen.species','mhc.class','antigen.epitope','vdjdb.score']]"
   ]
  },
  {
   "cell_type": "code",
   "execution_count": 77,
   "id": "3fc9488e-5fc9-426f-ad74-93bd42c2cccc",
   "metadata": {},
   "outputs": [
    {
     "name": "stderr",
     "output_type": "stream",
     "text": [
      "<ipython-input-77-f1b846506ddb>:1: SettingWithCopyWarning: \n",
      "A value is trying to be set on a copy of a slice from a DataFrame.\n",
      "Try using .loc[row_indexer,col_indexer] = value instead\n",
      "\n",
      "See the caveats in the documentation: https://pandas.pydata.org/pandas-docs/stable/user_guide/indexing.html#returning-a-view-versus-a-copy\n",
      "  model_df['cdr3_cat_code'] = pd.Categorical(model_df['cdr3']).codes\n"
     ]
    }
   ],
   "source": [
    "model_df['cdr3_cat_code'] = pd.Categorical(model_df['cdr3']).codes"
   ]
  },
  {
   "cell_type": "code",
   "execution_count": 78,
   "id": "53b450b2-1cf3-407d-9dc8-5a9c37043484",
   "metadata": {},
   "outputs": [
    {
     "name": "stderr",
     "output_type": "stream",
     "text": [
      "<ipython-input-78-1fbd5dbe18ab>:1: SettingWithCopyWarning: \n",
      "A value is trying to be set on a copy of a slice from a DataFrame.\n",
      "Try using .loc[row_indexer,col_indexer] = value instead\n",
      "\n",
      "See the caveats in the documentation: https://pandas.pydata.org/pandas-docs/stable/user_guide/indexing.html#returning-a-view-versus-a-copy\n",
      "  model_df['antigen.epitope_cat_code'] = pd.Categorical(model_df['antigen.epitope']).codes\n",
      "<ipython-input-78-1fbd5dbe18ab>:2: SettingWithCopyWarning: \n",
      "A value is trying to be set on a copy of a slice from a DataFrame.\n",
      "Try using .loc[row_indexer,col_indexer] = value instead\n",
      "\n",
      "See the caveats in the documentation: https://pandas.pydata.org/pandas-docs/stable/user_guide/indexing.html#returning-a-view-versus-a-copy\n",
      "  model_df['antigen.species_cat_code'] = pd.Categorical(model_df['antigen.species']).codes\n",
      "<ipython-input-78-1fbd5dbe18ab>:3: SettingWithCopyWarning: \n",
      "A value is trying to be set on a copy of a slice from a DataFrame.\n",
      "Try using .loc[row_indexer,col_indexer] = value instead\n",
      "\n",
      "See the caveats in the documentation: https://pandas.pydata.org/pandas-docs/stable/user_guide/indexing.html#returning-a-view-versus-a-copy\n",
      "  model_df['mhc.class_cat_code'] = pd.Categorical(model_df['mhc.class']).codes\n"
     ]
    }
   ],
   "source": [
    "model_df['antigen.epitope_cat_code'] = pd.Categorical(model_df['antigen.epitope']).codes\n",
    "model_df['antigen.species_cat_code'] = pd.Categorical(model_df['antigen.species']).codes\n",
    "model_df['mhc.class_cat_code'] = pd.Categorical(model_df['mhc.class']).codes"
   ]
  },
  {
   "cell_type": "code",
   "execution_count": 79,
   "id": "4b083164-c0fe-4d76-807b-9eb8de6e0697",
   "metadata": {},
   "outputs": [
    {
     "data": {
      "text/html": [
       "<div>\n",
       "<style scoped>\n",
       "    .dataframe tbody tr th:only-of-type {\n",
       "        vertical-align: middle;\n",
       "    }\n",
       "\n",
       "    .dataframe tbody tr th {\n",
       "        vertical-align: top;\n",
       "    }\n",
       "\n",
       "    .dataframe thead th {\n",
       "        text-align: right;\n",
       "    }\n",
       "</style>\n",
       "<table border=\"1\" class=\"dataframe\">\n",
       "  <thead>\n",
       "    <tr style=\"text-align: right;\">\n",
       "      <th></th>\n",
       "      <th>cdr3</th>\n",
       "      <th>antigen.species</th>\n",
       "      <th>mhc.class</th>\n",
       "      <th>antigen.epitope</th>\n",
       "      <th>vdjdb.score</th>\n",
       "      <th>cdr3_cat_code</th>\n",
       "      <th>antigen.epitope_cat_code</th>\n",
       "      <th>antigen.species_cat_code</th>\n",
       "      <th>mhc.class_cat_code</th>\n",
       "    </tr>\n",
       "  </thead>\n",
       "  <tbody>\n",
       "    <tr>\n",
       "      <th>1</th>\n",
       "      <td>CASSYLPGQGDHYSNQPQHF</td>\n",
       "      <td>HIV-1</td>\n",
       "      <td>MHCI</td>\n",
       "      <td>FLKEKGGL</td>\n",
       "      <td>2</td>\n",
       "      <td>27285</td>\n",
       "      <td>25</td>\n",
       "      <td>4</td>\n",
       "      <td>0</td>\n",
       "    </tr>\n",
       "  </tbody>\n",
       "</table>\n",
       "</div>"
      ],
      "text/plain": [
       "                   cdr3 antigen.species mhc.class antigen.epitope  \\\n",
       "1  CASSYLPGQGDHYSNQPQHF           HIV-1      MHCI        FLKEKGGL   \n",
       "\n",
       "   vdjdb.score  cdr3_cat_code  antigen.epitope_cat_code  \\\n",
       "1            2          27285                        25   \n",
       "\n",
       "   antigen.species_cat_code  mhc.class_cat_code  \n",
       "1                         4                   0  "
      ]
     },
     "execution_count": 79,
     "metadata": {},
     "output_type": "execute_result"
    }
   ],
   "source": [
    "model_df.head(1)"
   ]
  },
  {
   "cell_type": "code",
   "execution_count": 80,
   "id": "34426de7-7214-4464-b615-9dad3f1ee615",
   "metadata": {},
   "outputs": [
    {
     "data": {
      "text/plain": [
       "Index(['cdr3', 'antigen.species', 'mhc.class', 'antigen.epitope',\n",
       "       'vdjdb.score', 'cdr3_cat_code', 'antigen.epitope_cat_code',\n",
       "       'antigen.species_cat_code', 'mhc.class_cat_code'],\n",
       "      dtype='object')"
      ]
     },
     "execution_count": 80,
     "metadata": {},
     "output_type": "execute_result"
    }
   ],
   "source": [
    "model_df.columns"
   ]
  },
  {
   "cell_type": "code",
   "execution_count": 81,
   "id": "9916a452-7a2e-4ab1-8d90-bd05bea9dc97",
   "metadata": {},
   "outputs": [],
   "source": [
    "df_final = model_df[['vdjdb.score', 'cdr3_cat_code', 'antigen.epitope_cat_code',\n",
    "       'antigen.species_cat_code', 'mhc.class_cat_code']]"
   ]
  },
  {
   "cell_type": "code",
   "execution_count": 82,
   "id": "0bfdfd4a-ce74-445c-ac64-db4940384ff5",
   "metadata": {},
   "outputs": [
    {
     "data": {
      "text/html": [
       "<div>\n",
       "<style scoped>\n",
       "    .dataframe tbody tr th:only-of-type {\n",
       "        vertical-align: middle;\n",
       "    }\n",
       "\n",
       "    .dataframe tbody tr th {\n",
       "        vertical-align: top;\n",
       "    }\n",
       "\n",
       "    .dataframe thead th {\n",
       "        text-align: right;\n",
       "    }\n",
       "</style>\n",
       "<table border=\"1\" class=\"dataframe\">\n",
       "  <thead>\n",
       "    <tr style=\"text-align: right;\">\n",
       "      <th></th>\n",
       "      <th>vdjdb.score</th>\n",
       "      <th>cdr3_cat_code</th>\n",
       "      <th>antigen.epitope_cat_code</th>\n",
       "      <th>antigen.species_cat_code</th>\n",
       "      <th>mhc.class_cat_code</th>\n",
       "    </tr>\n",
       "  </thead>\n",
       "  <tbody>\n",
       "    <tr>\n",
       "      <th>1</th>\n",
       "      <td>2</td>\n",
       "      <td>27285</td>\n",
       "      <td>25</td>\n",
       "      <td>4</td>\n",
       "      <td>0</td>\n",
       "    </tr>\n",
       "    <tr>\n",
       "      <th>2</th>\n",
       "      <td>2</td>\n",
       "      <td>6552</td>\n",
       "      <td>25</td>\n",
       "      <td>4</td>\n",
       "      <td>0</td>\n",
       "    </tr>\n",
       "    <tr>\n",
       "      <th>4</th>\n",
       "      <td>2</td>\n",
       "      <td>6579</td>\n",
       "      <td>25</td>\n",
       "      <td>4</td>\n",
       "      <td>0</td>\n",
       "    </tr>\n",
       "    <tr>\n",
       "      <th>6</th>\n",
       "      <td>2</td>\n",
       "      <td>26920</td>\n",
       "      <td>25</td>\n",
       "      <td>4</td>\n",
       "      <td>0</td>\n",
       "    </tr>\n",
       "    <tr>\n",
       "      <th>8</th>\n",
       "      <td>2</td>\n",
       "      <td>4400</td>\n",
       "      <td>25</td>\n",
       "      <td>4</td>\n",
       "      <td>0</td>\n",
       "    </tr>\n",
       "    <tr>\n",
       "      <th>...</th>\n",
       "      <td>...</td>\n",
       "      <td>...</td>\n",
       "      <td>...</td>\n",
       "      <td>...</td>\n",
       "      <td>...</td>\n",
       "    </tr>\n",
       "    <tr>\n",
       "      <th>92395</th>\n",
       "      <td>0</td>\n",
       "      <td>3950</td>\n",
       "      <td>47</td>\n",
       "      <td>4</td>\n",
       "      <td>0</td>\n",
       "    </tr>\n",
       "    <tr>\n",
       "      <th>92396</th>\n",
       "      <td>1</td>\n",
       "      <td>3176</td>\n",
       "      <td>47</td>\n",
       "      <td>4</td>\n",
       "      <td>0</td>\n",
       "    </tr>\n",
       "    <tr>\n",
       "      <th>92397</th>\n",
       "      <td>1</td>\n",
       "      <td>25601</td>\n",
       "      <td>47</td>\n",
       "      <td>4</td>\n",
       "      <td>0</td>\n",
       "    </tr>\n",
       "    <tr>\n",
       "      <th>92398</th>\n",
       "      <td>1</td>\n",
       "      <td>4018</td>\n",
       "      <td>47</td>\n",
       "      <td>4</td>\n",
       "      <td>0</td>\n",
       "    </tr>\n",
       "    <tr>\n",
       "      <th>92399</th>\n",
       "      <td>0</td>\n",
       "      <td>11280</td>\n",
       "      <td>47</td>\n",
       "      <td>4</td>\n",
       "      <td>0</td>\n",
       "    </tr>\n",
       "  </tbody>\n",
       "</table>\n",
       "<p>37540 rows × 5 columns</p>\n",
       "</div>"
      ],
      "text/plain": [
       "       vdjdb.score  cdr3_cat_code  antigen.epitope_cat_code  \\\n",
       "1                2          27285                        25   \n",
       "2                2           6552                        25   \n",
       "4                2           6579                        25   \n",
       "6                2          26920                        25   \n",
       "8                2           4400                        25   \n",
       "...            ...            ...                       ...   \n",
       "92395            0           3950                        47   \n",
       "92396            1           3176                        47   \n",
       "92397            1          25601                        47   \n",
       "92398            1           4018                        47   \n",
       "92399            0          11280                        47   \n",
       "\n",
       "       antigen.species_cat_code  mhc.class_cat_code  \n",
       "1                             4                   0  \n",
       "2                             4                   0  \n",
       "4                             4                   0  \n",
       "6                             4                   0  \n",
       "8                             4                   0  \n",
       "...                         ...                 ...  \n",
       "92395                         4                   0  \n",
       "92396                         4                   0  \n",
       "92397                         4                   0  \n",
       "92398                         4                   0  \n",
       "92399                         4                   0  \n",
       "\n",
       "[37540 rows x 5 columns]"
      ]
     },
     "execution_count": 82,
     "metadata": {},
     "output_type": "execute_result"
    }
   ],
   "source": [
    "df_final"
   ]
  },
  {
   "cell_type": "markdown",
   "id": "fdb69f2b-21d1-47e7-b7ae-ddb2ba84a20a",
   "metadata": {},
   "source": [
    "---"
   ]
  },
  {
   "cell_type": "markdown",
   "id": "5adc3083-4ac0-40a2-86ab-0a7c6d5a8d98",
   "metadata": {},
   "source": [
    "### Applying Classification model\n",
    "\n",
    "    1. Decision Trees\n",
    "    2. Random Forest"
   ]
  },
  {
   "cell_type": "markdown",
   "id": "67e355e1-8bc2-4e77-8237-b56ce1603e9a",
   "metadata": {},
   "source": [
    "### Approach 1\n",
    "\n",
    "Using epitope as target"
   ]
  },
  {
   "cell_type": "code",
   "execution_count": 86,
   "id": "e2c0cfe1-af5b-4e50-a4aa-7bc504a20d68",
   "metadata": {},
   "outputs": [],
   "source": [
    "# Load libraries\n",
    "import pandas as pd\n",
    "from sklearn.tree import DecisionTreeClassifier # Import Decision Tree Classifier\n",
    "from sklearn.model_selection import train_test_split, GridSearchCV\n",
    "from sklearn.metrics import accuracy_score,precision_score, recall_score, multilabel_confusion_matrix,hamming_loss, classification_report, f1_score,roc_auc_score, roc_curve\n"
   ]
  },
  {
   "cell_type": "code",
   "execution_count": 87,
   "id": "49f5cf71-67a6-40a0-92f9-943690796f37",
   "metadata": {},
   "outputs": [],
   "source": [
    "X = df_final[['cdr3_cat_code',\n",
    "       'antigen.species_cat_code', 'mhc.class_cat_code']] # Features\n",
    "y = df_final[['antigen.epitope_cat_code']]# Target variable\n"
   ]
  },
  {
   "cell_type": "code",
   "execution_count": 88,
   "id": "7c397993-1879-4f62-a7cb-636cdbed2d2f",
   "metadata": {},
   "outputs": [],
   "source": [
    "# Split dataset into training set and test set\n",
    "X_train, X_test, y_train, y_test = train_test_split(X, y, test_size=0.3, random_state=42) # 70% training and 30% test\n"
   ]
  },
  {
   "cell_type": "code",
   "execution_count": 89,
   "id": "56e66fd5-9872-44aa-ba14-2660b6ae55d8",
   "metadata": {},
   "outputs": [],
   "source": [
    "# Create Decision Tree classifer object\n",
    "clf = DecisionTreeClassifier()\n",
    "\n",
    "# Train Decision Tree Classifer\n",
    "clf = clf.fit(X_train,y_train)\n",
    "\n",
    "#Predict the response for test dataset\n",
    "y_pred = clf.predict(X_test)"
   ]
  },
  {
   "cell_type": "markdown",
   "id": "15f5a615-7b17-4b81-b8f1-fec7ef255d2a",
   "metadata": {},
   "source": [
    "## Metrics to use?\n",
    "\n",
    "Hamming Loss: This is particularly useful in multi-label classification. It measures the fraction of labels that are incorrectly predicted, i.e., the fraction of the wrong labels to the total number of labels."
   ]
  },
  {
   "cell_type": "code",
   "execution_count": 90,
   "id": "78f28ac0-65ed-4538-a23c-cae43f660ce1",
   "metadata": {},
   "outputs": [],
   "source": [
    "def generate_model_report(y_actual, y_predicted):\n",
    "    print(\"Accuracy = \" , accuracy_score(y_actual, y_predicted))\n",
    "#     print(\"Precision = \" ,precision_score(y_actual, y_predicted,))\n",
    "#     print(\"Recall = \" ,recall_score(y_actual, y_predicted))\n",
    "    print(\"F1 Score = \" ,f1_score(y_actual, y_predicted,average='macro'))\n",
    "    pass"
   ]
  },
  {
   "cell_type": "markdown",
   "id": "1c649573-7dbc-44b6-a77e-8f8e38626744",
   "metadata": {},
   "source": [
    "### Which averaging techniques to use? Micro or Macro?"
   ]
  },
  {
   "cell_type": "code",
   "execution_count": 91,
   "id": "50ddf6b7-94a4-4395-a3a9-057bf6cb7da0",
   "metadata": {},
   "outputs": [
    {
     "name": "stdout",
     "output_type": "stream",
     "text": [
      "Accuracy =  0.5134967146155213\n",
      "F1 Score =  0.1694373533996123\n"
     ]
    }
   ],
   "source": [
    "# # Model Accuracy, how often is the classifier correct?\n",
    "# print(\"Accuracy:\", accuracy_score(y_test, y_pred))\n",
    "# print(\"Precision:\", precision_score(y_test, y_pred, average='weighted'))\n",
    "# print(\"Recall:\", recall_score(y_test, y_pred, average='weighted'))\n",
    "\n",
    "generate_model_report(y_test, y_pred)"
   ]
  },
  {
   "cell_type": "code",
   "execution_count": null,
   "id": "73e8bd07-aefc-409a-8f22-9746e1f94997",
   "metadata": {
    "tags": []
   },
   "outputs": [
    {
     "name": "stdout",
     "output_type": "stream",
     "text": [
      "Hamming Loss: 0.4865032853844788\n",
      "Classification Report:\n",
      "               precision    recall  f1-score   support\n",
      "\n",
      "           0       0.00      0.00      0.00         5\n",
      "           1       0.10      0.10      0.10        10\n",
      "           2       0.07      0.07      0.07        14\n",
      "           3       0.14      0.15      0.14        27\n",
      "           4       0.31      0.34      0.32       494\n",
      "           5       0.00      0.00      0.00        13\n",
      "           6       0.00      0.00      0.00         4\n",
      "           7       0.00      0.00      0.00         4\n",
      "           8       0.00      0.00      0.00         1\n",
      "           9       0.11      0.08      0.10        12\n",
      "          10       0.27      0.40      0.32        10\n",
      "          11       0.00      0.00      0.00         3\n",
      "          12       0.00      0.00      0.00         6\n",
      "          13       0.15      0.16      0.15        25\n",
      "          14       0.19      0.25      0.22        28\n",
      "          15       0.00      0.00      0.00         5\n",
      "          16       0.10      0.12      0.11         8\n",
      "          17       0.00      0.00      0.00         8\n",
      "          18       0.28      0.23      0.25        52\n",
      "          19       0.65      0.63      0.64       448\n",
      "          20       0.00      0.00      0.00         1\n",
      "          21       0.00      0.00      0.00         3\n",
      "          22       0.62      0.47      0.53        17\n",
      "          23       0.00      0.00      0.00         6\n",
      "          24       0.11      0.22      0.14         9\n",
      "          25       0.27      0.27      0.27        45\n",
      "          26       0.00      0.00      0.00         2\n",
      "          27       0.33      0.36      0.35        11\n",
      "          28       0.62      0.47      0.53        17\n",
      "          29       0.08      0.07      0.08        14\n",
      "          30       0.43      0.36      0.39        28\n",
      "          31       0.00      0.00      0.00         6\n",
      "          32       0.00      0.00      0.00         2\n",
      "          33       0.96      0.93      0.94       125\n",
      "          34       0.00      0.00      0.00        17\n",
      "          35       0.00      0.00      0.00         5\n",
      "          36       0.94      0.93      0.93      1071\n",
      "          37       0.37      0.39      0.38       322\n",
      "          38       0.20      0.20      0.20        35\n",
      "          39       0.00      0.00      0.00        10\n",
      "          40       0.08      0.20      0.12         5\n",
      "          41       0.31      0.18      0.23        28\n",
      "          42       1.00      1.00      1.00        41\n",
      "          43       1.00      1.00      1.00        53\n",
      "          44       0.44      0.44      0.44        16\n",
      "          45       0.07      0.09      0.08        11\n",
      "          46       0.00      0.00      0.00         7\n",
      "          47       0.20      0.17      0.18        12\n",
      "          48       0.00      0.00      0.00         4\n",
      "          49       0.08      0.25      0.12         4\n",
      "          50       0.00      0.00      0.00        16\n",
      "          51       0.08      0.07      0.07        29\n",
      "          52       0.11      0.14      0.12        14\n",
      "          53       0.06      0.05      0.05       157\n",
      "          54       0.41      0.43      0.42        76\n",
      "          55       0.70      0.71      0.70      3727\n",
      "          56       0.33      0.14      0.20         7\n",
      "          57       0.00      0.00      0.00         8\n",
      "          58       0.44      0.49      0.46       134\n",
      "          59       0.12      0.15      0.13        20\n",
      "          60       0.00      0.00      0.00         6\n",
      "          61       0.08      0.07      0.07        55\n",
      "          62       0.33      0.14      0.20         7\n",
      "          63       0.00      0.00      0.00         4\n",
      "          64       0.14      0.09      0.11        11\n",
      "          65       0.57      0.57      0.57         7\n",
      "          66       0.27      0.29      0.28        14\n",
      "          67       0.00      0.00      0.00         7\n",
      "          68       0.00      0.00      0.00         8\n",
      "          69       0.00      0.00      0.00         4\n",
      "          70       0.12      0.17      0.14        65\n",
      "          71       0.91      0.92      0.92        88\n",
      "          72       0.20      0.25      0.22        12\n",
      "          73       0.30      0.20      0.24        15\n",
      "          74       0.09      0.09      0.09        43\n",
      "          75       0.06      0.05      0.06        39\n",
      "          76       0.11      0.12      0.12        16\n",
      "          77       0.00      0.00      0.00         1\n",
      "          78       0.07      0.05      0.06        22\n",
      "          79       1.00      0.25      0.40         4\n",
      "          80       0.00      0.00      0.00         5\n",
      "          81       0.00      0.00      0.00         2\n",
      "          82       0.20      0.23      0.21        35\n",
      "          83       0.75      1.00      0.86         3\n",
      "          84       0.03      0.03      0.03        37\n",
      "          85       0.31      0.30      0.30      1467\n",
      "          86       0.05      0.06      0.05        18\n",
      "          87       0.00      0.00      0.00         1\n",
      "          88       0.33      0.38      0.35        16\n",
      "          89       0.40      0.40      0.40         5\n",
      "          90       0.64      0.51      0.57       125\n",
      "          91       0.07      0.10      0.08        10\n",
      "          92       0.00      0.00      0.00         2\n",
      "          93       0.31      0.33      0.32        33\n",
      "          94       0.20      0.22      0.21         9\n",
      "          95       0.00      0.00      0.00         7\n",
      "          96       0.00      0.00      0.00         8\n",
      "          97       0.20      0.13      0.16        15\n",
      "          98       0.00      0.00      0.00        12\n",
      "          99       0.14      0.13      0.13        47\n",
      "         100       0.23      0.22      0.23       260\n",
      "         101       0.11      0.06      0.08        17\n",
      "         102       0.02      0.04      0.03        23\n",
      "         103       0.08      0.07      0.08       123\n",
      "         104       0.43      0.25      0.32        12\n",
      "         105       0.25      0.29      0.27         7\n",
      "         106       0.00      0.00      0.00         6\n",
      "         107       0.14      0.33      0.20         3\n",
      "         108       0.17      0.18      0.18        22\n",
      "         109       0.30      0.26      0.28        27\n",
      "         110       0.00      0.00      0.00         2\n",
      "         111       0.00      0.00      0.00        13\n",
      "         112       0.08      0.17      0.11         6\n",
      "         113       0.77      0.76      0.76        45\n",
      "         114       0.05      0.08      0.06        13\n",
      "         115       0.00      0.00      0.00         7\n",
      "         116       0.07      0.14      0.09         7\n",
      "         117       0.00      0.00      0.00         5\n",
      "         118       0.00      0.00      0.00         3\n",
      "         119       0.24      0.16      0.19        25\n",
      "         120       0.00      0.00      0.00         6\n",
      "         121       0.28      0.35      0.31       147\n",
      "         122       0.50      0.75      0.60         8\n",
      "         123       0.92      0.90      0.91       139\n",
      "         124       0.00      0.00      0.00         7\n",
      "         125       0.00      0.00      0.00         6\n",
      "         126       0.00      0.00      0.00         4\n",
      "         127       0.00      0.00      0.00        17\n",
      "         128       0.18      0.19      0.18        32\n",
      "         129       0.28      0.28      0.28        88\n",
      "         130       0.00      0.00      0.00         2\n",
      "         131       0.18      0.19      0.19       134\n",
      "         132       0.00      0.00      0.00         4\n",
      "         133       0.00      0.00      0.00         7\n",
      "         134       0.00      0.00      0.00         2\n",
      "         135       0.00      0.00      0.00         4\n",
      "         136       0.00      0.00      0.00         5\n",
      "         137       0.11      0.12      0.12         8\n",
      "         138       0.01      0.02      0.02        56\n",
      "         139       0.00      0.00      0.00         9\n",
      "         140       0.00      0.00      0.00         3\n",
      "         141       0.00      0.00      0.00         4\n",
      "         142       0.00      0.00      0.00         5\n",
      "         143       0.00      0.00      0.00         6\n",
      "         144       0.14      0.14      0.14         7\n",
      "         145       0.00      0.00      0.00         7\n",
      "         146       0.00      0.00      0.00         4\n",
      "         147       0.47      0.41      0.44       286\n",
      "         148       0.00      0.00      0.00         5\n",
      "         149       0.00      0.00      0.00         1\n",
      "         150       0.00      0.00      0.00        20\n",
      "         151       0.04      0.04      0.04        26\n",
      "\n",
      "    accuracy                           0.51     11262\n",
      "   macro avg       0.18      0.17      0.17     11262\n",
      "weighted avg       0.51      0.51      0.51     11262\n",
      "\n"
     ]
    },
    {
     "name": "stderr",
     "output_type": "stream",
     "text": [
      "D:\\Anaconda\\lib\\site-packages\\sklearn\\metrics\\_classification.py:1245: UndefinedMetricWarning: Precision and F-score are ill-defined and being set to 0.0 in labels with no predicted samples. Use `zero_division` parameter to control this behavior.\n",
      "  _warn_prf(average, modifier, msg_start, len(result))\n",
      "D:\\Anaconda\\lib\\site-packages\\sklearn\\metrics\\_classification.py:1245: UndefinedMetricWarning: Precision and F-score are ill-defined and being set to 0.0 in labels with no predicted samples. Use `zero_division` parameter to control this behavior.\n",
      "  _warn_prf(average, modifier, msg_start, len(result))\n",
      "D:\\Anaconda\\lib\\site-packages\\sklearn\\metrics\\_classification.py:1245: UndefinedMetricWarning: Precision and F-score are ill-defined and being set to 0.0 in labels with no predicted samples. Use `zero_division` parameter to control this behavior.\n",
      "  _warn_prf(average, modifier, msg_start, len(result))\n"
     ]
    },
    {
     "data": {
      "image/png": "[encoded data removed]",
      "text/plain": [
       "<Figure size 432x288 with 2 Axes>"
      ]
     },
     "metadata": {
      "needs_background": "light"
     },
     "output_type": "display_data"
    },
    {
     "data": {
      "image/png": "[encoded data removed]",
      "text/plain": [
       "<Figure size 432x288 with 2 Axes>"
      ]
     },
     "metadata": {
      "needs_background": "light"
     },
     "output_type": "display_data"
    },
    {
     "data": {
      "image/png": "[encoded data removed]",
      "text/plain": [
       "<Figure size 432x288 with 2 Axes>"
      ]
     },
     "metadata": {
      "needs_background": "light"
     },
     "output_type": "display_data"
    },
    {
     "data": {
      "image/png": "[encoded data removed]",
      "text/plain": [
       "<Figure size 432x288 with 2 Axes>"
      ]
     },
     "metadata": {
      "needs_background": "light"
     },
     "output_type": "display_data"
    },
    {
     "data": {
      "image/png": "[encoded data removed]",
      "text/plain": [
       "<Figure size 432x288 with 2 Axes>"
      ]
     },
     "metadata": {
      "needs_background": "light"
     },
     "output_type": "display_data"
    },
    {
     "data": {
      "image/png": "[encoded data removed]",
      "text/plain": [
       "<Figure size 432x288 with 2 Axes>"
      ]
     },
     "metadata": {
      "needs_background": "light"
     },
     "output_type": "display_data"
    },
    {
     "data": {
      "image/png": "[encoded data removed]",
      "text/plain": [
       "<Figure size 432x288 with 2 Axes>"
      ]
     },
     "metadata": {
      "needs_background": "light"
     },
     "output_type": "display_data"
    },
    {
     "data": {
      "image/png": "[encoded data removed]",
      "text/plain": [
       "<Figure size 432x288 with 2 Axes>"
      ]
     },
     "metadata": {
      "needs_background": "light"
     },
     "output_type": "display_data"
    },
    {
     "data": {
      "image/png": "[encoded data removed]",
      "text/plain": [
       "<Figure size 432x288 with 2 Axes>"
      ]
     },
     "metadata": {
      "needs_background": "light"
     },
     "output_type": "display_data"
    }
   ],
   "source": [
    "print(\"Hamming Loss:\", hamming_loss(y_test, y_pred))\n",
    "print(\"Classification Report:\\n\", classification_report(y_test, y_pred))\n",
    "# # Confusion Matrix for each class\n",
    "conf_matrices = multilabel_confusion_matrix(y_test, y_pred)\n",
    "for i, matrix in enumerate(conf_matrices):\n",
    "    plt.figure()\n",
    "    sns.heatmap(matrix, annot=True, fmt='d', cmap='Blues')\n",
    "    plt.title(f'Confusion Matrix for Class {i}')\n",
    "    plt.xlabel('Predicted Labels')\n",
    "    plt.ylabel('True Labels')\n",
    "    plt.show()"
   ]
  },
  {
   "cell_type": "code",
   "execution_count": null,
   "id": "fc233d61-7ae1-46e6-878c-4721a842bb09",
   "metadata": {},
   "outputs": [],
   "source": []
  }
 ],
 "metadata": {
  "kernelspec": {
   "display_name": "Python 3",
   "language": "python",
   "name": "python3"
  },
  "language_info": {
   "codemirror_mode": {
    "name": "ipython",
    "version": 3
   },
   "file_extension": ".py",
   "mimetype": "text/x-python",
   "name": "python",
   "nbconvert_exporter": "python",
   "pygments_lexer": "ipython3",
   "version": "3.8.8"
  }
 },
 "nbformat": 4,
 "nbformat_minor": 5
}
