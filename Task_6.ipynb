{
 "cells": [
  {
   "cell_type": "markdown",
   "id": "852e68ed-59c7-4fcb-9afe-459b0aa562c9",
   "metadata": {},
   "source": [
    "## Predicting antigen specificity "
   ]
  },
  {
   "cell_type": "code",
   "execution_count": 7,
   "id": "c79b1d97-61cf-43ea-a561-9c12c159b58b",
   "metadata": {},
   "outputs": [],
   "source": [
    "import pandas as pd"
   ]
  },
  {
   "cell_type": "code",
   "execution_count": 8,
   "id": "746c7bb4-6ec8-4e32-bd44-6014e0d9fcf9",
   "metadata": {},
   "outputs": [
    {
     "name": "stdout",
     "output_type": "stream",
     "text": [
      "<class 'pandas.core.frame.DataFrame'>\n",
      "RangeIndex: 92771 entries, 0 to 92770\n",
      "Data columns (total 21 columns):\n",
      " #   Column            Non-Null Count  Dtype \n",
      "---  ------            --------------  ----- \n",
      " 0   complex.id        92771 non-null  int64 \n",
      " 1   gene              92771 non-null  object\n",
      " 2   cdr3              92771 non-null  object\n",
      " 3   v.segm            92670 non-null  object\n",
      " 4   j.segm            91626 non-null  object\n",
      " 5   species           92771 non-null  object\n",
      " 6   mhc.a             92771 non-null  object\n",
      " 7   mhc.b             92771 non-null  object\n",
      " 8   mhc.class         92771 non-null  object\n",
      " 9   antigen.epitope   92771 non-null  object\n",
      " 10  antigen.gene      92709 non-null  object\n",
      " 11  antigen.species   92771 non-null  object\n",
      " 12  reference.id      91260 non-null  object\n",
      " 13  method            92771 non-null  object\n",
      " 14  meta              92771 non-null  object\n",
      " 15  cdr3fix           92771 non-null  object\n",
      " 16  vdjdb.score       92771 non-null  int64 \n",
      " 17  web.method        92771 non-null  object\n",
      " 18  web.method.seq    92771 non-null  object\n",
      " 19  web.cdr3fix.nc    92771 non-null  object\n",
      " 20  web.cdr3fix.unmp  92771 non-null  object\n",
      "dtypes: int64(2), object(19)\n",
      "memory usage: 14.9+ MB\n"
     ]
    }
   ],
   "source": [
    "dataset = pd.read_csv('vdjdb.csv')\n",
    "\n",
    "dataset.info()"
   ]
  },
  {
   "cell_type": "code",
   "execution_count": 9,
   "id": "a16e8bdb-103c-4076-856d-35e4e223bfb6",
   "metadata": {},
   "outputs": [
    {
     "data": {
      "text/plain": [
       "complex.id             0\n",
       "gene                   0\n",
       "cdr3                   0\n",
       "v.segm               101\n",
       "j.segm              1145\n",
       "species                0\n",
       "mhc.a                  0\n",
       "mhc.b                  0\n",
       "mhc.class              0\n",
       "antigen.epitope        0\n",
       "antigen.gene          62\n",
       "antigen.species        0\n",
       "reference.id        1511\n",
       "method                 0\n",
       "meta                   0\n",
       "cdr3fix                0\n",
       "vdjdb.score            0\n",
       "web.method             0\n",
       "web.method.seq         0\n",
       "web.cdr3fix.nc         0\n",
       "web.cdr3fix.unmp       0\n",
       "dtype: int64"
      ]
     },
     "execution_count": 9,
     "metadata": {},
     "output_type": "execute_result"
    }
   ],
   "source": [
    "dataset.isnull().sum()"
   ]
  },
  {
   "cell_type": "markdown",
   "id": "0947c1eb-b112-4a3c-bf96-95090977a687",
   "metadata": {},
   "source": [
    "# Data Transformation"
   ]
  },
  {
   "cell_type": "markdown",
   "id": "7ea63675-a5ea-4edc-9b67-434417f2fc18",
   "metadata": {},
   "source": [
    "## Removing Unwanted Columns"
   ]
  },
  {
   "cell_type": "markdown",
   "id": "11cff6f8-903a-4c16-9d18-02e188a02acf",
   "metadata": {},
   "source": [
    "Some of the columns contain specific information about the literature sources (reference.id), sequencing methods (method, web.method.seq), collection method (web.method) etc., some of which are related to how **vdjdb.score** is calculated.\n",
    "\n",
    "Therefore we first remove these columns. Deleted columns are as follows: \n",
    "-  reference.id\n",
    "-  method\n",
    "-  meta\n",
    "-  cdr3fix\n",
    "-  web.method  \n",
    "-  web.method.seq\n",
    "-  web.cdr3fix.nc\n",
    "-  web.cdr3fix.unmp\n",
    "\n",
    "(Work by Yutong)"
   ]
  },
  {
   "cell_type": "code",
   "execution_count": 10,
   "id": "66e39cf9-5a61-4444-83d4-d000a3fbe1be",
   "metadata": {},
   "outputs": [
    {
     "name": "stdout",
     "output_type": "stream",
     "text": [
      "<class 'pandas.core.frame.DataFrame'>\n",
      "RangeIndex: 92771 entries, 0 to 92770\n",
      "Data columns (total 13 columns):\n",
      " #   Column           Non-Null Count  Dtype \n",
      "---  ------           --------------  ----- \n",
      " 0   complex.id       92771 non-null  int64 \n",
      " 1   gene             92771 non-null  object\n",
      " 2   cdr3             92771 non-null  object\n",
      " 3   v.segm           92670 non-null  object\n",
      " 4   j.segm           91626 non-null  object\n",
      " 5   species          92771 non-null  object\n",
      " 6   mhc.a            92771 non-null  object\n",
      " 7   mhc.b            92771 non-null  object\n",
      " 8   mhc.class        92771 non-null  object\n",
      " 9   antigen.epitope  92771 non-null  object\n",
      " 10  antigen.gene     92709 non-null  object\n",
      " 11  antigen.species  92771 non-null  object\n",
      " 12  vdjdb.score      92771 non-null  int64 \n",
      "dtypes: int64(2), object(11)\n",
      "memory usage: 9.2+ MB\n"
     ]
    }
   ],
   "source": [
    "dataset = dataset.iloc[:, list(range(0, 12)) + [16]]\n",
    "dataset.info()"
   ]
  },
  {
   "cell_type": "markdown",
   "id": "1dc2a0f6-e127-4a73-93ca-6cb85dfabdc0",
   "metadata": {},
   "source": [
    "---"
   ]
  },
  {
   "cell_type": "markdown",
   "id": "5a13e68c-d3b1-4c04-8f0b-6cbedab26517",
   "metadata": {},
   "source": [
    "## How to filter the dataset\n",
    "\n",
    "1. Using only beta chains  -- The CDR3 regions of TCRβ chains are located in the center of the paratope and are considered as the key determinant of specificity in antigen recognition (Jiang, Huo and Cheng Li, 2023). Moreover, the database contain mostly beta chained samples. -- <b>Done</b>\n",
    "2. Only taking human species (Why?)  -- <b>Done</b>\n",
    "    1. Most samples\n",
    "3. Removed duplicates -- <b>Done</b>\n",
    "3. Restricted to MHC Class 1 (Why?)  - <b>Not Sure?</b>\n",
    "    1. There are around 80K records of MHC class 1\n",
    "    2. The TIENET paper maybe focused mainly on MHC1 only"
   ]
  },
  {
   "cell_type": "markdown",
   "id": "4ede1dee-c39a-4b14-81f7-861c83b36faf",
   "metadata": {},
   "source": [
    "---\n",
    "4. <b> only kept the CDR3β and epitope sequences whose lengths lie between 5–30 and 7–15 amino acids, respectively (Why?) </b>\n",
    "    1. This was likely done to focus the model on reasonable sequence lengths and remove potentially noisy or erroneous data. (Explore more)\n",
    "    2. CDR3s with lengths between 10-20  -- <b> Done </b>\n",
    "\n",
    "\n",
    "#### Explanation for CDR3 Lengths\n",
    "The optimal length for the CDR3 region in predicting TCR-peptide interactions can vary depending on the specific dataset and model used. However, most studies suggest that the CDR3 loop sequence's mid-region creates most of the contacts with the peptide due to its length and flexibility[3]. The CDR3 region is typically 10-20 amino acids long, and its length can impact antigen specificity[3].\n",
    "\n",
    "In the case of the VDJ.db dataset, the authors report that the CDR3 loop sequence's mid-region creates most of the contacts with the peptide due to the loop and peptide's flexibility[3]. They also demonstrate that the modeling pipeline can be used to study features of residue interactions in TCR:pMHC complexes, providing access to structural data for immunologists and in silico structural modeling[3].\n",
    "\n",
    "When dealing with the VDJ.db dataset, it is essential to consider the specific length of the CDR3 region for predicting TCR-peptide interactions. The optimal length may depend on the specific dataset and model used, but generally, a CDR3 region of 10-20 amino acids is considered suitable for predicting TCR-peptide interactions.\n",
    "    \n",
    "Citations:\n",
    "[3] https://www.ncbi.nlm.nih.gov/pmc/articles/PMC10464843/\n",
    "\n",
    "#### Explanation for epitope lengths\n",
    "\n",
    "In the context of immunology and T-cell receptor (TCR) research, the length of 7–15 amino acids for epitopes is commonly used because this range represents the typical length of peptides that can be presented by Major Histocompatibility Complex (MHC) molecules to TCRs. MHC molecules play a crucial role in the immune response by presenting peptide fragments derived from pathogens to TCRs on T cells, which are then able to recognize and respond to these peptides. The peptides that bind to Class I MHC molecules are generally 8-10 amino acids in length, while those that bind to Class II MHC molecules are often longer, ranging from 13 to 25 amino acids, with a core region of about 9 amino acids that interacts most directly with the TCR\n"
   ]
  },
  {
   "cell_type": "markdown",
   "id": "4aec09ed-57c6-4231-a138-c250242eadcb",
   "metadata": {},
   "source": [
    "---\n",
    "5. Removing epitopes with less than 10 associated TCR sequences: (Why?) <b> Done </b>\n",
    "    1. The merged dataset was highly imbalanced, with some epitopes having many associated TCRs and others having very few.\n",
    "    2. To address this imbalance, the authors removed epitopes that had less than 10 associated TCR sequences.\n",
    "    3. This ensured a minimum number of examples for each epitope, which can help the model learn more robust patterns.\n",
    "6. Removing TCR sequences with ambiguous amino acids (Why?)\n",
    "    1. Some TCR sequences contained ambiguous amino acid characters (B, J, O, U, X), which the authors removed.\n",
    "6. I should keep both positive and negative dataset. (Why?)\n",
    "    1. What are negative sampling? VDJ_score in (0,1)\n",
    "    2. What are positive sampling? VDJ_score in (2,3)"
   ]
  },
  {
   "cell_type": "markdown",
   "id": "2be40e51-95f9-43d9-881e-02168309ecd8",
   "metadata": {},
   "source": [
    "## How prepare the data for ML model?\n",
    "\n",
    "1. Encoding the input sequences: (Is this process too complex?)\n",
    "    1. The authors used two separate pre-trained TCRpeg models to encode the TCR (CDR3β) and epitope sequences into numerical vector representations.\n",
    "    2. This transfer learning approach was used to leverage the knowledge learned from the pre-training tasks."
   ]
  },
  {
   "cell_type": "markdown",
   "id": "c0503740-95ce-42c7-83f4-bd10fd42f5c0",
   "metadata": {},
   "source": [
    "## Which ML algo to use?\n",
    "\n",
    "1. The encoded TCR and epitope vectors were concatenated and fed into the final fully connected neural network (FCN) of the TEINet model (Is this too complex?)"
   ]
  },
  {
   "cell_type": "markdown",
   "id": "9363331c-fe51-4ea5-afbe-bb4364e9c201",
   "metadata": {},
   "source": [
    "---"
   ]
  }
 ],
 "metadata": {
  "kernelspec": {
   "display_name": "Python 3",
   "language": "python",
   "name": "python3"
  },
  "language_info": {
   "codemirror_mode": {
    "name": "ipython",
    "version": 3
   },
   "file_extension": ".py",
   "mimetype": "text/x-python",
   "name": "python",
   "nbconvert_exporter": "python",
   "pygments_lexer": "ipython3",
   "version": "3.8.8"
  }
 },
 "nbformat": 4,
 "nbformat_minor": 5
}
