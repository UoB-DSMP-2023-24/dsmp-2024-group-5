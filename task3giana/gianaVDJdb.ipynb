{
 "cells": [
  {
   "cell_type": "markdown",
   "metadata": {},
   "source": [
    "# Pre-processing VDJdb\n"
   ]
  },
  {
   "cell_type": "markdown",
   "metadata": {},
   "source": [
    "## 1. Load the packages and data\n"
   ]
  },
  {
   "cell_type": "code",
   "execution_count": 3,
   "metadata": {
    "ExecuteTime": {
     "end_time": "2024-03-04T16:37:58.988902Z",
     "start_time": "2024-03-04T16:37:55.773535200Z"
    }
   },
   "outputs": [],
   "source": [
    "import pandas as pd\n",
    "import numpy as np\n",
    "from IPython.display import display\n",
    "import matplotlib.pyplot as plt\n",
    "%matplotlib inline"
   ]
  },
  {
   "cell_type": "code",
   "execution_count": 4,
   "metadata": {
    "ExecuteTime": {
     "end_time": "2024-03-04T16:38:30.145636Z",
     "start_time": "2024-03-04T16:37:58.880740800Z"
    }
   },
   "outputs": [],
   "source": [
    "rawdata = pd.read_excel(\"vdjdb.xlsx\")"
   ]
  },
  {
   "cell_type": "code",
   "execution_count": 5,
   "metadata": {
    "ExecuteTime": {
     "end_time": "2024-03-04T16:38:30.253561900Z",
     "start_time": "2024-03-04T16:38:30.150098500Z"
    }
   },
   "outputs": [
    {
     "data": {
      "text/html": [
       "<div>\n",
       "<style scoped>\n",
       "    .dataframe tbody tr th:only-of-type {\n",
       "        vertical-align: middle;\n",
       "    }\n",
       "\n",
       "    .dataframe tbody tr th {\n",
       "        vertical-align: top;\n",
       "    }\n",
       "\n",
       "    .dataframe thead th {\n",
       "        text-align: right;\n",
       "    }\n",
       "</style>\n",
       "<table border=\"1\" class=\"dataframe\">\n",
       "  <thead>\n",
       "    <tr style=\"text-align: right;\">\n",
       "      <th></th>\n",
       "      <th>complex.id</th>\n",
       "      <th>gene</th>\n",
       "      <th>cdr3</th>\n",
       "      <th>v.segm</th>\n",
       "      <th>j.segm</th>\n",
       "      <th>species</th>\n",
       "      <th>mhc.a</th>\n",
       "      <th>mhc.b</th>\n",
       "      <th>mhc.class</th>\n",
       "      <th>antigen.epitope</th>\n",
       "      <th>...</th>\n",
       "      <th>antigen.species</th>\n",
       "      <th>reference.id</th>\n",
       "      <th>method</th>\n",
       "      <th>meta</th>\n",
       "      <th>cdr3fix</th>\n",
       "      <th>vdjdb.score</th>\n",
       "      <th>web.method</th>\n",
       "      <th>web.method.seq</th>\n",
       "      <th>web.cdr3fix.nc</th>\n",
       "      <th>web.cdr3fix.unmp</th>\n",
       "    </tr>\n",
       "  </thead>\n",
       "  <tbody>\n",
       "    <tr>\n",
       "      <th>0</th>\n",
       "      <td>1</td>\n",
       "      <td>TRA</td>\n",
       "      <td>CIVRAPGRADMRF</td>\n",
       "      <td>TRAV26-1*01</td>\n",
       "      <td>TRAJ43*01</td>\n",
       "      <td>HomoSapiens</td>\n",
       "      <td>HLA-B*08</td>\n",
       "      <td>B2M</td>\n",
       "      <td>MHCI</td>\n",
       "      <td>FLKEKGGL</td>\n",
       "      <td>...</td>\n",
       "      <td>HIV-1</td>\n",
       "      <td>PMID:15596521</td>\n",
       "      <td>{\"frequency\": \"\", \"identification\": \"tetramer-...</td>\n",
       "      <td>{\"cell.subset\": \"CD8+\", \"clone.id\": \"\", \"donor...</td>\n",
       "      <td>{\"cdr3\": \"CIVRAPGRADMRF\", \"cdr3_old\": \"CIVRAPG...</td>\n",
       "      <td>2</td>\n",
       "      <td>sort</td>\n",
       "      <td>sanger</td>\n",
       "      <td>no</td>\n",
       "      <td>no</td>\n",
       "    </tr>\n",
       "    <tr>\n",
       "      <th>1</th>\n",
       "      <td>1</td>\n",
       "      <td>TRB</td>\n",
       "      <td>CASSYLPGQGDHYSNQPQHF</td>\n",
       "      <td>TRBV13*01</td>\n",
       "      <td>TRBJ1-5*01</td>\n",
       "      <td>HomoSapiens</td>\n",
       "      <td>HLA-B*08</td>\n",
       "      <td>B2M</td>\n",
       "      <td>MHCI</td>\n",
       "      <td>FLKEKGGL</td>\n",
       "      <td>...</td>\n",
       "      <td>HIV-1</td>\n",
       "      <td>PMID:15596521</td>\n",
       "      <td>{\"frequency\": \"\", \"identification\": \"tetramer-...</td>\n",
       "      <td>{\"cell.subset\": \"CD8+\", \"clone.id\": \"\", \"donor...</td>\n",
       "      <td>{\"cdr3\": \"CASSYLPGQGDHYSNQPQHF\", \"cdr3_old\": \"...</td>\n",
       "      <td>2</td>\n",
       "      <td>sort</td>\n",
       "      <td>sanger</td>\n",
       "      <td>no</td>\n",
       "      <td>no</td>\n",
       "    </tr>\n",
       "    <tr>\n",
       "      <th>2</th>\n",
       "      <td>0</td>\n",
       "      <td>TRB</td>\n",
       "      <td>CASSFEAGQGFFSNQPQHF</td>\n",
       "      <td>TRBV13*01</td>\n",
       "      <td>TRBJ1-5*01</td>\n",
       "      <td>HomoSapiens</td>\n",
       "      <td>HLA-B*08</td>\n",
       "      <td>B2M</td>\n",
       "      <td>MHCI</td>\n",
       "      <td>FLKEKGGL</td>\n",
       "      <td>...</td>\n",
       "      <td>HIV-1</td>\n",
       "      <td>PMID:15596521</td>\n",
       "      <td>{\"frequency\": \"\", \"identification\": \"tetramer-...</td>\n",
       "      <td>{\"cell.subset\": \"CD8+\", \"clone.id\": \"\", \"donor...</td>\n",
       "      <td>{\"cdr3\": \"CASSFEAGQGFFSNQPQHF\", \"cdr3_old\": \"C...</td>\n",
       "      <td>2</td>\n",
       "      <td>sort</td>\n",
       "      <td>sanger</td>\n",
       "      <td>no</td>\n",
       "      <td>no</td>\n",
       "    </tr>\n",
       "  </tbody>\n",
       "</table>\n",
       "<p>3 rows × 21 columns</p>\n",
       "</div>"
      ],
      "text/plain": [
       "   complex.id gene                  cdr3       v.segm      j.segm  \\\n",
       "0           1  TRA         CIVRAPGRADMRF  TRAV26-1*01   TRAJ43*01   \n",
       "1           1  TRB  CASSYLPGQGDHYSNQPQHF    TRBV13*01  TRBJ1-5*01   \n",
       "2           0  TRB   CASSFEAGQGFFSNQPQHF    TRBV13*01  TRBJ1-5*01   \n",
       "\n",
       "       species     mhc.a mhc.b mhc.class antigen.epitope  ... antigen.species  \\\n",
       "0  HomoSapiens  HLA-B*08   B2M      MHCI        FLKEKGGL  ...           HIV-1   \n",
       "1  HomoSapiens  HLA-B*08   B2M      MHCI        FLKEKGGL  ...           HIV-1   \n",
       "2  HomoSapiens  HLA-B*08   B2M      MHCI        FLKEKGGL  ...           HIV-1   \n",
       "\n",
       "    reference.id                                             method  \\\n",
       "0  PMID:15596521  {\"frequency\": \"\", \"identification\": \"tetramer-...   \n",
       "1  PMID:15596521  {\"frequency\": \"\", \"identification\": \"tetramer-...   \n",
       "2  PMID:15596521  {\"frequency\": \"\", \"identification\": \"tetramer-...   \n",
       "\n",
       "                                                meta  \\\n",
       "0  {\"cell.subset\": \"CD8+\", \"clone.id\": \"\", \"donor...   \n",
       "1  {\"cell.subset\": \"CD8+\", \"clone.id\": \"\", \"donor...   \n",
       "2  {\"cell.subset\": \"CD8+\", \"clone.id\": \"\", \"donor...   \n",
       "\n",
       "                                             cdr3fix vdjdb.score  web.method  \\\n",
       "0  {\"cdr3\": \"CIVRAPGRADMRF\", \"cdr3_old\": \"CIVRAPG...           2        sort   \n",
       "1  {\"cdr3\": \"CASSYLPGQGDHYSNQPQHF\", \"cdr3_old\": \"...           2        sort   \n",
       "2  {\"cdr3\": \"CASSFEAGQGFFSNQPQHF\", \"cdr3_old\": \"C...           2        sort   \n",
       "\n",
       "  web.method.seq web.cdr3fix.nc web.cdr3fix.unmp  \n",
       "0         sanger             no               no  \n",
       "1         sanger             no               no  \n",
       "2         sanger             no               no  \n",
       "\n",
       "[3 rows x 21 columns]"
      ]
     },
     "execution_count": 5,
     "metadata": {},
     "output_type": "execute_result"
    }
   ],
   "source": [
    "rawdata.head(3)"
   ]
  },
  {
   "cell_type": "code",
   "execution_count": 6,
   "metadata": {
    "ExecuteTime": {
     "end_time": "2024-03-04T16:38:30.488610100Z",
     "start_time": "2024-03-04T16:38:30.231144500Z"
    },
    "scrolled": true
   },
   "outputs": [
    {
     "name": "stdout",
     "output_type": "stream",
     "text": [
      "<class 'pandas.core.frame.DataFrame'>\n",
      "RangeIndex: 92771 entries, 0 to 92770\n",
      "Data columns (total 21 columns):\n",
      " #   Column            Non-Null Count  Dtype \n",
      "---  ------            --------------  ----- \n",
      " 0   complex.id        92771 non-null  int64 \n",
      " 1   gene              92771 non-null  object\n",
      " 2   cdr3              92771 non-null  object\n",
      " 3   v.segm            92670 non-null  object\n",
      " 4   j.segm            91626 non-null  object\n",
      " 5   species           92771 non-null  object\n",
      " 6   mhc.a             92771 non-null  object\n",
      " 7   mhc.b             92771 non-null  object\n",
      " 8   mhc.class         92771 non-null  object\n",
      " 9   antigen.epitope   92771 non-null  object\n",
      " 10  antigen.gene      92709 non-null  object\n",
      " 11  antigen.species   92771 non-null  object\n",
      " 12  reference.id      91260 non-null  object\n",
      " 13  method            92771 non-null  object\n",
      " 14  meta              92771 non-null  object\n",
      " 15  cdr3fix           92771 non-null  object\n",
      " 16  vdjdb.score       92771 non-null  int64 \n",
      " 17  web.method        92771 non-null  object\n",
      " 18  web.method.seq    92771 non-null  object\n",
      " 19  web.cdr3fix.nc    92771 non-null  object\n",
      " 20  web.cdr3fix.unmp  92771 non-null  object\n",
      "dtypes: int64(2), object(19)\n",
      "memory usage: 14.9+ MB\n"
     ]
    }
   ],
   "source": [
    "rawdata.info()"
   ]
  },
  {
   "cell_type": "markdown",
   "metadata": {},
   "source": [
    "## 2. Data describtion\n"
   ]
  },
  {
   "cell_type": "markdown",
   "metadata": {},
   "source": [
    "From the data type of each column we can see that all are of type **str** except _conplex.id_ and _vdjdb.score_ which are of type **int**.\n",
    "\n",
    "The data contains a total of 21 columns, we can make an initial filter by the type and meaning of each column.\n"
   ]
  },
  {
   "cell_type": "code",
   "execution_count": 7,
   "metadata": {
    "ExecuteTime": {
     "end_time": "2024-03-04T16:38:37.966157Z",
     "start_time": "2024-03-04T16:38:30.407338300Z"
    }
   },
   "outputs": [],
   "source": [
    "rawdata_info = pd.read_excel(\"vdjdb.xlsx\", sheet_name=\"Sheet2\")"
   ]
  },
  {
   "cell_type": "code",
   "execution_count": 8,
   "metadata": {
    "ExecuteTime": {
     "end_time": "2024-03-04T16:38:37.976240600Z",
     "start_time": "2024-03-04T16:38:37.969630200Z"
    }
   },
   "outputs": [],
   "source": [
    "def display_left_aligned(df):\n",
    "    style = df.style.set_properties(\n",
    "        **{\n",
    "            \"text-align\": \"left\",\n",
    "            \"white-space\": \"pre-wrap\",\n",
    "        }\n",
    "    )\n",
    "\n",
    "    style.set_table_styles([{\"selector\": \"th\", \"props\": [(\"text-align\", \"left\")]}])\n",
    "\n",
    "    display(style)"
   ]
  },
  {
   "cell_type": "code",
   "execution_count": 10,
   "metadata": {
    "ExecuteTime": {
     "end_time": "2024-03-04T16:38:38.200534400Z",
     "start_time": "2024-03-04T16:38:37.975119300Z"
    }
   },
   "outputs": [
    {
     "data": {
      "text/html": [
       "<style  type=\"text/css\" >\n",
       "    #T_31957cd6_df10_11ee_85e2_dc7196c99f36 th {\n",
       "          text-align: left;\n",
       "    }    #T_31957cd6_df10_11ee_85e2_dc7196c99f36row0_col0 {\n",
       "            text-align:  left;\n",
       "            white-space:  pre-wrap;\n",
       "        }    #T_31957cd6_df10_11ee_85e2_dc7196c99f36row0_col1 {\n",
       "            text-align:  left;\n",
       "            white-space:  pre-wrap;\n",
       "        }    #T_31957cd6_df10_11ee_85e2_dc7196c99f36row0_col2 {\n",
       "            text-align:  left;\n",
       "            white-space:  pre-wrap;\n",
       "        }    #T_31957cd6_df10_11ee_85e2_dc7196c99f36row1_col0 {\n",
       "            text-align:  left;\n",
       "            white-space:  pre-wrap;\n",
       "        }    #T_31957cd6_df10_11ee_85e2_dc7196c99f36row1_col1 {\n",
       "            text-align:  left;\n",
       "            white-space:  pre-wrap;\n",
       "        }    #T_31957cd6_df10_11ee_85e2_dc7196c99f36row1_col2 {\n",
       "            text-align:  left;\n",
       "            white-space:  pre-wrap;\n",
       "        }    #T_31957cd6_df10_11ee_85e2_dc7196c99f36row2_col0 {\n",
       "            text-align:  left;\n",
       "            white-space:  pre-wrap;\n",
       "        }    #T_31957cd6_df10_11ee_85e2_dc7196c99f36row2_col1 {\n",
       "            text-align:  left;\n",
       "            white-space:  pre-wrap;\n",
       "        }    #T_31957cd6_df10_11ee_85e2_dc7196c99f36row2_col2 {\n",
       "            text-align:  left;\n",
       "            white-space:  pre-wrap;\n",
       "        }    #T_31957cd6_df10_11ee_85e2_dc7196c99f36row3_col0 {\n",
       "            text-align:  left;\n",
       "            white-space:  pre-wrap;\n",
       "        }    #T_31957cd6_df10_11ee_85e2_dc7196c99f36row3_col1 {\n",
       "            text-align:  left;\n",
       "            white-space:  pre-wrap;\n",
       "        }    #T_31957cd6_df10_11ee_85e2_dc7196c99f36row3_col2 {\n",
       "            text-align:  left;\n",
       "            white-space:  pre-wrap;\n",
       "        }    #T_31957cd6_df10_11ee_85e2_dc7196c99f36row4_col0 {\n",
       "            text-align:  left;\n",
       "            white-space:  pre-wrap;\n",
       "        }    #T_31957cd6_df10_11ee_85e2_dc7196c99f36row4_col1 {\n",
       "            text-align:  left;\n",
       "            white-space:  pre-wrap;\n",
       "        }    #T_31957cd6_df10_11ee_85e2_dc7196c99f36row4_col2 {\n",
       "            text-align:  left;\n",
       "            white-space:  pre-wrap;\n",
       "        }    #T_31957cd6_df10_11ee_85e2_dc7196c99f36row5_col0 {\n",
       "            text-align:  left;\n",
       "            white-space:  pre-wrap;\n",
       "        }    #T_31957cd6_df10_11ee_85e2_dc7196c99f36row5_col1 {\n",
       "            text-align:  left;\n",
       "            white-space:  pre-wrap;\n",
       "        }    #T_31957cd6_df10_11ee_85e2_dc7196c99f36row5_col2 {\n",
       "            text-align:  left;\n",
       "            white-space:  pre-wrap;\n",
       "        }    #T_31957cd6_df10_11ee_85e2_dc7196c99f36row6_col0 {\n",
       "            text-align:  left;\n",
       "            white-space:  pre-wrap;\n",
       "        }    #T_31957cd6_df10_11ee_85e2_dc7196c99f36row6_col1 {\n",
       "            text-align:  left;\n",
       "            white-space:  pre-wrap;\n",
       "        }    #T_31957cd6_df10_11ee_85e2_dc7196c99f36row6_col2 {\n",
       "            text-align:  left;\n",
       "            white-space:  pre-wrap;\n",
       "        }    #T_31957cd6_df10_11ee_85e2_dc7196c99f36row7_col0 {\n",
       "            text-align:  left;\n",
       "            white-space:  pre-wrap;\n",
       "        }    #T_31957cd6_df10_11ee_85e2_dc7196c99f36row7_col1 {\n",
       "            text-align:  left;\n",
       "            white-space:  pre-wrap;\n",
       "        }    #T_31957cd6_df10_11ee_85e2_dc7196c99f36row7_col2 {\n",
       "            text-align:  left;\n",
       "            white-space:  pre-wrap;\n",
       "        }    #T_31957cd6_df10_11ee_85e2_dc7196c99f36row8_col0 {\n",
       "            text-align:  left;\n",
       "            white-space:  pre-wrap;\n",
       "        }    #T_31957cd6_df10_11ee_85e2_dc7196c99f36row8_col1 {\n",
       "            text-align:  left;\n",
       "            white-space:  pre-wrap;\n",
       "        }    #T_31957cd6_df10_11ee_85e2_dc7196c99f36row8_col2 {\n",
       "            text-align:  left;\n",
       "            white-space:  pre-wrap;\n",
       "        }    #T_31957cd6_df10_11ee_85e2_dc7196c99f36row9_col0 {\n",
       "            text-align:  left;\n",
       "            white-space:  pre-wrap;\n",
       "        }    #T_31957cd6_df10_11ee_85e2_dc7196c99f36row9_col1 {\n",
       "            text-align:  left;\n",
       "            white-space:  pre-wrap;\n",
       "        }    #T_31957cd6_df10_11ee_85e2_dc7196c99f36row9_col2 {\n",
       "            text-align:  left;\n",
       "            white-space:  pre-wrap;\n",
       "        }    #T_31957cd6_df10_11ee_85e2_dc7196c99f36row10_col0 {\n",
       "            text-align:  left;\n",
       "            white-space:  pre-wrap;\n",
       "        }    #T_31957cd6_df10_11ee_85e2_dc7196c99f36row10_col1 {\n",
       "            text-align:  left;\n",
       "            white-space:  pre-wrap;\n",
       "        }    #T_31957cd6_df10_11ee_85e2_dc7196c99f36row10_col2 {\n",
       "            text-align:  left;\n",
       "            white-space:  pre-wrap;\n",
       "        }    #T_31957cd6_df10_11ee_85e2_dc7196c99f36row11_col0 {\n",
       "            text-align:  left;\n",
       "            white-space:  pre-wrap;\n",
       "        }    #T_31957cd6_df10_11ee_85e2_dc7196c99f36row11_col1 {\n",
       "            text-align:  left;\n",
       "            white-space:  pre-wrap;\n",
       "        }    #T_31957cd6_df10_11ee_85e2_dc7196c99f36row11_col2 {\n",
       "            text-align:  left;\n",
       "            white-space:  pre-wrap;\n",
       "        }    #T_31957cd6_df10_11ee_85e2_dc7196c99f36row12_col0 {\n",
       "            text-align:  left;\n",
       "            white-space:  pre-wrap;\n",
       "        }    #T_31957cd6_df10_11ee_85e2_dc7196c99f36row12_col1 {\n",
       "            text-align:  left;\n",
       "            white-space:  pre-wrap;\n",
       "        }    #T_31957cd6_df10_11ee_85e2_dc7196c99f36row12_col2 {\n",
       "            text-align:  left;\n",
       "            white-space:  pre-wrap;\n",
       "        }    #T_31957cd6_df10_11ee_85e2_dc7196c99f36row13_col0 {\n",
       "            text-align:  left;\n",
       "            white-space:  pre-wrap;\n",
       "        }    #T_31957cd6_df10_11ee_85e2_dc7196c99f36row13_col1 {\n",
       "            text-align:  left;\n",
       "            white-space:  pre-wrap;\n",
       "        }    #T_31957cd6_df10_11ee_85e2_dc7196c99f36row13_col2 {\n",
       "            text-align:  left;\n",
       "            white-space:  pre-wrap;\n",
       "        }    #T_31957cd6_df10_11ee_85e2_dc7196c99f36row14_col0 {\n",
       "            text-align:  left;\n",
       "            white-space:  pre-wrap;\n",
       "        }    #T_31957cd6_df10_11ee_85e2_dc7196c99f36row14_col1 {\n",
       "            text-align:  left;\n",
       "            white-space:  pre-wrap;\n",
       "        }    #T_31957cd6_df10_11ee_85e2_dc7196c99f36row14_col2 {\n",
       "            text-align:  left;\n",
       "            white-space:  pre-wrap;\n",
       "        }    #T_31957cd6_df10_11ee_85e2_dc7196c99f36row15_col0 {\n",
       "            text-align:  left;\n",
       "            white-space:  pre-wrap;\n",
       "        }    #T_31957cd6_df10_11ee_85e2_dc7196c99f36row15_col1 {\n",
       "            text-align:  left;\n",
       "            white-space:  pre-wrap;\n",
       "        }    #T_31957cd6_df10_11ee_85e2_dc7196c99f36row15_col2 {\n",
       "            text-align:  left;\n",
       "            white-space:  pre-wrap;\n",
       "        }    #T_31957cd6_df10_11ee_85e2_dc7196c99f36row16_col0 {\n",
       "            text-align:  left;\n",
       "            white-space:  pre-wrap;\n",
       "        }    #T_31957cd6_df10_11ee_85e2_dc7196c99f36row16_col1 {\n",
       "            text-align:  left;\n",
       "            white-space:  pre-wrap;\n",
       "        }    #T_31957cd6_df10_11ee_85e2_dc7196c99f36row16_col2 {\n",
       "            text-align:  left;\n",
       "            white-space:  pre-wrap;\n",
       "        }    #T_31957cd6_df10_11ee_85e2_dc7196c99f36row17_col0 {\n",
       "            text-align:  left;\n",
       "            white-space:  pre-wrap;\n",
       "        }    #T_31957cd6_df10_11ee_85e2_dc7196c99f36row17_col1 {\n",
       "            text-align:  left;\n",
       "            white-space:  pre-wrap;\n",
       "        }    #T_31957cd6_df10_11ee_85e2_dc7196c99f36row17_col2 {\n",
       "            text-align:  left;\n",
       "            white-space:  pre-wrap;\n",
       "        }    #T_31957cd6_df10_11ee_85e2_dc7196c99f36row18_col0 {\n",
       "            text-align:  left;\n",
       "            white-space:  pre-wrap;\n",
       "        }    #T_31957cd6_df10_11ee_85e2_dc7196c99f36row18_col1 {\n",
       "            text-align:  left;\n",
       "            white-space:  pre-wrap;\n",
       "        }    #T_31957cd6_df10_11ee_85e2_dc7196c99f36row18_col2 {\n",
       "            text-align:  left;\n",
       "            white-space:  pre-wrap;\n",
       "        }    #T_31957cd6_df10_11ee_85e2_dc7196c99f36row19_col0 {\n",
       "            text-align:  left;\n",
       "            white-space:  pre-wrap;\n",
       "        }    #T_31957cd6_df10_11ee_85e2_dc7196c99f36row19_col1 {\n",
       "            text-align:  left;\n",
       "            white-space:  pre-wrap;\n",
       "        }    #T_31957cd6_df10_11ee_85e2_dc7196c99f36row19_col2 {\n",
       "            text-align:  left;\n",
       "            white-space:  pre-wrap;\n",
       "        }    #T_31957cd6_df10_11ee_85e2_dc7196c99f36row20_col0 {\n",
       "            text-align:  left;\n",
       "            white-space:  pre-wrap;\n",
       "        }    #T_31957cd6_df10_11ee_85e2_dc7196c99f36row20_col1 {\n",
       "            text-align:  left;\n",
       "            white-space:  pre-wrap;\n",
       "        }    #T_31957cd6_df10_11ee_85e2_dc7196c99f36row20_col2 {\n",
       "            text-align:  left;\n",
       "            white-space:  pre-wrap;\n",
       "        }</style><table id=\"T_31957cd6_df10_11ee_85e2_dc7196c99f36\" ><thead>    <tr>        <th class=\"blank level0\" ></th>        <th class=\"col_heading level0 col0\" >Column Name</th>        <th class=\"col_heading level0 col1\" >Data Type</th>        <th class=\"col_heading level0 col2\" >Description</th>    </tr></thead><tbody>\n",
       "                <tr>\n",
       "                        <th id=\"T_31957cd6_df10_11ee_85e2_dc7196c99f36level0_row0\" class=\"row_heading level0 row0\" >0</th>\n",
       "                        <td id=\"T_31957cd6_df10_11ee_85e2_dc7196c99f36row0_col0\" class=\"data row0 col0\" >complex.id</td>\n",
       "                        <td id=\"T_31957cd6_df10_11ee_85e2_dc7196c99f36row0_col1\" class=\"data row0 col1\" >int64</td>\n",
       "                        <td id=\"T_31957cd6_df10_11ee_85e2_dc7196c99f36row0_col2\" class=\"data row0 col2\" >TCR id:\n",
       "\n",
       "1. TCR alpha and beta chain records belonging to the same T-cell clone.\n",
       "2. In case complex.id is equal to 0, a record doesn't have either alpha or beta chain.</td>\n",
       "            </tr>\n",
       "            <tr>\n",
       "                        <th id=\"T_31957cd6_df10_11ee_85e2_dc7196c99f36level0_row1\" class=\"row_heading level0 row1\" >1</th>\n",
       "                        <td id=\"T_31957cd6_df10_11ee_85e2_dc7196c99f36row1_col0\" class=\"data row1 col0\" >gene</td>\n",
       "                        <td id=\"T_31957cd6_df10_11ee_85e2_dc7196c99f36row1_col1\" class=\"data row1 col1\" >str</td>\n",
       "                        <td id=\"T_31957cd6_df10_11ee_85e2_dc7196c99f36row1_col2\" class=\"data row1 col2\" >TCR chain as alpha or beta</td>\n",
       "            </tr>\n",
       "            <tr>\n",
       "                        <th id=\"T_31957cd6_df10_11ee_85e2_dc7196c99f36level0_row2\" class=\"row_heading level0 row2\" >2</th>\n",
       "                        <td id=\"T_31957cd6_df10_11ee_85e2_dc7196c99f36row2_col0\" class=\"data row2 col0\" >cdr3</td>\n",
       "                        <td id=\"T_31957cd6_df10_11ee_85e2_dc7196c99f36row2_col1\" class=\"data row2 col1\" >str</td>\n",
       "                        <td id=\"T_31957cd6_df10_11ee_85e2_dc7196c99f36row2_col2\" class=\"data row2 col2\" >TCR Complementarity Determining Region 3 (CDR3) amino acid sequence</td>\n",
       "            </tr>\n",
       "            <tr>\n",
       "                        <th id=\"T_31957cd6_df10_11ee_85e2_dc7196c99f36level0_row3\" class=\"row_heading level0 row3\" >3</th>\n",
       "                        <td id=\"T_31957cd6_df10_11ee_85e2_dc7196c99f36row3_col0\" class=\"data row3 col0\" >v.segm</td>\n",
       "                        <td id=\"T_31957cd6_df10_11ee_85e2_dc7196c99f36row3_col1\" class=\"data row3 col1\" >str</td>\n",
       "                        <td id=\"T_31957cd6_df10_11ee_85e2_dc7196c99f36row3_col2\" class=\"data row3 col2\" >TCR Variable (V) segment</td>\n",
       "            </tr>\n",
       "            <tr>\n",
       "                        <th id=\"T_31957cd6_df10_11ee_85e2_dc7196c99f36level0_row4\" class=\"row_heading level0 row4\" >4</th>\n",
       "                        <td id=\"T_31957cd6_df10_11ee_85e2_dc7196c99f36row4_col0\" class=\"data row4 col0\" >j.segm</td>\n",
       "                        <td id=\"T_31957cd6_df10_11ee_85e2_dc7196c99f36row4_col1\" class=\"data row4 col1\" >str</td>\n",
       "                        <td id=\"T_31957cd6_df10_11ee_85e2_dc7196c99f36row4_col2\" class=\"data row4 col2\" >TCR Joining (J) gene segment</td>\n",
       "            </tr>\n",
       "            <tr>\n",
       "                        <th id=\"T_31957cd6_df10_11ee_85e2_dc7196c99f36level0_row5\" class=\"row_heading level0 row5\" >5</th>\n",
       "                        <td id=\"T_31957cd6_df10_11ee_85e2_dc7196c99f36row5_col0\" class=\"data row5 col0\" >species</td>\n",
       "                        <td id=\"T_31957cd6_df10_11ee_85e2_dc7196c99f36row5_col1\" class=\"data row5 col1\" >str</td>\n",
       "                        <td id=\"T_31957cd6_df10_11ee_85e2_dc7196c99f36row5_col2\" class=\"data row5 col2\" >TCR parent species</td>\n",
       "            </tr>\n",
       "            <tr>\n",
       "                        <th id=\"T_31957cd6_df10_11ee_85e2_dc7196c99f36level0_row6\" class=\"row_heading level0 row6\" >6</th>\n",
       "                        <td id=\"T_31957cd6_df10_11ee_85e2_dc7196c99f36row6_col0\" class=\"data row6 col0\" >mhc.a</td>\n",
       "                        <td id=\"T_31957cd6_df10_11ee_85e2_dc7196c99f36row6_col1\" class=\"data row6 col1\" >str</td>\n",
       "                        <td id=\"T_31957cd6_df10_11ee_85e2_dc7196c99f36row6_col2\" class=\"data row6 col2\" >First MHC chain allele</td>\n",
       "            </tr>\n",
       "            <tr>\n",
       "                        <th id=\"T_31957cd6_df10_11ee_85e2_dc7196c99f36level0_row7\" class=\"row_heading level0 row7\" >7</th>\n",
       "                        <td id=\"T_31957cd6_df10_11ee_85e2_dc7196c99f36row7_col0\" class=\"data row7 col0\" >mhc.b</td>\n",
       "                        <td id=\"T_31957cd6_df10_11ee_85e2_dc7196c99f36row7_col1\" class=\"data row7 col1\" >str</td>\n",
       "                        <td id=\"T_31957cd6_df10_11ee_85e2_dc7196c99f36row7_col2\" class=\"data row7 col2\" >Second MHC chain allele (MHC I: beta2-microglobulin <B2M>)</td>\n",
       "            </tr>\n",
       "            <tr>\n",
       "                        <th id=\"T_31957cd6_df10_11ee_85e2_dc7196c99f36level0_row8\" class=\"row_heading level0 row8\" >8</th>\n",
       "                        <td id=\"T_31957cd6_df10_11ee_85e2_dc7196c99f36row8_col0\" class=\"data row8 col0\" >mhc.class</td>\n",
       "                        <td id=\"T_31957cd6_df10_11ee_85e2_dc7196c99f36row8_col1\" class=\"data row8 col1\" >str</td>\n",
       "                        <td id=\"T_31957cd6_df10_11ee_85e2_dc7196c99f36row8_col2\" class=\"data row8 col2\" >MHC I or MHC II</td>\n",
       "            </tr>\n",
       "            <tr>\n",
       "                        <th id=\"T_31957cd6_df10_11ee_85e2_dc7196c99f36level0_row9\" class=\"row_heading level0 row9\" >9</th>\n",
       "                        <td id=\"T_31957cd6_df10_11ee_85e2_dc7196c99f36row9_col0\" class=\"data row9 col0\" >antigen.epitope</td>\n",
       "                        <td id=\"T_31957cd6_df10_11ee_85e2_dc7196c99f36row9_col1\" class=\"data row9 col1\" >str</td>\n",
       "                        <td id=\"T_31957cd6_df10_11ee_85e2_dc7196c99f36row9_col2\" class=\"data row9 col2\" >Amino acid sequence of the epitope</td>\n",
       "            </tr>\n",
       "            <tr>\n",
       "                        <th id=\"T_31957cd6_df10_11ee_85e2_dc7196c99f36level0_row10\" class=\"row_heading level0 row10\" >10</th>\n",
       "                        <td id=\"T_31957cd6_df10_11ee_85e2_dc7196c99f36row10_col0\" class=\"data row10 col0\" >antigen.gene</td>\n",
       "                        <td id=\"T_31957cd6_df10_11ee_85e2_dc7196c99f36row10_col1\" class=\"data row10 col1\" >str</td>\n",
       "                        <td id=\"T_31957cd6_df10_11ee_85e2_dc7196c99f36row10_col2\" class=\"data row10 col2\" >Parent gene of the epitope sequence</td>\n",
       "            </tr>\n",
       "            <tr>\n",
       "                        <th id=\"T_31957cd6_df10_11ee_85e2_dc7196c99f36level0_row11\" class=\"row_heading level0 row11\" >11</th>\n",
       "                        <td id=\"T_31957cd6_df10_11ee_85e2_dc7196c99f36row11_col0\" class=\"data row11 col0\" >antigen.species</td>\n",
       "                        <td id=\"T_31957cd6_df10_11ee_85e2_dc7196c99f36row11_col1\" class=\"data row11 col1\" >str</td>\n",
       "                        <td id=\"T_31957cd6_df10_11ee_85e2_dc7196c99f36row11_col2\" class=\"data row11 col2\" >Parent species of the antigen</td>\n",
       "            </tr>\n",
       "            <tr>\n",
       "                        <th id=\"T_31957cd6_df10_11ee_85e2_dc7196c99f36level0_row12\" class=\"row_heading level0 row12\" >12</th>\n",
       "                        <td id=\"T_31957cd6_df10_11ee_85e2_dc7196c99f36row12_col0\" class=\"data row12 col0\" >reference.id</td>\n",
       "                        <td id=\"T_31957cd6_df10_11ee_85e2_dc7196c99f36row12_col1\" class=\"data row12 col1\" >str</td>\n",
       "                        <td id=\"T_31957cd6_df10_11ee_85e2_dc7196c99f36row12_col2\" class=\"data row12 col2\" >Pubmed id, doi, etc</td>\n",
       "            </tr>\n",
       "            <tr>\n",
       "                        <th id=\"T_31957cd6_df10_11ee_85e2_dc7196c99f36level0_row13\" class=\"row_heading level0 row13\" >13</th>\n",
       "                        <td id=\"T_31957cd6_df10_11ee_85e2_dc7196c99f36row13_col0\" class=\"data row13 col0\" >method</td>\n",
       "                        <td id=\"T_31957cd6_df10_11ee_85e2_dc7196c99f36row13_col1\" class=\"data row13 col1\" >str</td>\n",
       "                        <td id=\"T_31957cd6_df10_11ee_85e2_dc7196c99f36row13_col2\" class=\"data row13 col2\" >Method information for frequency, identification, etc</td>\n",
       "            </tr>\n",
       "            <tr>\n",
       "                        <th id=\"T_31957cd6_df10_11ee_85e2_dc7196c99f36level0_row14\" class=\"row_heading level0 row14\" >14</th>\n",
       "                        <td id=\"T_31957cd6_df10_11ee_85e2_dc7196c99f36row14_col0\" class=\"data row14 col0\" >meta</td>\n",
       "                        <td id=\"T_31957cd6_df10_11ee_85e2_dc7196c99f36row14_col1\" class=\"data row14 col1\" >str</td>\n",
       "                        <td id=\"T_31957cd6_df10_11ee_85e2_dc7196c99f36row14_col2\" class=\"data row14 col2\" >Meta information for cell.subset, clone.id, donor.MHC ,etc</td>\n",
       "            </tr>\n",
       "            <tr>\n",
       "                        <th id=\"T_31957cd6_df10_11ee_85e2_dc7196c99f36level0_row15\" class=\"row_heading level0 row15\" >15</th>\n",
       "                        <td id=\"T_31957cd6_df10_11ee_85e2_dc7196c99f36row15_col0\" class=\"data row15 col0\" >cdr3fix</td>\n",
       "                        <td id=\"T_31957cd6_df10_11ee_85e2_dc7196c99f36row15_col1\" class=\"data row15 col1\" >str</td>\n",
       "                        <td id=\"T_31957cd6_df10_11ee_85e2_dc7196c99f36row15_col2\" class=\"data row15 col2\" >CDR3 fixing</td>\n",
       "            </tr>\n",
       "            <tr>\n",
       "                        <th id=\"T_31957cd6_df10_11ee_85e2_dc7196c99f36level0_row16\" class=\"row_heading level0 row16\" >16</th>\n",
       "                        <td id=\"T_31957cd6_df10_11ee_85e2_dc7196c99f36row16_col0\" class=\"data row16 col0\" >vdjdb.score</td>\n",
       "                        <td id=\"T_31957cd6_df10_11ee_85e2_dc7196c99f36row16_col1\" class=\"data row16 col1\" >int64</td>\n",
       "                        <td id=\"T_31957cd6_df10_11ee_85e2_dc7196c99f36row16_col2\" class=\"data row16 col2\" >Confidence score for the antigen specificity annotation of a given TCR clonotype/clone:\n",
       "\n",
       "0 - low confidence\n",
       "1 - medium confidence\n",
       "2 - high confidence\n",
       "3 - very high confidence</td>\n",
       "            </tr>\n",
       "            <tr>\n",
       "                        <th id=\"T_31957cd6_df10_11ee_85e2_dc7196c99f36level0_row17\" class=\"row_heading level0 row17\" >17</th>\n",
       "                        <td id=\"T_31957cd6_df10_11ee_85e2_dc7196c99f36row17_col0\" class=\"data row17 col0\" >web.method</td>\n",
       "                        <td id=\"T_31957cd6_df10_11ee_85e2_dc7196c99f36row17_col1\" class=\"data row17 col1\" >str</td>\n",
       "                        <td id=\"T_31957cd6_df10_11ee_85e2_dc7196c99f36row17_col2\" class=\"data row17 col2\" >Source or collection method of data</td>\n",
       "            </tr>\n",
       "            <tr>\n",
       "                        <th id=\"T_31957cd6_df10_11ee_85e2_dc7196c99f36level0_row18\" class=\"row_heading level0 row18\" >18</th>\n",
       "                        <td id=\"T_31957cd6_df10_11ee_85e2_dc7196c99f36row18_col0\" class=\"data row18 col0\" >web.method.seq</td>\n",
       "                        <td id=\"T_31957cd6_df10_11ee_85e2_dc7196c99f36row18_col1\" class=\"data row18 col1\" >str</td>\n",
       "                        <td id=\"T_31957cd6_df10_11ee_85e2_dc7196c99f36row18_col2\" class=\"data row18 col2\" >Sequencing technology</td>\n",
       "            </tr>\n",
       "            <tr>\n",
       "                        <th id=\"T_31957cd6_df10_11ee_85e2_dc7196c99f36level0_row19\" class=\"row_heading level0 row19\" >19</th>\n",
       "                        <td id=\"T_31957cd6_df10_11ee_85e2_dc7196c99f36row19_col0\" class=\"data row19 col0\" >web.cdr3fix.nc</td>\n",
       "                        <td id=\"T_31957cd6_df10_11ee_85e2_dc7196c99f36row19_col1\" class=\"data row19 col1\" >str</td>\n",
       "                        <td id=\"T_31957cd6_df10_11ee_85e2_dc7196c99f36row19_col2\" class=\"data row19 col2\" >Whether the CDR3 needs to be corrected</td>\n",
       "            </tr>\n",
       "            <tr>\n",
       "                        <th id=\"T_31957cd6_df10_11ee_85e2_dc7196c99f36level0_row20\" class=\"row_heading level0 row20\" >20</th>\n",
       "                        <td id=\"T_31957cd6_df10_11ee_85e2_dc7196c99f36row20_col0\" class=\"data row20 col0\" >web.cdr3fix.unmp</td>\n",
       "                        <td id=\"T_31957cd6_df10_11ee_85e2_dc7196c99f36row20_col1\" class=\"data row20 col1\" >str</td>\n",
       "                        <td id=\"T_31957cd6_df10_11ee_85e2_dc7196c99f36row20_col2\" class=\"data row20 col2\" >CDR3 sequence mapping status</td>\n",
       "            </tr>\n",
       "    </tbody></table>"
      ],
      "text/plain": [
       "<pandas.io.formats.style.Styler at 0x1cc2cf0ba90>"
      ]
     },
     "metadata": {},
     "output_type": "display_data"
    }
   ],
   "source": [
    "display_left_aligned(rawdata_info)"
   ]
  },
  {
   "cell_type": "markdown",
   "metadata": {},
   "source": [
    "## 3. Data wrangling\n"
   ]
  },
  {
   "cell_type": "markdown",
   "metadata": {},
   "source": [
    "### 3.1 Remove columns\n"
   ]
  },
  {
   "cell_type": "markdown",
   "metadata": {},
   "source": [
    "Some of the columns contain specific information about the literature sources (reference.id), sequencing methods (method, web.method.seq), collection method (web.method) etc., some of which are related to how **vdjdb.score** is calculated.\n",
    "\n",
    "Therefore we first remove these columns. Deleted columns are as follows:\n",
    "\n",
    "- reference.id\n",
    "- method\n",
    "- meta\n",
    "- cdr3fix\n",
    "- web.method\n",
    "- web.method.seq\n",
    "- web.cdr3fix.nc\n",
    "- web.cdr3fix.unmp\n"
   ]
  },
  {
   "cell_type": "code",
   "execution_count": 11,
   "metadata": {
    "ExecuteTime": {
     "end_time": "2024-03-04T16:38:38.383234600Z",
     "start_time": "2024-03-04T16:38:38.194955200Z"
    },
    "scrolled": false
   },
   "outputs": [
    {
     "name": "stdout",
     "output_type": "stream",
     "text": [
      "<class 'pandas.core.frame.DataFrame'>\n",
      "RangeIndex: 92771 entries, 0 to 92770\n",
      "Data columns (total 13 columns):\n",
      " #   Column           Non-Null Count  Dtype \n",
      "---  ------           --------------  ----- \n",
      " 0   complex.id       92771 non-null  int64 \n",
      " 1   gene             92771 non-null  object\n",
      " 2   cdr3             92771 non-null  object\n",
      " 3   v.segm           92670 non-null  object\n",
      " 4   j.segm           91626 non-null  object\n",
      " 5   species          92771 non-null  object\n",
      " 6   mhc.a            92771 non-null  object\n",
      " 7   mhc.b            92771 non-null  object\n",
      " 8   mhc.class        92771 non-null  object\n",
      " 9   antigen.epitope  92771 non-null  object\n",
      " 10  antigen.gene     92709 non-null  object\n",
      " 11  antigen.species  92771 non-null  object\n",
      " 12  vdjdb.score      92771 non-null  int64 \n",
      "dtypes: int64(2), object(11)\n",
      "memory usage: 9.2+ MB\n"
     ]
    }
   ],
   "source": [
    "data = rawdata.iloc[:, list(range(0, 12)) + [16]]\n",
    "data.info()"
   ]
  },
  {
   "cell_type": "markdown",
   "metadata": {},
   "source": [
    "### 3.2 Null values\n",
    "\n",
    "The colums v.segm and j.segm have 101, 1145 null values respectively. Due to the fact\n"
   ]
  },
  {
   "cell_type": "code",
   "execution_count": 128,
   "metadata": {
    "ExecuteTime": {
     "end_time": "2024-03-04T16:38:38.566051600Z",
     "start_time": "2024-03-04T16:38:38.303814900Z"
    },
    "scrolled": true
   },
   "outputs": [
    {
     "data": {
      "text/plain": [
       "complex.id            0\n",
       "gene                  0\n",
       "cdr3                  0\n",
       "v.segm              101\n",
       "j.segm             1145\n",
       "species               0\n",
       "mhc.a                 0\n",
       "mhc.b                 0\n",
       "mhc.class             0\n",
       "antigen.epitope       0\n",
       "antigen.gene         62\n",
       "antigen.species       0\n",
       "vdjdb.score           0\n",
       "dtype: int64"
      ]
     },
     "execution_count": 128,
     "metadata": {},
     "output_type": "execute_result"
    }
   ],
   "source": [
    "data.isnull().sum()"
   ]
  },
  {
   "cell_type": "code",
   "execution_count": 14,
   "metadata": {
    "ExecuteTime": {
     "end_time": "2024-03-04T16:38:38.719214700Z",
     "start_time": "2024-03-04T16:38:38.448898Z"
    }
   },
   "outputs": [
    {
     "name": "stdout",
     "output_type": "stream",
     "text": [
      "The number of null rows: 1221\n"
     ]
    }
   ],
   "source": [
    "null_count = data.isnull().any(axis=1).sum()\n",
    "print(f\"The number of null rows: {null_count}\")"
   ]
  },
  {
   "cell_type": "markdown",
   "metadata": {},
   "source": [
    "### 3.3 Unique values\n"
   ]
  },
  {
   "cell_type": "markdown",
   "metadata": {},
   "source": [
    "Then, we check the unique value counts in the remaining columns.\n"
   ]
  },
  {
   "cell_type": "code",
   "execution_count": 15,
   "metadata": {
    "ExecuteTime": {
     "end_time": "2024-03-04T16:38:38.751233200Z",
     "start_time": "2024-03-04T16:38:38.464507300Z"
    }
   },
   "outputs": [],
   "source": [
    "def plot_unique_value_counts(df, wid):\n",
    "    unique_counts = df.nunique()\n",
    "    showplt = 1\n",
    "    ##showplt = input('If you want to show a bar chart, please input 1.\\nElse, input 0:\\n')\n",
    "    if showplt:\n",
    "        plt.figure(figsize=(6, 4))\n",
    "        plt.bar(range(len(unique_counts)), unique_counts, width=wid)\n",
    "        plt.title(\"Unique Value Counts\")\n",
    "        plt.xlabel(\"Columns\")\n",
    "        plt.ylabel(\"Unique Value Counts\")\n",
    "        plt.xticks(range(len(unique_counts)), unique_counts.index, rotation=45)\n",
    "\n",
    "    for i, v in enumerate(unique_counts):\n",
    "        plt.text(i, v + 0.1, str(v), ha=\"center\", va=\"bottom\")\n",
    "\n",
    "    return unique_counts"
   ]
  },
  {
   "cell_type": "code",
   "execution_count": 16,
   "metadata": {
    "ExecuteTime": {
     "end_time": "2024-03-04T16:38:39.305828200Z",
     "start_time": "2024-03-04T16:38:38.474018900Z"
    }
   },
   "outputs": [
    {
     "data": {
      "text/plain": [
       "complex.id         30595\n",
       "gene                   2\n",
       "cdr3               68994\n",
       "v.segm               224\n",
       "j.segm                71\n",
       "species                3\n",
       "mhc.a                119\n",
       "mhc.b                 45\n",
       "mhc.class              2\n",
       "antigen.epitope     1169\n",
       "antigen.gene         268\n",
       "antigen.species       42\n",
       "vdjdb.score            4\n",
       "dtype: int64"
      ]
     },
     "execution_count": 16,
     "metadata": {},
     "output_type": "execute_result"
    },
    {
     "data": {
      "image/png": "[encoded data removed]",
      "text/plain": [
       "<Figure size 432x288 with 1 Axes>"
      ]
     },
     "metadata": {
      "needs_background": "light"
     },
     "output_type": "display_data"
    }
   ],
   "source": [
    "plot_unique_value_counts(data, 0.6)"
   ]
  },
  {
   "cell_type": "code",
   "execution_count": 17,
   "metadata": {
    "ExecuteTime": {
     "end_time": "2024-03-04T16:38:39.606162400Z",
     "start_time": "2024-03-04T16:38:39.187973700Z"
    }
   },
   "outputs": [
    {
     "data": {
      "text/plain": [
       "cdr3               68994\n",
       "antigen.epitope     1169\n",
       "dtype: int64"
      ]
     },
     "execution_count": 17,
     "metadata": {},
     "output_type": "execute_result"
    },
    {
     "data": {
      "image/png": "[encoded data removed]",
      "text/plain": [
       "<Figure size 432x288 with 1 Axes>"
      ]
     },
     "metadata": {
      "needs_background": "light"
     },
     "output_type": "display_data"
    }
   ],
   "source": [
    "plot_unique_value_counts(data[[\"cdr3\", \"antigen.epitope\"]], 0.1)"
   ]
  },
  {
   "cell_type": "markdown",
   "metadata": {},
   "source": [
    "### 3.4 complex.id\n",
    "\n",
    "Due to the fact that TCR alpha and beta chain records belonging to the same T-cell clone, and in case the complex.id is equal to zero, a record doesn't have either alpha or beta chain, we count both zero and non-zero values, and then check if the non-zero values occur twice.\n"
   ]
  },
  {
   "cell_type": "code",
   "execution_count": 18,
   "metadata": {
    "ExecuteTime": {
     "end_time": "2024-03-04T16:38:40.197335600Z",
     "start_time": "2024-03-04T16:38:39.683831300Z"
    },
    "scrolled": false
   },
   "outputs": [
    {
     "name": "stdout",
     "output_type": "stream",
     "text": [
      "1. The number of rows in the VDJdb: 92771\n",
      "   The number of null rows: 1221\n",
      "   The number of duplicate rows: 4245\n",
      "\n",
      "2. The zero complex.id info:\n",
      "   The number of zero complex.id: 31583\n",
      "   The number of the alpha chain: 7455\n",
      "   The number of the beta chain: 24128\n",
      "   The number of non-duplicate rows: 27338\n",
      "   The number of duplicate rows: 4245\n",
      "   The number of null rows: 326\n",
      "\n",
      "3. The non-zero complex.id info:\n",
      "   The number of non-zero complex.id: 61188\n",
      "   The number of non-duplicate rows: 61188\n",
      "   The number of duplicate rows: 0\n",
      "\n",
      "   All non-zero values occur in pairs.\n",
      "   The number of the paired values is 30594\n",
      "\n",
      "   The number of null rows: 895\n",
      "   The number of duplicate rows with null: 32\n"
     ]
    }
   ],
   "source": [
    "print(\n",
    "    f\"1. The number of rows in the VDJdb: {len(data)}\\n\"\n",
    "    f\"   The number of null rows: {null_count}\\n\"\n",
    "    f\"   The number of duplicate rows: {len(data)-data.drop_duplicates().shape[0]}\"\n",
    ")\n",
    "\n",
    "zeros = data[data[\"complex.id\"] == 0]\n",
    "zeros_count = zeros[\"complex.id\"].count()\n",
    "zeros_a_count = zeros[zeros[\"gene\"] == \"TRA\"][\"gene\"].count()\n",
    "zeros_b_count = zeros[zeros[\"gene\"] == \"TRB\"][\"gene\"].count()\n",
    "zeros_unique_count = zeros.drop_duplicates().shape[0]\n",
    "zeros_null = zeros.isnull().any(axis=1).sum()\n",
    "print(\n",
    "    \"\\n2. The zero complex.id info:\"\n",
    "    f\"\\n   The number of zero complex.id: {zeros_count}\"\n",
    "    f\"\\n   The number of the alpha chain: {zeros_a_count}\"\n",
    "    f\"\\n   The number of the beta chain: {zeros_b_count}\"\n",
    "    f\"\\n   The number of non-duplicate rows: {zeros_unique_count}\"\n",
    "    f\"\\n   The number of duplicate rows: {zeros_count-zeros_unique_count}\"\n",
    "    f\"\\n   The number of null rows: {zeros_null}\"\n",
    ")\n",
    "\n",
    "\n",
    "non_zeros = data[data[\"complex.id\"] != 0]\n",
    "non_zeros_count = non_zeros[\"complex.id\"].count()\n",
    "non_zeros_pair_count = non_zeros[\"complex.id\"].value_counts()\n",
    "non_zeros_unique_count = non_zeros.drop_duplicates().shape[0]\n",
    "non_zeros_null = non_zeros.isnull().any(axis=1).sum()\n",
    "print(\n",
    "    \"\\n3. The non-zero complex.id info:\"\n",
    "    f\"\\n   The number of non-zero complex.id: {non_zeros_count}\"\n",
    "    f\"\\n   The number of non-duplicate rows: {non_zeros_unique_count}\"\n",
    "    f\"\\n   The number of duplicate rows: {non_zeros_count-non_zeros_unique_count}\"\n",
    ")\n",
    "\n",
    "# Check if all non-zero values occur twice\n",
    "pairs_check = all(non_zeros_pair_count == 2)\n",
    "if pairs_check:\n",
    "    print(f\"\\n   All non-zero values occur in pairs.\" f\"\\n   The number of the paired values is {len(non_zeros_pair_count)}\")\n",
    "else:\n",
    "    print(\"\\n   There are non-paired values among non-zero values.\")\n",
    "\n",
    "# Find non-duplicate rows with null values in non_zeros\n",
    "complex_id_with_null = non_zeros.loc[non_zeros.isnull().any(axis=1), [\"complex.id\"]]\n",
    "\n",
    "print(f\"\\n   The number of null rows: {non_zeros_null}\" f\"\\n   The number of duplicate rows with null: \" f\"{non_zeros_null-complex_id_with_null.drop_duplicates().shape[0]}\")"
   ]
  },
  {
   "cell_type": "code",
   "execution_count": 134,
   "metadata": {
    "ExecuteTime": {
     "end_time": "2024-03-04T16:38:40.698806400Z",
     "start_time": "2024-03-04T16:38:40.200693600Z"
    }
   },
   "outputs": [
    {
     "data": {
      "text/plain": [
       "<matplotlib.legend.Legend at 0x1d17495db10>"
      ]
     },
     "execution_count": 134,
     "metadata": {},
     "output_type": "execute_result"
    },
    {
     "data": {
      "image/png": "[encoded data removed]",
      "text/plain": [
       "<Figure size 800x600 with 1 Axes>"
      ]
     },
     "metadata": {},
     "output_type": "display_data"
    }
   ],
   "source": [
    "# complex.id info visualization\n",
    "# Define data\n",
    "categories = [\"VDJdb\", \"Zero complex.id\", \"Non-zero complex.id\"]\n",
    "counts = [len(data), zeros_count, non_zeros_count]\n",
    "unique_counts = [0, zeros_unique_count, non_zeros_unique_count]\n",
    "duplicate_counts = [0, zeros_count - zeros_unique_count, non_zeros_count - non_zeros_unique_count]\n",
    "null_counts = [null_count, zeros_null, non_zeros_null]\n",
    "\n",
    "# Create a bar chart\n",
    "plt.figure(figsize=(8, 6))\n",
    "bar_width = 0.25\n",
    "index = range(len(categories))\n",
    "\n",
    "bars1 = plt.bar(index, counts, color=\"skyblue\", label=\"Total count\", width=bar_width)\n",
    "bars2 = plt.bar([i + bar_width for i in index], unique_counts, color=\"orange\", label=\"Non-duplicate count\", width=bar_width)\n",
    "bars3 = plt.bar([i + 2 * bar_width for i in index], duplicate_counts, color=\"lightgreen\", label=\"Duplicate count\", width=bar_width)\n",
    "barsnull = plt.bar(index, null_counts, color=\"red\", label=\"Null count\", width=bar_width)\n",
    "\n",
    "\n",
    "# Add labels and legend\n",
    "def autolabel(bars):\n",
    "    for bar in bars:\n",
    "        height = bar.get_height()\n",
    "        plt.text(bar.get_x() + bar.get_width() / 2, height, \"%d\" % int(height), ha=\"center\", va=\"bottom\", fontsize=8)\n",
    "\n",
    "\n",
    "autolabel(bars1)\n",
    "autolabel(bars2)\n",
    "autolabel(bars3)\n",
    "autolabel(barsnull)\n",
    "\n",
    "plt.xlabel(\"Complex.id Information\")\n",
    "plt.ylabel(\"Count\")\n",
    "plt.title(\"Complex.id Information Counts\")\n",
    "plt.xticks([i + bar_width for i in index], categories)\n",
    "plt.legend()"
   ]
  },
  {
   "cell_type": "markdown",
   "metadata": {},
   "source": [
    "Next, we check if the paired records of non-zero complex.id have the same information for other columns expect the column 'gene'.\n"
   ]
  },
  {
   "cell_type": "code",
   "execution_count": 19,
   "metadata": {
    "ExecuteTime": {
     "end_time": "2024-03-04T16:38:58.557096700Z",
     "start_time": "2024-03-04T16:38:40.697790800Z"
    }
   },
   "outputs": [
    {
     "name": "stdout",
     "output_type": "stream",
     "text": [
      "All species, mhc.a, mhc.b, mhc.class, antigen.epitope, antigen.gene, antigen.species, vdjdb.score columns of the same complex.id are consistent.\n"
     ]
    }
   ],
   "source": [
    "grouped = non_zeros.groupby(\"complex.id\")\n",
    "\n",
    "# Create an empty list to store inconsistent complex.id\n",
    "not_consistent_ids = []\n",
    "\n",
    "for group_name, group_data in grouped:\n",
    "    # Compare columns 6 to 13 for consistency\n",
    "    columns_to_compare = group_data.columns[5:13]\n",
    "    comparison_result = group_data.iloc[0][columns_to_compare].equals(group_data.iloc[1][columns_to_compare])\n",
    "\n",
    "    if not comparison_result:\n",
    "        not_consistent_ids.append(group_name)\n",
    "\n",
    "if not_consistent_ids:\n",
    "    print(\"Inconsistent complex.id:\", not_consistent_ids)\n",
    "else:\n",
    "    print(f\"All {', '.join(non_zeros.columns[5:13])} columns of the same complex.id are consistent.\")"
   ]
  },
  {
   "cell_type": "markdown",
   "metadata": {},
   "source": [
    "## 4. Inference\n"
   ]
  },
  {
   "cell_type": "markdown",
   "metadata": {},
   "source": [
    "Based on various measures we could use to calculate the distance/similarity matrix, the columns we choose as the input are different. Besides we should calculate these metrics for the alpha and beta chains seperately in the further study.\n",
    "\n",
    "**Therefore we don't have to remove the lines with null values and complex.id values that are equal to 0 right away.**\n"
   ]
  },
  {
   "cell_type": "markdown",
   "metadata": {},
   "source": [
    "### 4.1 TCRdist3\n",
    "\n",
    "Tcrdist3 only requires 3 input columns for single chain analysis (i.e., for beta chain cdr3_b_aa and v_b_gene, j_b_gene) and 6 columns for paired chain analysis (i.e., cdr3_b_aa, v_b_gene, j_b_gene, cdr3_a_aa, v_a_gene, and j_a_gene).\n",
    "\n",
    "A unique feature of tcrdist3 is that all of the parameters of the distance metric can be adjusted (e.g. alpha-chain only, weights on CDR loops, etc.) or completely new user-defined metrics can be provided to calculate pairwise distances. The package comes with a distance based on Needleman-Wunsch global sequence alignment and a BLOSUM62 similarity matrix, as well as the Levenshtein/edit distance, which is employed by other TCR analysis packages such as _TCRNET/VDJtools_, _ALICE_, and _GLIPH2_.\n",
    "\n",
    "https://tcrdist3.readthedocs.io/en/latest/index.html\n",
    "\n",
    "https://github.com/kmayerb/tcrdist3\n"
   ]
  },
  {
   "cell_type": "markdown",
   "metadata": {},
   "source": [
    "### 4.2 GLIPH\n",
    "\n",
    "Input TCR data are formated as follow\n",
    "#CDR3b TRBV TRBJ CDR3a subject:condition count\n",
    "CSARDQGGAGNQPQHF TRBV20-1 TRBJ1-5 CAVGVGYKLSF 01/0906:MtbLys 1\n",
    "\n",
    "All fields are tab-delimited except that subject and condition are delimited with \":\". Condition can be anything such as tissue type, cell subset or treatment et al. CDR3b, TRBV, subject, and count are required. Other fields can be replaced with \"NA\". A demo input TCR dataset can be found at the link [TCR](http://50.255.35.37:8080/demo).\n",
    "\n",
    "Huang, Huang, et al. \"Analyzing the Mycobacterium tuberculosis immune response by T-cell receptor clustering with GLIPH2 and genome-wide antigen screening.\" Nature Biotechnology 38.10 (2020): 1194-1202. [Link](https://www.nature.com/articles/s41587-020-0505-4)\n",
    "\n",
    "GLIPH1 works well on small and clean data sets. However, as data sets are becoming larger and noisier, the algorithm tends to generate large clusters of mixed specificities. [Link](https://www.ncbi.nlm.nih.gov/pmc/articles/PMC10035763/)\n",
    "\n",
    "http://50.255.35.37:8080/tools\n",
    "\n",
    "https://github.com/immunoengineer/gliph\n"
   ]
  },
  {
   "cell_type": "markdown",
   "metadata": {},
   "source": [
    "### 4.3 GIANA\n",
    "\n",
    "Input of GIANA is flexible. The first column is kept for CDR3 amino acid sequence. If TRBV allele information is enabled (by default), the second column is required to be TRBV genes. As the TCR-seq data provided by the Adaptive Biotechnologies does not comply with the IMGT format, we provide the R code (ProcessAdaptiveFile.R) to convert the Adaptive data input to standard format. In the output, GIANA inserts a column between the first and the second column as the cluster IDs. Other columns in the input data may contain any information, and will be kept in the final output.\n",
    "\n",
    "https://github.com/s175573/GIANA\n"
   ]
  },
  {
   "cell_type": "markdown",
   "metadata": {},
   "source": [
    "# Task3\n"
   ]
  },
  {
   "cell_type": "markdown",
   "metadata": {},
   "source": [
    "## 1. GIANA\n"
   ]
  },
  {
   "cell_type": "markdown",
   "metadata": {},
   "source": [
    "### 1.1 Format the data\n"
   ]
  },
  {
   "cell_type": "markdown",
   "metadata": {},
   "source": [
    "#### 1.1.1 Add 'clone_id'\n",
    "\n",
    "Add a column of **'clone_id'** to all rows in data. And the value is:\n",
    "\n",
    "- zero complex.id records: clone*0*{number of rows in the original record}\n",
    "- non-zero complex.id records: complex*1*{clone.id of the original record}\n"
   ]
  },
  {
   "cell_type": "code",
   "execution_count": 20,
   "metadata": {
    "ExecuteTime": {
     "end_time": "2024-03-04T16:39:30.990979500Z",
     "start_time": "2024-03-04T16:39:03.346468500Z"
    }
   },
   "outputs": [
    {
     "name": "stderr",
     "output_type": "stream",
     "text": [
      "<ipython-input-20-b50003e422d8>:2: SettingWithCopyWarning: \n",
      "A value is trying to be set on a copy of a slice from a DataFrame.\n",
      "Try using .loc[row_indexer,col_indexer] = value instead\n",
      "\n",
      "See the caveats in the documentation: https://pandas.pydata.org/pandas-docs/stable/user_guide/indexing.html#returning-a-view-versus-a-copy\n",
      "  data[\"clone_id\"] = \"\"\n",
      "D:\\Anaconda\\lib\\site-packages\\pandas\\core\\indexing.py:966: SettingWithCopyWarning: \n",
      "A value is trying to be set on a copy of a slice from a DataFrame.\n",
      "Try using .loc[row_indexer,col_indexer] = value instead\n",
      "\n",
      "See the caveats in the documentation: https://pandas.pydata.org/pandas-docs/stable/user_guide/indexing.html#returning-a-view-versus-a-copy\n",
      "  self.obj[item] = s\n"
     ]
    }
   ],
   "source": [
    "# Add a column of 'clone_id' to all rows\n",
    "data[\"clone_id\"] = \"\"\n",
    "\n",
    "# Give the 'clone_id' record with zero complex.id the value:\n",
    "# clone_0_{number of rows in the original record}\n",
    "zero_complex_ids = data[data[\"complex.id\"] == 0].index\n",
    "data.loc[zero_complex_ids, \"clone_id\"] = zero_complex_ids.map(lambda x: f\"clone_0_{x}\")\n",
    "\n",
    "# Give the 'clone_id' record with non-zero complex.id the value:\n",
    "# clone_1_{complex.id of the original record}\n",
    "non_zero_complex_ids = data[data[\"complex.id\"] != 0][\"complex.id\"].unique()\n",
    "for complex_id in non_zero_complex_ids:\n",
    "    indices = data[data[\"complex.id\"] == complex_id].index\n",
    "    data.loc[indices, \"clone_id\"] = f\"clone_1_{complex_id}\""
   ]
  },
  {
   "cell_type": "markdown",
   "metadata": {},
   "source": [
    "#### 1.1.2 Duplicate complex.id 0 records\n",
    "\n",
    "Duplicate the records with complex.id of 0 and modify the gene columns.\n"
   ]
  },
  {
   "cell_type": "code",
   "execution_count": 21,
   "metadata": {
    "ExecuteTime": {
     "end_time": "2024-03-04T16:39:31.082416800Z",
     "start_time": "2024-03-04T16:39:30.994370800Z"
    }
   },
   "outputs": [],
   "source": [
    "data_copy = data[data[\"complex.id\"] == 0].copy()\n",
    "data_copy[\"gene\"] = data_copy[\"gene\"].map({\"TRA\": \"TRB\", \"TRB\": \"TRA\"})"
   ]
  },
  {
   "cell_type": "code",
   "execution_count": 22,
   "metadata": {
    "ExecuteTime": {
     "end_time": "2024-03-04T16:39:31.157034400Z",
     "start_time": "2024-03-04T16:39:31.027204800Z"
    }
   },
   "outputs": [],
   "source": [
    "# set all columns except 'complex.id', 'clone_id' and the modified 'gene' column to e,.\n",
    "for col in data_copy.columns:\n",
    "    if col not in [\"complex.id\", \"species\", \"antigen.gene\", \"count\", \"clone_id\", \"gene\"]:\n",
    "        data_copy[col] = np.nan\n",
    "\n",
    "# Merge original and copied data\n",
    "data_copy = pd.concat([data, data_copy], ignore_index=True)"
   ]
  },
  {
   "cell_type": "code",
   "execution_count": 23,
   "metadata": {
    "ExecuteTime": {
     "end_time": "2024-03-04T16:39:31.230991500Z",
     "start_time": "2024-03-04T16:39:31.067187100Z"
    }
   },
   "outputs": [
    {
     "data": {
      "text/html": [
       "<div>\n",
       "<style scoped>\n",
       "    .dataframe tbody tr th:only-of-type {\n",
       "        vertical-align: middle;\n",
       "    }\n",
       "\n",
       "    .dataframe tbody tr th {\n",
       "        vertical-align: top;\n",
       "    }\n",
       "\n",
       "    .dataframe thead th {\n",
       "        text-align: right;\n",
       "    }\n",
       "</style>\n",
       "<table border=\"1\" class=\"dataframe\">\n",
       "  <thead>\n",
       "    <tr style=\"text-align: right;\">\n",
       "      <th></th>\n",
       "      <th>complex.id</th>\n",
       "      <th>gene</th>\n",
       "      <th>cdr3</th>\n",
       "      <th>v.segm</th>\n",
       "      <th>j.segm</th>\n",
       "      <th>species</th>\n",
       "      <th>mhc.a</th>\n",
       "      <th>mhc.b</th>\n",
       "      <th>mhc.class</th>\n",
       "      <th>antigen.epitope</th>\n",
       "      <th>antigen.gene</th>\n",
       "      <th>antigen.species</th>\n",
       "      <th>vdjdb.score</th>\n",
       "      <th>clone_id</th>\n",
       "    </tr>\n",
       "  </thead>\n",
       "  <tbody>\n",
       "    <tr>\n",
       "      <th>0</th>\n",
       "      <td>1</td>\n",
       "      <td>TRA</td>\n",
       "      <td>CIVRAPGRADMRF</td>\n",
       "      <td>TRAV26-1*01</td>\n",
       "      <td>TRAJ43*01</td>\n",
       "      <td>HomoSapiens</td>\n",
       "      <td>HLA-B*08</td>\n",
       "      <td>B2M</td>\n",
       "      <td>MHCI</td>\n",
       "      <td>FLKEKGGL</td>\n",
       "      <td>Nef</td>\n",
       "      <td>HIV-1</td>\n",
       "      <td>2.0</td>\n",
       "      <td>clone_1_1</td>\n",
       "    </tr>\n",
       "    <tr>\n",
       "      <th>1</th>\n",
       "      <td>1</td>\n",
       "      <td>TRB</td>\n",
       "      <td>CASSYLPGQGDHYSNQPQHF</td>\n",
       "      <td>TRBV13*01</td>\n",
       "      <td>TRBJ1-5*01</td>\n",
       "      <td>HomoSapiens</td>\n",
       "      <td>HLA-B*08</td>\n",
       "      <td>B2M</td>\n",
       "      <td>MHCI</td>\n",
       "      <td>FLKEKGGL</td>\n",
       "      <td>Nef</td>\n",
       "      <td>HIV-1</td>\n",
       "      <td>2.0</td>\n",
       "      <td>clone_1_1</td>\n",
       "    </tr>\n",
       "    <tr>\n",
       "      <th>3</th>\n",
       "      <td>2</td>\n",
       "      <td>TRA</td>\n",
       "      <td>CAVPSGAGSYQLTF</td>\n",
       "      <td>TRAV20*01</td>\n",
       "      <td>TRAJ28*01</td>\n",
       "      <td>HomoSapiens</td>\n",
       "      <td>HLA-B*08</td>\n",
       "      <td>B2M</td>\n",
       "      <td>MHCI</td>\n",
       "      <td>FLKEKGGL</td>\n",
       "      <td>Nef</td>\n",
       "      <td>HIV-1</td>\n",
       "      <td>2.0</td>\n",
       "      <td>clone_1_2</td>\n",
       "    </tr>\n",
       "    <tr>\n",
       "      <th>4</th>\n",
       "      <td>2</td>\n",
       "      <td>TRB</td>\n",
       "      <td>CASSFEPGQGFYSNQPQHF</td>\n",
       "      <td>TRBV13*01</td>\n",
       "      <td>TRBJ1-5*01</td>\n",
       "      <td>HomoSapiens</td>\n",
       "      <td>HLA-B*08</td>\n",
       "      <td>B2M</td>\n",
       "      <td>MHCI</td>\n",
       "      <td>FLKEKGGL</td>\n",
       "      <td>Nef</td>\n",
       "      <td>HIV-1</td>\n",
       "      <td>2.0</td>\n",
       "      <td>clone_1_2</td>\n",
       "    </tr>\n",
       "    <tr>\n",
       "      <th>5</th>\n",
       "      <td>3</td>\n",
       "      <td>TRA</td>\n",
       "      <td>CAVKASGSRLT</td>\n",
       "      <td>TRAV2*01</td>\n",
       "      <td>NaN</td>\n",
       "      <td>HomoSapiens</td>\n",
       "      <td>HLA-B*08</td>\n",
       "      <td>B2M</td>\n",
       "      <td>MHCI</td>\n",
       "      <td>FLKEKGGL</td>\n",
       "      <td>Nef</td>\n",
       "      <td>HIV-1</td>\n",
       "      <td>2.0</td>\n",
       "      <td>clone_1_3</td>\n",
       "    </tr>\n",
       "    <tr>\n",
       "      <th>...</th>\n",
       "      <td>...</td>\n",
       "      <td>...</td>\n",
       "      <td>...</td>\n",
       "      <td>...</td>\n",
       "      <td>...</td>\n",
       "      <td>...</td>\n",
       "      <td>...</td>\n",
       "      <td>...</td>\n",
       "      <td>...</td>\n",
       "      <td>...</td>\n",
       "      <td>...</td>\n",
       "      <td>...</td>\n",
       "      <td>...</td>\n",
       "      <td>...</td>\n",
       "    </tr>\n",
       "    <tr>\n",
       "      <th>92766</th>\n",
       "      <td>30592</td>\n",
       "      <td>TRB</td>\n",
       "      <td>CASSPGQGGDNEQFF</td>\n",
       "      <td>TRBV7-3*01</td>\n",
       "      <td>TRBJ2-1*01</td>\n",
       "      <td>HomoSapiens</td>\n",
       "      <td>HLA-DQA1*05:01</td>\n",
       "      <td>HLA-DQB1*02:01</td>\n",
       "      <td>MHCII</td>\n",
       "      <td>PQQPFPQPEQPFP</td>\n",
       "      <td>Gluten</td>\n",
       "      <td>Wheat</td>\n",
       "      <td>0.0</td>\n",
       "      <td>clone_1_30592</td>\n",
       "    </tr>\n",
       "    <tr>\n",
       "      <th>92767</th>\n",
       "      <td>30593</td>\n",
       "      <td>TRA</td>\n",
       "      <td>CAPQGATNKLIF</td>\n",
       "      <td>TRAV12-2*01</td>\n",
       "      <td>TRAJ32*01</td>\n",
       "      <td>HomoSapiens</td>\n",
       "      <td>HLA-DQA1*05:01</td>\n",
       "      <td>HLA-DQB1*02:01</td>\n",
       "      <td>MHCII</td>\n",
       "      <td>PQQPFPQPEQPFP</td>\n",
       "      <td>Gluten</td>\n",
       "      <td>Wheat</td>\n",
       "      <td>2.0</td>\n",
       "      <td>clone_1_30593</td>\n",
       "    </tr>\n",
       "    <tr>\n",
       "      <th>92768</th>\n",
       "      <td>30593</td>\n",
       "      <td>TRB</td>\n",
       "      <td>CASSLGAGGQETQYF</td>\n",
       "      <td>TRBV5-1*01</td>\n",
       "      <td>TRBJ2-5*01</td>\n",
       "      <td>HomoSapiens</td>\n",
       "      <td>HLA-DQA1*05:01</td>\n",
       "      <td>HLA-DQB1*02:01</td>\n",
       "      <td>MHCII</td>\n",
       "      <td>PQQPFPQPEQPFP</td>\n",
       "      <td>Gluten</td>\n",
       "      <td>Wheat</td>\n",
       "      <td>2.0</td>\n",
       "      <td>clone_1_30593</td>\n",
       "    </tr>\n",
       "    <tr>\n",
       "      <th>92769</th>\n",
       "      <td>30594</td>\n",
       "      <td>TRA</td>\n",
       "      <td>CLVGGSGGYNKLIF</td>\n",
       "      <td>TRAV4*01</td>\n",
       "      <td>TRAJ4*01</td>\n",
       "      <td>HomoSapiens</td>\n",
       "      <td>HLA-DQA1*05:01</td>\n",
       "      <td>HLA-DQB1*02:01</td>\n",
       "      <td>MHCII</td>\n",
       "      <td>PQQPFPQPEQPFP</td>\n",
       "      <td>Gluten</td>\n",
       "      <td>Wheat</td>\n",
       "      <td>0.0</td>\n",
       "      <td>clone_1_30594</td>\n",
       "    </tr>\n",
       "    <tr>\n",
       "      <th>92770</th>\n",
       "      <td>30594</td>\n",
       "      <td>TRB</td>\n",
       "      <td>CASSSTAQETQYF</td>\n",
       "      <td>TRBV11-2*01</td>\n",
       "      <td>TRBJ2-5*01</td>\n",
       "      <td>HomoSapiens</td>\n",
       "      <td>HLA-DQA1*05:01</td>\n",
       "      <td>HLA-DQB1*02:01</td>\n",
       "      <td>MHCII</td>\n",
       "      <td>PQQPFPQPEQPFP</td>\n",
       "      <td>Gluten</td>\n",
       "      <td>Wheat</td>\n",
       "      <td>0.0</td>\n",
       "      <td>clone_1_30594</td>\n",
       "    </tr>\n",
       "  </tbody>\n",
       "</table>\n",
       "<p>61188 rows × 14 columns</p>\n",
       "</div>"
      ],
      "text/plain": [
       "       complex.id gene                  cdr3       v.segm      j.segm  \\\n",
       "0               1  TRA         CIVRAPGRADMRF  TRAV26-1*01   TRAJ43*01   \n",
       "1               1  TRB  CASSYLPGQGDHYSNQPQHF    TRBV13*01  TRBJ1-5*01   \n",
       "3               2  TRA        CAVPSGAGSYQLTF    TRAV20*01   TRAJ28*01   \n",
       "4               2  TRB   CASSFEPGQGFYSNQPQHF    TRBV13*01  TRBJ1-5*01   \n",
       "5               3  TRA           CAVKASGSRLT     TRAV2*01         NaN   \n",
       "...           ...  ...                   ...          ...         ...   \n",
       "92766       30592  TRB       CASSPGQGGDNEQFF   TRBV7-3*01  TRBJ2-1*01   \n",
       "92767       30593  TRA          CAPQGATNKLIF  TRAV12-2*01   TRAJ32*01   \n",
       "92768       30593  TRB       CASSLGAGGQETQYF   TRBV5-1*01  TRBJ2-5*01   \n",
       "92769       30594  TRA        CLVGGSGGYNKLIF     TRAV4*01    TRAJ4*01   \n",
       "92770       30594  TRB         CASSSTAQETQYF  TRBV11-2*01  TRBJ2-5*01   \n",
       "\n",
       "           species           mhc.a           mhc.b mhc.class antigen.epitope  \\\n",
       "0      HomoSapiens        HLA-B*08             B2M      MHCI        FLKEKGGL   \n",
       "1      HomoSapiens        HLA-B*08             B2M      MHCI        FLKEKGGL   \n",
       "3      HomoSapiens        HLA-B*08             B2M      MHCI        FLKEKGGL   \n",
       "4      HomoSapiens        HLA-B*08             B2M      MHCI        FLKEKGGL   \n",
       "5      HomoSapiens        HLA-B*08             B2M      MHCI        FLKEKGGL   \n",
       "...            ...             ...             ...       ...             ...   \n",
       "92766  HomoSapiens  HLA-DQA1*05:01  HLA-DQB1*02:01     MHCII   PQQPFPQPEQPFP   \n",
       "92767  HomoSapiens  HLA-DQA1*05:01  HLA-DQB1*02:01     MHCII   PQQPFPQPEQPFP   \n",
       "92768  HomoSapiens  HLA-DQA1*05:01  HLA-DQB1*02:01     MHCII   PQQPFPQPEQPFP   \n",
       "92769  HomoSapiens  HLA-DQA1*05:01  HLA-DQB1*02:01     MHCII   PQQPFPQPEQPFP   \n",
       "92770  HomoSapiens  HLA-DQA1*05:01  HLA-DQB1*02:01     MHCII   PQQPFPQPEQPFP   \n",
       "\n",
       "      antigen.gene antigen.species  vdjdb.score       clone_id  \n",
       "0              Nef           HIV-1          2.0      clone_1_1  \n",
       "1              Nef           HIV-1          2.0      clone_1_1  \n",
       "3              Nef           HIV-1          2.0      clone_1_2  \n",
       "4              Nef           HIV-1          2.0      clone_1_2  \n",
       "5              Nef           HIV-1          2.0      clone_1_3  \n",
       "...            ...             ...          ...            ...  \n",
       "92766       Gluten           Wheat          0.0  clone_1_30592  \n",
       "92767       Gluten           Wheat          2.0  clone_1_30593  \n",
       "92768       Gluten           Wheat          2.0  clone_1_30593  \n",
       "92769       Gluten           Wheat          0.0  clone_1_30594  \n",
       "92770       Gluten           Wheat          0.0  clone_1_30594  \n",
       "\n",
       "[61188 rows x 14 columns]"
      ]
     },
     "execution_count": 23,
     "metadata": {},
     "output_type": "execute_result"
    }
   ],
   "source": [
    "data_copy[data_copy[\"complex.id\"] != 0]"
   ]
  },
  {
   "cell_type": "markdown",
   "metadata": {},
   "source": [
    "#### 1.1.3 Add 'count'\n",
    "\n",
    "Set 'count' of all rows to 1\n"
   ]
  },
  {
   "cell_type": "code",
   "execution_count": 24,
   "metadata": {
    "ExecuteTime": {
     "end_time": "2024-03-04T16:39:31.238982300Z",
     "start_time": "2024-03-04T16:39:31.114649200Z"
    }
   },
   "outputs": [],
   "source": [
    "data_copy[\"count\"] = 1"
   ]
  },
  {
   "cell_type": "markdown",
   "metadata": {},
   "source": [
    "#### 1.1.4 Select the columns for GIANA input\n",
    "\n",
    "I changed the GIANA package to accept arrays as input instead of a file name which could only be run from the terminal.\n",
    "\n",
    "The header and first line of a typical input for a beta-chain analysis would look like this:\n",
    "\n",
    "| subject | epitope | count | v_b_gene  | j_b_gene    |\n",
    "| ------- | ------- | ----- | --------- | ----------- |\n",
    "| s1      | NP      | 1     | TRBV1\\*01 | TRBJ1-1\\*01 |\n",
    "\n",
    "| cdr3_b_aa           | cdr3_b_nucseq                                             |\n",
    "| ------------------- | --------------------------------------------------------- |\n",
    "| CACDSLGDKSSWDTRQMFF | TGTGCCTGTGACTCGCTGGGGGATAAGAGCTCCTGGGACACCCGACAGATGTTTTTC |\n",
    "\n",
    "- GIANA only requires 1 input columns for chain analysis, which is the `cdr3_b_aa`.\n",
    "\n",
    "- The column `v_b_gene`, `count` are optional.\n",
    "\n",
    "Note that GIANA only supports analysis of TRBV sequences."
   ]
  },
  {
   "cell_type": "code",
   "execution_count": 25,
   "metadata": {
    "ExecuteTime": {
     "end_time": "2024-03-04T16:39:31.401475600Z",
     "start_time": "2024-03-04T16:39:31.166219400Z"
    },
    "scrolled": false
   },
   "outputs": [],
   "source": [
    "df = data_copy.iloc[:, list(range(0, 6)) + [9, 12, 13, 14]]"
   ]
  },
  {
   "cell_type": "code",
   "execution_count": 26,
   "metadata": {
    "ExecuteTime": {
     "end_time": "2024-03-04T16:39:31.429329Z",
     "start_time": "2024-03-04T16:39:31.200365600Z"
    }
   },
   "outputs": [
    {
     "data": {
      "text/html": [
       "<div>\n",
       "<style scoped>\n",
       "    .dataframe tbody tr th:only-of-type {\n",
       "        vertical-align: middle;\n",
       "    }\n",
       "\n",
       "    .dataframe tbody tr th {\n",
       "        vertical-align: top;\n",
       "    }\n",
       "\n",
       "    .dataframe thead th {\n",
       "        text-align: right;\n",
       "    }\n",
       "</style>\n",
       "<table border=\"1\" class=\"dataframe\">\n",
       "  <thead>\n",
       "    <tr style=\"text-align: right;\">\n",
       "      <th></th>\n",
       "      <th>complex.id</th>\n",
       "      <th>gene</th>\n",
       "      <th>cdr3</th>\n",
       "      <th>v.segm</th>\n",
       "      <th>j.segm</th>\n",
       "      <th>species</th>\n",
       "      <th>antigen.epitope</th>\n",
       "      <th>vdjdb.score</th>\n",
       "      <th>clone_id</th>\n",
       "      <th>count</th>\n",
       "    </tr>\n",
       "  </thead>\n",
       "  <tbody>\n",
       "    <tr>\n",
       "      <th>0</th>\n",
       "      <td>1</td>\n",
       "      <td>TRA</td>\n",
       "      <td>CIVRAPGRADMRF</td>\n",
       "      <td>TRAV26-1*01</td>\n",
       "      <td>TRAJ43*01</td>\n",
       "      <td>HomoSapiens</td>\n",
       "      <td>FLKEKGGL</td>\n",
       "      <td>2.0</td>\n",
       "      <td>clone_1_1</td>\n",
       "      <td>1</td>\n",
       "    </tr>\n",
       "    <tr>\n",
       "      <th>1</th>\n",
       "      <td>1</td>\n",
       "      <td>TRB</td>\n",
       "      <td>CASSYLPGQGDHYSNQPQHF</td>\n",
       "      <td>TRBV13*01</td>\n",
       "      <td>TRBJ1-5*01</td>\n",
       "      <td>HomoSapiens</td>\n",
       "      <td>FLKEKGGL</td>\n",
       "      <td>2.0</td>\n",
       "      <td>clone_1_1</td>\n",
       "      <td>1</td>\n",
       "    </tr>\n",
       "    <tr>\n",
       "      <th>3</th>\n",
       "      <td>2</td>\n",
       "      <td>TRA</td>\n",
       "      <td>CAVPSGAGSYQLTF</td>\n",
       "      <td>TRAV20*01</td>\n",
       "      <td>TRAJ28*01</td>\n",
       "      <td>HomoSapiens</td>\n",
       "      <td>FLKEKGGL</td>\n",
       "      <td>2.0</td>\n",
       "      <td>clone_1_2</td>\n",
       "      <td>1</td>\n",
       "    </tr>\n",
       "    <tr>\n",
       "      <th>4</th>\n",
       "      <td>2</td>\n",
       "      <td>TRB</td>\n",
       "      <td>CASSFEPGQGFYSNQPQHF</td>\n",
       "      <td>TRBV13*01</td>\n",
       "      <td>TRBJ1-5*01</td>\n",
       "      <td>HomoSapiens</td>\n",
       "      <td>FLKEKGGL</td>\n",
       "      <td>2.0</td>\n",
       "      <td>clone_1_2</td>\n",
       "      <td>1</td>\n",
       "    </tr>\n",
       "    <tr>\n",
       "      <th>5</th>\n",
       "      <td>3</td>\n",
       "      <td>TRA</td>\n",
       "      <td>CAVKASGSRLT</td>\n",
       "      <td>TRAV2*01</td>\n",
       "      <td>NaN</td>\n",
       "      <td>HomoSapiens</td>\n",
       "      <td>FLKEKGGL</td>\n",
       "      <td>2.0</td>\n",
       "      <td>clone_1_3</td>\n",
       "      <td>1</td>\n",
       "    </tr>\n",
       "    <tr>\n",
       "      <th>...</th>\n",
       "      <td>...</td>\n",
       "      <td>...</td>\n",
       "      <td>...</td>\n",
       "      <td>...</td>\n",
       "      <td>...</td>\n",
       "      <td>...</td>\n",
       "      <td>...</td>\n",
       "      <td>...</td>\n",
       "      <td>...</td>\n",
       "      <td>...</td>\n",
       "    </tr>\n",
       "    <tr>\n",
       "      <th>92766</th>\n",
       "      <td>30592</td>\n",
       "      <td>TRB</td>\n",
       "      <td>CASSPGQGGDNEQFF</td>\n",
       "      <td>TRBV7-3*01</td>\n",
       "      <td>TRBJ2-1*01</td>\n",
       "      <td>HomoSapiens</td>\n",
       "      <td>PQQPFPQPEQPFP</td>\n",
       "      <td>0.0</td>\n",
       "      <td>clone_1_30592</td>\n",
       "      <td>1</td>\n",
       "    </tr>\n",
       "    <tr>\n",
       "      <th>92767</th>\n",
       "      <td>30593</td>\n",
       "      <td>TRA</td>\n",
       "      <td>CAPQGATNKLIF</td>\n",
       "      <td>TRAV12-2*01</td>\n",
       "      <td>TRAJ32*01</td>\n",
       "      <td>HomoSapiens</td>\n",
       "      <td>PQQPFPQPEQPFP</td>\n",
       "      <td>2.0</td>\n",
       "      <td>clone_1_30593</td>\n",
       "      <td>1</td>\n",
       "    </tr>\n",
       "    <tr>\n",
       "      <th>92768</th>\n",
       "      <td>30593</td>\n",
       "      <td>TRB</td>\n",
       "      <td>CASSLGAGGQETQYF</td>\n",
       "      <td>TRBV5-1*01</td>\n",
       "      <td>TRBJ2-5*01</td>\n",
       "      <td>HomoSapiens</td>\n",
       "      <td>PQQPFPQPEQPFP</td>\n",
       "      <td>2.0</td>\n",
       "      <td>clone_1_30593</td>\n",
       "      <td>1</td>\n",
       "    </tr>\n",
       "    <tr>\n",
       "      <th>92769</th>\n",
       "      <td>30594</td>\n",
       "      <td>TRA</td>\n",
       "      <td>CLVGGSGGYNKLIF</td>\n",
       "      <td>TRAV4*01</td>\n",
       "      <td>TRAJ4*01</td>\n",
       "      <td>HomoSapiens</td>\n",
       "      <td>PQQPFPQPEQPFP</td>\n",
       "      <td>0.0</td>\n",
       "      <td>clone_1_30594</td>\n",
       "      <td>1</td>\n",
       "    </tr>\n",
       "    <tr>\n",
       "      <th>92770</th>\n",
       "      <td>30594</td>\n",
       "      <td>TRB</td>\n",
       "      <td>CASSSTAQETQYF</td>\n",
       "      <td>TRBV11-2*01</td>\n",
       "      <td>TRBJ2-5*01</td>\n",
       "      <td>HomoSapiens</td>\n",
       "      <td>PQQPFPQPEQPFP</td>\n",
       "      <td>0.0</td>\n",
       "      <td>clone_1_30594</td>\n",
       "      <td>1</td>\n",
       "    </tr>\n",
       "  </tbody>\n",
       "</table>\n",
       "<p>61188 rows × 10 columns</p>\n",
       "</div>"
      ],
      "text/plain": [
       "       complex.id gene                  cdr3       v.segm      j.segm  \\\n",
       "0               1  TRA         CIVRAPGRADMRF  TRAV26-1*01   TRAJ43*01   \n",
       "1               1  TRB  CASSYLPGQGDHYSNQPQHF    TRBV13*01  TRBJ1-5*01   \n",
       "3               2  TRA        CAVPSGAGSYQLTF    TRAV20*01   TRAJ28*01   \n",
       "4               2  TRB   CASSFEPGQGFYSNQPQHF    TRBV13*01  TRBJ1-5*01   \n",
       "5               3  TRA           CAVKASGSRLT     TRAV2*01         NaN   \n",
       "...           ...  ...                   ...          ...         ...   \n",
       "92766       30592  TRB       CASSPGQGGDNEQFF   TRBV7-3*01  TRBJ2-1*01   \n",
       "92767       30593  TRA          CAPQGATNKLIF  TRAV12-2*01   TRAJ32*01   \n",
       "92768       30593  TRB       CASSLGAGGQETQYF   TRBV5-1*01  TRBJ2-5*01   \n",
       "92769       30594  TRA        CLVGGSGGYNKLIF     TRAV4*01    TRAJ4*01   \n",
       "92770       30594  TRB         CASSSTAQETQYF  TRBV11-2*01  TRBJ2-5*01   \n",
       "\n",
       "           species antigen.epitope  vdjdb.score       clone_id  count  \n",
       "0      HomoSapiens        FLKEKGGL          2.0      clone_1_1      1  \n",
       "1      HomoSapiens        FLKEKGGL          2.0      clone_1_1      1  \n",
       "3      HomoSapiens        FLKEKGGL          2.0      clone_1_2      1  \n",
       "4      HomoSapiens        FLKEKGGL          2.0      clone_1_2      1  \n",
       "5      HomoSapiens        FLKEKGGL          2.0      clone_1_3      1  \n",
       "...            ...             ...          ...            ...    ...  \n",
       "92766  HomoSapiens   PQQPFPQPEQPFP          0.0  clone_1_30592      1  \n",
       "92767  HomoSapiens   PQQPFPQPEQPFP          2.0  clone_1_30593      1  \n",
       "92768  HomoSapiens   PQQPFPQPEQPFP          2.0  clone_1_30593      1  \n",
       "92769  HomoSapiens   PQQPFPQPEQPFP          0.0  clone_1_30594      1  \n",
       "92770  HomoSapiens   PQQPFPQPEQPFP          0.0  clone_1_30594      1  \n",
       "\n",
       "[61188 rows x 10 columns]"
      ]
     },
     "execution_count": 26,
     "metadata": {},
     "output_type": "execute_result"
    }
   ],
   "source": [
    "df[df[\"complex.id\"] != 0]"
   ]
  },
  {
   "cell_type": "code",
   "execution_count": 27,
   "metadata": {
    "ExecuteTime": {
     "end_time": "2024-03-04T16:39:31.463279900Z",
     "start_time": "2024-03-04T16:39:31.238982300Z"
    }
   },
   "outputs": [
    {
     "data": {
      "text/html": [
       "<div>\n",
       "<style scoped>\n",
       "    .dataframe tbody tr th:only-of-type {\n",
       "        vertical-align: middle;\n",
       "    }\n",
       "\n",
       "    .dataframe tbody tr th {\n",
       "        vertical-align: top;\n",
       "    }\n",
       "\n",
       "    .dataframe thead th {\n",
       "        text-align: right;\n",
       "    }\n",
       "</style>\n",
       "<table border=\"1\" class=\"dataframe\">\n",
       "  <thead>\n",
       "    <tr style=\"text-align: right;\">\n",
       "      <th></th>\n",
       "      <th>complex.id</th>\n",
       "      <th>gene</th>\n",
       "      <th>cdr3</th>\n",
       "      <th>v.segm</th>\n",
       "      <th>j.segm</th>\n",
       "      <th>species</th>\n",
       "      <th>antigen.epitope</th>\n",
       "      <th>vdjdb.score</th>\n",
       "      <th>clone_id</th>\n",
       "      <th>count</th>\n",
       "    </tr>\n",
       "  </thead>\n",
       "  <tbody>\n",
       "    <tr>\n",
       "      <th>2</th>\n",
       "      <td>0</td>\n",
       "      <td>TRB</td>\n",
       "      <td>CASSFEAGQGFFSNQPQHF</td>\n",
       "      <td>TRBV13*01</td>\n",
       "      <td>TRBJ1-5*01</td>\n",
       "      <td>HomoSapiens</td>\n",
       "      <td>FLKEKGGL</td>\n",
       "      <td>2.0</td>\n",
       "      <td>clone_0_2</td>\n",
       "      <td>1</td>\n",
       "    </tr>\n",
       "    <tr>\n",
       "      <th>11</th>\n",
       "      <td>0</td>\n",
       "      <td>TRB</td>\n",
       "      <td>CASSFEAGQGFFSNQPQHF</td>\n",
       "      <td>TRBV13*01</td>\n",
       "      <td>TRBJ1-5*01</td>\n",
       "      <td>HomoSapiens</td>\n",
       "      <td>FLKEQGGL</td>\n",
       "      <td>2.0</td>\n",
       "      <td>clone_0_11</td>\n",
       "      <td>1</td>\n",
       "    </tr>\n",
       "    <tr>\n",
       "      <th>18</th>\n",
       "      <td>0</td>\n",
       "      <td>TRB</td>\n",
       "      <td>CASSFEAGQGFFSNQPQHF</td>\n",
       "      <td>TRBV13*01</td>\n",
       "      <td>TRBJ1-5*01</td>\n",
       "      <td>HomoSapiens</td>\n",
       "      <td>FLKETGGL</td>\n",
       "      <td>2.0</td>\n",
       "      <td>clone_0_18</td>\n",
       "      <td>1</td>\n",
       "    </tr>\n",
       "    <tr>\n",
       "      <th>25</th>\n",
       "      <td>0</td>\n",
       "      <td>TRB</td>\n",
       "      <td>CASSFEAGQGFFSNQPQHF</td>\n",
       "      <td>TRBV13*01</td>\n",
       "      <td>TRBJ1-5*01</td>\n",
       "      <td>HomoSapiens</td>\n",
       "      <td>FLKEMGGL</td>\n",
       "      <td>2.0</td>\n",
       "      <td>clone_0_25</td>\n",
       "      <td>1</td>\n",
       "    </tr>\n",
       "    <tr>\n",
       "      <th>30</th>\n",
       "      <td>0</td>\n",
       "      <td>TRB</td>\n",
       "      <td>CASSFGVEDEQYF</td>\n",
       "      <td>TRBV7-2*01</td>\n",
       "      <td>TRBJ2-7*01</td>\n",
       "      <td>HomoSapiens</td>\n",
       "      <td>LQPFPQPELPYPQPQ</td>\n",
       "      <td>1.0</td>\n",
       "      <td>clone_0_30</td>\n",
       "      <td>1</td>\n",
       "    </tr>\n",
       "    <tr>\n",
       "      <th>...</th>\n",
       "      <td>...</td>\n",
       "      <td>...</td>\n",
       "      <td>...</td>\n",
       "      <td>...</td>\n",
       "      <td>...</td>\n",
       "      <td>...</td>\n",
       "      <td>...</td>\n",
       "      <td>...</td>\n",
       "      <td>...</td>\n",
       "      <td>...</td>\n",
       "    </tr>\n",
       "    <tr>\n",
       "      <th>124349</th>\n",
       "      <td>0</td>\n",
       "      <td>TRB</td>\n",
       "      <td>NaN</td>\n",
       "      <td>NaN</td>\n",
       "      <td>NaN</td>\n",
       "      <td>HomoSapiens</td>\n",
       "      <td>NaN</td>\n",
       "      <td>NaN</td>\n",
       "      <td>clone_0_92664</td>\n",
       "      <td>1</td>\n",
       "    </tr>\n",
       "    <tr>\n",
       "      <th>124350</th>\n",
       "      <td>0</td>\n",
       "      <td>TRB</td>\n",
       "      <td>NaN</td>\n",
       "      <td>NaN</td>\n",
       "      <td>NaN</td>\n",
       "      <td>HomoSapiens</td>\n",
       "      <td>NaN</td>\n",
       "      <td>NaN</td>\n",
       "      <td>clone_0_92665</td>\n",
       "      <td>1</td>\n",
       "    </tr>\n",
       "    <tr>\n",
       "      <th>124351</th>\n",
       "      <td>0</td>\n",
       "      <td>TRB</td>\n",
       "      <td>NaN</td>\n",
       "      <td>NaN</td>\n",
       "      <td>NaN</td>\n",
       "      <td>HomoSapiens</td>\n",
       "      <td>NaN</td>\n",
       "      <td>NaN</td>\n",
       "      <td>clone_0_92666</td>\n",
       "      <td>1</td>\n",
       "    </tr>\n",
       "    <tr>\n",
       "      <th>124352</th>\n",
       "      <td>0</td>\n",
       "      <td>TRA</td>\n",
       "      <td>NaN</td>\n",
       "      <td>NaN</td>\n",
       "      <td>NaN</td>\n",
       "      <td>HomoSapiens</td>\n",
       "      <td>NaN</td>\n",
       "      <td>NaN</td>\n",
       "      <td>clone_0_92667</td>\n",
       "      <td>1</td>\n",
       "    </tr>\n",
       "    <tr>\n",
       "      <th>124353</th>\n",
       "      <td>0</td>\n",
       "      <td>TRA</td>\n",
       "      <td>NaN</td>\n",
       "      <td>NaN</td>\n",
       "      <td>NaN</td>\n",
       "      <td>HomoSapiens</td>\n",
       "      <td>NaN</td>\n",
       "      <td>NaN</td>\n",
       "      <td>clone_0_92668</td>\n",
       "      <td>1</td>\n",
       "    </tr>\n",
       "  </tbody>\n",
       "</table>\n",
       "<p>63166 rows × 10 columns</p>\n",
       "</div>"
      ],
      "text/plain": [
       "        complex.id gene                 cdr3      v.segm      j.segm  \\\n",
       "2                0  TRB  CASSFEAGQGFFSNQPQHF   TRBV13*01  TRBJ1-5*01   \n",
       "11               0  TRB  CASSFEAGQGFFSNQPQHF   TRBV13*01  TRBJ1-5*01   \n",
       "18               0  TRB  CASSFEAGQGFFSNQPQHF   TRBV13*01  TRBJ1-5*01   \n",
       "25               0  TRB  CASSFEAGQGFFSNQPQHF   TRBV13*01  TRBJ1-5*01   \n",
       "30               0  TRB        CASSFGVEDEQYF  TRBV7-2*01  TRBJ2-7*01   \n",
       "...            ...  ...                  ...         ...         ...   \n",
       "124349           0  TRB                  NaN         NaN         NaN   \n",
       "124350           0  TRB                  NaN         NaN         NaN   \n",
       "124351           0  TRB                  NaN         NaN         NaN   \n",
       "124352           0  TRA                  NaN         NaN         NaN   \n",
       "124353           0  TRA                  NaN         NaN         NaN   \n",
       "\n",
       "            species  antigen.epitope  vdjdb.score       clone_id  count  \n",
       "2       HomoSapiens         FLKEKGGL          2.0      clone_0_2      1  \n",
       "11      HomoSapiens         FLKEQGGL          2.0     clone_0_11      1  \n",
       "18      HomoSapiens         FLKETGGL          2.0     clone_0_18      1  \n",
       "25      HomoSapiens         FLKEMGGL          2.0     clone_0_25      1  \n",
       "30      HomoSapiens  LQPFPQPELPYPQPQ          1.0     clone_0_30      1  \n",
       "...             ...              ...          ...            ...    ...  \n",
       "124349  HomoSapiens              NaN          NaN  clone_0_92664      1  \n",
       "124350  HomoSapiens              NaN          NaN  clone_0_92665      1  \n",
       "124351  HomoSapiens              NaN          NaN  clone_0_92666      1  \n",
       "124352  HomoSapiens              NaN          NaN  clone_0_92667      1  \n",
       "124353  HomoSapiens              NaN          NaN  clone_0_92668      1  \n",
       "\n",
       "[63166 rows x 10 columns]"
      ]
     },
     "execution_count": 27,
     "metadata": {},
     "output_type": "execute_result"
    }
   ],
   "source": [
    "df[df[\"complex.id\"] == 0]"
   ]
  },
  {
   "cell_type": "markdown",
   "metadata": {},
   "source": [
    "#### 1.1.5 Fill null values and pivot wider\n",
    "\n",
    "Based on the column 'gene', we pivot the data wider so that it looks like the standard input. Meanwhile, we change the name of the columns as the GIANA requires.\n"
   ]
  },
  {
   "cell_type": "markdown",
   "metadata": {},
   "source": [
    "**Fill the null values in antigen.gene with the string 'empty'**\n"
   ]
  },
  {
   "cell_type": "code",
   "execution_count": 28,
   "metadata": {
    "ExecuteTime": {
     "end_time": "2024-03-04T16:39:31.673326Z",
     "start_time": "2024-03-04T16:39:31.274208100Z"
    }
   },
   "outputs": [
    {
     "name": "stderr",
     "output_type": "stream",
     "text": [
      "D:\\Anaconda\\lib\\site-packages\\pandas\\core\\generic.py:6245: SettingWithCopyWarning: \n",
      "A value is trying to be set on a copy of a slice from a DataFrame\n",
      "\n",
      "See the caveats in the documentation: https://pandas.pydata.org/pandas-docs/stable/user_guide/indexing.html#returning-a-view-versus-a-copy\n",
      "  self._update_inplace(new_data)\n"
     ]
    },
    {
     "data": {
      "text/plain": [
       "complex.id             0\n",
       "gene                   0\n",
       "cdr3               31583\n",
       "v.segm             31684\n",
       "j.segm             32728\n",
       "species                0\n",
       "antigen.epitope        0\n",
       "vdjdb.score        31583\n",
       "clone_id               0\n",
       "count                  0\n",
       "dtype: int64"
      ]
     },
     "execution_count": 28,
     "metadata": {},
     "output_type": "execute_result"
    }
   ],
   "source": [
    "df[\"antigen.epitope\"].fillna(\"empty\", inplace=True)\n",
    "df.isnull().sum()"
   ]
  },
  {
   "cell_type": "code",
   "execution_count": 29,
   "metadata": {
    "ExecuteTime": {
     "end_time": "2024-03-04T16:39:32.613933100Z",
     "start_time": "2024-03-04T16:39:31.354739300Z"
    }
   },
   "outputs": [],
   "source": [
    "df_wide = df.pivot_table(\n",
    "    index=[\"clone_id\", \"complex.id\", \"species\", \"antigen.epitope\", \"vdjdb.score\", \"count\"], columns=\"gene\", values=[\"cdr3\", \"v.segm\", \"j.segm\"], aggfunc=\"first\"\n",
    ").reset_index()\n",
    "# df_wide.columns\n",
    "df_wide.columns = [f\"{col[0]}_{col[1]}\" if col[1] else col[0] for col in df_wide.columns]"
   ]
  },
  {
   "cell_type": "code",
   "execution_count": 30,
   "metadata": {},
   "outputs": [
    {
     "name": "stdout",
     "output_type": "stream",
     "text": [
      "<class 'pandas.core.frame.DataFrame'>\n",
      "RangeIndex: 62177 entries, 0 to 62176\n",
      "Data columns (total 12 columns):\n",
      " #   Column           Non-Null Count  Dtype  \n",
      "---  ------           --------------  -----  \n",
      " 0   clone_id         62177 non-null  object \n",
      " 1   complex.id       62177 non-null  int64  \n",
      " 2   species          62177 non-null  object \n",
      " 3   antigen.epitope  62177 non-null  object \n",
      " 4   vdjdb.score      62177 non-null  float64\n",
      " 5   count            62177 non-null  int64  \n",
      " 6   cdr3_TRA         38049 non-null  object \n",
      " 7   cdr3_TRB         54722 non-null  object \n",
      " 8   j.segm_TRA       37004 non-null  object \n",
      " 9   j.segm_TRB       54622 non-null  object \n",
      " 10  v.segm_TRA       37957 non-null  object \n",
      " 11  v.segm_TRB       54713 non-null  object \n",
      "dtypes: float64(1), int64(2), object(9)\n",
      "memory usage: 5.7+ MB\n"
     ]
    }
   ],
   "source": [
    "df_wide.info()"
   ]
  },
  {
   "cell_type": "code",
   "execution_count": 147,
   "metadata": {
    "ExecuteTime": {
     "end_time": "2024-03-04T16:39:32.645793800Z",
     "start_time": "2024-03-04T16:39:31.825689100Z"
    }
   },
   "outputs": [],
   "source": [
    "df_wide.columns = [\"clone_id\", \"complex_id\", \"organism\", \"epitope\", \"vdjdb_score\", \"count\", \"cdr3_a_aa\", \"cdr3_b_aa\", \"j_a_gene\", \"j_b_gene\", \"v_a_gene\", \"v_b_gene\"]"
   ]
  },
  {
   "cell_type": "code",
   "execution_count": 31,
   "metadata": {
    "ExecuteTime": {
     "end_time": "2024-03-04T16:39:32.732351700Z",
     "start_time": "2024-03-04T16:39:31.864452900Z"
    }
   },
   "outputs": [
    {
     "data": {
      "text/plain": [
       "62177"
      ]
     },
     "execution_count": 31,
     "metadata": {},
     "output_type": "execute_result"
    }
   ],
   "source": [
    "len(df_wide)"
   ]
  },
  {
   "cell_type": "code",
   "execution_count": 37,
   "metadata": {
    "ExecuteTime": {
     "end_time": "2024-03-04T16:39:32.740051800Z",
     "start_time": "2024-03-04T16:39:31.876955900Z"
    }
   },
   "outputs": [
    {
     "ename": "KeyError",
     "evalue": "'complex_id'",
     "output_type": "error",
     "traceback": [
      "\u001b[1;31m---------------------------------------------------------------------------\u001b[0m",
      "\u001b[1;31mKeyError\u001b[0m                                  Traceback (most recent call last)",
      "\u001b[1;32mD:\\Anaconda\\lib\\site-packages\\pandas\\core\\indexes\\base.py\u001b[0m in \u001b[0;36mget_loc\u001b[1;34m(self, key, method, tolerance)\u001b[0m\n\u001b[0;32m   2645\u001b[0m             \u001b[1;32mtry\u001b[0m\u001b[1;33m:\u001b[0m\u001b[1;33m\u001b[0m\u001b[1;33m\u001b[0m\u001b[0m\n\u001b[1;32m-> 2646\u001b[1;33m                 \u001b[1;32mreturn\u001b[0m \u001b[0mself\u001b[0m\u001b[1;33m.\u001b[0m\u001b[0m_engine\u001b[0m\u001b[1;33m.\u001b[0m\u001b[0mget_loc\u001b[0m\u001b[1;33m(\u001b[0m\u001b[0mkey\u001b[0m\u001b[1;33m)\u001b[0m\u001b[1;33m\u001b[0m\u001b[1;33m\u001b[0m\u001b[0m\n\u001b[0m\u001b[0;32m   2647\u001b[0m             \u001b[1;32mexcept\u001b[0m \u001b[0mKeyError\u001b[0m\u001b[1;33m:\u001b[0m\u001b[1;33m\u001b[0m\u001b[1;33m\u001b[0m\u001b[0m\n",
      "\u001b[1;32mpandas\\_libs\\index.pyx\u001b[0m in \u001b[0;36mpandas._libs.index.IndexEngine.get_loc\u001b[1;34m()\u001b[0m\n",
      "\u001b[1;32mpandas\\_libs\\index.pyx\u001b[0m in \u001b[0;36mpandas._libs.index.IndexEngine.get_loc\u001b[1;34m()\u001b[0m\n",
      "\u001b[1;32mpandas\\_libs\\hashtable_class_helper.pxi\u001b[0m in \u001b[0;36mpandas._libs.hashtable.PyObjectHashTable.get_item\u001b[1;34m()\u001b[0m\n",
      "\u001b[1;32mpandas\\_libs\\hashtable_class_helper.pxi\u001b[0m in \u001b[0;36mpandas._libs.hashtable.PyObjectHashTable.get_item\u001b[1;34m()\u001b[0m\n",
      "\u001b[1;31mKeyError\u001b[0m: 'complex_id'",
      "\nDuring handling of the above exception, another exception occurred:\n",
      "\u001b[1;31mKeyError\u001b[0m                                  Traceback (most recent call last)",
      "\u001b[1;32m<ipython-input-37-7fe48b8aaf76>\u001b[0m in \u001b[0;36m<module>\u001b[1;34m\u001b[0m\n\u001b[1;32m----> 1\u001b[1;33m \u001b[0mlen\u001b[0m\u001b[1;33m(\u001b[0m\u001b[0mdf_wide\u001b[0m\u001b[1;33m[\u001b[0m\u001b[0mdf_wide\u001b[0m\u001b[1;33m[\u001b[0m\u001b[1;34m\"complex_id\"\u001b[0m\u001b[1;33m]\u001b[0m \u001b[1;33m==\u001b[0m \u001b[1;36m0\u001b[0m\u001b[1;33m]\u001b[0m\u001b[1;33m)\u001b[0m\u001b[1;33m\u001b[0m\u001b[1;33m\u001b[0m\u001b[0m\n\u001b[0m",
      "\u001b[1;32mD:\\Anaconda\\lib\\site-packages\\pandas\\core\\frame.py\u001b[0m in \u001b[0;36m__getitem__\u001b[1;34m(self, key)\u001b[0m\n\u001b[0;32m   2798\u001b[0m             \u001b[1;32mif\u001b[0m \u001b[0mself\u001b[0m\u001b[1;33m.\u001b[0m\u001b[0mcolumns\u001b[0m\u001b[1;33m.\u001b[0m\u001b[0mnlevels\u001b[0m \u001b[1;33m>\u001b[0m \u001b[1;36m1\u001b[0m\u001b[1;33m:\u001b[0m\u001b[1;33m\u001b[0m\u001b[1;33m\u001b[0m\u001b[0m\n\u001b[0;32m   2799\u001b[0m                 \u001b[1;32mreturn\u001b[0m \u001b[0mself\u001b[0m\u001b[1;33m.\u001b[0m\u001b[0m_getitem_multilevel\u001b[0m\u001b[1;33m(\u001b[0m\u001b[0mkey\u001b[0m\u001b[1;33m)\u001b[0m\u001b[1;33m\u001b[0m\u001b[1;33m\u001b[0m\u001b[0m\n\u001b[1;32m-> 2800\u001b[1;33m             \u001b[0mindexer\u001b[0m \u001b[1;33m=\u001b[0m \u001b[0mself\u001b[0m\u001b[1;33m.\u001b[0m\u001b[0mcolumns\u001b[0m\u001b[1;33m.\u001b[0m\u001b[0mget_loc\u001b[0m\u001b[1;33m(\u001b[0m\u001b[0mkey\u001b[0m\u001b[1;33m)\u001b[0m\u001b[1;33m\u001b[0m\u001b[1;33m\u001b[0m\u001b[0m\n\u001b[0m\u001b[0;32m   2801\u001b[0m             \u001b[1;32mif\u001b[0m \u001b[0mis_integer\u001b[0m\u001b[1;33m(\u001b[0m\u001b[0mindexer\u001b[0m\u001b[1;33m)\u001b[0m\u001b[1;33m:\u001b[0m\u001b[1;33m\u001b[0m\u001b[1;33m\u001b[0m\u001b[0m\n\u001b[0;32m   2802\u001b[0m                 \u001b[0mindexer\u001b[0m \u001b[1;33m=\u001b[0m \u001b[1;33m[\u001b[0m\u001b[0mindexer\u001b[0m\u001b[1;33m]\u001b[0m\u001b[1;33m\u001b[0m\u001b[1;33m\u001b[0m\u001b[0m\n",
      "\u001b[1;32mD:\\Anaconda\\lib\\site-packages\\pandas\\core\\indexes\\base.py\u001b[0m in \u001b[0;36mget_loc\u001b[1;34m(self, key, method, tolerance)\u001b[0m\n\u001b[0;32m   2646\u001b[0m                 \u001b[1;32mreturn\u001b[0m \u001b[0mself\u001b[0m\u001b[1;33m.\u001b[0m\u001b[0m_engine\u001b[0m\u001b[1;33m.\u001b[0m\u001b[0mget_loc\u001b[0m\u001b[1;33m(\u001b[0m\u001b[0mkey\u001b[0m\u001b[1;33m)\u001b[0m\u001b[1;33m\u001b[0m\u001b[1;33m\u001b[0m\u001b[0m\n\u001b[0;32m   2647\u001b[0m             \u001b[1;32mexcept\u001b[0m \u001b[0mKeyError\u001b[0m\u001b[1;33m:\u001b[0m\u001b[1;33m\u001b[0m\u001b[1;33m\u001b[0m\u001b[0m\n\u001b[1;32m-> 2648\u001b[1;33m                 \u001b[1;32mreturn\u001b[0m \u001b[0mself\u001b[0m\u001b[1;33m.\u001b[0m\u001b[0m_engine\u001b[0m\u001b[1;33m.\u001b[0m\u001b[0mget_loc\u001b[0m\u001b[1;33m(\u001b[0m\u001b[0mself\u001b[0m\u001b[1;33m.\u001b[0m\u001b[0m_maybe_cast_indexer\u001b[0m\u001b[1;33m(\u001b[0m\u001b[0mkey\u001b[0m\u001b[1;33m)\u001b[0m\u001b[1;33m)\u001b[0m\u001b[1;33m\u001b[0m\u001b[1;33m\u001b[0m\u001b[0m\n\u001b[0m\u001b[0;32m   2649\u001b[0m         \u001b[0mindexer\u001b[0m \u001b[1;33m=\u001b[0m \u001b[0mself\u001b[0m\u001b[1;33m.\u001b[0m\u001b[0mget_indexer\u001b[0m\u001b[1;33m(\u001b[0m\u001b[1;33m[\u001b[0m\u001b[0mkey\u001b[0m\u001b[1;33m]\u001b[0m\u001b[1;33m,\u001b[0m \u001b[0mmethod\u001b[0m\u001b[1;33m=\u001b[0m\u001b[0mmethod\u001b[0m\u001b[1;33m,\u001b[0m \u001b[0mtolerance\u001b[0m\u001b[1;33m=\u001b[0m\u001b[0mtolerance\u001b[0m\u001b[1;33m)\u001b[0m\u001b[1;33m\u001b[0m\u001b[1;33m\u001b[0m\u001b[0m\n\u001b[0;32m   2650\u001b[0m         \u001b[1;32mif\u001b[0m \u001b[0mindexer\u001b[0m\u001b[1;33m.\u001b[0m\u001b[0mndim\u001b[0m \u001b[1;33m>\u001b[0m \u001b[1;36m1\u001b[0m \u001b[1;32mor\u001b[0m \u001b[0mindexer\u001b[0m\u001b[1;33m.\u001b[0m\u001b[0msize\u001b[0m \u001b[1;33m>\u001b[0m \u001b[1;36m1\u001b[0m\u001b[1;33m:\u001b[0m\u001b[1;33m\u001b[0m\u001b[1;33m\u001b[0m\u001b[0m\n",
      "\u001b[1;32mpandas\\_libs\\index.pyx\u001b[0m in \u001b[0;36mpandas._libs.index.IndexEngine.get_loc\u001b[1;34m()\u001b[0m\n",
      "\u001b[1;32mpandas\\_libs\\index.pyx\u001b[0m in \u001b[0;36mpandas._libs.index.IndexEngine.get_loc\u001b[1;34m()\u001b[0m\n",
      "\u001b[1;32mpandas\\_libs\\hashtable_class_helper.pxi\u001b[0m in \u001b[0;36mpandas._libs.hashtable.PyObjectHashTable.get_item\u001b[1;34m()\u001b[0m\n",
      "\u001b[1;32mpandas\\_libs\\hashtable_class_helper.pxi\u001b[0m in \u001b[0;36mpandas._libs.hashtable.PyObjectHashTable.get_item\u001b[1;34m()\u001b[0m\n",
      "\u001b[1;31mKeyError\u001b[0m: 'complex_id'"
     ]
    }
   ],
   "source": [
    "len(df_wide[df_wide[\"complex_id\"] == 0])"
   ]
  },
  {
   "cell_type": "code",
   "execution_count": 35,
   "metadata": {
    "ExecuteTime": {
     "end_time": "2024-03-04T16:39:32.762917200Z",
     "start_time": "2024-03-04T16:39:31.901996200Z"
    }
   },
   "outputs": [
    {
     "ename": "KeyError",
     "evalue": "'complex_id'",
     "output_type": "error",
     "traceback": [
      "\u001b[1;31m---------------------------------------------------------------------------\u001b[0m",
      "\u001b[1;31mKeyError\u001b[0m                                  Traceback (most recent call last)",
      "\u001b[1;32mD:\\Anaconda\\lib\\site-packages\\pandas\\core\\indexes\\base.py\u001b[0m in \u001b[0;36mget_loc\u001b[1;34m(self, key, method, tolerance)\u001b[0m\n\u001b[0;32m   2645\u001b[0m             \u001b[1;32mtry\u001b[0m\u001b[1;33m:\u001b[0m\u001b[1;33m\u001b[0m\u001b[1;33m\u001b[0m\u001b[0m\n\u001b[1;32m-> 2646\u001b[1;33m                 \u001b[1;32mreturn\u001b[0m \u001b[0mself\u001b[0m\u001b[1;33m.\u001b[0m\u001b[0m_engine\u001b[0m\u001b[1;33m.\u001b[0m\u001b[0mget_loc\u001b[0m\u001b[1;33m(\u001b[0m\u001b[0mkey\u001b[0m\u001b[1;33m)\u001b[0m\u001b[1;33m\u001b[0m\u001b[1;33m\u001b[0m\u001b[0m\n\u001b[0m\u001b[0;32m   2647\u001b[0m             \u001b[1;32mexcept\u001b[0m \u001b[0mKeyError\u001b[0m\u001b[1;33m:\u001b[0m\u001b[1;33m\u001b[0m\u001b[1;33m\u001b[0m\u001b[0m\n",
      "\u001b[1;32mpandas\\_libs\\index.pyx\u001b[0m in \u001b[0;36mpandas._libs.index.IndexEngine.get_loc\u001b[1;34m()\u001b[0m\n",
      "\u001b[1;32mpandas\\_libs\\index.pyx\u001b[0m in \u001b[0;36mpandas._libs.index.IndexEngine.get_loc\u001b[1;34m()\u001b[0m\n",
      "\u001b[1;32mpandas\\_libs\\hashtable_class_helper.pxi\u001b[0m in \u001b[0;36mpandas._libs.hashtable.PyObjectHashTable.get_item\u001b[1;34m()\u001b[0m\n",
      "\u001b[1;32mpandas\\_libs\\hashtable_class_helper.pxi\u001b[0m in \u001b[0;36mpandas._libs.hashtable.PyObjectHashTable.get_item\u001b[1;34m()\u001b[0m\n",
      "\u001b[1;31mKeyError\u001b[0m: 'complex_id'",
      "\nDuring handling of the above exception, another exception occurred:\n",
      "\u001b[1;31mKeyError\u001b[0m                                  Traceback (most recent call last)",
      "\u001b[1;32m<ipython-input-35-bccae9b4e2a1>\u001b[0m in \u001b[0;36m<module>\u001b[1;34m\u001b[0m\n\u001b[1;32m----> 1\u001b[1;33m \u001b[0mlen\u001b[0m\u001b[1;33m(\u001b[0m\u001b[0mdf_wide\u001b[0m\u001b[1;33m[\u001b[0m\u001b[0mdf_wide\u001b[0m\u001b[1;33m[\u001b[0m\u001b[1;34m\"complex_id\"\u001b[0m\u001b[1;33m]\u001b[0m \u001b[1;33m!=\u001b[0m \u001b[1;36m0\u001b[0m\u001b[1;33m]\u001b[0m\u001b[1;33m)\u001b[0m\u001b[1;33m\u001b[0m\u001b[1;33m\u001b[0m\u001b[0m\n\u001b[0m",
      "\u001b[1;32mD:\\Anaconda\\lib\\site-packages\\pandas\\core\\frame.py\u001b[0m in \u001b[0;36m__getitem__\u001b[1;34m(self, key)\u001b[0m\n\u001b[0;32m   2798\u001b[0m             \u001b[1;32mif\u001b[0m \u001b[0mself\u001b[0m\u001b[1;33m.\u001b[0m\u001b[0mcolumns\u001b[0m\u001b[1;33m.\u001b[0m\u001b[0mnlevels\u001b[0m \u001b[1;33m>\u001b[0m \u001b[1;36m1\u001b[0m\u001b[1;33m:\u001b[0m\u001b[1;33m\u001b[0m\u001b[1;33m\u001b[0m\u001b[0m\n\u001b[0;32m   2799\u001b[0m                 \u001b[1;32mreturn\u001b[0m \u001b[0mself\u001b[0m\u001b[1;33m.\u001b[0m\u001b[0m_getitem_multilevel\u001b[0m\u001b[1;33m(\u001b[0m\u001b[0mkey\u001b[0m\u001b[1;33m)\u001b[0m\u001b[1;33m\u001b[0m\u001b[1;33m\u001b[0m\u001b[0m\n\u001b[1;32m-> 2800\u001b[1;33m             \u001b[0mindexer\u001b[0m \u001b[1;33m=\u001b[0m \u001b[0mself\u001b[0m\u001b[1;33m.\u001b[0m\u001b[0mcolumns\u001b[0m\u001b[1;33m.\u001b[0m\u001b[0mget_loc\u001b[0m\u001b[1;33m(\u001b[0m\u001b[0mkey\u001b[0m\u001b[1;33m)\u001b[0m\u001b[1;33m\u001b[0m\u001b[1;33m\u001b[0m\u001b[0m\n\u001b[0m\u001b[0;32m   2801\u001b[0m             \u001b[1;32mif\u001b[0m \u001b[0mis_integer\u001b[0m\u001b[1;33m(\u001b[0m\u001b[0mindexer\u001b[0m\u001b[1;33m)\u001b[0m\u001b[1;33m:\u001b[0m\u001b[1;33m\u001b[0m\u001b[1;33m\u001b[0m\u001b[0m\n\u001b[0;32m   2802\u001b[0m                 \u001b[0mindexer\u001b[0m \u001b[1;33m=\u001b[0m \u001b[1;33m[\u001b[0m\u001b[0mindexer\u001b[0m\u001b[1;33m]\u001b[0m\u001b[1;33m\u001b[0m\u001b[1;33m\u001b[0m\u001b[0m\n",
      "\u001b[1;32mD:\\Anaconda\\lib\\site-packages\\pandas\\core\\indexes\\base.py\u001b[0m in \u001b[0;36mget_loc\u001b[1;34m(self, key, method, tolerance)\u001b[0m\n\u001b[0;32m   2646\u001b[0m                 \u001b[1;32mreturn\u001b[0m \u001b[0mself\u001b[0m\u001b[1;33m.\u001b[0m\u001b[0m_engine\u001b[0m\u001b[1;33m.\u001b[0m\u001b[0mget_loc\u001b[0m\u001b[1;33m(\u001b[0m\u001b[0mkey\u001b[0m\u001b[1;33m)\u001b[0m\u001b[1;33m\u001b[0m\u001b[1;33m\u001b[0m\u001b[0m\n\u001b[0;32m   2647\u001b[0m             \u001b[1;32mexcept\u001b[0m \u001b[0mKeyError\u001b[0m\u001b[1;33m:\u001b[0m\u001b[1;33m\u001b[0m\u001b[1;33m\u001b[0m\u001b[0m\n\u001b[1;32m-> 2648\u001b[1;33m                 \u001b[1;32mreturn\u001b[0m \u001b[0mself\u001b[0m\u001b[1;33m.\u001b[0m\u001b[0m_engine\u001b[0m\u001b[1;33m.\u001b[0m\u001b[0mget_loc\u001b[0m\u001b[1;33m(\u001b[0m\u001b[0mself\u001b[0m\u001b[1;33m.\u001b[0m\u001b[0m_maybe_cast_indexer\u001b[0m\u001b[1;33m(\u001b[0m\u001b[0mkey\u001b[0m\u001b[1;33m)\u001b[0m\u001b[1;33m)\u001b[0m\u001b[1;33m\u001b[0m\u001b[1;33m\u001b[0m\u001b[0m\n\u001b[0m\u001b[0;32m   2649\u001b[0m         \u001b[0mindexer\u001b[0m \u001b[1;33m=\u001b[0m \u001b[0mself\u001b[0m\u001b[1;33m.\u001b[0m\u001b[0mget_indexer\u001b[0m\u001b[1;33m(\u001b[0m\u001b[1;33m[\u001b[0m\u001b[0mkey\u001b[0m\u001b[1;33m]\u001b[0m\u001b[1;33m,\u001b[0m \u001b[0mmethod\u001b[0m\u001b[1;33m=\u001b[0m\u001b[0mmethod\u001b[0m\u001b[1;33m,\u001b[0m \u001b[0mtolerance\u001b[0m\u001b[1;33m=\u001b[0m\u001b[0mtolerance\u001b[0m\u001b[1;33m)\u001b[0m\u001b[1;33m\u001b[0m\u001b[1;33m\u001b[0m\u001b[0m\n\u001b[0;32m   2650\u001b[0m         \u001b[1;32mif\u001b[0m \u001b[0mindexer\u001b[0m\u001b[1;33m.\u001b[0m\u001b[0mndim\u001b[0m \u001b[1;33m>\u001b[0m \u001b[1;36m1\u001b[0m \u001b[1;32mor\u001b[0m \u001b[0mindexer\u001b[0m\u001b[1;33m.\u001b[0m\u001b[0msize\u001b[0m \u001b[1;33m>\u001b[0m \u001b[1;36m1\u001b[0m\u001b[1;33m:\u001b[0m\u001b[1;33m\u001b[0m\u001b[1;33m\u001b[0m\u001b[0m\n",
      "\u001b[1;32mpandas\\_libs\\index.pyx\u001b[0m in \u001b[0;36mpandas._libs.index.IndexEngine.get_loc\u001b[1;34m()\u001b[0m\n",
      "\u001b[1;32mpandas\\_libs\\index.pyx\u001b[0m in \u001b[0;36mpandas._libs.index.IndexEngine.get_loc\u001b[1;34m()\u001b[0m\n",
      "\u001b[1;32mpandas\\_libs\\hashtable_class_helper.pxi\u001b[0m in \u001b[0;36mpandas._libs.hashtable.PyObjectHashTable.get_item\u001b[1;34m()\u001b[0m\n",
      "\u001b[1;32mpandas\\_libs\\hashtable_class_helper.pxi\u001b[0m in \u001b[0;36mpandas._libs.hashtable.PyObjectHashTable.get_item\u001b[1;34m()\u001b[0m\n",
      "\u001b[1;31mKeyError\u001b[0m: 'complex_id'"
     ]
    }
   ],
   "source": [
    "len(df_wide[df_wide[\"complex_id\"] != 0])"
   ]
  },
  {
   "cell_type": "markdown",
   "metadata": {},
   "source": [
    "**Check if any rows are deleted:**\n"
   ]
  },
  {
   "cell_type": "markdown",
   "metadata": {},
   "source": [
    "**Note**: For the initial trials, we could see that there are some rows with non-zero complex_id missing. Missing values in 'complex_id':\n",
    "\n",
    "        [ 178,  187,  188,  189,  190,  201,  202,  203,  229,  234,  262,306,  308,  310,  314,\n",
    "\n",
    "        320,  322, 1621, 1622, 1623, 1624, 1625, 1626, 1627, 1628, 1629, 1630, 1631, 1632, 1633, 1634]\n",
    "\n",
    "\n",
    "By checking the data in the original dataset, we figured out that it's due to the null values in the 'antigen.gene' ('epitope') column. **There should not be null values in the index columns** that will be used for **pivot_table**.\n",
    "\n",
    "Therefore we decided to:\n",
    "\n",
    "- fill the null values in 'antigen.gene' with the string 'empty'.\n",
    "- change those 'empty' strings in the 'epitope' back to null after the pivot wide step.\n"
   ]
  },
  {
   "cell_type": "code",
   "execution_count": null,
   "metadata": {
    "ExecuteTime": {
     "end_time": "2024-03-04T16:39:32.786443200Z",
     "start_time": "2024-03-04T16:39:31.925695600Z"
    }
   },
   "outputs": [],
   "source": [
    "print(\n",
    "    f\"1. The number of rows in the pivot wide data: {len(df_wide)}\\n\"\n",
    "    \"\\n2. The zero complex.id info:\"\n",
    "    f\"\\n   The number of zero complex.id in the VDJdb: {zeros_count}\"\n",
    "    f\"\\n   The number of zero complex.id in the pivot wide data: {len(df_wide[df_wide['complex_id'] ==0])}\\n\"\n",
    "    \"\\n3. The non-zero complex.id info:\"\n",
    "    f\"\\n   The number of paired non-zero complex.id: {int(non_zeros_count/2)}\"\n",
    "    f\"\\n   The number of non-zero complex.id in the pivot wide data: {len(df_wide[df_wide['complex_id'] !=0])}\"\n",
    ")"
   ]
  },
  {
   "cell_type": "code",
   "execution_count": null,
   "metadata": {
    "ExecuteTime": {
     "end_time": "2024-03-04T16:39:32.794167300Z",
     "start_time": "2024-03-04T16:39:31.965442500Z"
    },
    "scrolled": true
   },
   "outputs": [],
   "source": [
    "# Create a Series containing all values from 1 to 30594\n",
    "all_values = pd.Series(range(1, 30595))\n",
    "\n",
    "# Found a value that is not in the 'complex_id' column\n",
    "missing_values = all_values[~all_values.isin(df_wide[\"complex_id\"])]\n",
    "\n",
    "print(\"Missing values in 'complex_id' from 1 to 30594:\")\n",
    "print(missing_values)"
   ]
  },
  {
   "cell_type": "markdown",
   "metadata": {},
   "source": [
    "**Change those 'empty' strings in the 'epitope' column back to null**\n"
   ]
  },
  {
   "cell_type": "code",
   "execution_count": null,
   "metadata": {
    "ExecuteTime": {
     "end_time": "2024-03-04T16:39:32.863452100Z",
     "start_time": "2024-03-04T16:39:31.979639400Z"
    }
   },
   "outputs": [],
   "source": [
    "df_wide.replace(\"empty\", np.nan, inplace=True)"
   ]
  },
  {
   "cell_type": "code",
   "execution_count": null,
   "metadata": {
    "ExecuteTime": {
     "end_time": "2024-03-04T16:39:33.108012400Z",
     "start_time": "2024-03-04T16:39:32.099064900Z"
    }
   },
   "outputs": [],
   "source": [
    "df_filtered = df_wide[df_wide[\"organism\"].isin([\"HomoSapiens\", \"MusMusculus\"])].copy()\n",
    "\n",
    "df_filtered.loc[df_filtered[\"organism\"] == \"HomoSapiens\", \"organism\"] = \"human\"\n",
    "df_filtered.loc[df_filtered[\"organism\"] == \"MusMusculus\", \"organism\"] = \"mouse\"\n",
    "df_filtered.head(3)"
   ]
  },
  {
   "cell_type": "markdown",
   "metadata": {},
   "source": [
    "#### 1.1.7 Formatted input\n"
   ]
  },
  {
   "cell_type": "code",
   "execution_count": null,
   "metadata": {
    "ExecuteTime": {
     "end_time": "2024-03-04T16:39:33.183385600Z",
     "start_time": "2024-03-04T16:39:32.196312200Z"
    }
   },
   "outputs": [],
   "source": [
    "# Sort by value of column 'epitope'\n",
    "df_filtered.sort_values(by=\"epitope\", inplace=True)\n",
    "\n",
    "df_filtered.info()"
   ]
  },
  {
   "cell_type": "code",
   "execution_count": null,
   "metadata": {},
   "outputs": [],
   "source": [
    "alpha_input = df_filtered.iloc[:, [0, 1, 2, 3, 4, 5, 6, 8, 10]]\n",
    "beta_input = df_filtered.iloc[:, [0, 1, 2, 3, 4, 5, 7, 9, 11]]"
   ]
  },
  {
   "cell_type": "code",
   "execution_count": null,
   "metadata": {},
   "outputs": [],
   "source": [
    "alpha_input.head()"
   ]
  },
  {
   "cell_type": "code",
   "execution_count": null,
   "metadata": {},
   "outputs": [],
   "source": [
    "beta_input.head()"
   ]
  },
  {
   "cell_type": "markdown",
   "metadata": {},
   "source": [
    "### 1.2 Similarity/Distance matrix\n"
   ]
  },
  {
   "cell_type": "markdown",
   "metadata": {},
   "source": [
    "#### 1.2.1 Different inputs\n"
   ]
  },
  {
   "cell_type": "markdown",
   "metadata": {},
   "source": [
    "**Inputs for parwise calculation:**\n"
   ]
  },
  {
   "cell_type": "code",
   "execution_count": null,
   "metadata": {
    "ExecuteTime": {
     "end_time": "2024-03-04T16:39:33.245606900Z",
     "start_time": "2024-03-04T16:39:32.270945Z"
    }
   },
   "outputs": [],
   "source": [
    "mouse = df_filtered[df_filtered[\"organism\"] == \"mouse\"]\n",
    "human = df_filtered[df_filtered[\"organism\"] == \"human\"]"
   ]
  },
  {
   "cell_type": "markdown",
   "metadata": {},
   "source": [
    "**Inputs for separate calculation:**\n"
   ]
  },
  {
   "cell_type": "code",
   "execution_count": 33,
   "metadata": {},
   "outputs": [
    {
     "ename": "NameError",
     "evalue": "name 'alpha_input' is not defined",
     "output_type": "error",
     "traceback": [
      "\u001b[1;31m---------------------------------------------------------------------------\u001b[0m",
      "\u001b[1;31mNameError\u001b[0m                                 Traceback (most recent call last)",
      "\u001b[1;32m<ipython-input-33-c237c1e16740>\u001b[0m in \u001b[0;36m<module>\u001b[1;34m\u001b[0m\n\u001b[1;32m----> 1\u001b[1;33m \u001b[0mmouse_alpha\u001b[0m \u001b[1;33m=\u001b[0m \u001b[0malpha_input\u001b[0m\u001b[1;33m[\u001b[0m\u001b[0malpha_input\u001b[0m\u001b[1;33m[\u001b[0m\u001b[1;34m\"organism\"\u001b[0m\u001b[1;33m]\u001b[0m \u001b[1;33m==\u001b[0m \u001b[1;34m\"mouse\"\u001b[0m\u001b[1;33m]\u001b[0m\u001b[1;33m\u001b[0m\u001b[1;33m\u001b[0m\u001b[0m\n\u001b[0m\u001b[0;32m      2\u001b[0m \u001b[0mmouse_beta\u001b[0m \u001b[1;33m=\u001b[0m \u001b[0mbeta_input\u001b[0m\u001b[1;33m[\u001b[0m\u001b[0malpha_input\u001b[0m\u001b[1;33m[\u001b[0m\u001b[1;34m\"organism\"\u001b[0m\u001b[1;33m]\u001b[0m \u001b[1;33m==\u001b[0m \u001b[1;34m\"mouse\"\u001b[0m\u001b[1;33m]\u001b[0m\u001b[1;33m\u001b[0m\u001b[1;33m\u001b[0m\u001b[0m\n\u001b[0;32m      3\u001b[0m \u001b[0mhuman_alpha\u001b[0m \u001b[1;33m=\u001b[0m \u001b[0malpha_input\u001b[0m\u001b[1;33m[\u001b[0m\u001b[0malpha_input\u001b[0m\u001b[1;33m[\u001b[0m\u001b[1;34m\"organism\"\u001b[0m\u001b[1;33m]\u001b[0m \u001b[1;33m==\u001b[0m \u001b[1;34m\"human\"\u001b[0m\u001b[1;33m]\u001b[0m\u001b[1;33m\u001b[0m\u001b[1;33m\u001b[0m\u001b[0m\n\u001b[0;32m      4\u001b[0m \u001b[0mhuman_beta\u001b[0m \u001b[1;33m=\u001b[0m \u001b[0mbeta_input\u001b[0m\u001b[1;33m[\u001b[0m\u001b[0malpha_input\u001b[0m\u001b[1;33m[\u001b[0m\u001b[1;34m\"organism\"\u001b[0m\u001b[1;33m]\u001b[0m \u001b[1;33m==\u001b[0m \u001b[1;34m\"human\"\u001b[0m\u001b[1;33m]\u001b[0m\u001b[1;33m\u001b[0m\u001b[1;33m\u001b[0m\u001b[0m\n",
      "\u001b[1;31mNameError\u001b[0m: name 'alpha_input' is not defined"
     ]
    }
   ],
   "source": [
    "mouse_alpha = alpha_input[alpha_input[\"organism\"] == \"mouse\"]\n",
    "mouse_beta = beta_input[alpha_input[\"organism\"] == \"mouse\"]\n",
    "human_alpha = alpha_input[alpha_input[\"organism\"] == \"human\"]\n",
    "human_beta = beta_input[alpha_input[\"organism\"] == \"human\"]"
   ]
  },
  {
   "cell_type": "markdown",
   "metadata": {},
   "source": [
    "**Delete null values:**\n"
   ]
  },
  {
   "cell_type": "code",
   "execution_count": 161,
   "metadata": {
    "ExecuteTime": {
     "end_time": "2024-03-04T16:39:33.283487400Z",
     "start_time": "2024-03-04T16:39:32.328065500Z"
    }
   },
   "outputs": [],
   "source": [
    "mouse = mouse.dropna()\n",
    "mouse_alpha = mouse_alpha.dropna()\n",
    "mouse_beta = mouse_beta.dropna()\n",
    "\n",
    "human = human.dropna()\n",
    "human_alpha = human_alpha.dropna()\n",
    "human_beta = human_beta.dropna()"
   ]
  },
  {
   "cell_type": "markdown",
   "metadata": {},
   "source": [
    "**Number of rows for different vdjdb scores of different inputs:**\n"
   ]
  },
  {
   "cell_type": "code",
   "execution_count": 162,
   "metadata": {},
   "outputs": [
    {
     "data": {
      "text/html": [
       "<div>\n",
       "<style scoped>\n",
       "    .dataframe tbody tr th:only-of-type {\n",
       "        vertical-align: middle;\n",
       "    }\n",
       "\n",
       "    .dataframe tbody tr th {\n",
       "        vertical-align: top;\n",
       "    }\n",
       "\n",
       "    .dataframe thead th {\n",
       "        text-align: right;\n",
       "    }\n",
       "</style>\n",
       "<table border=\"1\" class=\"dataframe\">\n",
       "  <thead>\n",
       "    <tr style=\"text-align: right;\">\n",
       "      <th></th>\n",
       "      <th>Mouse</th>\n",
       "      <th>Mouse Alpha</th>\n",
       "      <th>Mouse Beta</th>\n",
       "      <th>Human</th>\n",
       "      <th>Human Alpha</th>\n",
       "      <th>Human Beta</th>\n",
       "    </tr>\n",
       "    <tr>\n",
       "      <th>vdjdb score</th>\n",
       "      <th></th>\n",
       "      <th></th>\n",
       "      <th></th>\n",
       "      <th></th>\n",
       "      <th></th>\n",
       "      <th></th>\n",
       "    </tr>\n",
       "  </thead>\n",
       "  <tbody>\n",
       "    <tr>\n",
       "      <th>0.0</th>\n",
       "      <td>1282</td>\n",
       "      <td>1322</td>\n",
       "      <td>1810</td>\n",
       "      <td>25710</td>\n",
       "      <td>31970</td>\n",
       "      <td>42981</td>\n",
       "    </tr>\n",
       "    <tr>\n",
       "      <th>1.0</th>\n",
       "      <td>834</td>\n",
       "      <td>859</td>\n",
       "      <td>1060</td>\n",
       "      <td>698</td>\n",
       "      <td>1450</td>\n",
       "      <td>4197</td>\n",
       "    </tr>\n",
       "    <tr>\n",
       "      <th>2.0</th>\n",
       "      <td>6</td>\n",
       "      <td>6</td>\n",
       "      <td>50</td>\n",
       "      <td>541</td>\n",
       "      <td>669</td>\n",
       "      <td>1485</td>\n",
       "    </tr>\n",
       "    <tr>\n",
       "      <th>3.0</th>\n",
       "      <td>62</td>\n",
       "      <td>62</td>\n",
       "      <td>84</td>\n",
       "      <td>629</td>\n",
       "      <td>661</td>\n",
       "      <td>914</td>\n",
       "    </tr>\n",
       "  </tbody>\n",
       "</table>\n",
       "</div>"
      ],
      "text/plain": [
       "             Mouse  Mouse Alpha  Mouse Beta  Human  Human Alpha  Human Beta\n",
       "vdjdb score                                                                \n",
       "0.0           1282         1322        1810  25710        31970       42981\n",
       "1.0            834          859        1060    698         1450        4197\n",
       "2.0              6            6          50    541          669        1485\n",
       "3.0             62           62          84    629          661         914"
      ]
     },
     "execution_count": 162,
     "metadata": {},
     "output_type": "execute_result"
    }
   ],
   "source": [
    "# Create a Series containing the vdjdb_score distribution for each dataset\n",
    "vdjdb_score_counts = {}\n",
    "\n",
    "datasets = [mouse, mouse_alpha, mouse_beta, human, human_alpha, human_beta]\n",
    "labels = [\"Mouse\", \"Mouse Alpha\", \"Mouse Beta\", \"Human\", \"Human Alpha\", \"Human Beta\"]\n",
    "\n",
    "for dataset, label in zip(datasets, labels):\n",
    "    vdjdb_score_counts[label] = dataset[\"vdjdb_score\"].value_counts()\n",
    "\n",
    "# Convert dictionary to DataFrame\n",
    "vdjdb_score_counts_df = pd.DataFrame(vdjdb_score_counts)\n",
    "vdjdb_score_counts_df = vdjdb_score_counts_df.rename_axis(\"vdjdb score\")\n",
    "vdjdb_score_counts_df"
   ]
  },
  {
   "cell_type": "code",
   "execution_count": 163,
   "metadata": {
    "ExecuteTime": {
     "end_time": "2024-03-04T16:39:33.981329500Z",
     "start_time": "2024-03-04T16:39:32.535038500Z"
    }
   },
   "outputs": [],
   "source": [
    "human_01 = human[human[\"vdjdb_score\"].isin([0, 1])]\n",
    "human_23 = human[human[\"vdjdb_score\"].isin([2, 3])]\n",
    "mouse_01 = mouse[mouse[\"vdjdb_score\"].isin([0, 1])]\n",
    "mouse_23 = mouse[mouse[\"vdjdb_score\"].isin([2, 3])]"
   ]
  },
  {
   "cell_type": "markdown",
   "metadata": {},
   "source": [
    "#### 1.2.2 Define functions\n"
   ]
  },
  {
   "cell_type": "code",
   "execution_count": 164,
   "metadata": {},
   "outputs": [],
   "source": [
    "import matplotlib.colors\n",
    "\n",
    "def plot_heatmap(df, title_suffix, ax):\n",
    "    df_01 = np.zeros((len(df), len(df)))\n",
    "\n",
    "    for i, seq1 in enumerate(df['cdr3_b_aa']):\n",
    "        for j, seq2 in enumerate(df['cdr3_b_aa']):\n",
    "            if seq1 == seq2:\n",
    "                df_01[i, j] = 1  # Set to 1 for the same epitopes\n",
    "            else:\n",
    "                df_01[i, j] = 0  # Set to 0 for different epitopes\n",
    "\n",
    "    cmap = plt.cm.viridis  # Use viridis colormap directly\n",
    "    colors = cmap([0.99, 0.1])  # Select lighter and darker colors from viridis colormap\n",
    "\n",
    "    ax.imshow(df_01, cmap=matplotlib.colors.ListedColormap(colors), interpolation='nearest', origin='upper', extent=[\n",
    "    0, df_01.shape[1], df_01.shape[0], 0])\n",
    "\n",
    "    ax.set_title(f'Cluster Matrix {title_suffix}\\n', fontsize=20)\n",
    "    ax.set_xticks(np.arange(0, len(df), len(df)//10))\n",
    "    ax.set_xticklabels(np.arange(0, len(df), len(df)//10))\n",
    "    ax.set_yticks(np.arange(0, len(df), len(df)//10))\n",
    "    ax.set_yticklabels(np.arange(0, len(df), len(df)//10))\n",
    "    ax.set_xlabel('Index')\n",
    "    ax.set_ylabel('Index')"
   ]
  },
  {
   "cell_type": "markdown",
   "metadata": {},
   "source": [
    "#### 1.2.3 Alpha and beta chains separately"
   ]
  },
  {
   "cell_type": "code",
   "execution_count": 165,
   "metadata": {},
   "outputs": [],
   "source": [
    "human_alpha_01 = human_alpha[human_alpha[\"vdjdb_score\"].isin([0, 1])]\n",
    "human_alpha_23 = human_alpha[human_alpha[\"vdjdb_score\"].isin([2, 3])]\n",
    "human_beta_01 = human_beta[human_beta[\"vdjdb_score\"].isin([0, 1])]\n",
    "human_beta_23 = human_beta[human_beta[\"vdjdb_score\"].isin([2, 3])]\n",
    "\n",
    "mouse_alpha_01 = mouse_alpha[mouse_alpha[\"vdjdb_score\"].isin([0, 1])]\n",
    "mouse_alpha_23 = mouse_alpha[mouse_alpha[\"vdjdb_score\"].isin([2, 3])]\n",
    "mouse_beta_01 = mouse_beta[mouse_beta[\"vdjdb_score\"].isin([0, 1])]\n",
    "mouse_beta_23 = mouse_beta[mouse_beta[\"vdjdb_score\"].isin([2, 3])]"
   ]
  },
  {
   "cell_type": "code",
   "execution_count": 166,
   "metadata": {},
   "outputs": [],
   "source": [
    "df_mouse_23 = mouse_beta_23[[\"cdr3_b_aa\", \"v_b_gene\"]].dropna()\n",
    "df_human_23 = human_beta_23[[\"cdr3_b_aa\", \"v_b_gene\"]].dropna()"
   ]
  },
  {
   "cell_type": "markdown",
   "metadata": {},
   "source": [
    "### 1.2.4 Format the data"
   ]
  },
  {
   "cell_type": "markdown",
   "metadata": {},
   "source": [
    "Since the package used is only a command line tool, I added a function in the source code to accept raw data (instead of raw file) as input.\n",
    "The format is just a list of strings. Each string is one row, with all columns being tab separated."
   ]
  },
  {
   "cell_type": "code",
   "execution_count": 167,
   "metadata": {},
   "outputs": [],
   "source": [
    "df_mouse_23_lines = df_mouse_23.to_string(index=False, header=False).split('\\n')\n",
    "df_human_23_lines = df_human_23.to_string(index=False, header=False).split('\\n')\n",
    "\n",
    "df_mouse_23_input = ['\\t'.join(l.split()) for l in df_mouse_23_lines]\n",
    "df_human_23_input = ['\\t'.join(l.split()) for l in df_human_23_lines]"
   ]
  },
  {
   "cell_type": "markdown",
   "metadata": {},
   "source": [
    "### 1.2.5 GIANA Calculation"
   ]
  },
  {
   "cell_type": "code",
   "execution_count": 168,
   "metadata": {},
   "outputs": [],
   "source": [
    "from giana.giana_new import CalculateGianaScores"
   ]
  },
  {
   "cell_type": "code",
   "execution_count": 1,
   "metadata": {},
   "outputs": [
    {
     "ename": "NameError",
     "evalue": "name 'CalculateGianaScores' is not defined",
     "output_type": "error",
     "traceback": [
      "\u001b[1;31m---------------------------------------------------------------------------\u001b[0m",
      "\u001b[1;31mNameError\u001b[0m                                 Traceback (most recent call last)",
      "\u001b[1;32m<ipython-input-1-1f8f9e497f41>\u001b[0m in \u001b[0;36m<module>\u001b[1;34m\u001b[0m\n\u001b[0;32m      9\u001b[0m \u001b[1;31m# verbose - Whether to print intermediate information\u001b[0m\u001b[1;33m\u001b[0m\u001b[1;33m\u001b[0m\u001b[1;33m\u001b[0m\u001b[0m\n\u001b[0;32m     10\u001b[0m \u001b[1;33m\u001b[0m\u001b[0m\n\u001b[1;32m---> 11\u001b[1;33m \u001b[0mdf_mouse_23_results\u001b[0m \u001b[1;33m=\u001b[0m \u001b[0mCalculateGianaScores\u001b[0m\u001b[1;33m(\u001b[0m\u001b[0mdf_mouse_23_input\u001b[0m\u001b[1;33m,\u001b[0m \u001b[0mcutoff\u001b[0m\u001b[1;33m=\u001b[0m\u001b[1;36m2\u001b[0m\u001b[1;33m,\u001b[0m \u001b[0mthr_s\u001b[0m\u001b[1;33m=\u001b[0m\u001b[1;36m6\u001b[0m\u001b[1;33m,\u001b[0m \u001b[0mthr_v\u001b[0m\u001b[1;33m=\u001b[0m\u001b[1;36m6\u001b[0m\u001b[1;33m,\u001b[0m \u001b[0mST\u001b[0m\u001b[1;33m=\u001b[0m\u001b[1;36m3\u001b[0m\u001b[1;33m,\u001b[0m \u001b[0mGap\u001b[0m\u001b[1;33m=\u001b[0m\u001b[1;33m-\u001b[0m\u001b[1;36m3\u001b[0m\u001b[1;33m,\u001b[0m \u001b[0mEE\u001b[0m\u001b[1;33m=\u001b[0m\u001b[1;32mTrue\u001b[0m\u001b[1;33m,\u001b[0m \u001b[0mVV\u001b[0m\u001b[1;33m=\u001b[0m\u001b[1;32mTrue\u001b[0m\u001b[1;33m,\u001b[0m \u001b[0mGPU\u001b[0m\u001b[1;33m=\u001b[0m\u001b[1;32mTrue\u001b[0m\u001b[1;33m,\u001b[0m \u001b[0mverbose\u001b[0m\u001b[1;33m=\u001b[0m\u001b[1;32mFalse\u001b[0m\u001b[1;33m)\u001b[0m\u001b[1;33m\u001b[0m\u001b[1;33m\u001b[0m\u001b[0m\n\u001b[0m\u001b[0;32m     12\u001b[0m \u001b[0mdf_human_23_results\u001b[0m \u001b[1;33m=\u001b[0m \u001b[0mCalculateGianaScores\u001b[0m\u001b[1;33m(\u001b[0m\u001b[0mdf_human_23_input\u001b[0m\u001b[1;33m,\u001b[0m \u001b[0mcutoff\u001b[0m\u001b[1;33m=\u001b[0m\u001b[1;36m2\u001b[0m\u001b[1;33m,\u001b[0m \u001b[0mthr_s\u001b[0m\u001b[1;33m=\u001b[0m\u001b[1;36m6\u001b[0m\u001b[1;33m,\u001b[0m \u001b[0mthr_v\u001b[0m\u001b[1;33m=\u001b[0m\u001b[1;36m6\u001b[0m\u001b[1;33m,\u001b[0m \u001b[0mST\u001b[0m\u001b[1;33m=\u001b[0m\u001b[1;36m3\u001b[0m\u001b[1;33m,\u001b[0m \u001b[0mGap\u001b[0m\u001b[1;33m=\u001b[0m\u001b[1;33m-\u001b[0m\u001b[1;36m3\u001b[0m\u001b[1;33m,\u001b[0m \u001b[0mEE\u001b[0m\u001b[1;33m=\u001b[0m\u001b[1;32mTrue\u001b[0m\u001b[1;33m,\u001b[0m \u001b[0mVV\u001b[0m\u001b[1;33m=\u001b[0m\u001b[1;32mTrue\u001b[0m\u001b[1;33m,\u001b[0m \u001b[0mGPU\u001b[0m\u001b[1;33m=\u001b[0m\u001b[1;32mTrue\u001b[0m\u001b[1;33m,\u001b[0m \u001b[0mverbose\u001b[0m\u001b[1;33m=\u001b[0m\u001b[1;32mFalse\u001b[0m\u001b[1;33m)\u001b[0m\u001b[1;33m\u001b[0m\u001b[1;33m\u001b[0m\u001b[0m\n",
      "\u001b[1;31mNameError\u001b[0m: name 'CalculateGianaScores' is not defined"
     ]
    }
   ],
   "source": [
    "# cutoff - Threshold to cut on distance\n",
    "# thr_s - Threshold for Smith-Waterman alignment score\n",
    "# thr_v - Threshold for variable gene comparison\n",
    "# ST - Starting position of CDR3 sequence. The first ST letters are omitted.\n",
    "# Gap - Gap penalty for Smith-Waterman alignment\n",
    "# EE - Whether to perform Smith-Waterman alignment after isometric encoding\n",
    "# VV - Whether to use variable gene information\n",
    "# GPU - Whether to use GPU for calculation\n",
    "# verbose - Whether to print intermediate information\n",
    "\n",
    "df_mouse_23_results = CalculateGianaScores(df_mouse_23_input, cutoff=2, thr_s=6, thr_v=6, ST=3, Gap=-3, EE=True, VV=True, GPU=True, verbose=False)\n",
    "df_human_23_results = CalculateGianaScores(df_human_23_input, cutoff=2, thr_s=6, thr_v=6, ST=3, Gap=-3, EE=True, VV=True, GPU=True, verbose=False)"
   ]
  },
  {
   "cell_type": "markdown",
   "metadata": {
    "scrolled": true
   },
   "source": [
    "### 1.2.6 CDR Clusters"
   ]
  },
  {
   "cell_type": "code",
   "execution_count": 170,
   "metadata": {},
   "outputs": [],
   "source": [
    "df_mouse_23_cluster = pd.DataFrame([x[:-1].split('\\t') for x in df_mouse_23_results], columns=[\"cdr3_b_aa\", \"cluster\", \"v_b_gene\"])\n",
    "df_human_23_cluster = pd.DataFrame([x[:-1].split('\\t') for x in df_human_23_results], columns=[\"cdr3_b_aa\", \"cluster\", \"v_b_gene\"])"
   ]
  },
  {
   "cell_type": "code",
   "execution_count": 2,
   "metadata": {},
   "outputs": [
    {
     "ename": "NameError",
     "evalue": "name 'plt' is not defined",
     "output_type": "error",
     "traceback": [
      "\u001b[1;31m---------------------------------------------------------------------------\u001b[0m",
      "\u001b[1;31mNameError\u001b[0m                                 Traceback (most recent call last)",
      "\u001b[1;32m<ipython-input-2-2c576d9d52cc>\u001b[0m in \u001b[0;36m<module>\u001b[1;34m\u001b[0m\n\u001b[1;32m----> 1\u001b[1;33m \u001b[0mfig\u001b[0m \u001b[1;33m=\u001b[0m \u001b[0mplt\u001b[0m\u001b[1;33m.\u001b[0m\u001b[0mfigure\u001b[0m\u001b[1;33m(\u001b[0m\u001b[0mfigsize\u001b[0m\u001b[1;33m=\u001b[0m\u001b[1;33m(\u001b[0m\u001b[1;36m6\u001b[0m\u001b[1;33m,\u001b[0m \u001b[1;36m6\u001b[0m\u001b[1;33m)\u001b[0m\u001b[1;33m)\u001b[0m\u001b[1;33m\u001b[0m\u001b[1;33m\u001b[0m\u001b[0m\n\u001b[0m\u001b[0;32m      2\u001b[0m \u001b[0max\u001b[0m \u001b[1;33m=\u001b[0m \u001b[0mfig\u001b[0m\u001b[1;33m.\u001b[0m\u001b[0madd_subplot\u001b[0m\u001b[1;33m(\u001b[0m\u001b[1;36m111\u001b[0m\u001b[1;33m)\u001b[0m\u001b[1;33m\u001b[0m\u001b[1;33m\u001b[0m\u001b[0m\n\u001b[0;32m      3\u001b[0m \u001b[1;33m\u001b[0m\u001b[0m\n\u001b[0;32m      4\u001b[0m \u001b[0mplot_heatmap\u001b[0m\u001b[1;33m(\u001b[0m\u001b[0mdf_mouse_23_cluster\u001b[0m\u001b[1;33m,\u001b[0m \u001b[1;34m'mouse_23'\u001b[0m\u001b[1;33m,\u001b[0m \u001b[0max\u001b[0m\u001b[1;33m)\u001b[0m\u001b[1;33m\u001b[0m\u001b[1;33m\u001b[0m\u001b[0m\n",
      "\u001b[1;31mNameError\u001b[0m: name 'plt' is not defined"
     ]
    }
   ],
   "source": [
    "fig = plt.figure(figsize=(6, 6))\n",
    "ax = fig.add_subplot(111)\n",
    "\n",
    "plot_heatmap(df_mouse_23_cluster, 'mouse_23', ax)"
   ]
  },
  {
   "cell_type": "code",
   "execution_count": 172,
   "metadata": {},
   "outputs": [
    {
     "data": {
      "image/png": "[encoded data removed]",
      "text/plain": [
       "<Figure size 600x600 with 1 Axes>"
      ]
     },
     "metadata": {},
     "output_type": "display_data"
    }
   ],
   "source": [
    "fig = plt.figure(figsize=(6, 6))\n",
    "ax = fig.add_subplot(111)\n",
    "\n",
    "plot_heatmap(df_human_23_cluster, 'human_23', ax)"
   ]
  }
 ],
 "metadata": {
  "kernelspec": {
   "display_name": "Python 3",
   "language": "python",
   "name": "python3"
  },
  "language_info": {
   "codemirror_mode": {
    "name": "ipython",
    "version": 3
   },
   "file_extension": ".py",
   "mimetype": "text/x-python",
   "name": "python",
   "nbconvert_exporter": "python",
   "pygments_lexer": "ipython3",
   "version": "3.8.3"
  },
  "toc": {
   "base_numbering": 1,
   "nav_menu": {
    "height": "101.983px",
    "width": "188.99px"
   },
   "number_sections": false,
   "sideBar": true,
   "skip_h1_title": false,
   "title_cell": "Table of Contents",
   "title_sidebar": "Contents",
   "toc_cell": true,
   "toc_position": {
    "height": "calc(100% - 180px)",
    "left": "10px",
    "top": "150px",
    "width": "216.395px"
   },
   "toc_section_display": true,
   "toc_window_display": true
  },
  "varInspector": {
   "cols": {
    "lenName": 16,
    "lenType": 16,
    "lenVar": 40
   },
   "kernels_config": {
    "python": {
     "delete_cmd_postfix": "",
     "delete_cmd_prefix": "del ",
     "library": "var_list.py",
     "varRefreshCmd": "print(var_dic_list())"
    },
    "r": {
     "delete_cmd_postfix": ") ",
     "delete_cmd_prefix": "rm(",
     "library": "var_list.r",
     "varRefreshCmd": "cat(var_dic_list()) "
    }
   },
   "position": {
    "height": "296.528px",
    "left": "757.892px",
    "right": "20px",
    "top": "106.998px",
    "width": "543.106px"
   },
   "types_to_exclude": [
    "module",
    "function",
    "builtin_function_or_method",
    "instance",
    "_Feature"
   ],
   "window_display": false
  }
 },
 "nbformat": 4,
 "nbformat_minor": 5
}
