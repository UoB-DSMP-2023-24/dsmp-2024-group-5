{
 "cells": [
  {
   "cell_type": "markdown",
   "id": "e9acfecd",
   "metadata": {
    "toc": true
   },
   "source": [
    "<h1>Table of Contents<span class=\"tocSkip\"></span></h1>\n",
    "<div class=\"toc\"><ul class=\"toc-item\"><li><span><a href=\"#Task-1-（Work-by:-Yutong)\" data-toc-modified-id=\"Task-1-（Work-by:-Yutong)-1\">Task 1 （Work by: Yutong)</a></span><ul class=\"toc-item\"><li><span><a href=\"#Pre-processing-VDJdb-（Work-by:-Yutong)\" data-toc-modified-id=\"Pre-processing-VDJdb-（Work-by:-Yutong)-1.1\">Pre-processing VDJdb （Work by: Yutong)</a></span></li><li><span><a href=\"#1.-Load-the-packages-and-data\" data-toc-modified-id=\"1.-Load-the-packages-and-data-1.2\">1. Load the packages and data</a></span></li><li><span><a href=\"#2.-Data-describtion\" data-toc-modified-id=\"2.-Data-describtion-1.3\">2. Data describtion</a></span></li><li><span><a href=\"#3.-Data-wrangling\" data-toc-modified-id=\"3.-Data-wrangling-1.4\">3. Data wrangling</a></span><ul class=\"toc-item\"><li><span><a href=\"#3.1-Remove-columns\" data-toc-modified-id=\"3.1-Remove-columns-1.4.1\">3.1 Remove columns</a></span></li><li><span><a href=\"#3.2-Null-values\" data-toc-modified-id=\"3.2-Null-values-1.4.2\">3.2 Null values</a></span></li><li><span><a href=\"#3.3-Unique-values\" data-toc-modified-id=\"3.3-Unique-values-1.4.3\">3.3 Unique values</a></span></li><li><span><a href=\"#3.4-complex.id\" data-toc-modified-id=\"3.4-complex.id-1.4.4\">3.4 complex.id</a></span></li></ul></li><li><span><a href=\"#4.-Inference\" data-toc-modified-id=\"4.-Inference-1.5\">4. Inference</a></span><ul class=\"toc-item\"><li><span><a href=\"#4.1-TCRdist3\" data-toc-modified-id=\"4.1-TCRdist3-1.5.1\">4.1 TCRdist3</a></span></li><li><span><a href=\"#4.2-GLIPH\" data-toc-modified-id=\"4.2-GLIPH-1.5.2\">4.2 GLIPH</a></span></li><li><span><a href=\"#4.3-GIANA\" data-toc-modified-id=\"4.3-GIANA-1.5.3\">4.3 GIANA</a></span></li></ul></li></ul></li></ul></div>"
   ]
  },
  {
   "cell_type": "markdown",
   "id": "6dfa7bf9",
   "metadata": {},
   "source": [
    "# Task 1 （Work by: Yutong)"
   ]
  },
  {
   "cell_type": "markdown",
   "id": "463190b1",
   "metadata": {},
   "source": [
    "## Pre-processing VDJdb （Work by: Yutong)"
   ]
  },
  {
   "cell_type": "markdown",
   "id": "fca305c3",
   "metadata": {},
   "source": [
    "## 1. Load the packages and data"
   ]
  },
  {
   "cell_type": "code",
   "execution_count": 1,
   "id": "dde59446",
   "metadata": {
    "ExecuteTime": {
     "end_time": "2024-03-04T16:37:58.988902Z",
     "start_time": "2024-03-04T16:37:55.773535200Z"
    }
   },
   "outputs": [],
   "source": [
    "import pandas as pd\n",
    "import numpy as np\n",
    "from IPython.display import display\n",
    "import matplotlib.pyplot as plt\n",
    "%matplotlib inline"
   ]
  },
  {
   "cell_type": "code",
   "execution_count": 2,
   "id": "4d5dff23",
   "metadata": {
    "ExecuteTime": {
     "end_time": "2024-03-04T16:38:30.145636Z",
     "start_time": "2024-03-04T16:37:58.880740800Z"
    }
   },
   "outputs": [],
   "source": [
    "rawdata = pd.read_csv('vdjdb.csv')"
   ]
  },
  {
   "cell_type": "code",
   "execution_count": 3,
   "id": "3266a1b0",
   "metadata": {
    "ExecuteTime": {
     "end_time": "2024-03-04T16:38:30.253561900Z",
     "start_time": "2024-03-04T16:38:30.150098500Z"
    }
   },
   "outputs": [
    {
     "data": {
      "text/html": [
       "<div>\n",
       "<style scoped>\n",
       "    .dataframe tbody tr th:only-of-type {\n",
       "        vertical-align: middle;\n",
       "    }\n",
       "\n",
       "    .dataframe tbody tr th {\n",
       "        vertical-align: top;\n",
       "    }\n",
       "\n",
       "    .dataframe thead th {\n",
       "        text-align: right;\n",
       "    }\n",
       "</style>\n",
       "<table border=\"1\" class=\"dataframe\">\n",
       "  <thead>\n",
       "    <tr style=\"text-align: right;\">\n",
       "      <th></th>\n",
       "      <th>complex.id</th>\n",
       "      <th>gene</th>\n",
       "      <th>cdr3</th>\n",
       "      <th>v.segm</th>\n",
       "      <th>j.segm</th>\n",
       "      <th>species</th>\n",
       "      <th>mhc.a</th>\n",
       "      <th>mhc.b</th>\n",
       "      <th>mhc.class</th>\n",
       "      <th>antigen.epitope</th>\n",
       "      <th>...</th>\n",
       "      <th>antigen.species</th>\n",
       "      <th>reference.id</th>\n",
       "      <th>method</th>\n",
       "      <th>meta</th>\n",
       "      <th>cdr3fix</th>\n",
       "      <th>vdjdb.score</th>\n",
       "      <th>web.method</th>\n",
       "      <th>web.method.seq</th>\n",
       "      <th>web.cdr3fix.nc</th>\n",
       "      <th>web.cdr3fix.unmp</th>\n",
       "    </tr>\n",
       "  </thead>\n",
       "  <tbody>\n",
       "    <tr>\n",
       "      <th>0</th>\n",
       "      <td>1</td>\n",
       "      <td>TRA</td>\n",
       "      <td>CIVRAPGRADMRF</td>\n",
       "      <td>TRAV26-1*01</td>\n",
       "      <td>TRAJ43*01</td>\n",
       "      <td>HomoSapiens</td>\n",
       "      <td>HLA-B*08</td>\n",
       "      <td>B2M</td>\n",
       "      <td>MHCI</td>\n",
       "      <td>FLKEKGGL</td>\n",
       "      <td>...</td>\n",
       "      <td>HIV-1</td>\n",
       "      <td>PMID:15596521</td>\n",
       "      <td>{\"frequency\": \"\", \"identification\": \"tetramer-...</td>\n",
       "      <td>{\"cell.subset\": \"CD8+\", \"clone.id\": \"\", \"donor...</td>\n",
       "      <td>{\"cdr3\": \"CIVRAPGRADMRF\", \"cdr3_old\": \"CIVRAPG...</td>\n",
       "      <td>2</td>\n",
       "      <td>sort</td>\n",
       "      <td>sanger</td>\n",
       "      <td>no</td>\n",
       "      <td>no</td>\n",
       "    </tr>\n",
       "    <tr>\n",
       "      <th>1</th>\n",
       "      <td>1</td>\n",
       "      <td>TRB</td>\n",
       "      <td>CASSYLPGQGDHYSNQPQHF</td>\n",
       "      <td>TRBV13*01</td>\n",
       "      <td>TRBJ1-5*01</td>\n",
       "      <td>HomoSapiens</td>\n",
       "      <td>HLA-B*08</td>\n",
       "      <td>B2M</td>\n",
       "      <td>MHCI</td>\n",
       "      <td>FLKEKGGL</td>\n",
       "      <td>...</td>\n",
       "      <td>HIV-1</td>\n",
       "      <td>PMID:15596521</td>\n",
       "      <td>{\"frequency\": \"\", \"identification\": \"tetramer-...</td>\n",
       "      <td>{\"cell.subset\": \"CD8+\", \"clone.id\": \"\", \"donor...</td>\n",
       "      <td>{\"cdr3\": \"CASSYLPGQGDHYSNQPQHF\", \"cdr3_old\": \"...</td>\n",
       "      <td>2</td>\n",
       "      <td>sort</td>\n",
       "      <td>sanger</td>\n",
       "      <td>no</td>\n",
       "      <td>no</td>\n",
       "    </tr>\n",
       "    <tr>\n",
       "      <th>2</th>\n",
       "      <td>0</td>\n",
       "      <td>TRB</td>\n",
       "      <td>CASSFEAGQGFFSNQPQHF</td>\n",
       "      <td>TRBV13*01</td>\n",
       "      <td>TRBJ1-5*01</td>\n",
       "      <td>HomoSapiens</td>\n",
       "      <td>HLA-B*08</td>\n",
       "      <td>B2M</td>\n",
       "      <td>MHCI</td>\n",
       "      <td>FLKEKGGL</td>\n",
       "      <td>...</td>\n",
       "      <td>HIV-1</td>\n",
       "      <td>PMID:15596521</td>\n",
       "      <td>{\"frequency\": \"\", \"identification\": \"tetramer-...</td>\n",
       "      <td>{\"cell.subset\": \"CD8+\", \"clone.id\": \"\", \"donor...</td>\n",
       "      <td>{\"cdr3\": \"CASSFEAGQGFFSNQPQHF\", \"cdr3_old\": \"C...</td>\n",
       "      <td>2</td>\n",
       "      <td>sort</td>\n",
       "      <td>sanger</td>\n",
       "      <td>no</td>\n",
       "      <td>no</td>\n",
       "    </tr>\n",
       "  </tbody>\n",
       "</table>\n",
       "<p>3 rows × 21 columns</p>\n",
       "</div>"
      ],
      "text/plain": [
       "   complex.id gene                  cdr3       v.segm      j.segm  \\\n",
       "0           1  TRA         CIVRAPGRADMRF  TRAV26-1*01   TRAJ43*01   \n",
       "1           1  TRB  CASSYLPGQGDHYSNQPQHF    TRBV13*01  TRBJ1-5*01   \n",
       "2           0  TRB   CASSFEAGQGFFSNQPQHF    TRBV13*01  TRBJ1-5*01   \n",
       "\n",
       "       species     mhc.a mhc.b mhc.class antigen.epitope  ... antigen.species  \\\n",
       "0  HomoSapiens  HLA-B*08   B2M      MHCI        FLKEKGGL  ...           HIV-1   \n",
       "1  HomoSapiens  HLA-B*08   B2M      MHCI        FLKEKGGL  ...           HIV-1   \n",
       "2  HomoSapiens  HLA-B*08   B2M      MHCI        FLKEKGGL  ...           HIV-1   \n",
       "\n",
       "    reference.id                                             method  \\\n",
       "0  PMID:15596521  {\"frequency\": \"\", \"identification\": \"tetramer-...   \n",
       "1  PMID:15596521  {\"frequency\": \"\", \"identification\": \"tetramer-...   \n",
       "2  PMID:15596521  {\"frequency\": \"\", \"identification\": \"tetramer-...   \n",
       "\n",
       "                                                meta  \\\n",
       "0  {\"cell.subset\": \"CD8+\", \"clone.id\": \"\", \"donor...   \n",
       "1  {\"cell.subset\": \"CD8+\", \"clone.id\": \"\", \"donor...   \n",
       "2  {\"cell.subset\": \"CD8+\", \"clone.id\": \"\", \"donor...   \n",
       "\n",
       "                                             cdr3fix vdjdb.score  web.method  \\\n",
       "0  {\"cdr3\": \"CIVRAPGRADMRF\", \"cdr3_old\": \"CIVRAPG...           2        sort   \n",
       "1  {\"cdr3\": \"CASSYLPGQGDHYSNQPQHF\", \"cdr3_old\": \"...           2        sort   \n",
       "2  {\"cdr3\": \"CASSFEAGQGFFSNQPQHF\", \"cdr3_old\": \"C...           2        sort   \n",
       "\n",
       "  web.method.seq web.cdr3fix.nc web.cdr3fix.unmp  \n",
       "0         sanger             no               no  \n",
       "1         sanger             no               no  \n",
       "2         sanger             no               no  \n",
       "\n",
       "[3 rows x 21 columns]"
      ]
     },
     "execution_count": 3,
     "metadata": {},
     "output_type": "execute_result"
    }
   ],
   "source": [
    "rawdata.head(3)"
   ]
  },
  {
   "cell_type": "code",
   "execution_count": 4,
   "id": "6b1e7ee5",
   "metadata": {
    "ExecuteTime": {
     "end_time": "2024-03-04T16:38:30.488610100Z",
     "start_time": "2024-03-04T16:38:30.231144500Z"
    },
    "scrolled": true
   },
   "outputs": [
    {
     "name": "stdout",
     "output_type": "stream",
     "text": [
      "<class 'pandas.core.frame.DataFrame'>\n",
      "RangeIndex: 92771 entries, 0 to 92770\n",
      "Data columns (total 21 columns):\n",
      " #   Column            Non-Null Count  Dtype \n",
      "---  ------            --------------  ----- \n",
      " 0   complex.id        92771 non-null  int64 \n",
      " 1   gene              92771 non-null  object\n",
      " 2   cdr3              92771 non-null  object\n",
      " 3   v.segm            92670 non-null  object\n",
      " 4   j.segm            91626 non-null  object\n",
      " 5   species           92771 non-null  object\n",
      " 6   mhc.a             92771 non-null  object\n",
      " 7   mhc.b             92771 non-null  object\n",
      " 8   mhc.class         92771 non-null  object\n",
      " 9   antigen.epitope   92771 non-null  object\n",
      " 10  antigen.gene      92709 non-null  object\n",
      " 11  antigen.species   92771 non-null  object\n",
      " 12  reference.id      91260 non-null  object\n",
      " 13  method            92771 non-null  object\n",
      " 14  meta              92771 non-null  object\n",
      " 15  cdr3fix           92771 non-null  object\n",
      " 16  vdjdb.score       92771 non-null  int64 \n",
      " 17  web.method        92771 non-null  object\n",
      " 18  web.method.seq    92771 non-null  object\n",
      " 19  web.cdr3fix.nc    92771 non-null  object\n",
      " 20  web.cdr3fix.unmp  92771 non-null  object\n",
      "dtypes: int64(2), object(19)\n",
      "memory usage: 14.9+ MB\n"
     ]
    }
   ],
   "source": [
    "rawdata.info()"
   ]
  },
  {
   "cell_type": "code",
   "execution_count": 5,
   "id": "34ead6d4",
   "metadata": {
    "ExecuteTime": {
     "end_time": "2024-03-04T16:38:30.551396Z",
     "start_time": "2024-03-04T16:38:30.400559Z"
    },
    "scrolled": false
   },
   "outputs": [],
   "source": [
    "# dtype_df = pd.DataFrame(columns=['Column', 'Data Type'])\n",
    "\n",
    "# for column in rawdata.columns:\n",
    "#     data_type = type(rawdata[column][0]).__name__\n",
    "#     dtype_df = pd.concat([dtype_df, pd.DataFrame({'Column': [column], 'Data Type': [data_type]})], ignore_index=True)\n",
    "\n",
    "# print(dtype_df)"
   ]
  },
  {
   "cell_type": "markdown",
   "id": "293d6aa9",
   "metadata": {},
   "source": [
    "## 2. Data describtion"
   ]
  },
  {
   "cell_type": "markdown",
   "id": "caf94352",
   "metadata": {},
   "source": [
    "From the data type of each column we can see that all are of type **str** except *conplex.id* and *vdjdb.score* which are of type **int**.\n",
    "\n",
    "The data contains a total of 21 columns, we can make an initial filter by the type and meaning of each column."
   ]
  },
  {
   "cell_type": "code",
   "execution_count": 6,
   "id": "42783ce8",
   "metadata": {
    "ExecuteTime": {
     "end_time": "2024-03-04T16:38:37.966157Z",
     "start_time": "2024-03-04T16:38:30.407338300Z"
    }
   },
   "outputs": [],
   "source": [
    "rawdata_info = pd.read_csv('vdjdb_info.csv')"
   ]
  },
  {
   "cell_type": "code",
   "execution_count": 7,
   "id": "80083258",
   "metadata": {
    "ExecuteTime": {
     "end_time": "2024-03-04T16:38:37.976240600Z",
     "start_time": "2024-03-04T16:38:37.969630200Z"
    }
   },
   "outputs": [],
   "source": [
    "def display_left_aligned(df):\n",
    "    style = df.style.set_properties(**{\n",
    "        'text-align': 'left',\n",
    "        'white-space': 'pre-wrap',\n",
    "    })\n",
    "\n",
    "    style.set_table_styles([{\n",
    "        'selector': 'th',\n",
    "        'props': [('text-align', 'left')]\n",
    "    }])\n",
    "\n",
    "    display(style)"
   ]
  },
  {
   "cell_type": "code",
   "execution_count": 8,
   "id": "caa0de11",
   "metadata": {
    "ExecuteTime": {
     "end_time": "2024-03-04T16:38:38.200534400Z",
     "start_time": "2024-03-04T16:38:37.975119300Z"
    }
   },
   "outputs": [
    {
     "data": {
      "text/html": [
       "<style type=\"text/css\">\n",
       "#T_eb1b4 th {\n",
       "  text-align: left;\n",
       "}\n",
       "#T_eb1b4_row0_col0, #T_eb1b4_row0_col1, #T_eb1b4_row0_col2, #T_eb1b4_row1_col0, #T_eb1b4_row1_col1, #T_eb1b4_row1_col2, #T_eb1b4_row2_col0, #T_eb1b4_row2_col1, #T_eb1b4_row2_col2, #T_eb1b4_row3_col0, #T_eb1b4_row3_col1, #T_eb1b4_row3_col2, #T_eb1b4_row4_col0, #T_eb1b4_row4_col1, #T_eb1b4_row4_col2, #T_eb1b4_row5_col0, #T_eb1b4_row5_col1, #T_eb1b4_row5_col2, #T_eb1b4_row6_col0, #T_eb1b4_row6_col1, #T_eb1b4_row6_col2, #T_eb1b4_row7_col0, #T_eb1b4_row7_col1, #T_eb1b4_row7_col2, #T_eb1b4_row8_col0, #T_eb1b4_row8_col1, #T_eb1b4_row8_col2, #T_eb1b4_row9_col0, #T_eb1b4_row9_col1, #T_eb1b4_row9_col2, #T_eb1b4_row10_col0, #T_eb1b4_row10_col1, #T_eb1b4_row10_col2, #T_eb1b4_row11_col0, #T_eb1b4_row11_col1, #T_eb1b4_row11_col2, #T_eb1b4_row12_col0, #T_eb1b4_row12_col1, #T_eb1b4_row12_col2, #T_eb1b4_row13_col0, #T_eb1b4_row13_col1, #T_eb1b4_row13_col2, #T_eb1b4_row14_col0, #T_eb1b4_row14_col1, #T_eb1b4_row14_col2, #T_eb1b4_row15_col0, #T_eb1b4_row15_col1, #T_eb1b4_row15_col2, #T_eb1b4_row16_col0, #T_eb1b4_row16_col1, #T_eb1b4_row16_col2, #T_eb1b4_row17_col0, #T_eb1b4_row17_col1, #T_eb1b4_row17_col2, #T_eb1b4_row18_col0, #T_eb1b4_row18_col1, #T_eb1b4_row18_col2, #T_eb1b4_row19_col0, #T_eb1b4_row19_col1, #T_eb1b4_row19_col2, #T_eb1b4_row20_col0, #T_eb1b4_row20_col1, #T_eb1b4_row20_col2 {\n",
       "  text-align: left;\n",
       "  white-space: pre-wrap;\n",
       "}\n",
       "</style>\n",
       "<table id=\"T_eb1b4\">\n",
       "  <thead>\n",
       "    <tr>\n",
       "      <th class=\"blank level0\" >&nbsp;</th>\n",
       "      <th id=\"T_eb1b4_level0_col0\" class=\"col_heading level0 col0\" >Column Name</th>\n",
       "      <th id=\"T_eb1b4_level0_col1\" class=\"col_heading level0 col1\" >Data Type</th>\n",
       "      <th id=\"T_eb1b4_level0_col2\" class=\"col_heading level0 col2\" >Description</th>\n",
       "    </tr>\n",
       "  </thead>\n",
       "  <tbody>\n",
       "    <tr>\n",
       "      <th id=\"T_eb1b4_level0_row0\" class=\"row_heading level0 row0\" >0</th>\n",
       "      <td id=\"T_eb1b4_row0_col0\" class=\"data row0 col0\" >complex.id</td>\n",
       "      <td id=\"T_eb1b4_row0_col1\" class=\"data row0 col1\" >int64</td>\n",
       "      <td id=\"T_eb1b4_row0_col2\" class=\"data row0 col2\" >TCR id:\n",
       "\n",
       "1. TCR alpha and beta chain records belonging to the same T-cell clone.\n",
       "2. In case complex.id is equal to 0, a record doesn't have either alpha or beta chain.</td>\n",
       "    </tr>\n",
       "    <tr>\n",
       "      <th id=\"T_eb1b4_level0_row1\" class=\"row_heading level0 row1\" >1</th>\n",
       "      <td id=\"T_eb1b4_row1_col0\" class=\"data row1 col0\" >gene</td>\n",
       "      <td id=\"T_eb1b4_row1_col1\" class=\"data row1 col1\" >str</td>\n",
       "      <td id=\"T_eb1b4_row1_col2\" class=\"data row1 col2\" >TCR chain as alpha or beta</td>\n",
       "    </tr>\n",
       "    <tr>\n",
       "      <th id=\"T_eb1b4_level0_row2\" class=\"row_heading level0 row2\" >2</th>\n",
       "      <td id=\"T_eb1b4_row2_col0\" class=\"data row2 col0\" >cdr3</td>\n",
       "      <td id=\"T_eb1b4_row2_col1\" class=\"data row2 col1\" >str</td>\n",
       "      <td id=\"T_eb1b4_row2_col2\" class=\"data row2 col2\" >TCR Complementarity Determining Region 3 (CDR3) amino acid sequence</td>\n",
       "    </tr>\n",
       "    <tr>\n",
       "      <th id=\"T_eb1b4_level0_row3\" class=\"row_heading level0 row3\" >3</th>\n",
       "      <td id=\"T_eb1b4_row3_col0\" class=\"data row3 col0\" >v.segm</td>\n",
       "      <td id=\"T_eb1b4_row3_col1\" class=\"data row3 col1\" >str</td>\n",
       "      <td id=\"T_eb1b4_row3_col2\" class=\"data row3 col2\" >TCR Variable (V) segment</td>\n",
       "    </tr>\n",
       "    <tr>\n",
       "      <th id=\"T_eb1b4_level0_row4\" class=\"row_heading level0 row4\" >4</th>\n",
       "      <td id=\"T_eb1b4_row4_col0\" class=\"data row4 col0\" >j.segm</td>\n",
       "      <td id=\"T_eb1b4_row4_col1\" class=\"data row4 col1\" >str</td>\n",
       "      <td id=\"T_eb1b4_row4_col2\" class=\"data row4 col2\" >TCR Joining (J) gene segment</td>\n",
       "    </tr>\n",
       "    <tr>\n",
       "      <th id=\"T_eb1b4_level0_row5\" class=\"row_heading level0 row5\" >5</th>\n",
       "      <td id=\"T_eb1b4_row5_col0\" class=\"data row5 col0\" >species</td>\n",
       "      <td id=\"T_eb1b4_row5_col1\" class=\"data row5 col1\" >str</td>\n",
       "      <td id=\"T_eb1b4_row5_col2\" class=\"data row5 col2\" >TCR parent species</td>\n",
       "    </tr>\n",
       "    <tr>\n",
       "      <th id=\"T_eb1b4_level0_row6\" class=\"row_heading level0 row6\" >6</th>\n",
       "      <td id=\"T_eb1b4_row6_col0\" class=\"data row6 col0\" >mhc.a</td>\n",
       "      <td id=\"T_eb1b4_row6_col1\" class=\"data row6 col1\" >str</td>\n",
       "      <td id=\"T_eb1b4_row6_col2\" class=\"data row6 col2\" >First MHC chain allele</td>\n",
       "    </tr>\n",
       "    <tr>\n",
       "      <th id=\"T_eb1b4_level0_row7\" class=\"row_heading level0 row7\" >7</th>\n",
       "      <td id=\"T_eb1b4_row7_col0\" class=\"data row7 col0\" >mhc.b</td>\n",
       "      <td id=\"T_eb1b4_row7_col1\" class=\"data row7 col1\" >str</td>\n",
       "      <td id=\"T_eb1b4_row7_col2\" class=\"data row7 col2\" >Second MHC chain allele (MHC I: beta2-microglobulin <B2M>)</td>\n",
       "    </tr>\n",
       "    <tr>\n",
       "      <th id=\"T_eb1b4_level0_row8\" class=\"row_heading level0 row8\" >8</th>\n",
       "      <td id=\"T_eb1b4_row8_col0\" class=\"data row8 col0\" >mhc.class</td>\n",
       "      <td id=\"T_eb1b4_row8_col1\" class=\"data row8 col1\" >str</td>\n",
       "      <td id=\"T_eb1b4_row8_col2\" class=\"data row8 col2\" >MHC I or MHC II</td>\n",
       "    </tr>\n",
       "    <tr>\n",
       "      <th id=\"T_eb1b4_level0_row9\" class=\"row_heading level0 row9\" >9</th>\n",
       "      <td id=\"T_eb1b4_row9_col0\" class=\"data row9 col0\" >antigen.epitope</td>\n",
       "      <td id=\"T_eb1b4_row9_col1\" class=\"data row9 col1\" >str</td>\n",
       "      <td id=\"T_eb1b4_row9_col2\" class=\"data row9 col2\" >Amino acid sequence of the epitope</td>\n",
       "    </tr>\n",
       "    <tr>\n",
       "      <th id=\"T_eb1b4_level0_row10\" class=\"row_heading level0 row10\" >10</th>\n",
       "      <td id=\"T_eb1b4_row10_col0\" class=\"data row10 col0\" >antigen.gene</td>\n",
       "      <td id=\"T_eb1b4_row10_col1\" class=\"data row10 col1\" >str</td>\n",
       "      <td id=\"T_eb1b4_row10_col2\" class=\"data row10 col2\" >Parent gene of the epitope sequence</td>\n",
       "    </tr>\n",
       "    <tr>\n",
       "      <th id=\"T_eb1b4_level0_row11\" class=\"row_heading level0 row11\" >11</th>\n",
       "      <td id=\"T_eb1b4_row11_col0\" class=\"data row11 col0\" >antigen.species</td>\n",
       "      <td id=\"T_eb1b4_row11_col1\" class=\"data row11 col1\" >str</td>\n",
       "      <td id=\"T_eb1b4_row11_col2\" class=\"data row11 col2\" >Parent species of the antigen</td>\n",
       "    </tr>\n",
       "    <tr>\n",
       "      <th id=\"T_eb1b4_level0_row12\" class=\"row_heading level0 row12\" >12</th>\n",
       "      <td id=\"T_eb1b4_row12_col0\" class=\"data row12 col0\" >reference.id</td>\n",
       "      <td id=\"T_eb1b4_row12_col1\" class=\"data row12 col1\" >str</td>\n",
       "      <td id=\"T_eb1b4_row12_col2\" class=\"data row12 col2\" >Pubmed id, doi, etc</td>\n",
       "    </tr>\n",
       "    <tr>\n",
       "      <th id=\"T_eb1b4_level0_row13\" class=\"row_heading level0 row13\" >13</th>\n",
       "      <td id=\"T_eb1b4_row13_col0\" class=\"data row13 col0\" >method</td>\n",
       "      <td id=\"T_eb1b4_row13_col1\" class=\"data row13 col1\" >str</td>\n",
       "      <td id=\"T_eb1b4_row13_col2\" class=\"data row13 col2\" >Method information for frequency, identification, etc</td>\n",
       "    </tr>\n",
       "    <tr>\n",
       "      <th id=\"T_eb1b4_level0_row14\" class=\"row_heading level0 row14\" >14</th>\n",
       "      <td id=\"T_eb1b4_row14_col0\" class=\"data row14 col0\" >meta</td>\n",
       "      <td id=\"T_eb1b4_row14_col1\" class=\"data row14 col1\" >str</td>\n",
       "      <td id=\"T_eb1b4_row14_col2\" class=\"data row14 col2\" >Meta information for cell.subset, clone.id, donor.MHC ,etc</td>\n",
       "    </tr>\n",
       "    <tr>\n",
       "      <th id=\"T_eb1b4_level0_row15\" class=\"row_heading level0 row15\" >15</th>\n",
       "      <td id=\"T_eb1b4_row15_col0\" class=\"data row15 col0\" >cdr3fix</td>\n",
       "      <td id=\"T_eb1b4_row15_col1\" class=\"data row15 col1\" >str</td>\n",
       "      <td id=\"T_eb1b4_row15_col2\" class=\"data row15 col2\" >CDR3 fixing</td>\n",
       "    </tr>\n",
       "    <tr>\n",
       "      <th id=\"T_eb1b4_level0_row16\" class=\"row_heading level0 row16\" >16</th>\n",
       "      <td id=\"T_eb1b4_row16_col0\" class=\"data row16 col0\" >vdjdb.score</td>\n",
       "      <td id=\"T_eb1b4_row16_col1\" class=\"data row16 col1\" >int64</td>\n",
       "      <td id=\"T_eb1b4_row16_col2\" class=\"data row16 col2\" >Confidence score for the antigen specificity annotation of a given TCR clonotype/clone:\n",
       "\n",
       "0 - low confidence\n",
       "1 - medium confidence\n",
       "2 - high confidence\n",
       "3 - very high confidence</td>\n",
       "    </tr>\n",
       "    <tr>\n",
       "      <th id=\"T_eb1b4_level0_row17\" class=\"row_heading level0 row17\" >17</th>\n",
       "      <td id=\"T_eb1b4_row17_col0\" class=\"data row17 col0\" >web.method</td>\n",
       "      <td id=\"T_eb1b4_row17_col1\" class=\"data row17 col1\" >str</td>\n",
       "      <td id=\"T_eb1b4_row17_col2\" class=\"data row17 col2\" >Source or collection method of data</td>\n",
       "    </tr>\n",
       "    <tr>\n",
       "      <th id=\"T_eb1b4_level0_row18\" class=\"row_heading level0 row18\" >18</th>\n",
       "      <td id=\"T_eb1b4_row18_col0\" class=\"data row18 col0\" >web.method.seq</td>\n",
       "      <td id=\"T_eb1b4_row18_col1\" class=\"data row18 col1\" >str</td>\n",
       "      <td id=\"T_eb1b4_row18_col2\" class=\"data row18 col2\" >Sequencing technology</td>\n",
       "    </tr>\n",
       "    <tr>\n",
       "      <th id=\"T_eb1b4_level0_row19\" class=\"row_heading level0 row19\" >19</th>\n",
       "      <td id=\"T_eb1b4_row19_col0\" class=\"data row19 col0\" >web.cdr3fix.nc</td>\n",
       "      <td id=\"T_eb1b4_row19_col1\" class=\"data row19 col1\" >str</td>\n",
       "      <td id=\"T_eb1b4_row19_col2\" class=\"data row19 col2\" >Whether the CDR3 needs to be corrected</td>\n",
       "    </tr>\n",
       "    <tr>\n",
       "      <th id=\"T_eb1b4_level0_row20\" class=\"row_heading level0 row20\" >20</th>\n",
       "      <td id=\"T_eb1b4_row20_col0\" class=\"data row20 col0\" >web.cdr3fix.unmp</td>\n",
       "      <td id=\"T_eb1b4_row20_col1\" class=\"data row20 col1\" >str</td>\n",
       "      <td id=\"T_eb1b4_row20_col2\" class=\"data row20 col2\" >CDR3 sequence mapping status</td>\n",
       "    </tr>\n",
       "  </tbody>\n",
       "</table>\n"
      ],
      "text/plain": [
       "<pandas.io.formats.style.Styler at 0x14103dab550>"
      ]
     },
     "metadata": {},
     "output_type": "display_data"
    }
   ],
   "source": [
    "display_left_aligned(rawdata_info)"
   ]
  },
  {
   "cell_type": "markdown",
   "id": "a521b82b",
   "metadata": {},
   "source": [
    "## 3. Data wrangling"
   ]
  },
  {
   "cell_type": "markdown",
   "id": "12bf3169",
   "metadata": {},
   "source": [
    "### 3.1 Remove columns"
   ]
  },
  {
   "cell_type": "markdown",
   "id": "25fba959",
   "metadata": {},
   "source": [
    "Some of the columns contain specific information about the literature sources (reference.id), sequencing methods (method, web.method.seq), collection method (web.method) etc., some of which are related to how **vdjdb.score** is calculated.\n",
    "\n",
    "Therefore we first remove these columns. Deleted columns are as follows: \n",
    "-  reference.id\n",
    "-  method\n",
    "-  meta\n",
    "-  cdr3fix\n",
    "-  web.method  \n",
    "-  web.method.seq\n",
    "-  web.cdr3fix.nc\n",
    "-  web.cdr3fix.unmp"
   ]
  },
  {
   "cell_type": "code",
   "execution_count": 9,
   "id": "a50dafec",
   "metadata": {
    "ExecuteTime": {
     "end_time": "2024-03-04T16:38:38.383234600Z",
     "start_time": "2024-03-04T16:38:38.194955200Z"
    },
    "scrolled": false
   },
   "outputs": [
    {
     "name": "stdout",
     "output_type": "stream",
     "text": [
      "<class 'pandas.core.frame.DataFrame'>\n",
      "RangeIndex: 92771 entries, 0 to 92770\n",
      "Data columns (total 13 columns):\n",
      " #   Column           Non-Null Count  Dtype \n",
      "---  ------           --------------  ----- \n",
      " 0   complex.id       92771 non-null  int64 \n",
      " 1   gene             92771 non-null  object\n",
      " 2   cdr3             92771 non-null  object\n",
      " 3   v.segm           92670 non-null  object\n",
      " 4   j.segm           91626 non-null  object\n",
      " 5   species          92771 non-null  object\n",
      " 6   mhc.a            92771 non-null  object\n",
      " 7   mhc.b            92771 non-null  object\n",
      " 8   mhc.class        92771 non-null  object\n",
      " 9   antigen.epitope  92771 non-null  object\n",
      " 10  antigen.gene     92709 non-null  object\n",
      " 11  antigen.species  92771 non-null  object\n",
      " 12  vdjdb.score      92771 non-null  int64 \n",
      "dtypes: int64(2), object(11)\n",
      "memory usage: 9.2+ MB\n"
     ]
    }
   ],
   "source": [
    "data = rawdata.iloc[:, list(range(0, 12)) + [16]]\n",
    "data.info()"
   ]
  },
  {
   "cell_type": "markdown",
   "id": "f6058d8b",
   "metadata": {},
   "source": [
    "### 3.2 Null values\n",
    "\n",
    "The colums v.segm, j.segm, and antigen.gene have 101, 1145, and 62 null values respectively."
   ]
  },
  {
   "cell_type": "code",
   "execution_count": 10,
   "id": "db595773",
   "metadata": {
    "ExecuteTime": {
     "end_time": "2024-03-04T16:38:38.566051600Z",
     "start_time": "2024-03-04T16:38:38.303814900Z"
    },
    "scrolled": true
   },
   "outputs": [
    {
     "data": {
      "text/plain": [
       "complex.id            0\n",
       "gene                  0\n",
       "cdr3                  0\n",
       "v.segm              101\n",
       "j.segm             1145\n",
       "species               0\n",
       "mhc.a                 0\n",
       "mhc.b                 0\n",
       "mhc.class             0\n",
       "antigen.epitope       0\n",
       "antigen.gene         62\n",
       "antigen.species       0\n",
       "vdjdb.score           0\n",
       "dtype: int64"
      ]
     },
     "execution_count": 10,
     "metadata": {},
     "output_type": "execute_result"
    }
   ],
   "source": [
    "data.isnull().sum()"
   ]
  },
  {
   "cell_type": "code",
   "execution_count": 11,
   "id": "c498d364",
   "metadata": {
    "ExecuteTime": {
     "end_time": "2024-03-04T16:38:38.719214700Z",
     "start_time": "2024-03-04T16:38:38.448898Z"
    }
   },
   "outputs": [
    {
     "name": "stdout",
     "output_type": "stream",
     "text": [
      "The number of null rows: 1221\n"
     ]
    }
   ],
   "source": [
    "null_count = data.isnull().any(axis=1).sum()\n",
    "print(f\"The number of null rows: {null_count}\")"
   ]
  },
  {
   "cell_type": "markdown",
   "id": "be37161b",
   "metadata": {},
   "source": [
    "### 3.3 Unique values"
   ]
  },
  {
   "cell_type": "markdown",
   "id": "27e3b761",
   "metadata": {},
   "source": [
    "Then, we check the unique value counts in the remaining columns."
   ]
  },
  {
   "cell_type": "code",
   "execution_count": 12,
   "id": "4406728a",
   "metadata": {
    "ExecuteTime": {
     "end_time": "2024-03-04T16:38:38.751233200Z",
     "start_time": "2024-03-04T16:38:38.464507300Z"
    }
   },
   "outputs": [],
   "source": [
    "def plot_unique_value_counts(df, wid):\n",
    "    unique_counts = df.nunique()\n",
    "    showplt = 1\n",
    "    ##showplt = input('If you want to show a bar chart, please input 1.\\nElse, input 0:\\n')\n",
    "    if showplt:\n",
    "        plt.figure(figsize=(6, 4))\n",
    "        plt.bar(range(len(unique_counts)),unique_counts, width=wid)\n",
    "        plt.title('Unique Value Counts')\n",
    "        plt.xlabel('Columns')\n",
    "        plt.ylabel('Unique Value Counts')\n",
    "        plt.xticks(range(len(unique_counts)), unique_counts.index, rotation=45)\n",
    "\n",
    "    for i, v in enumerate(unique_counts):\n",
    "        plt.text(i, v + 0.1, str(v), ha='center', va='bottom')\n",
    "\n",
    "    return unique_counts"
   ]
  },
  {
   "cell_type": "code",
   "execution_count": 13,
   "id": "ded6dad4",
   "metadata": {
    "ExecuteTime": {
     "end_time": "2024-03-04T16:38:39.305828200Z",
     "start_time": "2024-03-04T16:38:38.474018900Z"
    }
   },
   "outputs": [
    {
     "data": {
      "text/plain": [
       "complex.id         30595\n",
       "gene                   2\n",
       "cdr3               68994\n",
       "v.segm               224\n",
       "j.segm                71\n",
       "species                3\n",
       "mhc.a                119\n",
       "mhc.b                 45\n",
       "mhc.class              2\n",
       "antigen.epitope     1169\n",
       "antigen.gene         268\n",
       "antigen.species       42\n",
       "vdjdb.score            4\n",
       "dtype: int64"
      ]
     },
     "execution_count": 13,
     "metadata": {},
     "output_type": "execute_result"
    },
    {
     "data": {
      "image/png": "[encoded data removed]",
      "text/plain": [
       "<Figure size 600x400 with 1 Axes>"
      ]
     },
     "metadata": {},
     "output_type": "display_data"
    }
   ],
   "source": [
    "plot_unique_value_counts(data,0.6)"
   ]
  },
  {
   "cell_type": "code",
   "execution_count": 14,
   "id": "b99d53ec",
   "metadata": {
    "ExecuteTime": {
     "end_time": "2024-03-04T16:38:39.606162400Z",
     "start_time": "2024-03-04T16:38:39.187973700Z"
    }
   },
   "outputs": [
    {
     "data": {
      "text/plain": [
       "cdr3               68994\n",
       "antigen.epitope     1169\n",
       "dtype: int64"
      ]
     },
     "execution_count": 14,
     "metadata": {},
     "output_type": "execute_result"
    },
    {
     "data": {
      "image/png": "[encoded data removed]",
      "text/plain": [
       "<Figure size 600x400 with 1 Axes>"
      ]
     },
     "metadata": {},
     "output_type": "display_data"
    }
   ],
   "source": [
    "plot_unique_value_counts(data[['cdr3','antigen.epitope']],0.1)"
   ]
  },
  {
   "cell_type": "markdown",
   "id": "b008a03f",
   "metadata": {},
   "source": [
    "### 3.4 complex.id\n",
    "\n",
    "Due to the fact that TCR alpha and beta chain records belonging to the same T-cell clone, and in case the complex.id is equal to zero, a record doesn't have either alpha or beta chain, we count both zero and non-zero values, and then check if the non-zero values occur twice."
   ]
  },
  {
   "cell_type": "code",
   "execution_count": 15,
   "id": "4f73b726",
   "metadata": {
    "ExecuteTime": {
     "end_time": "2024-03-04T16:38:40.197335600Z",
     "start_time": "2024-03-04T16:38:39.683831300Z"
    },
    "scrolled": false
   },
   "outputs": [
    {
     "name": "stdout",
     "output_type": "stream",
     "text": [
      "1. The number of rows in the VDJdb: 92771\n",
      "   The number of null rows: 1221\n",
      "   The number of duplicate rows: 4245\n",
      "\n",
      "2. The zero complex.id info:\n",
      "   The number of zero complex.id: 31583\n",
      "   The number of the alpha chain: 7455\n",
      "   The number of the beta chain: 24128\n",
      "   The number of non-duplicate rows: 27338\n",
      "   The number of duplicate rows: 4245\n",
      "   The number of null rows: 326\n",
      "\n",
      "3. The non-zero complex.id info:\n",
      "   The number of non-zero complex.id: 61188\n",
      "   The number of non-duplicate rows: 61188\n",
      "   The number of duplicate rows: 0\n",
      "\n",
      "   All non-zero values occur in pairs.\n",
      "   The number of the paired values is 30594\n",
      "\n",
      "   The number of null rows: 895\n",
      "   The number of duplicate rows with null: 32\n"
     ]
    }
   ],
   "source": [
    "print(f\"1. The number of rows in the VDJdb: {len(data)}\\n\"\n",
    "      f\"   The number of null rows: {null_count}\\n\"\n",
    "      f\"   The number of duplicate rows: {len(data)-data.drop_duplicates().shape[0]}\")\n",
    "\n",
    "zeros = data[data['complex.id'] == 0]\n",
    "zeros_count = zeros['complex.id'].count()\n",
    "zeros_a_count = zeros[zeros['gene'] == 'TRA']['gene'].count()\n",
    "zeros_b_count = zeros[zeros['gene'] == 'TRB']['gene'].count()\n",
    "zeros_unique_count = zeros.drop_duplicates().shape[0]\n",
    "zeros_null = zeros.isnull().any(axis=1).sum()\n",
    "print(\"\\n2. The zero complex.id info:\"\n",
    "      f\"\\n   The number of zero complex.id: {zeros_count}\"\n",
    "      f\"\\n   The number of the alpha chain: {zeros_a_count}\"\n",
    "      f\"\\n   The number of the beta chain: {zeros_b_count}\"\n",
    "      f\"\\n   The number of non-duplicate rows: {zeros_unique_count}\"\n",
    "      f\"\\n   The number of duplicate rows: {zeros_count-zeros_unique_count}\"\n",
    "      f\"\\n   The number of null rows: {zeros_null}\")\n",
    "\n",
    "\n",
    "non_zeros = data[data['complex.id'] != 0]\n",
    "non_zeros_count = non_zeros['complex.id'].count()\n",
    "non_zeros_pair_count = non_zeros['complex.id'].value_counts()\n",
    "non_zeros_unique_count = non_zeros.drop_duplicates().shape[0]\n",
    "non_zeros_null = non_zeros.isnull().any(axis=1).sum()\n",
    "print(\"\\n3. The non-zero complex.id info:\"\n",
    "      f\"\\n   The number of non-zero complex.id: {non_zeros_count}\"\n",
    "      f\"\\n   The number of non-duplicate rows: {non_zeros_unique_count}\"\n",
    "      f\"\\n   The number of duplicate rows: {non_zeros_count-non_zeros_unique_count}\")\n",
    "\n",
    "# Check if all non-zero values occur twice\n",
    "pairs_check = all(non_zeros_pair_count == 2)\n",
    "if pairs_check:\n",
    "    print(f\"\\n   All non-zero values occur in pairs.\"\n",
    "          f\"\\n   The number of the paired values is {len(non_zeros_pair_count)}\")\n",
    "else:\n",
    "    print(\"\\n   There are non-paired values among non-zero values.\")\n",
    "\n",
    "# Find non-duplicate rows with null values in non_zeros\n",
    "complex_id_with_null = non_zeros.loc[non_zeros.isnull().any(axis=1), [\n",
    "    'complex.id']]\n",
    "\n",
    "print(f\"\\n   The number of null rows: {non_zeros_null}\"\n",
    "      f\"\\n   The number of duplicate rows with null: \"\n",
    "      f\"{non_zeros_null-complex_id_with_null.drop_duplicates().shape[0]}\")"
   ]
  },
  {
   "cell_type": "code",
   "execution_count": 16,
   "id": "4c80aa52",
   "metadata": {
    "ExecuteTime": {
     "end_time": "2024-03-04T16:38:40.698806400Z",
     "start_time": "2024-03-04T16:38:40.200693600Z"
    }
   },
   "outputs": [
    {
     "data": {
      "text/plain": [
       "<matplotlib.legend.Legend at 0x1417ce7fa90>"
      ]
     },
     "execution_count": 16,
     "metadata": {},
     "output_type": "execute_result"
    },
    {
     "data": {
      "image/png": "[encoded data removed]",
      "text/plain": [
       "<Figure size 800x600 with 1 Axes>"
      ]
     },
     "metadata": {},
     "output_type": "display_data"
    }
   ],
   "source": [
    "# complex.id info visualization\n",
    "# Define data\n",
    "categories = ['VDJdb', 'Zero complex.id', 'Non-zero complex.id']\n",
    "counts = [len(data), zeros_count, non_zeros_count]\n",
    "unique_counts = [0, zeros_unique_count, non_zeros_unique_count]\n",
    "duplicate_counts = [0, zeros_count - zeros_unique_count, non_zeros_count - non_zeros_unique_count]\n",
    "null_counts = [null_count, zeros_null, non_zeros_null]\n",
    "\n",
    "# Create a bar chart\n",
    "plt.figure(figsize=(8, 6))\n",
    "bar_width = 0.25\n",
    "index = range(len(categories))\n",
    "\n",
    "bars1 = plt.bar(index, counts, color='skyblue', label='Total count', width=bar_width)\n",
    "bars2 = plt.bar([i + bar_width for i in index], unique_counts, color='orange', label='Non-duplicate count', width=bar_width)\n",
    "bars3 = plt.bar([i + 2 * bar_width for i in index], duplicate_counts, color='lightgreen', label='Duplicate count', width=bar_width)\n",
    "barsnull = plt.bar(index, null_counts, color='red', label='Null count', width=bar_width)\n",
    "\n",
    "# Add labels and legend\n",
    "def autolabel(bars):\n",
    "    for bar in bars:\n",
    "        height = bar.get_height()\n",
    "        plt.text(bar.get_x() + bar.get_width() / 2, height, '%d' % int(height), ha='center', va='bottom', fontsize=8)\n",
    "\n",
    "autolabel(bars1)\n",
    "autolabel(bars2)\n",
    "autolabel(bars3)\n",
    "autolabel(barsnull)\n",
    "\n",
    "plt.xlabel('Complex.id Information')\n",
    "plt.ylabel('Count')\n",
    "plt.title('Complex.id Information Counts')\n",
    "plt.xticks([i + bar_width for i in index], categories)\n",
    "plt.legend()"
   ]
  },
  {
   "cell_type": "markdown",
   "id": "6d8e4e11",
   "metadata": {},
   "source": [
    "Next, we check if the paired records of non-zero complex.id have the same information for other columns expect the column 'gene'."
   ]
  },
  {
   "cell_type": "code",
   "execution_count": 17,
   "id": "ef5cc8a3",
   "metadata": {
    "ExecuteTime": {
     "end_time": "2024-03-04T16:38:58.557096700Z",
     "start_time": "2024-03-04T16:38:40.697790800Z"
    }
   },
   "outputs": [
    {
     "name": "stdout",
     "output_type": "stream",
     "text": [
      "All species, mhc.a, mhc.b, mhc.class, antigen.epitope, antigen.gene, antigen.species, vdjdb.score columns of the same complex.id are consistent.\n"
     ]
    }
   ],
   "source": [
    "grouped = non_zeros.groupby('complex.id')\n",
    "\n",
    "# Create an empty list to store inconsistent complex.id\n",
    "not_consistent_ids = []\n",
    "\n",
    "for group_name, group_data in grouped:\n",
    "    # Compare columns 6 to 13 for consistency\n",
    "    columns_to_compare = group_data.columns[5:13]\n",
    "    comparison_result = group_data.iloc[0][columns_to_compare].equals(\n",
    "        group_data.iloc[1][columns_to_compare])\n",
    "\n",
    "    if not comparison_result:\n",
    "        not_consistent_ids.append(group_name)\n",
    "\n",
    "if not_consistent_ids:\n",
    "    print(\"Inconsistent complex.id:\", not_consistent_ids)\n",
    "else:\n",
    "    print(\n",
    "        f\"All {', '.join(non_zeros.columns[5:13])} columns of the same complex.id are consistent.\")"
   ]
  },
  {
   "cell_type": "markdown",
   "id": "88a4e0ca",
   "metadata": {},
   "source": [
    "## 4. Inference"
   ]
  },
  {
   "cell_type": "markdown",
   "id": "23f5ff84",
   "metadata": {},
   "source": [
    "Based on various measures we could use to calculate the distance/similarity matrix, the columns we choose as the input are different. Besides we should calculate these metrics for the alpha and beta chains seperately in the further study.\n",
    "\n",
    "**Therefore we don't have to remove the lines with null values and complex.id values that are equal to 0 right away.**"
   ]
  },
  {
   "cell_type": "markdown",
   "id": "840ee922",
   "metadata": {},
   "source": [
    "### 4.1 TCRdist3\n",
    "\n",
    "Tcrdist3 only requires 3 input columns for single chain analysis (i.e., for beta chain cdr3_b_aa and v_b_gene, j_b_gene) and 6 columns for paired chain analysis (i.e., cdr3_b_aa, v_b_gene, j_b_gene, cdr3_a_aa, v_a_gene, and j_a_gene).\n",
    "\n",
    "A unique feature of tcrdist3 is that all of the parameters of the distance metric can be adjusted (e.g. alpha-chain only, weights on CDR loops, etc.) or completely new user-defined metrics can be provided to calculate pairwise distances. The package comes with a distance based on Needleman-Wunsch global sequence alignment and a BLOSUM62 similarity matrix, as well as the Levenshtein/edit distance, which is employed by other TCR analysis packages such as *TCRNET/VDJtools*, *ALICE*, and *GLIPH2*.\n",
    "\n",
    "https://tcrdist3.readthedocs.io/en/latest/index.html\n",
    "\n",
    "https://github.com/kmayerb/tcrdist3"
   ]
  },
  {
   "cell_type": "markdown",
   "id": "e44b95bc",
   "metadata": {},
   "source": [
    "### 4.2 GLIPH\n",
    "\n",
    "Input TCR data are formated as follow\n",
    "#CDR3b  TRBV  TRBJ  CDR3a  subject:condition count\n",
    "CSARDQGGAGNQPQHF\tTRBV20-1\tTRBJ1-5\tCAVGVGYKLSF\t01/0906:MtbLys\t1\n",
    "\n",
    "All fields are tab-delimited except that subject and condition are delimited with \":\". Condition can be anything such as tissue type, cell subset or treatment et al. CDR3b, TRBV, subject, and count are required. Other fields can be replaced with \"NA\". A demo input TCR dataset can be found at the link [TCR](http://50.255.35.37:8080/demo).\n",
    "\n",
    "Huang, Huang, et al. \"Analyzing the Mycobacterium tuberculosis immune response by T-cell receptor clustering with GLIPH2 and genome-wide antigen screening.\" Nature Biotechnology 38.10 (2020): 1194-1202. [Link](https://www.nature.com/articles/s41587-020-0505-4)\n",
    "\n",
    "GLIPH1 works well on small and clean data sets. However, as data sets are becoming larger and noisier, the algorithm tends to generate large clusters of mixed specificities. [Link](https://www.ncbi.nlm.nih.gov/pmc/articles/PMC10035763/)\n",
    "\n",
    "http://50.255.35.37:8080/tools\n",
    "\n",
    "https://github.com/immunoengineer/gliph"
   ]
  },
  {
   "cell_type": "markdown",
   "id": "bb382bc2",
   "metadata": {},
   "source": [
    "### 4.3 GIANA\n",
    "\n",
    "Input of GIANA is flexible. The first column is kept for CDR3 amino acid sequence. If TRBV allele information is enabled (by default), the second column is required to be TRBV genes. As the TCR-seq data provided by the Adaptive Biotechnologies does not comply with the IMGT format, we provide the R code (ProcessAdaptiveFile.R) to convert the Adaptive data input to standard format. In the output, GIANA inserts a column between the first and the second column as the cluster IDs. Other columns in the input data may contain any information, and will be kept in the final output.\n",
    "\n",
    "https://github.com/s175573/GIANA"
   ]
  }
 ],
 "metadata": {
  "hide_input": false,
  "kernelspec": {
   "display_name": "Python 3 (ipykernel)",
   "language": "python",
   "name": "python3"
  },
  "language_info": {
   "codemirror_mode": {
    "name": "ipython",
    "version": 3
   },
   "file_extension": ".py",
   "mimetype": "text/x-python",
   "name": "python",
   "nbconvert_exporter": "python",
   "pygments_lexer": "ipython3",
   "version": "3.11.4"
  },
  "toc": {
   "base_numbering": 1,
   "nav_menu": {
    "height": "101.983px",
    "width": "188.99px"
   },
   "number_sections": false,
   "sideBar": true,
   "skip_h1_title": false,
   "title_cell": "Table of Contents",
   "title_sidebar": "Contents",
   "toc_cell": true,
   "toc_position": {
    "height": "calc(100% - 180px)",
    "left": "10px",
    "top": "150px",
    "width": "271.848px"
   },
   "toc_section_display": true,
   "toc_window_display": true
  },
  "varInspector": {
   "cols": {
    "lenName": 16,
    "lenType": 16,
    "lenVar": 40
   },
   "kernels_config": {
    "python": {
     "delete_cmd_postfix": "",
     "delete_cmd_prefix": "del ",
     "library": "var_list.py",
     "varRefreshCmd": "print(var_dic_list())"
    },
    "r": {
     "delete_cmd_postfix": ") ",
     "delete_cmd_prefix": "rm(",
     "library": "var_list.r",
     "varRefreshCmd": "cat(var_dic_list()) "
    }
   },
   "position": {
    "height": "296.528px",
    "left": "757.892px",
    "right": "20px",
    "top": "106.998px",
    "width": "543.106px"
   },
   "types_to_exclude": [
    "module",
    "function",
    "builtin_function_or_method",
    "instance",
    "_Feature"
   ],
   "window_display": false
  }
 },
 "nbformat": 4,
 "nbformat_minor": 5
}
