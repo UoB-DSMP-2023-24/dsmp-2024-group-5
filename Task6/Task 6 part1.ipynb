{
 "cells": [
  {
   "cell_type": "markdown",
   "id": "1b443bff",
   "metadata": {
    "toc": true
   },
   "source": [
    "<h1>Table of Contents<span class=\"tocSkip\"></span></h1>\n",
    "<div class=\"toc\"><ul class=\"toc-item\"><li><span><a href=\"#Predicting-antigen-specificity-(Work-by:-Nakul)\" data-toc-modified-id=\"Predicting-antigen-specificity-(Work-by:-Nakul)-1\">Predicting antigen specificity (Work by: Nakul)</a></span></li><li><span><a href=\"#Data-Transformation\" data-toc-modified-id=\"Data-Transformation-2\">Data Transformation</a></span><ul class=\"toc-item\"><li><span><a href=\"#Removing-Unwanted-Columns\" data-toc-modified-id=\"Removing-Unwanted-Columns-2.1\">Removing Unwanted Columns</a></span></li><li><span><a href=\"#How-to-filter-the-dataset\" data-toc-modified-id=\"How-to-filter-the-dataset-2.2\">How to filter the dataset</a></span><ul class=\"toc-item\"><li><ul class=\"toc-item\"><li><span><a href=\"#Explanation-for-CDR3-Lengths\" data-toc-modified-id=\"Explanation-for-CDR3-Lengths-2.2.0.1\">Explanation for CDR3 Lengths</a></span></li><li><span><a href=\"#Explanation-for-epitope-lengths\" data-toc-modified-id=\"Explanation-for-epitope-lengths-2.2.0.2\">Explanation for epitope lengths</a></span></li></ul></li></ul></li><li><span><a href=\"#How-to-prepare-the-data-for-ML-model?\" data-toc-modified-id=\"How-to-prepare-the-data-for-ML-model?-2.3\">How to prepare the data for ML model?</a></span></li><li><span><a href=\"#How-valueable-is-the-different-lengths-of-the-CDR\" data-toc-modified-id=\"How-valueable-is-the-different-lengths-of-the-CDR-2.4\">How valueable is the different lengths of the CDR</a></span><ul class=\"toc-item\"><li><ul class=\"toc-item\"><li><span><a href=\"#Taking-only-beta-chains-of-humans\" data-toc-modified-id=\"Taking-only-beta-chains-of-humans-2.4.0.1\">Taking only beta chains of humans</a></span></li></ul></li><li><span><a href=\"#Creating-subset-for-positive-and-negative-sampling\" data-toc-modified-id=\"Creating-subset-for-positive-and-negative-sampling-2.4.1\">Creating subset for positive and negative sampling</a></span></li><li><span><a href=\"#Removing-Duplicates\" data-toc-modified-id=\"Removing-Duplicates-2.4.2\">Removing Duplicates</a></span></li></ul></li></ul></li><li><span><a href=\"#CDR3-Lengths\" data-toc-modified-id=\"CDR3-Lengths-3\">CDR3 Lengths</a></span><ul class=\"toc-item\"><li><span><a href=\"#Adding-column-of-length-of-CDR3-chain\" data-toc-modified-id=\"Adding-column-of-length-of-CDR3-chain-3.1\">Adding column of length of CDR3 chain</a></span></li><li><span><a href=\"#Finding-Epitope-Lengths\" data-toc-modified-id=\"Finding-Epitope-Lengths-3.2\">Finding Epitope Lengths</a></span></li><li><span><a href=\"#Taking-only-those-epitopes-which-have-10-or-more-associated-TCR-sequences\" data-toc-modified-id=\"Taking-only-those-epitopes-which-have-10-or-more-associated-TCR-sequences-3.3\">Taking only those epitopes which have 10 or more associated TCR sequences</a></span><ul class=\"toc-item\"><li><span><a href=\"#Selecting-only-these-epitopes\" data-toc-modified-id=\"Selecting-only-these-epitopes-3.3.1\">Selecting only these epitopes</a></span></li></ul></li><li><span><a href=\"#Checking-for-ambigous-amino-acids\" data-toc-modified-id=\"Checking-for-ambigous-amino-acids-3.4\">Checking for ambigous amino acids</a></span><ul class=\"toc-item\"><li><span><a href=\"#Encoding-TCR-and-epitopes\" data-toc-modified-id=\"Encoding-TCR-and-epitopes-3.4.1\">Encoding TCR and epitopes</a></span></li><li><span><a href=\"#Applying-Classification-model-on-database-containing-all-values-of-VDJ.score\" data-toc-modified-id=\"Applying-Classification-model-on-database-containing-all-values-of-VDJ.score-3.4.2\">Applying Classification model on database containing all values of VDJ.score</a></span></li><li><span><a href=\"#Approach-1\" data-toc-modified-id=\"Approach-1-3.4.3\">Approach 1</a></span></li></ul></li><li><span><a href=\"#Metrics-to-use?\" data-toc-modified-id=\"Metrics-to-use?-3.5\">Metrics to use?</a></span><ul class=\"toc-item\"><li><span><a href=\"#Averaging-technique-used\" data-toc-modified-id=\"Averaging-technique-used-3.5.1\">Averaging technique used</a></span></li></ul></li><li><span><a href=\"#Apply-grid-cv-search-to-find-the-best-parameters-for-the-decision-tree\" data-toc-modified-id=\"Apply-grid-cv-search-to-find-the-best-parameters-for-the-decision-tree-3.6\">Apply grid cv search to find the best parameters for the decision tree</a></span><ul class=\"toc-item\"><li><span><a href=\"#Approach-2:-Random-Forest-Classifier\" data-toc-modified-id=\"Approach-2:-Random-Forest-Classifier-3.6.1\">Approach 2: Random Forest Classifier</a></span><ul class=\"toc-item\"><li><span><a href=\"#Inference\" data-toc-modified-id=\"Inference-3.6.1.1\">Inference</a></span></li></ul></li><li><span><a href=\"#Applying-Classification-model-on-database-with-only-values-of-VDJ.score-as-2,-3\" data-toc-modified-id=\"Applying-Classification-model-on-database-with-only-values-of-VDJ.score-as-2,-3-3.6.2\">Applying Classification model on database with only values of VDJ.score as 2, 3</a></span></li><li><span><a href=\"#Approach-2:-Random-Forest-Classifier\" data-toc-modified-id=\"Approach-2:-Random-Forest-Classifier-3.6.3\">Approach 2: Random Forest Classifier</a></span></li></ul></li><li><span><a href=\"#Difference-between-score-of-models-with-all-the-data-and-only-a-small-subset-of-the-data.-Give-inference\" data-toc-modified-id=\"Difference-between-score-of-models-with-all-the-data-and-only-a-small-subset-of-the-data.-Give-inference-3.7\">Difference between score of models with all the data and only a small subset of the data. Give inference</a></span></li><li><span><a href=\"#The-AUC_ROC-score-has-become-better-with-a-more-balanced-dataset-and-a-small-dataset,-it-means-that-the-model-is-able-to-predict-the-True-positive-and-True-negative-much-better\" data-toc-modified-id=\"The-AUC_ROC-score-has-become-better-with-a-more-balanced-dataset-and-a-small-dataset,-it-means-that-the-model-is-able-to-predict-the-True-positive-and-True-negative-much-better-3.8\">The AUC_ROC score has become better with a more balanced dataset and a small dataset, it means that the model is able to predict the True positive and True negative much better</a></span></li></ul></li></ul></div>"
   ]
  },
  {
   "cell_type": "markdown",
   "id": "852e68ed-59c7-4fcb-9afe-459b0aa562c9",
   "metadata": {},
   "source": [
    "# Predicting antigen specificity (Work by: Nakul)"
   ]
  },
  {
   "cell_type": "code",
   "execution_count": 1,
   "id": "c79b1d97-61cf-43ea-a561-9c12c159b58b",
   "metadata": {},
   "outputs": [],
   "source": [
    "import pandas as pd\n",
    "\n",
    "import seaborn as sns\n",
    "import matplotlib.pyplot as plt"
   ]
  },
  {
   "cell_type": "code",
   "execution_count": 2,
   "id": "746c7bb4-6ec8-4e32-bd44-6014e0d9fcf9",
   "metadata": {},
   "outputs": [
    {
     "name": "stdout",
     "output_type": "stream",
     "text": [
      "<class 'pandas.core.frame.DataFrame'>\n",
      "RangeIndex: 92771 entries, 0 to 92770\n",
      "Data columns (total 21 columns):\n",
      " #   Column            Non-Null Count  Dtype \n",
      "---  ------            --------------  ----- \n",
      " 0   complex.id        92771 non-null  int64 \n",
      " 1   gene              92771 non-null  object\n",
      " 2   cdr3              92771 non-null  object\n",
      " 3   v.segm            92670 non-null  object\n",
      " 4   j.segm            91626 non-null  object\n",
      " 5   species           92771 non-null  object\n",
      " 6   mhc.a             92771 non-null  object\n",
      " 7   mhc.b             92771 non-null  object\n",
      " 8   mhc.class         92771 non-null  object\n",
      " 9   antigen.epitope   92771 non-null  object\n",
      " 10  antigen.gene      92709 non-null  object\n",
      " 11  antigen.species   92771 non-null  object\n",
      " 12  reference.id      91260 non-null  object\n",
      " 13  method            92771 non-null  object\n",
      " 14  meta              92771 non-null  object\n",
      " 15  cdr3fix           92771 non-null  object\n",
      " 16  vdjdb.score       92771 non-null  int64 \n",
      " 17  web.method        92771 non-null  object\n",
      " 18  web.method.seq    92771 non-null  object\n",
      " 19  web.cdr3fix.nc    92771 non-null  object\n",
      " 20  web.cdr3fix.unmp  92771 non-null  object\n",
      "dtypes: int64(2), object(19)\n",
      "memory usage: 14.9+ MB\n"
     ]
    }
   ],
   "source": [
    "dataset = pd.read_csv('vdjdb.csv')\n",
    "\n",
    "dataset.info()"
   ]
  },
  {
   "cell_type": "code",
   "execution_count": 3,
   "id": "a16e8bdb-103c-4076-856d-35e4e223bfb6",
   "metadata": {},
   "outputs": [
    {
     "data": {
      "text/plain": [
       "complex.id             0\n",
       "gene                   0\n",
       "cdr3                   0\n",
       "v.segm               101\n",
       "j.segm              1145\n",
       "species                0\n",
       "mhc.a                  0\n",
       "mhc.b                  0\n",
       "mhc.class              0\n",
       "antigen.epitope        0\n",
       "antigen.gene          62\n",
       "antigen.species        0\n",
       "reference.id        1511\n",
       "method                 0\n",
       "meta                   0\n",
       "cdr3fix                0\n",
       "vdjdb.score            0\n",
       "web.method             0\n",
       "web.method.seq         0\n",
       "web.cdr3fix.nc         0\n",
       "web.cdr3fix.unmp       0\n",
       "dtype: int64"
      ]
     },
     "execution_count": 3,
     "metadata": {},
     "output_type": "execute_result"
    }
   ],
   "source": [
    "dataset.isnull().sum()"
   ]
  },
  {
   "cell_type": "markdown",
   "id": "0947c1eb-b112-4a3c-bf96-95090977a687",
   "metadata": {},
   "source": [
    "# Data Transformation"
   ]
  },
  {
   "cell_type": "markdown",
   "id": "7ea63675-a5ea-4edc-9b67-434417f2fc18",
   "metadata": {},
   "source": [
    "## Removing Unwanted Columns"
   ]
  },
  {
   "cell_type": "markdown",
   "id": "11cff6f8-903a-4c16-9d18-02e188a02acf",
   "metadata": {},
   "source": [
    "Some of the columns contain specific information about the literature sources (reference.id), sequencing methods (method, web.method.seq), collection method (web.method) etc., some of which are related to how **vdjdb.score** is calculated.\n",
    "\n",
    "Therefore we first remove these columns. Deleted columns are as follows: \n",
    "-  reference.id\n",
    "-  method\n",
    "-  meta\n",
    "-  cdr3fix\n",
    "-  web.method  \n",
    "-  web.method.seq\n",
    "-  web.cdr3fix.nc\n",
    "-  web.cdr3fix.unmp"
   ]
  },
  {
   "cell_type": "code",
   "execution_count": 4,
   "id": "66e39cf9-5a61-4444-83d4-d000a3fbe1be",
   "metadata": {},
   "outputs": [
    {
     "name": "stdout",
     "output_type": "stream",
     "text": [
      "<class 'pandas.core.frame.DataFrame'>\n",
      "RangeIndex: 92771 entries, 0 to 92770\n",
      "Data columns (total 13 columns):\n",
      " #   Column           Non-Null Count  Dtype \n",
      "---  ------           --------------  ----- \n",
      " 0   complex.id       92771 non-null  int64 \n",
      " 1   gene             92771 non-null  object\n",
      " 2   cdr3             92771 non-null  object\n",
      " 3   v.segm           92670 non-null  object\n",
      " 4   j.segm           91626 non-null  object\n",
      " 5   species          92771 non-null  object\n",
      " 6   mhc.a            92771 non-null  object\n",
      " 7   mhc.b            92771 non-null  object\n",
      " 8   mhc.class        92771 non-null  object\n",
      " 9   antigen.epitope  92771 non-null  object\n",
      " 10  antigen.gene     92709 non-null  object\n",
      " 11  antigen.species  92771 non-null  object\n",
      " 12  vdjdb.score      92771 non-null  int64 \n",
      "dtypes: int64(2), object(11)\n",
      "memory usage: 9.2+ MB\n"
     ]
    }
   ],
   "source": [
    "dataset = dataset.iloc[:, list(range(0, 12)) + [16]]\n",
    "dataset.info()"
   ]
  },
  {
   "cell_type": "code",
   "execution_count": 5,
   "id": "1de0bf09-c9bc-419a-9438-b4631ed10797",
   "metadata": {},
   "outputs": [
    {
     "data": {
      "text/html": [
       "<div>\n",
       "<style scoped>\n",
       "    .dataframe tbody tr th:only-of-type {\n",
       "        vertical-align: middle;\n",
       "    }\n",
       "\n",
       "    .dataframe tbody tr th {\n",
       "        vertical-align: top;\n",
       "    }\n",
       "\n",
       "    .dataframe thead th {\n",
       "        text-align: right;\n",
       "    }\n",
       "</style>\n",
       "<table border=\"1\" class=\"dataframe\">\n",
       "  <thead>\n",
       "    <tr style=\"text-align: right;\">\n",
       "      <th></th>\n",
       "      <th>complex.id</th>\n",
       "      <th>gene</th>\n",
       "      <th>cdr3</th>\n",
       "      <th>v.segm</th>\n",
       "      <th>j.segm</th>\n",
       "      <th>species</th>\n",
       "      <th>mhc.a</th>\n",
       "      <th>mhc.b</th>\n",
       "      <th>mhc.class</th>\n",
       "      <th>antigen.epitope</th>\n",
       "      <th>antigen.gene</th>\n",
       "      <th>antigen.species</th>\n",
       "      <th>vdjdb.score</th>\n",
       "    </tr>\n",
       "  </thead>\n",
       "  <tbody>\n",
       "    <tr>\n",
       "      <th>0</th>\n",
       "      <td>1</td>\n",
       "      <td>TRA</td>\n",
       "      <td>CIVRAPGRADMRF</td>\n",
       "      <td>TRAV26-1*01</td>\n",
       "      <td>TRAJ43*01</td>\n",
       "      <td>HomoSapiens</td>\n",
       "      <td>HLA-B*08</td>\n",
       "      <td>B2M</td>\n",
       "      <td>MHCI</td>\n",
       "      <td>FLKEKGGL</td>\n",
       "      <td>Nef</td>\n",
       "      <td>HIV-1</td>\n",
       "      <td>2</td>\n",
       "    </tr>\n",
       "    <tr>\n",
       "      <th>1</th>\n",
       "      <td>1</td>\n",
       "      <td>TRB</td>\n",
       "      <td>CASSYLPGQGDHYSNQPQHF</td>\n",
       "      <td>TRBV13*01</td>\n",
       "      <td>TRBJ1-5*01</td>\n",
       "      <td>HomoSapiens</td>\n",
       "      <td>HLA-B*08</td>\n",
       "      <td>B2M</td>\n",
       "      <td>MHCI</td>\n",
       "      <td>FLKEKGGL</td>\n",
       "      <td>Nef</td>\n",
       "      <td>HIV-1</td>\n",
       "      <td>2</td>\n",
       "    </tr>\n",
       "    <tr>\n",
       "      <th>2</th>\n",
       "      <td>0</td>\n",
       "      <td>TRB</td>\n",
       "      <td>CASSFEAGQGFFSNQPQHF</td>\n",
       "      <td>TRBV13*01</td>\n",
       "      <td>TRBJ1-5*01</td>\n",
       "      <td>HomoSapiens</td>\n",
       "      <td>HLA-B*08</td>\n",
       "      <td>B2M</td>\n",
       "      <td>MHCI</td>\n",
       "      <td>FLKEKGGL</td>\n",
       "      <td>Nef</td>\n",
       "      <td>HIV-1</td>\n",
       "      <td>2</td>\n",
       "    </tr>\n",
       "    <tr>\n",
       "      <th>3</th>\n",
       "      <td>2</td>\n",
       "      <td>TRA</td>\n",
       "      <td>CAVPSGAGSYQLTF</td>\n",
       "      <td>TRAV20*01</td>\n",
       "      <td>TRAJ28*01</td>\n",
       "      <td>HomoSapiens</td>\n",
       "      <td>HLA-B*08</td>\n",
       "      <td>B2M</td>\n",
       "      <td>MHCI</td>\n",
       "      <td>FLKEKGGL</td>\n",
       "      <td>Nef</td>\n",
       "      <td>HIV-1</td>\n",
       "      <td>2</td>\n",
       "    </tr>\n",
       "    <tr>\n",
       "      <th>4</th>\n",
       "      <td>2</td>\n",
       "      <td>TRB</td>\n",
       "      <td>CASSFEPGQGFYSNQPQHF</td>\n",
       "      <td>TRBV13*01</td>\n",
       "      <td>TRBJ1-5*01</td>\n",
       "      <td>HomoSapiens</td>\n",
       "      <td>HLA-B*08</td>\n",
       "      <td>B2M</td>\n",
       "      <td>MHCI</td>\n",
       "      <td>FLKEKGGL</td>\n",
       "      <td>Nef</td>\n",
       "      <td>HIV-1</td>\n",
       "      <td>2</td>\n",
       "    </tr>\n",
       "  </tbody>\n",
       "</table>\n",
       "</div>"
      ],
      "text/plain": [
       "   complex.id gene                  cdr3       v.segm      j.segm  \\\n",
       "0           1  TRA         CIVRAPGRADMRF  TRAV26-1*01   TRAJ43*01   \n",
       "1           1  TRB  CASSYLPGQGDHYSNQPQHF    TRBV13*01  TRBJ1-5*01   \n",
       "2           0  TRB   CASSFEAGQGFFSNQPQHF    TRBV13*01  TRBJ1-5*01   \n",
       "3           2  TRA        CAVPSGAGSYQLTF    TRAV20*01   TRAJ28*01   \n",
       "4           2  TRB   CASSFEPGQGFYSNQPQHF    TRBV13*01  TRBJ1-5*01   \n",
       "\n",
       "       species     mhc.a mhc.b mhc.class antigen.epitope antigen.gene  \\\n",
       "0  HomoSapiens  HLA-B*08   B2M      MHCI        FLKEKGGL          Nef   \n",
       "1  HomoSapiens  HLA-B*08   B2M      MHCI        FLKEKGGL          Nef   \n",
       "2  HomoSapiens  HLA-B*08   B2M      MHCI        FLKEKGGL          Nef   \n",
       "3  HomoSapiens  HLA-B*08   B2M      MHCI        FLKEKGGL          Nef   \n",
       "4  HomoSapiens  HLA-B*08   B2M      MHCI        FLKEKGGL          Nef   \n",
       "\n",
       "  antigen.species  vdjdb.score  \n",
       "0           HIV-1            2  \n",
       "1           HIV-1            2  \n",
       "2           HIV-1            2  \n",
       "3           HIV-1            2  \n",
       "4           HIV-1            2  "
      ]
     },
     "execution_count": 5,
     "metadata": {},
     "output_type": "execute_result"
    }
   ],
   "source": [
    "dataset.head(5)"
   ]
  },
  {
   "cell_type": "markdown",
   "id": "b15ac345-136f-4ad2-b3a9-ebc1ec65558c",
   "metadata": {},
   "source": [
    "Above Work has been taken from Yutong pre-processsing"
   ]
  },
  {
   "cell_type": "markdown",
   "id": "1dc2a0f6-e127-4a73-93ca-6cb85dfabdc0",
   "metadata": {},
   "source": [
    "---"
   ]
  },
  {
   "cell_type": "markdown",
   "id": "5a13e68c-d3b1-4c04-8f0b-6cbedab26517",
   "metadata": {},
   "source": [
    "## How to filter the dataset\n",
    "\n",
    "1. Using only beta chains  -- The CDR3 regions of TCRβ chains are located in the center of the paratope and are considered as the key determinant of specificity in antigen recognition (Jiang, Huo and Cheng Li, 2023). Moreover, the database contain mostly beta chained samples.\n",
    "2. Only taking human species\n",
    "3. Removed duplicates\n",
    "4.  CDR3s with lengths between 10-20\n",
    "5. Removing epitopes with less than 10 associated TCR sequences\n",
    "6. Removing TCR sequences with ambiguous amino acids\n",
    "6. I should keep both positive and negative dataset."
   ]
  },
  {
   "cell_type": "markdown",
   "id": "4ede1dee-c39a-4b14-81f7-861c83b36faf",
   "metadata": {},
   "source": [
    "---\n",
    "4. <b> only kept the CDR3β and epitope sequences whose lengths lie between 5–30 and 7–15 amino acids, respectively</b>\n",
    "    1. This was likely done to focus the model on reasonable sequence lengths and remove potentially noisy or erroneous data. \n",
    "    2. CDR3s with lengths between 10-20\n",
    "\n",
    "\n",
    "#### Explanation for CDR3 Lengths\n",
    "The optimal length for the CDR3 region in predicting TCR-peptide interactions can vary depending on the specific dataset and model used. However, most studies suggest that the CDR3 loop sequence's mid-region creates most of the contacts with the peptide due to its length and flexibility[3]. The CDR3 region is typically 10-20 amino acids long, and its length can impact antigen specificity[3].\n",
    "\n",
    "In the case of the VDJ.db dataset, the authors report that the CDR3 loop sequence's mid-region creates most of the contacts with the peptide due to the loop and peptide's flexibility[3]. They also demonstrate that the modeling pipeline can be used to study features of residue interactions in TCR:pMHC complexes, providing access to structural data for immunologists and in silico structural modeling[3].\n",
    "\n",
    "When dealing with the VDJ.db dataset, it is essential to consider the specific length of the CDR3 region for predicting TCR-peptide interactions. The optimal length may depend on the specific dataset and model used, but generally, a CDR3 region of 10-20 amino acids is considered suitable for predicting TCR-peptide interactions.\n",
    "    \n",
    "Citations:\n",
    "[3] https://www.ncbi.nlm.nih.gov/pmc/articles/PMC10464843/\n",
    "\n",
    "#### Explanation for epitope lengths\n",
    "\n",
    "In the context of immunology and T-cell receptor (TCR) research, the length of 7–15 amino acids for epitopes is commonly used because this range represents the typical length of peptides that can be presented by Major Histocompatibility Complex (MHC) molecules to TCRs. MHC molecules play a crucial role in the immune response by presenting peptide fragments derived from pathogens to TCRs on T cells, which are then able to recognize and respond to these peptides. The peptides that bind to Class I MHC molecules are generally 8-10 amino acids in length, while those that bind to Class II MHC molecules are often longer, ranging from 13 to 25 amino acids, with a core region of about 9 amino acids that interacts most directly with the TCR\n"
   ]
  },
  {
   "cell_type": "markdown",
   "id": "4aec09ed-57c6-4231-a138-c250242eadcb",
   "metadata": {},
   "source": []
  },
  {
   "cell_type": "markdown",
   "id": "2be40e51-95f9-43d9-881e-02168309ecd8",
   "metadata": {},
   "source": [
    "## How to prepare the data for ML model?\n",
    "\n",
    "1. Encoding the input sequences: (Is this process too complex?)\n",
    "    1. The authors used two separate pre-trained TCRpeg models to encode the TCR (CDR3β) and epitope sequences into numerical vector representations.\n",
    "        2. This transfer learning approach was used to leverage the knowledge learned from the pre-training tasks.\n",
    "        3. \n",
    "    2. catElmo technique -\n",
    "        1. https://elifesciences.org/reviewed-preprints/88837v1\n",
    "        2. https://github.com/Lee-CBG/catELMo\n",
    "    3. Blossom\n",
    "   \n",
    "   \n",
    "<spam color='red'>?? Why do we combine peptide and TCRs before putting them into a model?</spam>"
   ]
  },
  {
   "cell_type": "markdown",
   "id": "9363331c-fe51-4ea5-afbe-bb4364e9c201",
   "metadata": {},
   "source": [
    "---"
   ]
  },
  {
   "cell_type": "markdown",
   "id": "4837fd41-845d-4e42-b729-42e2e0c00c71",
   "metadata": {},
   "source": [
    "## How valueable is the different lengths of the CDR"
   ]
  },
  {
   "cell_type": "code",
   "execution_count": 6,
   "id": "fa5c982e-32f1-452e-9b36-fa49b32c6389",
   "metadata": {},
   "outputs": [],
   "source": [
    "sample_dataset = dataset[['cdr3','antigen.epitope','vdjdb.score','species','antigen.species','gene','mhc.class']]"
   ]
  },
  {
   "cell_type": "markdown",
   "id": "ad44010e-9223-4c05-850f-0a388f192db9",
   "metadata": {},
   "source": [
    "#### Taking only beta chains of humans"
   ]
  },
  {
   "cell_type": "code",
   "execution_count": 7,
   "id": "13e45d21-9dca-4559-8173-c39e8f5684c7",
   "metadata": {},
   "outputs": [],
   "source": [
    "sample_dataset = sample_dataset[(sample_dataset['gene'] == 'TRB') & (sample_dataset['species'] == 'HomoSapiens')]"
   ]
  },
  {
   "cell_type": "code",
   "execution_count": 8,
   "id": "562cec92-a61c-4dff-9c68-0628cab30231",
   "metadata": {},
   "outputs": [
    {
     "data": {
      "text/html": [
       "<div>\n",
       "<style scoped>\n",
       "    .dataframe tbody tr th:only-of-type {\n",
       "        vertical-align: middle;\n",
       "    }\n",
       "\n",
       "    .dataframe tbody tr th {\n",
       "        vertical-align: top;\n",
       "    }\n",
       "\n",
       "    .dataframe thead th {\n",
       "        text-align: right;\n",
       "    }\n",
       "</style>\n",
       "<table border=\"1\" class=\"dataframe\">\n",
       "  <thead>\n",
       "    <tr style=\"text-align: right;\">\n",
       "      <th></th>\n",
       "      <th>cdr3</th>\n",
       "      <th>antigen.epitope</th>\n",
       "      <th>vdjdb.score</th>\n",
       "      <th>species</th>\n",
       "      <th>antigen.species</th>\n",
       "      <th>gene</th>\n",
       "      <th>mhc.class</th>\n",
       "    </tr>\n",
       "  </thead>\n",
       "  <tbody>\n",
       "    <tr>\n",
       "      <th>1</th>\n",
       "      <td>CASSYLPGQGDHYSNQPQHF</td>\n",
       "      <td>FLKEKGGL</td>\n",
       "      <td>2</td>\n",
       "      <td>HomoSapiens</td>\n",
       "      <td>HIV-1</td>\n",
       "      <td>TRB</td>\n",
       "      <td>MHCI</td>\n",
       "    </tr>\n",
       "    <tr>\n",
       "      <th>2</th>\n",
       "      <td>CASSFEAGQGFFSNQPQHF</td>\n",
       "      <td>FLKEKGGL</td>\n",
       "      <td>2</td>\n",
       "      <td>HomoSapiens</td>\n",
       "      <td>HIV-1</td>\n",
       "      <td>TRB</td>\n",
       "      <td>MHCI</td>\n",
       "    </tr>\n",
       "    <tr>\n",
       "      <th>4</th>\n",
       "      <td>CASSFEPGQGFYSNQPQHF</td>\n",
       "      <td>FLKEKGGL</td>\n",
       "      <td>2</td>\n",
       "      <td>HomoSapiens</td>\n",
       "      <td>HIV-1</td>\n",
       "      <td>TRB</td>\n",
       "      <td>MHCI</td>\n",
       "    </tr>\n",
       "    <tr>\n",
       "      <th>6</th>\n",
       "      <td>CASSYEPGQVSHYSNQPQHF</td>\n",
       "      <td>FLKEKGGL</td>\n",
       "      <td>2</td>\n",
       "      <td>HomoSapiens</td>\n",
       "      <td>HIV-1</td>\n",
       "      <td>TRB</td>\n",
       "      <td>MHCI</td>\n",
       "    </tr>\n",
       "    <tr>\n",
       "      <th>8</th>\n",
       "      <td>CASSALASLNEQFF</td>\n",
       "      <td>FLKEKGGL</td>\n",
       "      <td>2</td>\n",
       "      <td>HomoSapiens</td>\n",
       "      <td>HIV-1</td>\n",
       "      <td>TRB</td>\n",
       "      <td>MHCI</td>\n",
       "    </tr>\n",
       "  </tbody>\n",
       "</table>\n",
       "</div>"
      ],
      "text/plain": [
       "                   cdr3 antigen.epitope  vdjdb.score      species  \\\n",
       "1  CASSYLPGQGDHYSNQPQHF        FLKEKGGL            2  HomoSapiens   \n",
       "2   CASSFEAGQGFFSNQPQHF        FLKEKGGL            2  HomoSapiens   \n",
       "4   CASSFEPGQGFYSNQPQHF        FLKEKGGL            2  HomoSapiens   \n",
       "6  CASSYEPGQVSHYSNQPQHF        FLKEKGGL            2  HomoSapiens   \n",
       "8        CASSALASLNEQFF        FLKEKGGL            2  HomoSapiens   \n",
       "\n",
       "  antigen.species gene mhc.class  \n",
       "1           HIV-1  TRB      MHCI  \n",
       "2           HIV-1  TRB      MHCI  \n",
       "4           HIV-1  TRB      MHCI  \n",
       "6           HIV-1  TRB      MHCI  \n",
       "8           HIV-1  TRB      MHCI  "
      ]
     },
     "execution_count": 8,
     "metadata": {},
     "output_type": "execute_result"
    }
   ],
   "source": [
    "sample_dataset.head(5)"
   ]
  },
  {
   "cell_type": "markdown",
   "id": "dfe8ce1e-fb6d-4cd8-9804-2b24b9f0783a",
   "metadata": {},
   "source": [
    "### Creating subset for positive and negative sampling"
   ]
  },
  {
   "cell_type": "code",
   "execution_count": 9,
   "id": "6b1e32f0-ee42-40a1-9a7c-9e236f18fbc8",
   "metadata": {},
   "outputs": [],
   "source": [
    "# positive = sample_dataset[sample_dataset['vdjdb.score'] > 1]\n",
    "# negative = sample_dataset[sample_dataset['vdjdb.score'] < 2]"
   ]
  },
  {
   "cell_type": "markdown",
   "id": "2a9101fc-894a-4e40-8cf7-30b6f3032e5a",
   "metadata": {},
   "source": [
    "### Removing Duplicates"
   ]
  },
  {
   "cell_type": "code",
   "execution_count": 10,
   "id": "579a7fcd-e811-478a-9777-506f98d4cfb2",
   "metadata": {},
   "outputs": [
    {
     "data": {
      "text/plain": [
       "Index(['cdr3', 'antigen.epitope', 'vdjdb.score', 'species', 'antigen.species',\n",
       "       'gene', 'mhc.class'],\n",
       "      dtype='object')"
      ]
     },
     "execution_count": 10,
     "metadata": {},
     "output_type": "execute_result"
    }
   ],
   "source": [
    "sample_dataset.columns"
   ]
  },
  {
   "cell_type": "code",
   "execution_count": 11,
   "id": "a4641ed6-e083-41cb-b864-f047b67c6570",
   "metadata": {},
   "outputs": [
    {
     "data": {
      "text/plain": [
       "Int64Index([   30,    31,    33,    37,   104,   154,   171,   221,   233,\n",
       "              398,\n",
       "            ...\n",
       "            92726, 92728, 92732, 92734, 92738, 92746, 92750, 92752, 92754,\n",
       "            92756],\n",
       "           dtype='int64', length=7824)"
      ]
     },
     "execution_count": 11,
     "metadata": {},
     "output_type": "execute_result"
    }
   ],
   "source": [
    "duplicate_indexes = sample_dataset[sample_dataset.duplicated(keep='last')].index\n",
    "duplicate_indexes"
   ]
  },
  {
   "cell_type": "code",
   "execution_count": 12,
   "id": "a9d49944-9671-457f-9af4-0e925ae10635",
   "metadata": {},
   "outputs": [],
   "source": [
    "sample_dataset.drop(index=duplicate_indexes,inplace=True)"
   ]
  },
  {
   "cell_type": "code",
   "execution_count": 13,
   "id": "4ef9746e-7e2b-424b-8417-8ea1e920409e",
   "metadata": {},
   "outputs": [
    {
     "data": {
      "text/html": [
       "<div>\n",
       "<style scoped>\n",
       "    .dataframe tbody tr th:only-of-type {\n",
       "        vertical-align: middle;\n",
       "    }\n",
       "\n",
       "    .dataframe tbody tr th {\n",
       "        vertical-align: top;\n",
       "    }\n",
       "\n",
       "    .dataframe thead th {\n",
       "        text-align: right;\n",
       "    }\n",
       "</style>\n",
       "<table border=\"1\" class=\"dataframe\">\n",
       "  <thead>\n",
       "    <tr style=\"text-align: right;\">\n",
       "      <th></th>\n",
       "      <th>cdr3</th>\n",
       "      <th>antigen.epitope</th>\n",
       "      <th>vdjdb.score</th>\n",
       "      <th>species</th>\n",
       "      <th>antigen.species</th>\n",
       "      <th>gene</th>\n",
       "      <th>mhc.class</th>\n",
       "    </tr>\n",
       "  </thead>\n",
       "  <tbody>\n",
       "    <tr>\n",
       "      <th>1</th>\n",
       "      <td>CASSYLPGQGDHYSNQPQHF</td>\n",
       "      <td>FLKEKGGL</td>\n",
       "      <td>2</td>\n",
       "      <td>HomoSapiens</td>\n",
       "      <td>HIV-1</td>\n",
       "      <td>TRB</td>\n",
       "      <td>MHCI</td>\n",
       "    </tr>\n",
       "    <tr>\n",
       "      <th>2</th>\n",
       "      <td>CASSFEAGQGFFSNQPQHF</td>\n",
       "      <td>FLKEKGGL</td>\n",
       "      <td>2</td>\n",
       "      <td>HomoSapiens</td>\n",
       "      <td>HIV-1</td>\n",
       "      <td>TRB</td>\n",
       "      <td>MHCI</td>\n",
       "    </tr>\n",
       "    <tr>\n",
       "      <th>4</th>\n",
       "      <td>CASSFEPGQGFYSNQPQHF</td>\n",
       "      <td>FLKEKGGL</td>\n",
       "      <td>2</td>\n",
       "      <td>HomoSapiens</td>\n",
       "      <td>HIV-1</td>\n",
       "      <td>TRB</td>\n",
       "      <td>MHCI</td>\n",
       "    </tr>\n",
       "    <tr>\n",
       "      <th>6</th>\n",
       "      <td>CASSYEPGQVSHYSNQPQHF</td>\n",
       "      <td>FLKEKGGL</td>\n",
       "      <td>2</td>\n",
       "      <td>HomoSapiens</td>\n",
       "      <td>HIV-1</td>\n",
       "      <td>TRB</td>\n",
       "      <td>MHCI</td>\n",
       "    </tr>\n",
       "    <tr>\n",
       "      <th>8</th>\n",
       "      <td>CASSALASLNEQFF</td>\n",
       "      <td>FLKEKGGL</td>\n",
       "      <td>2</td>\n",
       "      <td>HomoSapiens</td>\n",
       "      <td>HIV-1</td>\n",
       "      <td>TRB</td>\n",
       "      <td>MHCI</td>\n",
       "    </tr>\n",
       "    <tr>\n",
       "      <th>10</th>\n",
       "      <td>CASSYLPGQGDHYSNQPQHF</td>\n",
       "      <td>FLKEQGGL</td>\n",
       "      <td>2</td>\n",
       "      <td>HomoSapiens</td>\n",
       "      <td>HIV-1</td>\n",
       "      <td>TRB</td>\n",
       "      <td>MHCI</td>\n",
       "    </tr>\n",
       "    <tr>\n",
       "      <th>11</th>\n",
       "      <td>CASSFEAGQGFFSNQPQHF</td>\n",
       "      <td>FLKEQGGL</td>\n",
       "      <td>2</td>\n",
       "      <td>HomoSapiens</td>\n",
       "      <td>HIV-1</td>\n",
       "      <td>TRB</td>\n",
       "      <td>MHCI</td>\n",
       "    </tr>\n",
       "    <tr>\n",
       "      <th>13</th>\n",
       "      <td>CASSFEPGQGFYSNQPQHF</td>\n",
       "      <td>FLKEQGGL</td>\n",
       "      <td>2</td>\n",
       "      <td>HomoSapiens</td>\n",
       "      <td>HIV-1</td>\n",
       "      <td>TRB</td>\n",
       "      <td>MHCI</td>\n",
       "    </tr>\n",
       "    <tr>\n",
       "      <th>15</th>\n",
       "      <td>CASSYEPGQVSHYSNQPQHF</td>\n",
       "      <td>FLKEQGGL</td>\n",
       "      <td>2</td>\n",
       "      <td>HomoSapiens</td>\n",
       "      <td>HIV-1</td>\n",
       "      <td>TRB</td>\n",
       "      <td>MHCI</td>\n",
       "    </tr>\n",
       "    <tr>\n",
       "      <th>17</th>\n",
       "      <td>CASSYLPGQGDHYSNQPQHF</td>\n",
       "      <td>FLKETGGL</td>\n",
       "      <td>2</td>\n",
       "      <td>HomoSapiens</td>\n",
       "      <td>HIV-1</td>\n",
       "      <td>TRB</td>\n",
       "      <td>MHCI</td>\n",
       "    </tr>\n",
       "  </tbody>\n",
       "</table>\n",
       "</div>"
      ],
      "text/plain": [
       "                    cdr3 antigen.epitope  vdjdb.score      species  \\\n",
       "1   CASSYLPGQGDHYSNQPQHF        FLKEKGGL            2  HomoSapiens   \n",
       "2    CASSFEAGQGFFSNQPQHF        FLKEKGGL            2  HomoSapiens   \n",
       "4    CASSFEPGQGFYSNQPQHF        FLKEKGGL            2  HomoSapiens   \n",
       "6   CASSYEPGQVSHYSNQPQHF        FLKEKGGL            2  HomoSapiens   \n",
       "8         CASSALASLNEQFF        FLKEKGGL            2  HomoSapiens   \n",
       "10  CASSYLPGQGDHYSNQPQHF        FLKEQGGL            2  HomoSapiens   \n",
       "11   CASSFEAGQGFFSNQPQHF        FLKEQGGL            2  HomoSapiens   \n",
       "13   CASSFEPGQGFYSNQPQHF        FLKEQGGL            2  HomoSapiens   \n",
       "15  CASSYEPGQVSHYSNQPQHF        FLKEQGGL            2  HomoSapiens   \n",
       "17  CASSYLPGQGDHYSNQPQHF        FLKETGGL            2  HomoSapiens   \n",
       "\n",
       "   antigen.species gene mhc.class  \n",
       "1            HIV-1  TRB      MHCI  \n",
       "2            HIV-1  TRB      MHCI  \n",
       "4            HIV-1  TRB      MHCI  \n",
       "6            HIV-1  TRB      MHCI  \n",
       "8            HIV-1  TRB      MHCI  \n",
       "10           HIV-1  TRB      MHCI  \n",
       "11           HIV-1  TRB      MHCI  \n",
       "13           HIV-1  TRB      MHCI  \n",
       "15           HIV-1  TRB      MHCI  \n",
       "17           HIV-1  TRB      MHCI  "
      ]
     },
     "execution_count": 13,
     "metadata": {},
     "output_type": "execute_result"
    }
   ],
   "source": [
    "sample_dataset.head(10)"
   ]
  },
  {
   "cell_type": "markdown",
   "id": "42670dbd-96fa-4557-a93b-e1b4d6bd0029",
   "metadata": {},
   "source": [
    "# CDR3 Lengths"
   ]
  },
  {
   "cell_type": "markdown",
   "id": "ed33047f-356b-4fed-a037-f2f99a7e050f",
   "metadata": {},
   "source": [
    "## Adding column of length of CDR3 chain"
   ]
  },
  {
   "cell_type": "code",
   "execution_count": 14,
   "id": "4a45b2e9-c170-4f4b-9ed2-f52bf3aab722",
   "metadata": {},
   "outputs": [],
   "source": [
    "sample_dataset['CDR3_Length'] = sample_dataset.apply(lambda row: len(row['cdr3']),axis=1)"
   ]
  },
  {
   "cell_type": "code",
   "execution_count": 15,
   "id": "c6a1d93f-a39f-4985-9422-3e4bef2508e9",
   "metadata": {},
   "outputs": [],
   "source": [
    "cdr3_length_count = sample_dataset.groupby(by=['CDR3_Length']).size().to_frame('count_of_records').reset_index()"
   ]
  },
  {
   "cell_type": "code",
   "execution_count": 16,
   "id": "b3dd9f1b-d666-40ac-81e1-7c3ecbeeddaa",
   "metadata": {},
   "outputs": [],
   "source": [
    "cdr3_length_count.to_csv('./Visualisation_Df/cdr3_length_count.csv',index=False)"
   ]
  },
  {
   "cell_type": "code",
   "execution_count": 17,
   "id": "0fef814f-ab3d-4f18-a579-f4f3380aecb2",
   "metadata": {},
   "outputs": [
    {
     "data": {
      "image/png": "[encoded data removed]",
      "text/plain": [
       "<Figure size 720x432 with 1 Axes>"
      ]
     },
     "metadata": {
      "needs_background": "light"
     },
     "output_type": "display_data"
    }
   ],
   "source": [
    "# Plotting\n",
    "plt.figure(figsize=(10, 6))\n",
    "plt.bar(cdr3_length_count['CDR3_Length'], cdr3_length_count['count_of_records'], width=0.8, color='b')\n",
    "plt.xlabel('CDR3 Length')\n",
    "plt.ylabel('Count of Records')\n",
    "plt.title('Frequency Histogram of CDR3 Length')\n",
    "plt.grid(True)\n",
    "plt.show()"
   ]
  },
  {
   "cell_type": "code",
   "execution_count": 18,
   "id": "c3059b15-e349-41b3-aaf4-583672da9a72",
   "metadata": {},
   "outputs": [
    {
     "data": {
      "text/html": [
       "<div>\n",
       "<style scoped>\n",
       "    .dataframe tbody tr th:only-of-type {\n",
       "        vertical-align: middle;\n",
       "    }\n",
       "\n",
       "    .dataframe tbody tr th {\n",
       "        vertical-align: top;\n",
       "    }\n",
       "\n",
       "    .dataframe thead th {\n",
       "        text-align: right;\n",
       "    }\n",
       "</style>\n",
       "<table border=\"1\" class=\"dataframe\">\n",
       "  <thead>\n",
       "    <tr style=\"text-align: right;\">\n",
       "      <th></th>\n",
       "      <th>cdr3</th>\n",
       "      <th>antigen.epitope</th>\n",
       "      <th>vdjdb.score</th>\n",
       "      <th>species</th>\n",
       "      <th>antigen.species</th>\n",
       "      <th>gene</th>\n",
       "      <th>mhc.class</th>\n",
       "      <th>CDR3_Length</th>\n",
       "    </tr>\n",
       "  </thead>\n",
       "  <tbody>\n",
       "    <tr>\n",
       "      <th>1</th>\n",
       "      <td>CASSYLPGQGDHYSNQPQHF</td>\n",
       "      <td>FLKEKGGL</td>\n",
       "      <td>2</td>\n",
       "      <td>HomoSapiens</td>\n",
       "      <td>HIV-1</td>\n",
       "      <td>TRB</td>\n",
       "      <td>MHCI</td>\n",
       "      <td>20</td>\n",
       "    </tr>\n",
       "    <tr>\n",
       "      <th>2</th>\n",
       "      <td>CASSFEAGQGFFSNQPQHF</td>\n",
       "      <td>FLKEKGGL</td>\n",
       "      <td>2</td>\n",
       "      <td>HomoSapiens</td>\n",
       "      <td>HIV-1</td>\n",
       "      <td>TRB</td>\n",
       "      <td>MHCI</td>\n",
       "      <td>19</td>\n",
       "    </tr>\n",
       "    <tr>\n",
       "      <th>4</th>\n",
       "      <td>CASSFEPGQGFYSNQPQHF</td>\n",
       "      <td>FLKEKGGL</td>\n",
       "      <td>2</td>\n",
       "      <td>HomoSapiens</td>\n",
       "      <td>HIV-1</td>\n",
       "      <td>TRB</td>\n",
       "      <td>MHCI</td>\n",
       "      <td>19</td>\n",
       "    </tr>\n",
       "    <tr>\n",
       "      <th>6</th>\n",
       "      <td>CASSYEPGQVSHYSNQPQHF</td>\n",
       "      <td>FLKEKGGL</td>\n",
       "      <td>2</td>\n",
       "      <td>HomoSapiens</td>\n",
       "      <td>HIV-1</td>\n",
       "      <td>TRB</td>\n",
       "      <td>MHCI</td>\n",
       "      <td>20</td>\n",
       "    </tr>\n",
       "    <tr>\n",
       "      <th>8</th>\n",
       "      <td>CASSALASLNEQFF</td>\n",
       "      <td>FLKEKGGL</td>\n",
       "      <td>2</td>\n",
       "      <td>HomoSapiens</td>\n",
       "      <td>HIV-1</td>\n",
       "      <td>TRB</td>\n",
       "      <td>MHCI</td>\n",
       "      <td>14</td>\n",
       "    </tr>\n",
       "    <tr>\n",
       "      <th>10</th>\n",
       "      <td>CASSYLPGQGDHYSNQPQHF</td>\n",
       "      <td>FLKEQGGL</td>\n",
       "      <td>2</td>\n",
       "      <td>HomoSapiens</td>\n",
       "      <td>HIV-1</td>\n",
       "      <td>TRB</td>\n",
       "      <td>MHCI</td>\n",
       "      <td>20</td>\n",
       "    </tr>\n",
       "    <tr>\n",
       "      <th>11</th>\n",
       "      <td>CASSFEAGQGFFSNQPQHF</td>\n",
       "      <td>FLKEQGGL</td>\n",
       "      <td>2</td>\n",
       "      <td>HomoSapiens</td>\n",
       "      <td>HIV-1</td>\n",
       "      <td>TRB</td>\n",
       "      <td>MHCI</td>\n",
       "      <td>19</td>\n",
       "    </tr>\n",
       "    <tr>\n",
       "      <th>13</th>\n",
       "      <td>CASSFEPGQGFYSNQPQHF</td>\n",
       "      <td>FLKEQGGL</td>\n",
       "      <td>2</td>\n",
       "      <td>HomoSapiens</td>\n",
       "      <td>HIV-1</td>\n",
       "      <td>TRB</td>\n",
       "      <td>MHCI</td>\n",
       "      <td>19</td>\n",
       "    </tr>\n",
       "    <tr>\n",
       "      <th>15</th>\n",
       "      <td>CASSYEPGQVSHYSNQPQHF</td>\n",
       "      <td>FLKEQGGL</td>\n",
       "      <td>2</td>\n",
       "      <td>HomoSapiens</td>\n",
       "      <td>HIV-1</td>\n",
       "      <td>TRB</td>\n",
       "      <td>MHCI</td>\n",
       "      <td>20</td>\n",
       "    </tr>\n",
       "    <tr>\n",
       "      <th>17</th>\n",
       "      <td>CASSYLPGQGDHYSNQPQHF</td>\n",
       "      <td>FLKETGGL</td>\n",
       "      <td>2</td>\n",
       "      <td>HomoSapiens</td>\n",
       "      <td>HIV-1</td>\n",
       "      <td>TRB</td>\n",
       "      <td>MHCI</td>\n",
       "      <td>20</td>\n",
       "    </tr>\n",
       "  </tbody>\n",
       "</table>\n",
       "</div>"
      ],
      "text/plain": [
       "                    cdr3 antigen.epitope  vdjdb.score      species  \\\n",
       "1   CASSYLPGQGDHYSNQPQHF        FLKEKGGL            2  HomoSapiens   \n",
       "2    CASSFEAGQGFFSNQPQHF        FLKEKGGL            2  HomoSapiens   \n",
       "4    CASSFEPGQGFYSNQPQHF        FLKEKGGL            2  HomoSapiens   \n",
       "6   CASSYEPGQVSHYSNQPQHF        FLKEKGGL            2  HomoSapiens   \n",
       "8         CASSALASLNEQFF        FLKEKGGL            2  HomoSapiens   \n",
       "10  CASSYLPGQGDHYSNQPQHF        FLKEQGGL            2  HomoSapiens   \n",
       "11   CASSFEAGQGFFSNQPQHF        FLKEQGGL            2  HomoSapiens   \n",
       "13   CASSFEPGQGFYSNQPQHF        FLKEQGGL            2  HomoSapiens   \n",
       "15  CASSYEPGQVSHYSNQPQHF        FLKEQGGL            2  HomoSapiens   \n",
       "17  CASSYLPGQGDHYSNQPQHF        FLKETGGL            2  HomoSapiens   \n",
       "\n",
       "   antigen.species gene mhc.class  CDR3_Length  \n",
       "1            HIV-1  TRB      MHCI           20  \n",
       "2            HIV-1  TRB      MHCI           19  \n",
       "4            HIV-1  TRB      MHCI           19  \n",
       "6            HIV-1  TRB      MHCI           20  \n",
       "8            HIV-1  TRB      MHCI           14  \n",
       "10           HIV-1  TRB      MHCI           20  \n",
       "11           HIV-1  TRB      MHCI           19  \n",
       "13           HIV-1  TRB      MHCI           19  \n",
       "15           HIV-1  TRB      MHCI           20  \n",
       "17           HIV-1  TRB      MHCI           20  "
      ]
     },
     "execution_count": 18,
     "metadata": {},
     "output_type": "execute_result"
    }
   ],
   "source": [
    "sample_dataset.head(10)"
   ]
  },
  {
   "cell_type": "code",
   "execution_count": 19,
   "id": "970d571d-c60a-4f1d-b4ad-ae44b7c131bd",
   "metadata": {},
   "outputs": [],
   "source": [
    "## Remove rows which have CDR3 lengths < 10 or > 20\n",
    "sample_dataset = sample_dataset[(sample_dataset['CDR3_Length'] >= 10) & (sample_dataset['CDR3_Length'] <= 20)]"
   ]
  },
  {
   "cell_type": "markdown",
   "id": "cc2a8147-05fb-41ae-b857-25f204f127c1",
   "metadata": {},
   "source": [
    "## Finding Epitope Lengths"
   ]
  },
  {
   "cell_type": "code",
   "execution_count": 20,
   "id": "c6475d57-9c33-4d6c-aa3e-fb25c155b2ab",
   "metadata": {},
   "outputs": [],
   "source": [
    "sample_dataset['Epitope_Length'] = sample_dataset.apply(lambda row: len(row['antigen.epitope']),axis=1)"
   ]
  },
  {
   "cell_type": "code",
   "execution_count": 21,
   "id": "6552d8c9-3d5b-4937-9482-3dc7a0dc5dba",
   "metadata": {},
   "outputs": [],
   "source": [
    "epitope_length_count = sample_dataset.groupby(by=['Epitope_Length']).size().to_frame('count_of_records').reset_index()"
   ]
  },
  {
   "cell_type": "code",
   "execution_count": 22,
   "id": "ed0ee60e-6cdf-4aef-ad41-3a3f5e6bfd92",
   "metadata": {},
   "outputs": [
    {
     "data": {
      "image/png": "[encoded data removed]",
      "text/plain": [
       "<Figure size 720x432 with 1 Axes>"
      ]
     },
     "metadata": {
      "needs_background": "light"
     },
     "output_type": "display_data"
    }
   ],
   "source": [
    "# Plotting\n",
    "plt.figure(figsize=(10, 6))\n",
    "plt.bar(epitope_length_count['Epitope_Length'], epitope_length_count['count_of_records'], width=0.8, color='b')\n",
    "plt.xlabel('Epitope_Length')\n",
    "plt.ylabel('Count of Records')\n",
    "plt.title('Frequency Histogram of Epitope_Length')\n",
    "plt.grid(True)\n",
    "plt.show()"
   ]
  },
  {
   "cell_type": "markdown",
   "id": "2e914cf6-7ef1-4459-ae44-b7ca406d6752",
   "metadata": {},
   "source": [
    "## Taking only those epitopes which have 10 or more associated TCR sequences"
   ]
  },
  {
   "cell_type": "code",
   "execution_count": 23,
   "id": "2d9955c2-50c1-45f0-bb14-6234c1ad6a57",
   "metadata": {},
   "outputs": [],
   "source": [
    "group_antigen_cdr3 = sample_dataset.groupby(['antigen.epitope'])['cdr3'].unique().to_frame('cdr3_found').reset_index()"
   ]
  },
  {
   "cell_type": "code",
   "execution_count": 24,
   "id": "55fb0cad-1211-454d-aa91-8b2f7164c4cd",
   "metadata": {},
   "outputs": [],
   "source": [
    "group_antigen_cdr3['cdr3_found_count'] = group_antigen_cdr3['cdr3_found'].apply(lambda x:len(x))"
   ]
  },
  {
   "cell_type": "code",
   "execution_count": 25,
   "id": "7bb7158d-62e2-49f8-a728-59c7d678c65a",
   "metadata": {},
   "outputs": [],
   "source": [
    "group_antigen_cdr3_count = group_antigen_cdr3.groupby(by=['cdr3_found_count']).size().to_frame('count').reset_index()"
   ]
  },
  {
   "cell_type": "code",
   "execution_count": 26,
   "id": "bb08b2f6-443a-456c-98d8-5456a187aed5",
   "metadata": {},
   "outputs": [],
   "source": [
    "group_antigen_cdr3_count.sort_values('count',ascending=False).to_csv('group_antigen_cdr3_count.csv',index=False)"
   ]
  },
  {
   "cell_type": "code",
   "execution_count": 27,
   "id": "0ce95109-d1c8-4589-b210-eadfdc195cfe",
   "metadata": {},
   "outputs": [],
   "source": [
    "antigen_needed_list = group_antigen_cdr3[group_antigen_cdr3['cdr3_found_count'] >= 10]['antigen.epitope']"
   ]
  },
  {
   "cell_type": "code",
   "execution_count": 28,
   "id": "1873895c-0d93-4fb7-990d-8f733e96acdd",
   "metadata": {},
   "outputs": [
    {
     "data": {
      "text/plain": [
       "8      AIFYLITPV\n",
       "29     ALSKGVHFV\n",
       "33     ALWEIQQVV\n",
       "41     AMFWSVPTV\n",
       "62     ARMILMTHF\n",
       "64     ATDALMTGF\n",
       "65     ATDALMTGY\n",
       "71    AVFDRKSDAK\n",
       "77     AYAQKIFKI\n",
       "79     CINGVCWTV\n",
       "Name: antigen.epitope, dtype: object"
      ]
     },
     "execution_count": 28,
     "metadata": {},
     "output_type": "execute_result"
    }
   ],
   "source": [
    "antigen_needed_list[:10]"
   ]
  },
  {
   "cell_type": "markdown",
   "id": "75409327-2bfd-405a-8f9b-5a04d937a84a",
   "metadata": {},
   "source": [
    "### Selecting only these epitopes"
   ]
  },
  {
   "cell_type": "code",
   "execution_count": 29,
   "id": "4cb53dc6-5efa-4c49-af5f-fa0c003f1e17",
   "metadata": {},
   "outputs": [],
   "source": [
    "sample_dataset = sample_dataset[sample_dataset['antigen.epitope'].isin(antigen_needed_list)]"
   ]
  },
  {
   "cell_type": "markdown",
   "id": "54a48e5a-2d9b-46c3-a5fe-0ba89e84fdb0",
   "metadata": {},
   "source": [
    "## Checking for ambigous amino acids\n",
    "\n",
    "Taking only those TCR which have common (20) amino acids\n",
    "\n",
    "https://www.imgt.org/IMGTeducation/Aide-memoire/_UK/aminoacids/IMGTclasses.html\n",
    "Citation:  Citing this page: Pommié, C. et al., J. Mol. Recognit., 17, 17-32 (2004). PMID: 14872534 pdf "
   ]
  },
  {
   "cell_type": "code",
   "execution_count": 30,
   "id": "b75bd84e-23f2-48f6-a766-304738f7eb62",
   "metadata": {},
   "outputs": [],
   "source": [
    "amino_acids_df = pd.DataFrame([\n",
    "{\n",
    "\"name\": \"Alanine\",\n",
    "\"abbreviation\": \"Ala\",\n",
    "\"symbol\": \"A\",\n",
    "\"description\": \"A nonpolar, aliphatic amino acid.\"\n",
    "},\n",
    "{\n",
    "\"name\": \"Arginine\",\n",
    "\"abbreviation\": \"Arg\",\n",
    "\"symbol\": \"R\",\n",
    "\"description\": \"A positively charged, polar amino acid with a guanidino group.\"\n",
    "},\n",
    "{\n",
    "\"name\": \"Asparagine\",\n",
    "\"abbreviation\": \"Asn\",\n",
    "\"symbol\": \"N\",\n",
    "\"description\": \"A polar amino acid with an amide group.\"\n",
    "},\n",
    "{\n",
    "\"name\": \"Aspartic acid\",\n",
    "\"abbreviation\": \"Asp\",\n",
    "\"symbol\": \"D\",\n",
    "\"description\": \"A negatively charged, polar amino acid.\"\n",
    "},\n",
    "{\n",
    "\"name\": \"Cysteine\",\n",
    "\"abbreviation\": \"Cys\",\n",
    "\"symbol\": \"C\",\n",
    "\"description\": \"A polar amino acid that can form disulfide bridges.\"\n",
    "},\n",
    "{\n",
    "\"name\": \"Glutamic acid\",\n",
    "\"abbreviation\": \"Glu\",\n",
    "\"symbol\": \"E\",\n",
    "\"description\": \"A negatively charged, polar amino acid.\"\n",
    "},\n",
    "{\n",
    "\"name\": \"Glutamine\",\n",
    "\"abbreviation\": \"Gln\",\n",
    "\"symbol\": \"Q\",\n",
    "\"description\": \"A polar amino acid with an amide group.\"\n",
    "},\n",
    "{\n",
    "\"name\": \"Glycine\",\n",
    "\"abbreviation\": \"Gly\",\n",
    "\"symbol\": \"G\",\n",
    "\"description\": \"The smallest amino acid, often found in tight turns and bends.\"\n",
    "},\n",
    "{\n",
    "\"name\": \"Histidine\",\n",
    "\"abbreviation\": \"His\",\n",
    "\"symbol\": \"H\",\n",
    "\"description\": \"A weakly polar amino acid with an imidazole ring.\"\n",
    "},\n",
    "{\n",
    "\"name\": \"Isoleucine\",\n",
    "\"abbreviation\": \"Ile\",\n",
    "\"symbol\": \"I\",\n",
    "\"description\": \"A nonpolar, aliphatic amino acid.\"\n",
    "},\n",
    "{\n",
    "\"name\": \"Leucine\",\n",
    "\"abbreviation\": \"Leu\",\n",
    "\"symbol\": \"L\",\n",
    "\"description\": \"A nonpolar, aliphatic amino acid.\"\n",
    "},\n",
    "{\n",
    "\"name\": \"Lysine\",\n",
    "\"abbreviation\": \"Lys\",\n",
    "\"symbol\": \"K\",\n",
    "\"description\": \"A positively charged, polar amino acid with a long side chain.\"\n",
    "},\n",
    "{\n",
    "\"name\": \"Methionine\",\n",
    "\"abbreviation\": \"Met\",\n",
    "\"symbol\": \"M\",\n",
    "\"description\": \"A nonpolar amino acid with a sulfur-containing side chain.\"\n",
    "},\n",
    "{\n",
    "\"name\": \"Phenylalanine\",\n",
    "\"abbreviation\": \"Phe\",\n",
    "\"symbol\": \"F\",\n",
    "\"description\": \"A nonpolar amino acid with an aromatic ring.\"\n",
    "},\n",
    "{\n",
    "\"name\": \"Proline\",\n",
    "\"abbreviation\": \"Pro\",\n",
    "\"symbol\": \"P\",\n",
    "\"description\": \"A cyclic amino acid that introduces bends and kinks in protein structures.\"\n",
    "},\n",
    "{\n",
    "\"name\": \"Serine\",\n",
    "\"abbreviation\": \"Ser\",\n",
    "\"symbol\": \"S\",\n",
    "\"description\": \"A polar amino acid with a hydroxyl group.\"\n",
    "},\n",
    "{\n",
    "\"name\": \"Threonine\",\n",
    "\"abbreviation\": \"Thr\",\n",
    "\"symbol\": \"T\",\n",
    "\"description\": \"A polar amino acid with a hydroxyl group.\"\n",
    "},\n",
    "{\n",
    "\"name\": \"Tryptophan\",\n",
    "\"abbreviation\": \"Trp\",\n",
    "\"symbol\": \"W\",\n",
    "\"description\": \"A nonpolar amino acid with an aromatic indole ring.\"\n",
    "},\n",
    "{\n",
    "\"name\": \"Tyrosine\",\n",
    "\"abbreviation\": \"Tyr\",\n",
    "\"symbol\": \"Y\",\n",
    "\"description\": \"A polar amino acid with a phenol group.\"\n",
    "},\n",
    "{\n",
    "\"name\": \"Valine\",\n",
    "\"abbreviation\": \"Val\",\n",
    "\"symbol\": \"V\",\n",
    "\"description\": \"A nonpolar, aliphatic amino acid.\"\n",
    "}\n",
    "])"
   ]
  },
  {
   "cell_type": "code",
   "execution_count": 31,
   "id": "66158121-3a3e-4bd1-af68-1bb600adc6df",
   "metadata": {},
   "outputs": [],
   "source": [
    "amino_acids_symbols = list(amino_acids_df['symbol'])\n",
    "def filter_ambiguous_cdr3(row):\n",
    "    cdr3 = row['cdr3']\n",
    "    for amino_acid in cdr3:\n",
    "        if amino_acid not in amino_acids_symbols:\n",
    "            return 1\n",
    "    return 0        "
   ]
  },
  {
   "cell_type": "code",
   "execution_count": 32,
   "id": "ec62c006-2c6b-4b6c-9dc1-2fe588226a4b",
   "metadata": {},
   "outputs": [],
   "source": [
    "sample_dataset['ambiguous_cdr3s'] = sample_dataset.apply(filter_ambiguous_cdr3,axis=1)"
   ]
  },
  {
   "cell_type": "code",
   "execution_count": 33,
   "id": "bd2b2560-0044-45d9-863f-47129253dd01",
   "metadata": {},
   "outputs": [
    {
     "data": {
      "text/plain": [
       "array([0], dtype=int64)"
      ]
     },
     "execution_count": 33,
     "metadata": {},
     "output_type": "execute_result"
    }
   ],
   "source": [
    "sample_dataset['ambiguous_cdr3s'].unique()"
   ]
  },
  {
   "cell_type": "markdown",
   "id": "bcc44912-c1c6-4f4f-b873-5e25d4bd85bc",
   "metadata": {},
   "source": [
    "There were no ambiguous CDRs found"
   ]
  },
  {
   "cell_type": "code",
   "execution_count": 34,
   "id": "f0a58b1d-04f4-4f91-bd5d-248cb53f0604",
   "metadata": {},
   "outputs": [],
   "source": [
    "sample_dataset.to_csv('./Prepared_Df/pre_processed_vdj_db.csv',index=False)"
   ]
  },
  {
   "cell_type": "markdown",
   "id": "7c6eada3-eb7a-43d4-8d41-725006a5dcde",
   "metadata": {},
   "source": [
    "---"
   ]
  },
  {
   "cell_type": "markdown",
   "id": "77a636e3-a3e7-4756-82b9-dc605b88932c",
   "metadata": {},
   "source": [
    "### Encoding TCR and epitopes"
   ]
  },
  {
   "cell_type": "markdown",
   "id": "728e321c-8963-4089-94fb-915f38c2d493",
   "metadata": {},
   "source": [
    "Using Pandas Categorical to encode the columns"
   ]
  },
  {
   "cell_type": "code",
   "execution_count": 35,
   "id": "c0720b3f-5e06-4446-aca7-038b047b79bd",
   "metadata": {},
   "outputs": [
    {
     "data": {
      "text/plain": [
       "Index(['cdr3', 'antigen.epitope', 'vdjdb.score', 'species', 'antigen.species',\n",
       "       'gene', 'mhc.class', 'CDR3_Length', 'Epitope_Length',\n",
       "       'ambiguous_cdr3s'],\n",
       "      dtype='object')"
      ]
     },
     "execution_count": 35,
     "metadata": {},
     "output_type": "execute_result"
    }
   ],
   "source": [
    "sample_dataset.columns"
   ]
  },
  {
   "cell_type": "code",
   "execution_count": 36,
   "id": "0dc98e01-6108-4e60-9bc9-c036f97824e3",
   "metadata": {},
   "outputs": [],
   "source": [
    "model_df = sample_dataset[['cdr3','antigen.species','mhc.class','antigen.epitope','vdjdb.score']]"
   ]
  },
  {
   "cell_type": "code",
   "execution_count": 37,
   "id": "3fc9488e-5fc9-426f-ad74-93bd42c2cccc",
   "metadata": {},
   "outputs": [
    {
     "name": "stderr",
     "output_type": "stream",
     "text": [
      "<ipython-input-37-f1b846506ddb>:1: SettingWithCopyWarning: \n",
      "A value is trying to be set on a copy of a slice from a DataFrame.\n",
      "Try using .loc[row_indexer,col_indexer] = value instead\n",
      "\n",
      "See the caveats in the documentation: https://pandas.pydata.org/pandas-docs/stable/user_guide/indexing.html#returning-a-view-versus-a-copy\n",
      "  model_df['cdr3_cat_code'] = pd.Categorical(model_df['cdr3']).codes\n"
     ]
    }
   ],
   "source": [
    "model_df['cdr3_cat_code'] = pd.Categorical(model_df['cdr3']).codes"
   ]
  },
  {
   "cell_type": "code",
   "execution_count": 38,
   "id": "53b450b2-1cf3-407d-9dc8-5a9c37043484",
   "metadata": {},
   "outputs": [
    {
     "name": "stderr",
     "output_type": "stream",
     "text": [
      "<ipython-input-38-1fbd5dbe18ab>:1: SettingWithCopyWarning: \n",
      "A value is trying to be set on a copy of a slice from a DataFrame.\n",
      "Try using .loc[row_indexer,col_indexer] = value instead\n",
      "\n",
      "See the caveats in the documentation: https://pandas.pydata.org/pandas-docs/stable/user_guide/indexing.html#returning-a-view-versus-a-copy\n",
      "  model_df['antigen.epitope_cat_code'] = pd.Categorical(model_df['antigen.epitope']).codes\n",
      "<ipython-input-38-1fbd5dbe18ab>:2: SettingWithCopyWarning: \n",
      "A value is trying to be set on a copy of a slice from a DataFrame.\n",
      "Try using .loc[row_indexer,col_indexer] = value instead\n",
      "\n",
      "See the caveats in the documentation: https://pandas.pydata.org/pandas-docs/stable/user_guide/indexing.html#returning-a-view-versus-a-copy\n",
      "  model_df['antigen.species_cat_code'] = pd.Categorical(model_df['antigen.species']).codes\n",
      "<ipython-input-38-1fbd5dbe18ab>:3: SettingWithCopyWarning: \n",
      "A value is trying to be set on a copy of a slice from a DataFrame.\n",
      "Try using .loc[row_indexer,col_indexer] = value instead\n",
      "\n",
      "See the caveats in the documentation: https://pandas.pydata.org/pandas-docs/stable/user_guide/indexing.html#returning-a-view-versus-a-copy\n",
      "  model_df['mhc.class_cat_code'] = pd.Categorical(model_df['mhc.class']).codes\n"
     ]
    }
   ],
   "source": [
    "model_df['antigen.epitope_cat_code'] = pd.Categorical(model_df['antigen.epitope']).codes\n",
    "model_df['antigen.species_cat_code'] = pd.Categorical(model_df['antigen.species']).codes\n",
    "model_df['mhc.class_cat_code'] = pd.Categorical(model_df['mhc.class']).codes"
   ]
  },
  {
   "cell_type": "code",
   "execution_count": 39,
   "id": "4b083164-c0fe-4d76-807b-9eb8de6e0697",
   "metadata": {},
   "outputs": [
    {
     "data": {
      "text/html": [
       "<div>\n",
       "<style scoped>\n",
       "    .dataframe tbody tr th:only-of-type {\n",
       "        vertical-align: middle;\n",
       "    }\n",
       "\n",
       "    .dataframe tbody tr th {\n",
       "        vertical-align: top;\n",
       "    }\n",
       "\n",
       "    .dataframe thead th {\n",
       "        text-align: right;\n",
       "    }\n",
       "</style>\n",
       "<table border=\"1\" class=\"dataframe\">\n",
       "  <thead>\n",
       "    <tr style=\"text-align: right;\">\n",
       "      <th></th>\n",
       "      <th>cdr3</th>\n",
       "      <th>antigen.species</th>\n",
       "      <th>mhc.class</th>\n",
       "      <th>antigen.epitope</th>\n",
       "      <th>vdjdb.score</th>\n",
       "      <th>cdr3_cat_code</th>\n",
       "      <th>antigen.epitope_cat_code</th>\n",
       "      <th>antigen.species_cat_code</th>\n",
       "      <th>mhc.class_cat_code</th>\n",
       "    </tr>\n",
       "  </thead>\n",
       "  <tbody>\n",
       "    <tr>\n",
       "      <th>1</th>\n",
       "      <td>CASSYLPGQGDHYSNQPQHF</td>\n",
       "      <td>HIV-1</td>\n",
       "      <td>MHCI</td>\n",
       "      <td>FLKEKGGL</td>\n",
       "      <td>2</td>\n",
       "      <td>28828</td>\n",
       "      <td>29</td>\n",
       "      <td>9</td>\n",
       "      <td>0</td>\n",
       "    </tr>\n",
       "  </tbody>\n",
       "</table>\n",
       "</div>"
      ],
      "text/plain": [
       "                   cdr3 antigen.species mhc.class antigen.epitope  \\\n",
       "1  CASSYLPGQGDHYSNQPQHF           HIV-1      MHCI        FLKEKGGL   \n",
       "\n",
       "   vdjdb.score  cdr3_cat_code  antigen.epitope_cat_code  \\\n",
       "1            2          28828                        29   \n",
       "\n",
       "   antigen.species_cat_code  mhc.class_cat_code  \n",
       "1                         9                   0  "
      ]
     },
     "execution_count": 39,
     "metadata": {},
     "output_type": "execute_result"
    }
   ],
   "source": [
    "model_df.head(1)"
   ]
  },
  {
   "cell_type": "code",
   "execution_count": 40,
   "id": "34426de7-7214-4464-b615-9dad3f1ee615",
   "metadata": {},
   "outputs": [
    {
     "data": {
      "text/plain": [
       "Index(['cdr3', 'antigen.species', 'mhc.class', 'antigen.epitope',\n",
       "       'vdjdb.score', 'cdr3_cat_code', 'antigen.epitope_cat_code',\n",
       "       'antigen.species_cat_code', 'mhc.class_cat_code'],\n",
       "      dtype='object')"
      ]
     },
     "execution_count": 40,
     "metadata": {},
     "output_type": "execute_result"
    }
   ],
   "source": [
    "model_df.columns"
   ]
  },
  {
   "cell_type": "code",
   "execution_count": 105,
   "id": "9916a452-7a2e-4ab1-8d90-bd05bea9dc97",
   "metadata": {},
   "outputs": [],
   "source": [
    "df_final = model_df[['vdjdb.score', 'cdr3_cat_code', 'antigen.epitope_cat_code',\n",
    "       'antigen.species_cat_code', 'mhc.class_cat_code']]"
   ]
  },
  {
   "cell_type": "code",
   "execution_count": 106,
   "id": "0bfdfd4a-ce74-445c-ac64-db4940384ff5",
   "metadata": {},
   "outputs": [
    {
     "data": {
      "text/html": [
       "<div>\n",
       "<style scoped>\n",
       "    .dataframe tbody tr th:only-of-type {\n",
       "        vertical-align: middle;\n",
       "    }\n",
       "\n",
       "    .dataframe tbody tr th {\n",
       "        vertical-align: top;\n",
       "    }\n",
       "\n",
       "    .dataframe thead th {\n",
       "        text-align: right;\n",
       "    }\n",
       "</style>\n",
       "<table border=\"1\" class=\"dataframe\">\n",
       "  <thead>\n",
       "    <tr style=\"text-align: right;\">\n",
       "      <th></th>\n",
       "      <th>vdjdb.score</th>\n",
       "      <th>cdr3_cat_code</th>\n",
       "      <th>antigen.epitope_cat_code</th>\n",
       "      <th>antigen.species_cat_code</th>\n",
       "      <th>mhc.class_cat_code</th>\n",
       "    </tr>\n",
       "  </thead>\n",
       "  <tbody>\n",
       "    <tr>\n",
       "      <th>1</th>\n",
       "      <td>2</td>\n",
       "      <td>28828</td>\n",
       "      <td>29</td>\n",
       "      <td>9</td>\n",
       "      <td>0</td>\n",
       "    </tr>\n",
       "    <tr>\n",
       "      <th>2</th>\n",
       "      <td>2</td>\n",
       "      <td>6948</td>\n",
       "      <td>29</td>\n",
       "      <td>9</td>\n",
       "      <td>0</td>\n",
       "    </tr>\n",
       "    <tr>\n",
       "      <th>4</th>\n",
       "      <td>2</td>\n",
       "      <td>6976</td>\n",
       "      <td>29</td>\n",
       "      <td>9</td>\n",
       "      <td>0</td>\n",
       "    </tr>\n",
       "    <tr>\n",
       "      <th>6</th>\n",
       "      <td>2</td>\n",
       "      <td>28448</td>\n",
       "      <td>29</td>\n",
       "      <td>9</td>\n",
       "      <td>0</td>\n",
       "    </tr>\n",
       "    <tr>\n",
       "      <th>8</th>\n",
       "      <td>2</td>\n",
       "      <td>4677</td>\n",
       "      <td>29</td>\n",
       "      <td>9</td>\n",
       "      <td>0</td>\n",
       "    </tr>\n",
       "  </tbody>\n",
       "</table>\n",
       "</div>"
      ],
      "text/plain": [
       "   vdjdb.score  cdr3_cat_code  antigen.epitope_cat_code  \\\n",
       "1            2          28828                        29   \n",
       "2            2           6948                        29   \n",
       "4            2           6976                        29   \n",
       "6            2          28448                        29   \n",
       "8            2           4677                        29   \n",
       "\n",
       "   antigen.species_cat_code  mhc.class_cat_code  \n",
       "1                         9                   0  \n",
       "2                         9                   0  \n",
       "4                         9                   0  \n",
       "6                         9                   0  \n",
       "8                         9                   0  "
      ]
     },
     "execution_count": 106,
     "metadata": {},
     "output_type": "execute_result"
    }
   ],
   "source": [
    "df_final.head(5)"
   ]
  },
  {
   "cell_type": "markdown",
   "id": "fdb69f2b-21d1-47e7-b7ae-ddb2ba84a20a",
   "metadata": {},
   "source": [
    "---"
   ]
  },
  {
   "cell_type": "markdown",
   "id": "5adc3083-4ac0-40a2-86ab-0a7c6d5a8d98",
   "metadata": {},
   "source": [
    "### Applying Classification model on database containing all values of VDJ.score\n",
    "\n",
    "    1. Decision Trees\n",
    "    2. Random Forest"
   ]
  },
  {
   "cell_type": "markdown",
   "id": "67e355e1-8bc2-4e77-8237-b56ce1603e9a",
   "metadata": {},
   "source": [
    "### Approach 1\n",
    "\n",
    "Using epitope as target"
   ]
  },
  {
   "cell_type": "code",
   "execution_count": 107,
   "id": "e2c0cfe1-af5b-4e50-a4aa-7bc504a20d68",
   "metadata": {},
   "outputs": [],
   "source": [
    "# Load libraries\n",
    "import pandas as pd\n",
    "from sklearn.tree import DecisionTreeClassifier, export_graphviz\n",
    "from sklearn.ensemble import RandomForestClassifier\n",
    "from sklearn import tree\n",
    "from sklearn.model_selection import train_test_split, GridSearchCV\n",
    "from sklearn.metrics import f1_score, roc_auc_score\n"
   ]
  },
  {
   "cell_type": "code",
   "execution_count": 108,
   "id": "3c204f99-dd74-4196-a304-ea550f107c7f",
   "metadata": {},
   "outputs": [],
   "source": [
    "feature_names=['cdr3_cat_code',\n",
    "       'antigen.species_cat_code', 'mhc.class_cat_code']\n",
    "target_name = 'antigen.epitope_cat_code'"
   ]
  },
  {
   "cell_type": "code",
   "execution_count": 109,
   "id": "49f5cf71-67a6-40a0-92f9-943690796f37",
   "metadata": {},
   "outputs": [],
   "source": [
    "X = df_final[feature_names] # Features\n",
    "y = df_final[target_name]# Target variable\n"
   ]
  },
  {
   "cell_type": "code",
   "execution_count": 110,
   "id": "7c397993-1879-4f62-a7cb-636cdbed2d2f",
   "metadata": {},
   "outputs": [],
   "source": [
    "# Split dataset into training set and test set\n",
    "X_train, X_test, y_train, y_test = train_test_split(X, y, test_size=0.3, random_state=42) # 70% training and 30% test"
   ]
  },
  {
   "cell_type": "code",
   "execution_count": 111,
   "id": "56e66fd5-9872-44aa-ba14-2660b6ae55d8",
   "metadata": {},
   "outputs": [],
   "source": [
    "# Create Decision Tree classifer object\n",
    "clf = DecisionTreeClassifier(random_state=42)\n",
    "\n",
    "# Train Decision Tree Classifer\n",
    "clf = clf.fit(X_train,y_train)\n",
    "\n",
    "#Predict the response for test dataset\n",
    "y_pred = clf.predict(X_test)"
   ]
  },
  {
   "cell_type": "markdown",
   "id": "15f5a615-7b17-4b81-b8f1-fec7ef255d2a",
   "metadata": {},
   "source": [
    "## Metrics to use?\n",
    "\n",
    "Precision and recall are critical metrics, especially when dealing with imbalanced datasets. The F1 score combines precision and recall into a single metric by taking their harmonic mean, providing a balance between them. These metrics can be calculated for each class individually and then averaged (macro-average) to give a single performance measure."
   ]
  },
  {
   "cell_type": "code",
   "execution_count": 112,
   "id": "78f28ac0-65ed-4538-a23c-cae43f660ce1",
   "metadata": {},
   "outputs": [],
   "source": [
    "def generate_model_report(y_actual, y_predicted):\n",
    "    print(\"Accuracy = \" , accuracy_score(y_actual, y_predicted))\n",
    "    print(\"F1 Score = \" ,f1_score(y_actual, y_predicted,average='macro'))\n",
    "    pass"
   ]
  },
  {
   "cell_type": "markdown",
   "id": "1c649573-7dbc-44b6-a77e-8f8e38626744",
   "metadata": {},
   "source": [
    "### Averaging technique used\n",
    "\n",
    "Macro averaging technique is used over here because, Macro-averaging computes the metric independently for each class and then takes the average, treating all classes equally. Macro-averaging is useful when you want to give equal weight to each class, which is particularly important in imbalanced datasets."
   ]
  },
  {
   "cell_type": "code",
   "execution_count": 113,
   "id": "50ddf6b7-94a4-4395-a3a9-057bf6cb7da0",
   "metadata": {},
   "outputs": [
    {
     "name": "stdout",
     "output_type": "stream",
     "text": [
      "Accuracy =  0.5026986001011975\n",
      "F1 Score =  0.20956611159888464\n",
      "{0: 0.49974696356275305, 1: 0.4996623617793534, 2: 0.4994093823827202, 3: 0.5771525663791646, 4: 0.6382976726726727, 5: 0.6652275741414826, 6: 0.6186873306233063, 7: 0.6419046908286633, 8: 0.4994935426690301, 9: 0.7591159308371154, 10: 0.4997891007254935, 11: 0.54983119513842, 12: 0.4997047908232119, 13: 0.576585381693022, 14: 0.6149624963470468, 15: 0.49974696356275305, 16: 0.499957805907173, 17: 0.5796852600845496, 18: 0.5612316083206494, 19: 0.4997890651366858, 20: 0.5621202531645569, 21: 0.4999155761924863, 22: 0.6366895994285606, 23: 0.7988419605419864, 24: 0.4997469208705922, 25: 0.4999156260546743, 26: 0.8328269614876078, 27: 0.4999578201450987, 28: 0.5549225907483989, 29: 0.6293020762807492, 30: 0.4998312948123155, 31: 0.6997045914922349, 32: 0.7101884494156245, 33: 0.4993244384394528, 34: 0.7109045872991107, 35: 0.4997891363022942, 36: 0.49991564740615774, 37: 0.9759352222127684, 38: 0.4995778809624314, 39: 0.49991564740615774, 40: 0.955246087556555, 41: 0.6425283791328081, 42: 0.6498238195912615, 43: 0.642393047000253, 44: 0.499831223628692, 45: 0.5764587459817514, 46: 0.6105621246246247, 47: 1.0, 48: 1.0, 49: 1.0, 50: 0.6106047392653857, 51: 0.49983123787022193, 52: 0.5469432006983752, 53: 0.6664556783976144, 54: 0.8091858860634733, 55: 0.5998312663460728, 56: 0.6664134166244583, 57: 0.4997047410156909, 58: 0.5831223984700191, 59: 0.4997044168566844, 60: 0.5345308537616229, 61: 0.4994509207636425, 62: 0.6997047161056272, 63: 0.5426484768150946, 64: 0.6730002813802982, 65: 0.7797752147816877, 66: 0.7495360998650471, 67: 0.499831223628692, 68: 0.5592816699061947, 69: 0.749746963562753, 70: 0.49987337497889583, 71: 0.6815649531526969, 72: 0.6909181751148759, 73: 0.6296743263349314, 74: 0.5930312447150347, 75: 0.4997047161056273, 76: 0.5354486826017117, 77: 0.4998312805803948, 78: 0.49983130904183537, 79: 0.5829958375520307, 80: 0.6428571428571428, 81: 0.6362792268084747, 82: 0.4989029535864979, 83: 0.49974687816402297, 84: 0.4998312948123155, 85: 0.5568340197803965, 86: 0.9886948256401117, 87: 0.9999574105621806, 88: 0.6919277851738805, 89: 0.6246622192197265, 90: 0.5249544443352073, 91: 1.0, 92: 1.0, 93: 0.5580004513653803, 94: 0.5230914364563094, 95: 1.0, 96: 0.499957805907173, 97: 0.5190703963491929, 98: 0.4999156545209177, 99: 0.49970466627288834, 100: 0.562331223628692, 101: 0.5938416835928685, 102: 0.8748734604352961, 103: 0.5507280256478759, 104: 0.5983772476336053, 105: 0.4988596046629498, 106: 0.4997048157206713, 107: 0.6425192193968066, 108: 0.5832911463606705, 109: 0.9997891363022943, 110: 0.762573140500015, 111: 0.6662024924747517, 112: 0.791413159821982, 113: 0.6666244796940038, 114: 0.49974696356275305, 115: 0.49957791659631945, 116: 0.4998312805803948, 117: 0.6543280942840751, 118: 0.4996624187695164, 119: 0.54983119513842, 120: 0.49970466627288834, 121: 0.8331645854426819, 122: 0.614582589213235, 123: 0.5450324976787372, 124: 0.5835887528715348, 125: 0.6065050770574119, 126: 0.6248734604352961, 127: 0.6249578201450987, 128: 0.5327844859129162, 129: 0.5205139508826069, 130: 0.5269354969704738, 131: 0.649620189061445, 132: 0.583080083291125, 133: 0.4998312948123155, 134: 0.49995781302733716, 135: 0.5288628245825819, 136: 0.5988596046629499, 137: 1.0, 138: 0.5, 139: 0.49957791659631945, 140: 0.4997047410156909, 141: 0.972634592125329, 142: 0.5255133568357925, 143: 0.49987342840266646, 144: 0.5379549956164561, 145: 0.49995781302733716, 146: 0.4998312805803948, 147: 0.6103087462462463, 148: 0.49995782726045884, 149: 0.6230574565155403, 150: 1.0, 151: 0.6872890295358649, 152: 1.0, 153: 0.945097566404511, 154: 0.49991566163447754, 155: 0.4997891540861938, 156: 0.4998313232689551, 157: 0.570837205372983, 158: 0.5848684766979616, 159: 0.6099386121248125, 160: 0.49978911851539437, 161: 0.5553445672865033, 162: 0.604899204762406, 163: 0.5, 164: 0.4999156260546743, 165: 0.4998313232689551, 166: 0.4997047659215521, 167: 0.499578201450987, 168: 0.49957813027337156, 169: 0.5229658934037789, 170: 0.49949358541525996, 171: 0.4997890651366858, 172: 0.4993673021764805, 173: 0.49987344975955456, 174: 0.4998312663460727, 175: 0.4998312805803948, 176: 0.4994091331138685, 177: 0.4998734604352961, 178: 0.6994696183558169, 179: 0.4998734924517163, 180: 0.4997891363022942, 181: 0.4989864008784526, 182: 0.49881616776593946}\n",
      "ROC_AUC_SCORE =  0.6072220140769999\n"
     ]
    }
   ],
   "source": [
    "generate_model_report(y_test, y_pred)\n",
    "# Generate AUC curve\n",
    "\n",
    "roc_auc_score_multiclass(y_test, y_pred)"
   ]
  },
  {
   "cell_type": "markdown",
   "id": "ba398e58-e6d1-4f93-bd42-e46b7a80c470",
   "metadata": {},
   "source": [
    "## Apply grid cv search to find the best parameters for the decision tree"
   ]
  },
  {
   "cell_type": "markdown",
   "id": "586c0f81-50ee-4b69-bc47-15cfbcf3c5fe",
   "metadata": {},
   "source": [
    "In this grid:\n",
    "\n",
    "    criterion specifies the function to measure the quality of a split.\n",
    "    max_depth controls the maximum depth of the tree.\n",
    "    min_samples_split represents the minimum number of samples required to split an internal node.\n",
    "    min_samples_leaf is the minimum number of samples required to be at a leaf node."
   ]
  },
  {
   "cell_type": "code",
   "execution_count": 50,
   "id": "66316a1d-8b55-4781-8bb1-9973fb772cf9",
   "metadata": {},
   "outputs": [],
   "source": [
    "# Initialize the DecisionTreeClassifier\n",
    "clf_2 = DecisionTreeClassifier(random_state=42)\n",
    "\n",
    "# Create the parameter grid\n",
    "param_grid = {\n",
    "    'criterion': ['gini', 'entropy'],\n",
    "    'max_depth': [None, 10, 20, 30, 40, 50],\n",
    "    'min_samples_split': [2, 10, 20],\n",
    "    'min_samples_leaf': [1, 5, 10]\n",
    "}\n"
   ]
  },
  {
   "cell_type": "markdown",
   "id": "8a80e8de-3f4c-48bd-aeee-5849a434c04c",
   "metadata": {},
   "source": [
    "Here, cv=5 indicates that the cross-validation splitting strategy should use 5 folds."
   ]
  },
  {
   "cell_type": "code",
   "execution_count": 51,
   "id": "e53de82c-0e75-4970-a213-21624c2b4202",
   "metadata": {},
   "outputs": [],
   "source": [
    "# Configure GridSearchCV\n",
    "grid_search = GridSearchCV(clf_2, param_grid, cv=5, verbose=1, scoring='f1_macro')"
   ]
  },
  {
   "cell_type": "code",
   "execution_count": 52,
   "id": "4b5342a3-a143-4bb2-9460-62d3f59d677e",
   "metadata": {},
   "outputs": [
    {
     "name": "stdout",
     "output_type": "stream",
     "text": [
      "Fitting 5 folds for each of 108 candidates, totalling 540 fits\n"
     ]
    },
    {
     "name": "stderr",
     "output_type": "stream",
     "text": [
      "D:\\Anaconda\\lib\\site-packages\\sklearn\\model_selection\\_split.py:666: UserWarning: The least populated class in y has only 3 members, which is less than n_splits=5.\n",
      "  warnings.warn((\"The least populated class in y has only %d\"\n"
     ]
    },
    {
     "data": {
      "text/plain": [
       "GridSearchCV(cv=5, estimator=DecisionTreeClassifier(random_state=42),\n",
       "             param_grid={'criterion': ['gini', 'entropy'],\n",
       "                         'max_depth': [None, 10, 20, 30, 40, 50],\n",
       "                         'min_samples_leaf': [1, 5, 10],\n",
       "                         'min_samples_split': [2, 10, 20]},\n",
       "             scoring='f1_macro', verbose=1)"
      ]
     },
     "execution_count": 52,
     "metadata": {},
     "output_type": "execute_result"
    }
   ],
   "source": [
    "# Fit GridSearchCV\n",
    "grid_search.fit(X_train,y_train)"
   ]
  },
  {
   "cell_type": "code",
   "execution_count": 53,
   "id": "cdcee563-d9d7-4b8d-8f94-112842ad4ca4",
   "metadata": {},
   "outputs": [
    {
     "name": "stdout",
     "output_type": "stream",
     "text": [
      "Best parameters found: {'criterion': 'gini', 'max_depth': 50, 'min_samples_leaf': 1, 'min_samples_split': 2}\n"
     ]
    }
   ],
   "source": [
    "# Best parameters found\n",
    "print(\"Best parameters found:\", grid_search.best_params_)"
   ]
  },
  {
   "cell_type": "code",
   "execution_count": 54,
   "id": "72c1dbc8-f605-491e-85c5-f4c5f8679b6d",
   "metadata": {},
   "outputs": [
    {
     "name": "stdout",
     "output_type": "stream",
     "text": [
      "Best cross-validation score: 0.213\n"
     ]
    }
   ],
   "source": [
    "# Best score\n",
    "print(\"Best cross-validation score: {:.3f}\".format(grid_search.best_score_))\n",
    "\n",
    "# Get the best estimator and predict\n",
    "best_model = grid_search.best_estimator_\n",
    "y_pred = best_model.predict(X_test)"
   ]
  },
  {
   "cell_type": "code",
   "execution_count": 95,
   "id": "fbe0cbbd-e856-434b-abf9-84f0da70ac94",
   "metadata": {},
   "outputs": [
    {
     "name": "stdout",
     "output_type": "stream",
     "text": [
      "Accuracy =  0.5685785536159601\n",
      "F1 Score =  0.33486202257803643\n",
      "{128: 0.47738693467336685, 129: 0.98875, 2: 0.98875, 134: 0.487468671679198, 7: 0.487468671679198, 136: 0.6046437659033079, 137: 0.9872773536895674, 135: 0.48743718592964824, 13: 0.5960547184773989, 145: 0.485, 20: 0.4744245524296675, 149: 0.8207705192629815, 150: 0.9874999999999999, 23: 0.7785976729944887, 25: 0.4875, 26: 0.48120300751879697, 156: 0.48625, 31: 0.48625, 159: 0.8405594405594405, 163: 0.48227848101265824, 36: 0.9849246231155778, 165: 0.985, 37: 0.9873737373737373, 38: 0.4875, 40: 0.986737400530504, 41: 0.7503244345569151, 48: 0.9874999999999999, 178: 0.7362155388471178, 51: 0.9874999999999999, 180: 0.48625, 182: 0.6444734551784159, 55: 0.7861111111111111, 59: 0.4875, 60: 0.7311083123425693, 63: 0.48625, 68: 0.9870466321243524, 73: 0.98875, 80: 0.8195142378559463, 81: 0.9874999999999999, 100: 0.8194092827004218, 104: 0.8771420273017718, 108: 0.8586272040302266, 109: 0.8195142378559463, 110: 0.987468671679198, 111: 0.5533407161314138, 112: 0.5618143459915611, 113: 0.48375, 114: 0.6390284757118928, 121: 0.5359335038363171, 125: 0.7455716586151367}\n",
      "ROC_AUC_SCORE =  0.7218950116539973\n"
     ]
    }
   ],
   "source": [
    "generate_model_report(y_test, y_pred)\n",
    "# Generate AUC curve\n",
    "\n",
    "roc_auc_score_multiclass(y_test, y_pred)"
   ]
  },
  {
   "cell_type": "markdown",
   "id": "10cc76a0-32df-48e2-999b-871d0cd5c8d8",
   "metadata": {},
   "source": [
    "### Approach 2: Random Forest Classifier"
   ]
  },
  {
   "cell_type": "code",
   "execution_count": 114,
   "id": "2c70f2d6-f7c1-4279-bc0a-841d58123e15",
   "metadata": {},
   "outputs": [
    {
     "name": "stdout",
     "output_type": "stream",
     "text": [
      "Accuracy =  0.5011806375442739\n",
      "F1 Score =  0.20179850657741763\n",
      "{0: 0.49974696356275305, 1: 0.4996623617793534, 2: 0.4994093823827202, 3: 0.5771525663791646, 4: 0.6382976726726727, 5: 0.6652275741414826, 6: 0.6186873306233063, 7: 0.6419046908286633, 8: 0.4994935426690301, 9: 0.7591159308371154, 10: 0.4997891007254935, 11: 0.54983119513842, 12: 0.4997047908232119, 13: 0.576585381693022, 14: 0.6149624963470468, 15: 0.49974696356275305, 16: 0.499957805907173, 17: 0.5796852600845496, 18: 0.5612316083206494, 19: 0.4997890651366858, 20: 0.5621202531645569, 21: 0.4999155761924863, 22: 0.6366895994285606, 23: 0.7988419605419864, 24: 0.4997469208705922, 25: 0.4999156260546743, 26: 0.8328269614876078, 27: 0.4999578201450987, 28: 0.5549225907483989, 29: 0.6293020762807492, 30: 0.4998312948123155, 31: 0.6997045914922349, 32: 0.7101884494156245, 33: 0.4993244384394528, 34: 0.7109045872991107, 35: 0.4997891363022942, 36: 0.49991564740615774, 37: 0.9759352222127684, 38: 0.4995778809624314, 39: 0.49991564740615774, 40: 0.955246087556555, 41: 0.6425283791328081, 42: 0.6498238195912615, 43: 0.642393047000253, 44: 0.499831223628692, 45: 0.5764587459817514, 46: 0.6105621246246247, 47: 1.0, 48: 1.0, 49: 1.0, 50: 0.6106047392653857, 51: 0.49983123787022193, 52: 0.5469432006983752, 53: 0.6664556783976144, 54: 0.8091858860634733, 55: 0.5998312663460728, 56: 0.6664134166244583, 57: 0.4997047410156909, 58: 0.5831223984700191, 59: 0.4997044168566844, 60: 0.5345308537616229, 61: 0.4994509207636425, 62: 0.6997047161056272, 63: 0.5426484768150946, 64: 0.6730002813802982, 65: 0.7797752147816877, 66: 0.7495360998650471, 67: 0.499831223628692, 68: 0.5592816699061947, 69: 0.749746963562753, 70: 0.49987337497889583, 71: 0.6815649531526969, 72: 0.6909181751148759, 73: 0.6296743263349314, 74: 0.5930312447150347, 75: 0.4997047161056273, 76: 0.5354486826017117, 77: 0.4998312805803948, 78: 0.49983130904183537, 79: 0.5829958375520307, 80: 0.6428571428571428, 81: 0.6362792268084747, 82: 0.4989029535864979, 83: 0.49974687816402297, 84: 0.4998312948123155, 85: 0.5568340197803965, 86: 0.9886948256401117, 87: 0.9999574105621806, 88: 0.6919277851738805, 89: 0.6246622192197265, 90: 0.5249544443352073, 91: 1.0, 92: 1.0, 93: 0.5580004513653803, 94: 0.5230914364563094, 95: 1.0, 96: 0.499957805907173, 97: 0.5190703963491929, 98: 0.4999156545209177, 99: 0.49970466627288834, 100: 0.562331223628692, 101: 0.5938416835928685, 102: 0.8748734604352961, 103: 0.5507280256478759, 104: 0.5983772476336053, 105: 0.4988596046629498, 106: 0.4997048157206713, 107: 0.6425192193968066, 108: 0.5832911463606705, 109: 0.9997891363022943, 110: 0.762573140500015, 111: 0.6662024924747517, 112: 0.791413159821982, 113: 0.6666244796940038, 114: 0.49974696356275305, 115: 0.49957791659631945, 116: 0.4998312805803948, 117: 0.6543280942840751, 118: 0.4996624187695164, 119: 0.54983119513842, 120: 0.49970466627288834, 121: 0.8331645854426819, 122: 0.614582589213235, 123: 0.5450324976787372, 124: 0.5835887528715348, 125: 0.6065050770574119, 126: 0.6248734604352961, 127: 0.6249578201450987, 128: 0.5327844859129162, 129: 0.5205139508826069, 130: 0.5269354969704738, 131: 0.649620189061445, 132: 0.583080083291125, 133: 0.4998312948123155, 134: 0.49995781302733716, 135: 0.5288628245825819, 136: 0.5988596046629499, 137: 1.0, 138: 0.5, 139: 0.49957791659631945, 140: 0.4997047410156909, 141: 0.972634592125329, 142: 0.5255133568357925, 143: 0.49987342840266646, 144: 0.5379549956164561, 145: 0.49995781302733716, 146: 0.4998312805803948, 147: 0.6103087462462463, 148: 0.49995782726045884, 149: 0.6230574565155403, 150: 1.0, 151: 0.6872890295358649, 152: 1.0, 153: 0.945097566404511, 154: 0.49991566163447754, 155: 0.4997891540861938, 156: 0.4998313232689551, 157: 0.570837205372983, 158: 0.5848684766979616, 159: 0.6099386121248125, 160: 0.49978911851539437, 161: 0.5553445672865033, 162: 0.604899204762406, 163: 0.5, 164: 0.4999156260546743, 165: 0.4998313232689551, 166: 0.4997047659215521, 167: 0.499578201450987, 168: 0.49957813027337156, 169: 0.5229658934037789, 170: 0.49949358541525996, 171: 0.4997890651366858, 172: 0.4993673021764805, 173: 0.49987344975955456, 174: 0.4998312663460727, 175: 0.4998312805803948, 176: 0.4994091331138685, 177: 0.4998734604352961, 178: 0.6994696183558169, 179: 0.4998734924517163, 180: 0.4997891363022942, 181: 0.4989864008784526, 182: 0.49881616776593946}\n",
      "ROC_AUC_SCORE =  0.6072220140769999\n"
     ]
    }
   ],
   "source": [
    "# Initialize the RandomForestClassifier\n",
    "rf_clf = RandomForestClassifier(random_state=42)\n",
    "\n",
    "# Train the model\n",
    "rf_clf.fit(X_train, y_train)\n",
    "\n",
    "# Make predictions\n",
    "rf_y_pred = rf_clf.predict(X_test)\n",
    "\n",
    "# Evaluate the model\n",
    "generate_model_report(y_test, rf_y_pred)\n",
    "# Generate AUC curve\n",
    "\n",
    "roc_auc_score_multiclass(y_test, y_pred)"
   ]
  },
  {
   "cell_type": "markdown",
   "id": "5d300c41-727d-4997-9f9c-1f8907d6506c",
   "metadata": {},
   "source": [
    "#### Inference\n",
    "<b>Similar F1 Score has been achieved by both model, but ROC_AUC_SCORE is much better for Decision Tree than Random Forest</b>"
   ]
  },
  {
   "cell_type": "markdown",
   "id": "2cbbcaeb-b8a6-43a5-a555-fb1bd0aca46d",
   "metadata": {},
   "source": [
    "### Applying Classification model on database with only values of VDJ.score as 2, 3\n",
    "\n",
    "    1. Decision Trees\n",
    "    2. Random Forest"
   ]
  },
  {
   "cell_type": "code",
   "execution_count": 115,
   "id": "617e5607-af5c-4c4e-937f-d811522c92ec",
   "metadata": {},
   "outputs": [],
   "source": [
    "df_final = df_final[df_final['vdjdb.score'].isin([2,3])]"
   ]
  },
  {
   "cell_type": "code",
   "execution_count": 116,
   "id": "3de3aacf-a663-42ad-b067-1c8c3db9697e",
   "metadata": {},
   "outputs": [],
   "source": [
    "feature_names=['cdr3_cat_code',\n",
    "       'antigen.species_cat_code', 'mhc.class_cat_code']\n",
    "target_name = 'antigen.epitope_cat_code'"
   ]
  },
  {
   "cell_type": "code",
   "execution_count": 117,
   "id": "b993f221-4721-47af-8feb-cac7830b8bd8",
   "metadata": {},
   "outputs": [],
   "source": [
    "X = df_final[feature_names] # Features\n",
    "y = df_final[target_name]# Target variable\n"
   ]
  },
  {
   "cell_type": "code",
   "execution_count": 118,
   "id": "93c8beab-65df-407b-9fd5-ac3770cc7647",
   "metadata": {},
   "outputs": [],
   "source": [
    "# Split dataset into training set and test set\n",
    "X_train, X_test, y_train, y_test = train_test_split(X, y, test_size=0.3, random_state=42) # 70% training and 30% test"
   ]
  },
  {
   "cell_type": "code",
   "execution_count": 119,
   "id": "c8a1dc38-941e-4eb5-a7df-aa63eb109586",
   "metadata": {},
   "outputs": [
    {
     "name": "stdout",
     "output_type": "stream",
     "text": [
      "Accuracy =  0.5685785536159601\n",
      "F1 Score =  0.33486202257803643\n",
      "{128: 0.47738693467336685, 129: 0.98875, 2: 0.98875, 134: 0.487468671679198, 7: 0.487468671679198, 136: 0.6046437659033079, 137: 0.9872773536895674, 135: 0.48743718592964824, 13: 0.5960547184773989, 145: 0.485, 20: 0.4744245524296675, 149: 0.8207705192629815, 150: 0.9874999999999999, 23: 0.7785976729944887, 25: 0.4875, 26: 0.48120300751879697, 156: 0.48625, 31: 0.48625, 159: 0.8405594405594405, 163: 0.48227848101265824, 36: 0.9849246231155778, 165: 0.985, 37: 0.9873737373737373, 38: 0.4875, 40: 0.986737400530504, 41: 0.7503244345569151, 48: 0.9874999999999999, 178: 0.7362155388471178, 51: 0.9874999999999999, 180: 0.48625, 182: 0.6444734551784159, 55: 0.7861111111111111, 59: 0.4875, 60: 0.7311083123425693, 63: 0.48625, 68: 0.9870466321243524, 73: 0.98875, 80: 0.8195142378559463, 81: 0.9874999999999999, 100: 0.8194092827004218, 104: 0.8771420273017718, 108: 0.8586272040302266, 109: 0.8195142378559463, 110: 0.987468671679198, 111: 0.5533407161314138, 112: 0.5618143459915611, 113: 0.48375, 114: 0.6390284757118928, 121: 0.5359335038363171, 125: 0.7455716586151367}\n",
      "ROC_AUC_SCORE =  0.7218950116539973\n"
     ]
    }
   ],
   "source": [
    "# Create Decision Tree classifer object\n",
    "clf = DecisionTreeClassifier(random_state=42)\n",
    "\n",
    "# Train Decision Tree Classifer\n",
    "clf = clf.fit(X_train,y_train)\n",
    "\n",
    "#Predict the response for test dataset\n",
    "y_pred = clf.predict(X_test)\n",
    "\n",
    "generate_model_report(y_test, y_pred)\n",
    "# Generate AUC curve\n",
    "\n",
    "roc_auc_score_multiclass(y_test, y_pred)"
   ]
  },
  {
   "cell_type": "markdown",
   "id": "58ebfc04-229e-45e9-907a-54b2c6b3556f",
   "metadata": {},
   "source": [
    "### Approach 2: Random Forest Classifier"
   ]
  },
  {
   "cell_type": "code",
   "execution_count": 120,
   "id": "712b47ab-2bcc-4945-9b47-58f746b61415",
   "metadata": {},
   "outputs": [
    {
     "name": "stdout",
     "output_type": "stream",
     "text": [
      "Accuracy =  0.5660847880299252\n",
      "F1 Score =  0.32736100190069284\n",
      "{128: 0.47738693467336685, 129: 0.98875, 2: 0.98875, 134: 0.487468671679198, 7: 0.487468671679198, 136: 0.6033715012722646, 137: 0.9885496183206106, 135: 0.48743718592964824, 13: 0.5960547184773989, 145: 0.485, 20: 0.4744245524296675, 149: 0.8207705192629815, 150: 0.9874999999999999, 23: 0.7785976729944887, 25: 0.4875, 26: 0.48120300751879697, 156: 0.48625, 31: 0.48625, 159: 0.8405594405594405, 163: 0.48227848101265824, 36: 0.9849246231155778, 165: 0.985, 37: 0.9873737373737373, 38: 0.4875, 40: 0.9854111405835544, 41: 0.7503244345569151, 48: 0.9874999999999999, 178: 0.4849624060150376, 51: 0.9874999999999999, 180: 0.48625, 182: 0.6444734551784159, 55: 0.7861111111111111, 59: 0.4875, 60: 0.7311083123425693, 63: 0.48625, 68: 0.9870466321243524, 73: 0.98875, 80: 0.8195142378559463, 81: 0.9874999999999999, 100: 0.8194092827004218, 104: 0.8771420273017718, 108: 0.8586272040302266, 109: 0.8195142378559463, 110: 0.987468671679198, 111: 0.5533407161314138, 112: 0.5618143459915611, 113: 0.48375, 114: 0.6390284757118928, 121: 0.5359335038363171, 125: 0.7468944099378881}\n",
      "ROC_AUC_SCORE =  0.7168698788248717\n"
     ]
    }
   ],
   "source": [
    "# Initialize the RandomForestClassifier\n",
    "rf_clf = RandomForestClassifier(random_state=42)\n",
    "\n",
    "# Train the model\n",
    "rf_clf.fit(X_train, y_train)\n",
    "\n",
    "# Make predictions\n",
    "rf_y_pred = rf_clf.predict(X_test)\n",
    "\n",
    "# Evaluate the model\n",
    "generate_model_report(y_test, rf_y_pred)\n",
    "\n",
    "# Generate AUC curve\n",
    "\n",
    "roc_auc_score_multiclass(y_test, rf_y_pred)"
   ]
  },
  {
   "cell_type": "code",
   "execution_count": 121,
   "id": "37d00d5b-c34c-4146-8b63-8bb66b05c1f9",
   "metadata": {},
   "outputs": [],
   "source": [
    "def roc_auc_score_multiclass(actual_class, pred_class, average = \"macro\"):\n",
    "\n",
    "  #creating a set of all the unique classes using the actual class list\n",
    "  unique_class = set(actual_class)\n",
    "  roc_auc_dict = {}\n",
    "  final_roc = 0\n",
    "  for per_class in unique_class:\n",
    "    #creating a list of all the classes except the current class \n",
    "    other_class = [x for x in unique_class if x != per_class]\n",
    "\n",
    "    #marking the current class as 1 and all other classes as 0\n",
    "    new_actual_class = [0 if x in other_class else 1 for x in actual_class]\n",
    "    new_pred_class = [0 if x in other_class else 1 for x in pred_class]\n",
    "\n",
    "    #using the sklearn metrics method to calculate the roc_auc_score\n",
    "    roc_auc = roc_auc_score(new_actual_class, new_pred_class, average = average)\n",
    "    roc_auc_dict[per_class] = roc_auc\n",
    "    final_roc += roc_auc\n",
    "    \n",
    "  final_roc = final_roc/len(roc_auc_dict)\n",
    "  print(roc_auc_dict)\n",
    "  print(\"ROC_AUC_SCORE = \",final_roc)"
   ]
  },
  {
   "cell_type": "markdown",
   "id": "4343f555-ece0-4d50-a3c8-a78647e0589c",
   "metadata": {},
   "source": [
    "## Difference between score of models with all the data and only a small subset of the data. Give inference"
   ]
  },
  {
   "cell_type": "markdown",
   "id": "4f1af3fb-fea1-4eb0-b60b-6387ecc34441",
   "metadata": {},
   "source": [
    "ROC Curve: This curve is a graphical plot that illustrates the diagnostic ability of a binary classifier system as its discrimination threshold is varied. It is created by plotting the True Positive Rate (TPR) against the False Positive Rate (FPR) at various threshold settings.\n",
    "- True Positive Rate (TPR), also known as sensitivity, is the ratio of correctly predicted positive observations to the all observations in actual class - yes. It is calculated as TPR=TPTP+FNTPR=TP+FNTP​.\n",
    "- False Positive Rate (FPR) is the ratio of incorrectly predicted positive observations out of the total actual negatives. It is calculated as FPR=FPTN+FPFPR=TN+FPFP​.\n",
    "\n",
    "AUC - Area Under the Curve: The AUC measures the entire two-dimensional area underneath the entire ROC curve from (0,0) to (1,1). This area represents the model's ability to discriminate between positive and negative classes. An AUC of 0.5 suggests no discrimination ability (better explained as random chance), while an AUC of 1.0 represents a perfect model that perfectly discriminates between positives and negatives."
   ]
  },
  {
   "cell_type": "markdown",
   "id": "46b13e83-42d5-4224-8b33-4730c5892c29",
   "metadata": {},
   "source": [
    "## The AUC_ROC score has become better with a more balanced dataset and a small dataset, it means that the model is able to predict the True positive and True negative much better"
   ]
  },
  {
   "cell_type": "code",
   "execution_count": null,
   "id": "a79ffb21-601c-4592-840d-dd77ab60b2be",
   "metadata": {},
   "outputs": [],
   "source": []
  }
 ],
 "metadata": {
  "hide_input": false,
  "kernelspec": {
   "display_name": "Python 3 (ipykernel)",
   "language": "python",
   "name": "python3"
  },
  "language_info": {
   "codemirror_mode": {
    "name": "ipython",
    "version": 3
   },
   "file_extension": ".py",
   "mimetype": "text/x-python",
   "name": "python",
   "nbconvert_exporter": "python",
   "pygments_lexer": "ipython3",
   "version": "3.11.4"
  },
  "toc": {
   "base_numbering": 1,
   "nav_menu": {},
   "number_sections": false,
   "sideBar": true,
   "skip_h1_title": false,
   "title_cell": "Table of Contents",
   "title_sidebar": "Contents",
   "toc_cell": true,
   "toc_position": {},
   "toc_section_display": true,
   "toc_window_display": false
  },
  "varInspector": {
   "cols": {
    "lenName": 16,
    "lenType": 16,
    "lenVar": 40
   },
   "kernels_config": {
    "python": {
     "delete_cmd_postfix": "",
     "delete_cmd_prefix": "del ",
     "library": "var_list.py",
     "varRefreshCmd": "print(var_dic_list())"
    },
    "r": {
     "delete_cmd_postfix": ") ",
     "delete_cmd_prefix": "rm(",
     "library": "var_list.r",
     "varRefreshCmd": "cat(var_dic_list()) "
    }
   },
   "types_to_exclude": [
    "module",
    "function",
    "builtin_function_or_method",
    "instance",
    "_Feature"
   ],
   "window_display": false
  }
 },
 "nbformat": 4,
 "nbformat_minor": 5
}
