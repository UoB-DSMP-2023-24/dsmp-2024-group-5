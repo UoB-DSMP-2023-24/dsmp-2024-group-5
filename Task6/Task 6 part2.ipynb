{
 "cells": [
  {
   "cell_type": "markdown",
   "id": "e9acfecd",
   "metadata": {
    "toc": true
   },
   "source": [
    "<h1>Table of Contents<span class=\"tocSkip\"></span></h1>\n",
    "<div class=\"toc\"><ul class=\"toc-item\"><li><span><a href=\"#Task-6-(Work-by:-Nakul-and-Yutong)\" data-toc-modified-id=\"Task-6-(Work-by:-Nakul-and-Yutong)-1\">Task 6 (Work by: Nakul and Yutong)</a></span><ul class=\"toc-item\"><li><span><a href=\"#1.-Data-processing-(Work-by:-Nakul)\" data-toc-modified-id=\"1.-Data-processing-(Work-by:-Nakul)-1.1\">1. Data processing (Work by: Nakul)</a></span><ul class=\"toc-item\"><li><span><a href=\"#Human-beta-chain\" data-toc-modified-id=\"Human-beta-chain-1.1.1\">Human beta chain</a></span></li><li><span><a href=\"#Drop-duplicates\" data-toc-modified-id=\"Drop-duplicates-1.1.2\">Drop duplicates</a></span></li><li><span><a href=\"#CDR3-length-$\\in$-[10,20]\" data-toc-modified-id=\"CDR3-length-$\\in$-[10,20]-1.1.3\">CDR3 length $\\in$ [10,20]</a></span></li><li><span><a href=\"#Epitopes-binds-to-10-more-TCRs\" data-toc-modified-id=\"Epitopes-binds-to-10-more-TCRs-1.1.4\">Epitopes binds to 10 more TCRs</a></span></li></ul></li><li><span><a href=\"#2.-TEINet-(Work-by:-Yutong)\" data-toc-modified-id=\"2.-TEINet-(Work-by:-Yutong)-1.2\">2. TEINet (Work by: Yutong)</a></span><ul class=\"toc-item\"><li><span><a href=\"#create-csv-files-for-train-and-test-data\" data-toc-modified-id=\"create-csv-files-for-train-and-test-data-1.2.1\">create csv files for train and test data</a></span></li><li><span><a href=\"#2.1-The-required-software-dependencies:\" data-toc-modified-id=\"2.1-The-required-software-dependencies:-1.2.2\">2.1 The required software dependencies:</a></span></li><li><span><a href=\"#2.2-USE-ANACONDA-PROMPT:\" data-toc-modified-id=\"2.2-USE-ANACONDA-PROMPT:-1.2.3\">2.2 USE ANACONDA PROMPT:</a></span><ul class=\"toc-item\"><li><span><a href=\"#2.2.1-Metric:-Brier-Score\" data-toc-modified-id=\"2.2.1-Metric:-Brier-Score-1.2.3.1\">2.2.1 Metric: Brier Score</a></span></li><li><span><a href=\"#2.2.2-Train-our-own-model:\" data-toc-modified-id=\"2.2.2-Train-our-own-model:-1.2.3.2\">2.2.2 Train our own model:</a></span></li></ul></li><li><span><a href=\"#2.3-Use-trained-TEINet-models:-teinet_data.pth\" data-toc-modified-id=\"2.3-Use-trained-TEINet-models:-teinet_data.pth-1.2.4\">2.3 Use trained TEINet models: teinet_data.pth</a></span></li></ul></li></ul></li></ul></div>"
   ]
  },
  {
   "cell_type": "markdown",
   "id": "8b4fa5ee",
   "metadata": {},
   "source": [
    "# Task 6 (Work by: Nakul and Yutong)"
   ]
  },
  {
   "cell_type": "markdown",
   "id": "dc2e43bf",
   "metadata": {},
   "source": [
    "## 1. Data processing (Work by: Nakul)"
   ]
  },
  {
   "cell_type": "code",
   "execution_count": 1,
   "id": "6744d598",
   "metadata": {},
   "outputs": [],
   "source": [
    "import pandas as pd"
   ]
  },
  {
   "cell_type": "code",
   "execution_count": 2,
   "id": "ecff4696",
   "metadata": {},
   "outputs": [],
   "source": [
    "dataset = pd.read_csv('vdjdb.csv')"
   ]
  },
  {
   "cell_type": "code",
   "execution_count": 3,
   "id": "d7055e40",
   "metadata": {},
   "outputs": [],
   "source": [
    "dataset = dataset.iloc[:, list(range(0, 12)) + [16]]"
   ]
  },
  {
   "cell_type": "code",
   "execution_count": 4,
   "id": "4d7400cf",
   "metadata": {},
   "outputs": [],
   "source": [
    "sample_dataset = dataset[['cdr3','antigen.epitope','vdjdb.score','species','antigen.species','gene','mhc.class']]"
   ]
  },
  {
   "cell_type": "code",
   "execution_count": 5,
   "id": "e0567a67",
   "metadata": {},
   "outputs": [],
   "source": [
    "sample_dataset = dataset[['cdr3','antigen.epitope','vdjdb.score','species','antigen.species','gene','mhc.class']]"
   ]
  },
  {
   "cell_type": "markdown",
   "id": "531132cd",
   "metadata": {},
   "source": [
    "### Human beta chain"
   ]
  },
  {
   "cell_type": "code",
   "execution_count": 6,
   "id": "d3d42509",
   "metadata": {},
   "outputs": [],
   "source": [
    "sample_dataset = sample_dataset[(sample_dataset['gene'] == 'TRB') & (sample_dataset['species'] == 'HomoSapiens')]"
   ]
  },
  {
   "cell_type": "markdown",
   "id": "cd360996",
   "metadata": {},
   "source": [
    "### Drop duplicates"
   ]
  },
  {
   "cell_type": "code",
   "execution_count": 7,
   "id": "a51d98c6",
   "metadata": {},
   "outputs": [],
   "source": [
    "duplicate_indexes = sample_dataset[sample_dataset.duplicated(keep='last')].index\n",
    "sample_dataset.drop(index=duplicate_indexes,inplace=True)"
   ]
  },
  {
   "cell_type": "markdown",
   "id": "358305cc",
   "metadata": {},
   "source": [
    "### CDR3 length $\\in$ [10,20]"
   ]
  },
  {
   "cell_type": "code",
   "execution_count": 8,
   "id": "2ec49a38",
   "metadata": {},
   "outputs": [],
   "source": [
    "sample_dataset['CDR3_Length'] = sample_dataset.apply(lambda row: len(row['cdr3']),axis=1)"
   ]
  },
  {
   "cell_type": "code",
   "execution_count": 9,
   "id": "c30f30a4",
   "metadata": {},
   "outputs": [],
   "source": [
    "sample_dataset = sample_dataset[(sample_dataset['CDR3_Length'] >= 10) & (sample_dataset['CDR3_Length'] <= 20)]"
   ]
  },
  {
   "cell_type": "markdown",
   "id": "c2b83c72",
   "metadata": {},
   "source": [
    "### Epitopes binds to 10 more TCRs"
   ]
  },
  {
   "cell_type": "code",
   "execution_count": 10,
   "id": "9c53bf61",
   "metadata": {},
   "outputs": [],
   "source": [
    "group_antigen_cdr3 = sample_dataset.groupby(['antigen.epitope'])['cdr3'].unique().to_frame('cdr3_found').reset_index()"
   ]
  },
  {
   "cell_type": "code",
   "execution_count": 11,
   "id": "26a1456f",
   "metadata": {},
   "outputs": [],
   "source": [
    "group_antigen_cdr3['cdr3_found_count'] = group_antigen_cdr3['cdr3_found'].apply(lambda x:len(x))"
   ]
  },
  {
   "cell_type": "code",
   "execution_count": 12,
   "id": "d0d80fbd",
   "metadata": {},
   "outputs": [],
   "source": [
    "group_antigen_cdr3_count = group_antigen_cdr3.groupby(by=['cdr3_found_count']).size().to_frame('count').reset_index()"
   ]
  },
  {
   "cell_type": "code",
   "execution_count": 13,
   "id": "0fc4b873",
   "metadata": {},
   "outputs": [
    {
     "data": {
      "text/html": [
       "<div>\n",
       "<style scoped>\n",
       "    .dataframe tbody tr th:only-of-type {\n",
       "        vertical-align: middle;\n",
       "    }\n",
       "\n",
       "    .dataframe tbody tr th {\n",
       "        vertical-align: top;\n",
       "    }\n",
       "\n",
       "    .dataframe thead th {\n",
       "        text-align: right;\n",
       "    }\n",
       "</style>\n",
       "<table border=\"1\" class=\"dataframe\">\n",
       "  <thead>\n",
       "    <tr style=\"text-align: right;\">\n",
       "      <th></th>\n",
       "      <th>cdr3_found_count</th>\n",
       "      <th>count</th>\n",
       "    </tr>\n",
       "  </thead>\n",
       "  <tbody>\n",
       "    <tr>\n",
       "      <th>0</th>\n",
       "      <td>1</td>\n",
       "      <td>450</td>\n",
       "    </tr>\n",
       "    <tr>\n",
       "      <th>1</th>\n",
       "      <td>2</td>\n",
       "      <td>182</td>\n",
       "    </tr>\n",
       "    <tr>\n",
       "      <th>2</th>\n",
       "      <td>3</td>\n",
       "      <td>111</td>\n",
       "    </tr>\n",
       "    <tr>\n",
       "      <th>3</th>\n",
       "      <td>4</td>\n",
       "      <td>69</td>\n",
       "    </tr>\n",
       "    <tr>\n",
       "      <th>4</th>\n",
       "      <td>5</td>\n",
       "      <td>47</td>\n",
       "    </tr>\n",
       "    <tr>\n",
       "      <th>...</th>\n",
       "      <td>...</td>\n",
       "      <td>...</td>\n",
       "    </tr>\n",
       "    <tr>\n",
       "      <th>69</th>\n",
       "      <td>101</td>\n",
       "      <td>1</td>\n",
       "    </tr>\n",
       "    <tr>\n",
       "      <th>70</th>\n",
       "      <td>103</td>\n",
       "      <td>1</td>\n",
       "    </tr>\n",
       "    <tr>\n",
       "      <th>71</th>\n",
       "      <td>110</td>\n",
       "      <td>1</td>\n",
       "    </tr>\n",
       "    <tr>\n",
       "      <th>72</th>\n",
       "      <td>112</td>\n",
       "      <td>1</td>\n",
       "    </tr>\n",
       "    <tr>\n",
       "      <th>107</th>\n",
       "      <td>12595</td>\n",
       "      <td>1</td>\n",
       "    </tr>\n",
       "  </tbody>\n",
       "</table>\n",
       "<p>108 rows × 2 columns</p>\n",
       "</div>"
      ],
      "text/plain": [
       "     cdr3_found_count  count\n",
       "0                   1    450\n",
       "1                   2    182\n",
       "2                   3    111\n",
       "3                   4     69\n",
       "4                   5     47\n",
       "..                ...    ...\n",
       "69                101      1\n",
       "70                103      1\n",
       "71                110      1\n",
       "72                112      1\n",
       "107             12595      1\n",
       "\n",
       "[108 rows x 2 columns]"
      ]
     },
     "execution_count": 13,
     "metadata": {},
     "output_type": "execute_result"
    }
   ],
   "source": [
    "group_antigen_cdr3_count.sort_values('count',ascending=False)"
   ]
  },
  {
   "cell_type": "code",
   "execution_count": 14,
   "id": "ccfde725",
   "metadata": {},
   "outputs": [],
   "source": [
    "antigen_needed_list = group_antigen_cdr3[group_antigen_cdr3['cdr3_found_count'] >= 10]['antigen.epitope']"
   ]
  },
  {
   "cell_type": "code",
   "execution_count": 15,
   "id": "6def8b04",
   "metadata": {},
   "outputs": [],
   "source": [
    "sample_dataset = sample_dataset[sample_dataset['antigen.epitope'].isin(antigen_needed_list)]"
   ]
  },
  {
   "cell_type": "code",
   "execution_count": 16,
   "id": "0d71a12c",
   "metadata": {},
   "outputs": [],
   "source": [
    "# sample_dataset.to_csv('pre_processed_vdj_db.csv',index=False)"
   ]
  },
  {
   "cell_type": "code",
   "execution_count": 17,
   "id": "a435d84f",
   "metadata": {},
   "outputs": [
    {
     "data": {
      "text/html": [
       "<div>\n",
       "<style scoped>\n",
       "    .dataframe tbody tr th:only-of-type {\n",
       "        vertical-align: middle;\n",
       "    }\n",
       "\n",
       "    .dataframe tbody tr th {\n",
       "        vertical-align: top;\n",
       "    }\n",
       "\n",
       "    .dataframe thead th {\n",
       "        text-align: right;\n",
       "    }\n",
       "</style>\n",
       "<table border=\"1\" class=\"dataframe\">\n",
       "  <thead>\n",
       "    <tr style=\"text-align: right;\">\n",
       "      <th></th>\n",
       "      <th>cdr3</th>\n",
       "      <th>antigen.species</th>\n",
       "      <th>mhc.class</th>\n",
       "      <th>antigen.epitope</th>\n",
       "      <th>vdjdb.score</th>\n",
       "    </tr>\n",
       "  </thead>\n",
       "  <tbody>\n",
       "    <tr>\n",
       "      <th>1</th>\n",
       "      <td>CASSYLPGQGDHYSNQPQHF</td>\n",
       "      <td>HIV-1</td>\n",
       "      <td>MHCI</td>\n",
       "      <td>FLKEKGGL</td>\n",
       "      <td>2</td>\n",
       "    </tr>\n",
       "    <tr>\n",
       "      <th>2</th>\n",
       "      <td>CASSFEAGQGFFSNQPQHF</td>\n",
       "      <td>HIV-1</td>\n",
       "      <td>MHCI</td>\n",
       "      <td>FLKEKGGL</td>\n",
       "      <td>2</td>\n",
       "    </tr>\n",
       "    <tr>\n",
       "      <th>4</th>\n",
       "      <td>CASSFEPGQGFYSNQPQHF</td>\n",
       "      <td>HIV-1</td>\n",
       "      <td>MHCI</td>\n",
       "      <td>FLKEKGGL</td>\n",
       "      <td>2</td>\n",
       "    </tr>\n",
       "    <tr>\n",
       "      <th>6</th>\n",
       "      <td>CASSYEPGQVSHYSNQPQHF</td>\n",
       "      <td>HIV-1</td>\n",
       "      <td>MHCI</td>\n",
       "      <td>FLKEKGGL</td>\n",
       "      <td>2</td>\n",
       "    </tr>\n",
       "    <tr>\n",
       "      <th>8</th>\n",
       "      <td>CASSALASLNEQFF</td>\n",
       "      <td>HIV-1</td>\n",
       "      <td>MHCI</td>\n",
       "      <td>FLKEKGGL</td>\n",
       "      <td>2</td>\n",
       "    </tr>\n",
       "    <tr>\n",
       "      <th>...</th>\n",
       "      <td>...</td>\n",
       "      <td>...</td>\n",
       "      <td>...</td>\n",
       "      <td>...</td>\n",
       "      <td>...</td>\n",
       "    </tr>\n",
       "    <tr>\n",
       "      <th>92748</th>\n",
       "      <td>CASSIRSTDTQYF</td>\n",
       "      <td>Wheat</td>\n",
       "      <td>MHCII</td>\n",
       "      <td>PQPELPYPQPQL</td>\n",
       "      <td>0</td>\n",
       "    </tr>\n",
       "    <tr>\n",
       "      <th>92758</th>\n",
       "      <td>CASSLRSTDTQYF</td>\n",
       "      <td>Wheat</td>\n",
       "      <td>MHCII</td>\n",
       "      <td>PQPELPYPQPQL</td>\n",
       "      <td>0</td>\n",
       "    </tr>\n",
       "    <tr>\n",
       "      <th>92760</th>\n",
       "      <td>CASSFRSTDTQYF</td>\n",
       "      <td>Wheat</td>\n",
       "      <td>MHCII</td>\n",
       "      <td>PQPELPYPQPQL</td>\n",
       "      <td>0</td>\n",
       "    </tr>\n",
       "    <tr>\n",
       "      <th>92762</th>\n",
       "      <td>CASSVRSTDTQYF</td>\n",
       "      <td>Wheat</td>\n",
       "      <td>MHCII</td>\n",
       "      <td>PQPELPYPQPQL</td>\n",
       "      <td>0</td>\n",
       "    </tr>\n",
       "    <tr>\n",
       "      <th>92764</th>\n",
       "      <td>CASSLRYTDTQYF</td>\n",
       "      <td>Wheat</td>\n",
       "      <td>MHCII</td>\n",
       "      <td>PQPELPYPQPQL</td>\n",
       "      <td>0</td>\n",
       "    </tr>\n",
       "  </tbody>\n",
       "</table>\n",
       "<p>39524 rows × 5 columns</p>\n",
       "</div>"
      ],
      "text/plain": [
       "                       cdr3 antigen.species mhc.class antigen.epitope  \\\n",
       "1      CASSYLPGQGDHYSNQPQHF           HIV-1      MHCI        FLKEKGGL   \n",
       "2       CASSFEAGQGFFSNQPQHF           HIV-1      MHCI        FLKEKGGL   \n",
       "4       CASSFEPGQGFYSNQPQHF           HIV-1      MHCI        FLKEKGGL   \n",
       "6      CASSYEPGQVSHYSNQPQHF           HIV-1      MHCI        FLKEKGGL   \n",
       "8            CASSALASLNEQFF           HIV-1      MHCI        FLKEKGGL   \n",
       "...                     ...             ...       ...             ...   \n",
       "92748         CASSIRSTDTQYF           Wheat     MHCII    PQPELPYPQPQL   \n",
       "92758         CASSLRSTDTQYF           Wheat     MHCII    PQPELPYPQPQL   \n",
       "92760         CASSFRSTDTQYF           Wheat     MHCII    PQPELPYPQPQL   \n",
       "92762         CASSVRSTDTQYF           Wheat     MHCII    PQPELPYPQPQL   \n",
       "92764         CASSLRYTDTQYF           Wheat     MHCII    PQPELPYPQPQL   \n",
       "\n",
       "       vdjdb.score  \n",
       "1                2  \n",
       "2                2  \n",
       "4                2  \n",
       "6                2  \n",
       "8                2  \n",
       "...            ...  \n",
       "92748            0  \n",
       "92758            0  \n",
       "92760            0  \n",
       "92762            0  \n",
       "92764            0  \n",
       "\n",
       "[39524 rows x 5 columns]"
      ]
     },
     "execution_count": 17,
     "metadata": {},
     "output_type": "execute_result"
    }
   ],
   "source": [
    "model_df = sample_dataset[['cdr3','antigen.species','mhc.class','antigen.epitope','vdjdb.score']]\n",
    "model_df"
   ]
  },
  {
   "cell_type": "markdown",
   "id": "3ffa768d",
   "metadata": {},
   "source": [
    "## 2. TEINet (Work by: Yutong)\n",
    "\n",
    "Please download the TEINet (https://github.com/jiangdada1221/TEINet) in the same folder as this notebook.\n",
    "\n",
    "We have Modified the original train.py predict.py. Please replace the files \"train.py predict.py\" by the files provided in the same folder as this notebook."
   ]
  },
  {
   "cell_type": "markdown",
   "id": "6d656bea",
   "metadata": {},
   "source": [
    "### create csv files for train and test data"
   ]
  },
  {
   "cell_type": "code",
   "execution_count": 20,
   "id": "d21fc1d3",
   "metadata": {},
   "outputs": [
    {
     "name": "stdout",
     "output_type": "stream",
     "text": [
      "                  CDR3.beta       Epitope  vdjdb.score  Label\n",
      "1      CASSYLPGQGDHYSNQPQHF      FLKEKGGL            2      1\n",
      "2       CASSFEAGQGFFSNQPQHF      FLKEKGGL            2      1\n",
      "4       CASSFEPGQGFYSNQPQHF      FLKEKGGL            2      1\n",
      "6      CASSYEPGQVSHYSNQPQHF      FLKEKGGL            2      1\n",
      "8            CASSALASLNEQFF      FLKEKGGL            2      1\n",
      "...                     ...           ...          ...    ...\n",
      "92748         CASSIRSTDTQYF  PQPELPYPQPQL            0      0\n",
      "92758         CASSLRSTDTQYF  PQPELPYPQPQL            0      0\n",
      "92760         CASSFRSTDTQYF  PQPELPYPQPQL            0      0\n",
      "92762         CASSVRSTDTQYF  PQPELPYPQPQL            0      0\n",
      "92764         CASSLRYTDTQYF  PQPELPYPQPQL            0      0\n",
      "\n",
      "[39524 rows x 4 columns]\n"
     ]
    },
    {
     "name": "stderr",
     "output_type": "stream",
     "text": [
      "D:\\TEMP\\ipykernel_22924\\487043245.py:10: SettingWithCopyWarning: \n",
      "A value is trying to be set on a copy of a slice from a DataFrame\n",
      "\n",
      "See the caveats in the documentation: https://pandas.pydata.org/pandas-docs/stable/user_guide/indexing.html#returning-a-view-versus-a-copy\n",
      "  train_test_data.rename(columns={'cdr3': 'CDR3.beta', 'antigen.epitope': 'Epitope'}, inplace=True)\n",
      "D:\\TEMP\\ipykernel_22924\\487043245.py:13: SettingWithCopyWarning: \n",
      "A value is trying to be set on a copy of a slice from a DataFrame.\n",
      "Try using .loc[row_indexer,col_indexer] = value instead\n",
      "\n",
      "See the caveats in the documentation: https://pandas.pydata.org/pandas-docs/stable/user_guide/indexing.html#returning-a-view-versus-a-copy\n",
      "  train_test_data['Label'] = train_test_data['vdjdb.score'].apply(lambda x: 0 if x == 0 else 1)\n"
     ]
    }
   ],
   "source": [
    "import pandas as pd\n",
    "import os\n",
    "import pandas as pd\n",
    "data_dir = 'data'\n",
    "os.makedirs(data_dir, exist_ok=True)\n",
    "random_seed = 42\n",
    "\n",
    "## Taking VDJdb scores=0 as negative \n",
    "train_test_data = model_df[['cdr3', 'antigen.epitope','vdjdb.score']]\n",
    "train_test_data.rename(columns={'cdr3': 'CDR3.beta', 'antigen.epitope': 'Epitope'}, inplace=True)\n",
    "\n",
    "train_test_data['Label'] = 1\n",
    "# train_test_data['Label'] = train_test_data['vdjdb.score'].apply(lambda x: 0 if x == 0 else 1)\n",
    "\n",
    "print(train_test_data)\n",
    "train_test_data.to_csv(os.path.join(data_dir,'predict_sample.csv'),index=False)"
   ]
  },
  {
   "cell_type": "code",
   "execution_count": 21,
   "id": "08fe0a2a",
   "metadata": {},
   "outputs": [],
   "source": [
    "# Randomly select 20% of the records as the test set\n",
    "test_data = train_test_data.sample(frac=0.2, random_state = random_seed)\n",
    "\n",
    "# Use the remaining records as a training set\n",
    "train_data = train_test_data.drop(test_data.index)\n",
    "\n",
    "train_data.to_csv(os.path.join(data_dir, 'train.csv'), index=False)\n",
    "test_data.to_csv(os.path.join(data_dir, 'test.csv'), index=False)"
   ]
  },
  {
   "cell_type": "markdown",
   "id": "05636441",
   "metadata": {},
   "source": [
    "### 2.1 The required software dependencies:\n",
    "\n",
    "```\n",
    "Numpy\n",
    "matplotlib\n",
    "tqdm\n",
    "pandas\n",
    "scikit-learn\n",
    "scipy\n",
    "torch >= 1.1.0 (Tested on 1.8.0)\n",
    "Levenshtein\n",
    "```\n",
    "\n",
    "\n",
    "### 2.2 USE ANACONDA PROMPT:\n",
    "\n",
    "**REMEMBER to change file path to current folder.**\n",
    "\n",
    "**Taking all VDJdb scores as positive**\n",
    "\n",
    "\n",
    "\n",
    "#### 2.2.1 Metric: Brier Score\n",
    "\n",
    "The Brier Score is a measure used to quantify the accuracy of probabilistic predictions, particularly for binary outcomes. It calculates the mean squared difference between the predicted probabilities and the actual outcomes. A Brier Score of 0 indicates perfect accuracy, whereas a score of 1 represents the worst possible prediction. \n",
    "\n",
    "####  2.2.2 Train our own model:\n",
    "\n",
    "**Test records: 20%**\n",
    "\n",
    "Entire train set (31619 records) and test set (7905 records) with epochs 3 \n",
    "\n",
    "**Best Brier Score = 0.6381** \n",
    "\n",
    "(Takes a long time, the score is on a downward trend)\n",
    "\n",
    "\n",
    "---\n",
    "(pytorch_env) > python train.py --train_file data/train.csv --test_file data/test.csv --epochs 3 --model_path results/model.pth\n",
    "\n",
    "---\n",
    "using the pretrained model\n",
    "Begin training\n",
    "Epoch = 3\n",
    "sample num = 10\n",
    "dropout = 0.0\n",
    "Using frequency to sample = True\n",
    "cat_size = 1536\n",
    "\n",
    "100%|████████████████████| 659/659 [44:22<00:00,  4.04s/it]\n",
    "\n",
    "100%|████████████████████| 165/165 [00:08<00:00, 20.02it/s]\n",
    "\n",
    "Epoch:  0\n",
    "\n",
    "Test brier_score_loss:  0.6381142171853036\n",
    "\n",
    "100%|████████████████████| 659/659 [47:11<00:00,  4.30s/it]\n",
    "\n",
    "100%|████████████████████| 165/165 [00:08<00:00, 20.11it/s]\n",
    "\n",
    "Epoch:  1\n",
    "\n",
    "Test brier_score_loss:  0.7202708440888607\n",
    "\n",
    "100%|████████████████████| 659/659 [48:59<00:00,  4.46s/it]\n",
    "\n",
    "100%|████████████████████| 165/165 [00:08<00:00, 19.96it/s]\n",
    "\n",
    "Epoch:  2\n",
    "\n",
    "Test brier_score_loss:  0.6475847326234571\n",
    "\n",
    "\n",
    "---\n",
    "\n"
   ]
  },
  {
   "cell_type": "markdown",
   "id": "bfa9c3ba",
   "metadata": {},
   "source": [
    "### 2.3 Use trained TEINet models: teinet_data.pth\n",
    "\n",
    "**39524 records,  Brier Score = 0.2510**\n",
    "\n",
    "---\n",
    "(pytorch_env) >python predict.py --dset_path data/predict_sample.csv --save_prediction_path data/prediction.csv --model_path results/teinet_data.pth\n",
    "\n",
    "---\n",
    "100%|██████████████████████████| 309/309 [00:31<00:00,  9.84it/s]\n",
    "\n",
    "Test brier_score_loss:  0.25106405222743194"
   ]
  },
  {
   "cell_type": "code",
   "execution_count": null,
   "id": "9d9a914d",
   "metadata": {},
   "outputs": [],
   "source": []
  }
 ],
 "metadata": {
  "hide_input": false,
  "kernelspec": {
   "display_name": "Python 3 (ipykernel)",
   "language": "python",
   "name": "python3"
  },
  "language_info": {
   "codemirror_mode": {
    "name": "ipython",
    "version": 3
   },
   "file_extension": ".py",
   "mimetype": "text/x-python",
   "name": "python",
   "nbconvert_exporter": "python",
   "pygments_lexer": "ipython3",
   "version": "3.11.4"
  },
  "toc": {
   "base_numbering": 1,
   "nav_menu": {
    "height": "101.983px",
    "width": "188.99px"
   },
   "number_sections": false,
   "sideBar": true,
   "skip_h1_title": false,
   "title_cell": "Table of Contents",
   "title_sidebar": "Contents",
   "toc_cell": true,
   "toc_position": {
    "height": "calc(100% - 180px)",
    "left": "10px",
    "top": "150px",
    "width": "394.952px"
   },
   "toc_section_display": true,
   "toc_window_display": true
  },
  "varInspector": {
   "cols": {
    "lenName": 16,
    "lenType": 16,
    "lenVar": 40
   },
   "kernels_config": {
    "python": {
     "delete_cmd_postfix": "",
     "delete_cmd_prefix": "del ",
     "library": "var_list.py",
     "varRefreshCmd": "print(var_dic_list())"
    },
    "r": {
     "delete_cmd_postfix": ") ",
     "delete_cmd_prefix": "rm(",
     "library": "var_list.r",
     "varRefreshCmd": "cat(var_dic_list()) "
    }
   },
   "position": {
    "height": "296.528px",
    "left": "757.892px",
    "right": "20px",
    "top": "106.998px",
    "width": "543.106px"
   },
   "types_to_exclude": [
    "module",
    "function",
    "builtin_function_or_method",
    "instance",
    "_Feature"
   ],
   "window_display": false
  }
 },
 "nbformat": 4,
 "nbformat_minor": 5
}
