{
 "cells": [
  {
   "cell_type": "markdown",
   "id": "c8243d74-722f-454b-b4e1-634b7b8085a3",
   "metadata": {},
   "source": [
    "# Import Packages and data exploration"
   ]
  },
  {
   "cell_type": "code",
   "execution_count": 1,
   "id": "e65d8573-8d0b-44d1-9995-d3f44930a615",
   "metadata": {},
   "outputs": [],
   "source": [
    "import pandas as pd"
   ]
  },
  {
   "cell_type": "code",
   "execution_count": 2,
   "id": "f2533c1c-2cc5-46af-af07-d49d9b45e31b",
   "metadata": {},
   "outputs": [
    {
     "name": "stdout",
     "output_type": "stream",
     "text": [
      "<class 'pandas.core.frame.DataFrame'>\n",
      "RangeIndex: 92771 entries, 0 to 92770\n",
      "Data columns (total 21 columns):\n",
      " #   Column            Non-Null Count  Dtype \n",
      "---  ------            --------------  ----- \n",
      " 0   complex.id        92771 non-null  int64 \n",
      " 1   gene              92771 non-null  object\n",
      " 2   cdr3              92771 non-null  object\n",
      " 3   v.segm            92670 non-null  object\n",
      " 4   j.segm            91626 non-null  object\n",
      " 5   species           92771 non-null  object\n",
      " 6   mhc.a             92771 non-null  object\n",
      " 7   mhc.b             92771 non-null  object\n",
      " 8   mhc.class         92771 non-null  object\n",
      " 9   antigen.epitope   92771 non-null  object\n",
      " 10  antigen.gene      92709 non-null  object\n",
      " 11  antigen.species   92771 non-null  object\n",
      " 12  reference.id      91260 non-null  object\n",
      " 13  method            92771 non-null  object\n",
      " 14  meta              92771 non-null  object\n",
      " 15  cdr3fix           92771 non-null  object\n",
      " 16  vdjdb.score       92771 non-null  int64 \n",
      " 17  web.method        92771 non-null  object\n",
      " 18  web.method.seq    92771 non-null  object\n",
      " 19  web.cdr3fix.nc    92771 non-null  object\n",
      " 20  web.cdr3fix.unmp  92771 non-null  object\n",
      "dtypes: int64(2), object(19)\n",
      "memory usage: 14.9+ MB\n"
     ]
    }
   ],
   "source": [
    "dataset = pd.read_csv('vdjdb.csv')\n",
    "\n",
    "dataset.info()"
   ]
  },
  {
   "cell_type": "code",
   "execution_count": 3,
   "id": "913d2623-9f68-46ee-a7a3-f8df81c0352f",
   "metadata": {},
   "outputs": [
    {
     "data": {
      "text/plain": [
       "complex.id             0\n",
       "gene                   0\n",
       "cdr3                   0\n",
       "v.segm               101\n",
       "j.segm              1145\n",
       "species                0\n",
       "mhc.a                  0\n",
       "mhc.b                  0\n",
       "mhc.class              0\n",
       "antigen.epitope        0\n",
       "antigen.gene          62\n",
       "antigen.species        0\n",
       "reference.id        1511\n",
       "method                 0\n",
       "meta                   0\n",
       "cdr3fix                0\n",
       "vdjdb.score            0\n",
       "web.method             0\n",
       "web.method.seq         0\n",
       "web.cdr3fix.nc         0\n",
       "web.cdr3fix.unmp       0\n",
       "dtype: int64"
      ]
     },
     "execution_count": 3,
     "metadata": {},
     "output_type": "execute_result"
    }
   ],
   "source": [
    "dataset.isnull().sum()"
   ]
  },
  {
   "cell_type": "markdown",
   "id": "bb705b45-877a-4398-9b00-3b0b31abfe54",
   "metadata": {},
   "source": [
    "# Data Transformation"
   ]
  },
  {
   "cell_type": "markdown",
   "id": "7c18cf91-d182-491b-9092-5c19857b2690",
   "metadata": {},
   "source": [
    "## Removing Unwanted Columns"
   ]
  },
  {
   "cell_type": "markdown",
   "id": "9b266518-9e95-4110-a75e-a5ee59e477dd",
   "metadata": {},
   "source": [
    "Some of the columns contain specific information about the literature sources (reference.id), sequencing methods (method, web.method.seq), collection method (web.method) etc., some of which are related to how **vdjdb.score** is calculated.\n",
    "\n",
    "Therefore we first remove these columns. Deleted columns are as follows: \n",
    "-  reference.id\n",
    "-  method\n",
    "-  meta\n",
    "-  cdr3fix\n",
    "-  web.method  \n",
    "-  web.method.seq\n",
    "-  web.cdr3fix.nc\n",
    "-  web.cdr3fix.unmp\n",
    "\n",
    "(Work by Yutong)"
   ]
  },
  {
   "cell_type": "code",
   "execution_count": 4,
   "id": "40a7cbae-e625-4a07-b0b8-13592002134d",
   "metadata": {},
   "outputs": [
    {
     "name": "stdout",
     "output_type": "stream",
     "text": [
      "<class 'pandas.core.frame.DataFrame'>\n",
      "RangeIndex: 92771 entries, 0 to 92770\n",
      "Data columns (total 13 columns):\n",
      " #   Column           Non-Null Count  Dtype \n",
      "---  ------           --------------  ----- \n",
      " 0   complex.id       92771 non-null  int64 \n",
      " 1   gene             92771 non-null  object\n",
      " 2   cdr3             92771 non-null  object\n",
      " 3   v.segm           92670 non-null  object\n",
      " 4   j.segm           91626 non-null  object\n",
      " 5   species          92771 non-null  object\n",
      " 6   mhc.a            92771 non-null  object\n",
      " 7   mhc.b            92771 non-null  object\n",
      " 8   mhc.class        92771 non-null  object\n",
      " 9   antigen.epitope  92771 non-null  object\n",
      " 10  antigen.gene     92709 non-null  object\n",
      " 11  antigen.species  92771 non-null  object\n",
      " 12  vdjdb.score      92771 non-null  int64 \n",
      "dtypes: int64(2), object(11)\n",
      "memory usage: 9.2+ MB\n"
     ]
    }
   ],
   "source": [
    "dataset = dataset.iloc[:, list(range(0, 12)) + [16]]\n",
    "dataset.info()"
   ]
  },
  {
   "cell_type": "markdown",
   "id": "6d3f07ab-1fcd-42b3-b968-934cb9b1de46",
   "metadata": {},
   "source": [
    "## Combine cdr3-v_seg-j_seg in one column"
   ]
  },
  {
   "cell_type": "code",
   "execution_count": 5,
   "id": "d6297ce4-0b29-4319-8b57-d7c0fdae0994",
   "metadata": {},
   "outputs": [],
   "source": [
    "def create_cdr3_v_j_column(row):\n",
    "    \"\"\"\n",
    "    This function will combine cdr3, v-segm and j-segm\n",
    "    \"\"\"\n",
    "    cdr3 = row['cdr3']\n",
    "    v_segm = row['v.segm']\n",
    "    j_segm = row['j.segm']\n",
    "    final_string = ''\n",
    "    \n",
    "    if not pd.isna(cdr3):\n",
    "        final_string = cdr3\n",
    "    if not pd.isna(v_segm):\n",
    "        final_string = final_string + '_' + v_segm\n",
    "    if not pd.isna(j_segm):\n",
    "        final_string = final_string + '_' + j_segm\n",
    "    \n",
    "    return final_string\n",
    "\n",
    "dataset['cdr3_v_j'] = dataset.apply(create_cdr3_v_j_column,axis=1)"
   ]
  },
  {
   "cell_type": "code",
   "execution_count": 6,
   "id": "55b874d4-b0bc-492e-a5c4-92a829b8ebd1",
   "metadata": {},
   "outputs": [
    {
     "data": {
      "text/plain": [
       "0          CIVRAPGRADMRF_TRAV26-1*01_TRAJ43*01\n",
       "1    CASSYLPGQGDHYSNQPQHF_TRBV13*01_TRBJ1-5*01\n",
       "2     CASSFEAGQGFFSNQPQHF_TRBV13*01_TRBJ1-5*01\n",
       "3           CAVPSGAGSYQLTF_TRAV20*01_TRAJ28*01\n",
       "4     CASSFEPGQGFYSNQPQHF_TRBV13*01_TRBJ1-5*01\n",
       "Name: cdr3_v_j, dtype: object"
      ]
     },
     "execution_count": 6,
     "metadata": {},
     "output_type": "execute_result"
    }
   ],
   "source": [
    "dataset['cdr3_v_j'].head(5)"
   ]
  },
  {
   "cell_type": "markdown",
   "id": "7b072657-289b-4a48-828a-fa1ac66be59b",
   "metadata": {},
   "source": [
    "## Separate Alpha, Beta chains datasets"
   ]
  },
  {
   "cell_type": "code",
   "execution_count": 7,
   "id": "4ba0f613-2630-48e2-bf5b-39c4087b0968",
   "metadata": {},
   "outputs": [
    {
     "data": {
      "text/plain": [
       "array(['TRA', 'TRB'], dtype=object)"
      ]
     },
     "execution_count": 7,
     "metadata": {},
     "output_type": "execute_result"
    }
   ],
   "source": [
    "dataset['gene'].unique()"
   ]
  },
  {
   "cell_type": "code",
   "execution_count": 8,
   "id": "95681944-756e-4c47-bbdc-25832695536e",
   "metadata": {},
   "outputs": [],
   "source": [
    "dataset_alpha = dataset[dataset['gene'] == 'TRA']\n",
    "dataset_beta = dataset[dataset['gene'] == 'TRB']"
   ]
  },
  {
   "cell_type": "code",
   "execution_count": 9,
   "id": "0407eb1f-73ae-4590-a8c6-8ef8521b47a6",
   "metadata": {},
   "outputs": [
    {
     "data": {
      "text/html": [
       "<div>\n",
       "<style scoped>\n",
       "    .dataframe tbody tr th:only-of-type {\n",
       "        vertical-align: middle;\n",
       "    }\n",
       "\n",
       "    .dataframe tbody tr th {\n",
       "        vertical-align: top;\n",
       "    }\n",
       "\n",
       "    .dataframe thead th {\n",
       "        text-align: right;\n",
       "    }\n",
       "</style>\n",
       "<table border=\"1\" class=\"dataframe\">\n",
       "  <thead>\n",
       "    <tr style=\"text-align: right;\">\n",
       "      <th></th>\n",
       "      <th>complex.id</th>\n",
       "      <th>gene</th>\n",
       "      <th>cdr3</th>\n",
       "      <th>v.segm</th>\n",
       "      <th>j.segm</th>\n",
       "      <th>species</th>\n",
       "      <th>mhc.a</th>\n",
       "      <th>mhc.b</th>\n",
       "      <th>mhc.class</th>\n",
       "      <th>antigen.epitope</th>\n",
       "      <th>antigen.gene</th>\n",
       "      <th>antigen.species</th>\n",
       "      <th>vdjdb.score</th>\n",
       "      <th>cdr3_v_j</th>\n",
       "    </tr>\n",
       "  </thead>\n",
       "  <tbody>\n",
       "    <tr>\n",
       "      <th>0</th>\n",
       "      <td>1</td>\n",
       "      <td>TRA</td>\n",
       "      <td>CIVRAPGRADMRF</td>\n",
       "      <td>TRAV26-1*01</td>\n",
       "      <td>TRAJ43*01</td>\n",
       "      <td>HomoSapiens</td>\n",
       "      <td>HLA-B*08</td>\n",
       "      <td>B2M</td>\n",
       "      <td>MHCI</td>\n",
       "      <td>FLKEKGGL</td>\n",
       "      <td>Nef</td>\n",
       "      <td>HIV-1</td>\n",
       "      <td>2</td>\n",
       "      <td>CIVRAPGRADMRF_TRAV26-1*01_TRAJ43*01</td>\n",
       "    </tr>\n",
       "    <tr>\n",
       "      <th>3</th>\n",
       "      <td>2</td>\n",
       "      <td>TRA</td>\n",
       "      <td>CAVPSGAGSYQLTF</td>\n",
       "      <td>TRAV20*01</td>\n",
       "      <td>TRAJ28*01</td>\n",
       "      <td>HomoSapiens</td>\n",
       "      <td>HLA-B*08</td>\n",
       "      <td>B2M</td>\n",
       "      <td>MHCI</td>\n",
       "      <td>FLKEKGGL</td>\n",
       "      <td>Nef</td>\n",
       "      <td>HIV-1</td>\n",
       "      <td>2</td>\n",
       "      <td>CAVPSGAGSYQLTF_TRAV20*01_TRAJ28*01</td>\n",
       "    </tr>\n",
       "    <tr>\n",
       "      <th>5</th>\n",
       "      <td>3</td>\n",
       "      <td>TRA</td>\n",
       "      <td>CAVKASGSRLT</td>\n",
       "      <td>TRAV2*01</td>\n",
       "      <td>NaN</td>\n",
       "      <td>HomoSapiens</td>\n",
       "      <td>HLA-B*08</td>\n",
       "      <td>B2M</td>\n",
       "      <td>MHCI</td>\n",
       "      <td>FLKEKGGL</td>\n",
       "      <td>Nef</td>\n",
       "      <td>HIV-1</td>\n",
       "      <td>2</td>\n",
       "      <td>CAVKASGSRLT_TRAV2*01</td>\n",
       "    </tr>\n",
       "    <tr>\n",
       "      <th>7</th>\n",
       "      <td>4</td>\n",
       "      <td>TRA</td>\n",
       "      <td>CAYRPPGTYKYIF</td>\n",
       "      <td>TRAV38-2/DV8*01</td>\n",
       "      <td>TRAJ40*01</td>\n",
       "      <td>HomoSapiens</td>\n",
       "      <td>HLA-B*08</td>\n",
       "      <td>B2M</td>\n",
       "      <td>MHCI</td>\n",
       "      <td>FLKEKGGL</td>\n",
       "      <td>Nef</td>\n",
       "      <td>HIV-1</td>\n",
       "      <td>2</td>\n",
       "      <td>CAYRPPGTYKYIF_TRAV38-2/DV8*01_TRAJ40*01</td>\n",
       "    </tr>\n",
       "  </tbody>\n",
       "</table>\n",
       "</div>"
      ],
      "text/plain": [
       "   complex.id gene            cdr3           v.segm     j.segm      species  \\\n",
       "0           1  TRA   CIVRAPGRADMRF      TRAV26-1*01  TRAJ43*01  HomoSapiens   \n",
       "3           2  TRA  CAVPSGAGSYQLTF        TRAV20*01  TRAJ28*01  HomoSapiens   \n",
       "5           3  TRA     CAVKASGSRLT         TRAV2*01        NaN  HomoSapiens   \n",
       "7           4  TRA   CAYRPPGTYKYIF  TRAV38-2/DV8*01  TRAJ40*01  HomoSapiens   \n",
       "\n",
       "      mhc.a mhc.b mhc.class antigen.epitope antigen.gene antigen.species  \\\n",
       "0  HLA-B*08   B2M      MHCI        FLKEKGGL          Nef           HIV-1   \n",
       "3  HLA-B*08   B2M      MHCI        FLKEKGGL          Nef           HIV-1   \n",
       "5  HLA-B*08   B2M      MHCI        FLKEKGGL          Nef           HIV-1   \n",
       "7  HLA-B*08   B2M      MHCI        FLKEKGGL          Nef           HIV-1   \n",
       "\n",
       "   vdjdb.score                                 cdr3_v_j  \n",
       "0            2      CIVRAPGRADMRF_TRAV26-1*01_TRAJ43*01  \n",
       "3            2       CAVPSGAGSYQLTF_TRAV20*01_TRAJ28*01  \n",
       "5            2                     CAVKASGSRLT_TRAV2*01  \n",
       "7            2  CAYRPPGTYKYIF_TRAV38-2/DV8*01_TRAJ40*01  "
      ]
     },
     "execution_count": 9,
     "metadata": {},
     "output_type": "execute_result"
    }
   ],
   "source": [
    "dataset_alpha.head(4)"
   ]
  },
  {
   "cell_type": "code",
   "execution_count": 10,
   "id": "5ec13873-bca7-4b21-b5a2-e4bbca399e83",
   "metadata": {},
   "outputs": [
    {
     "data": {
      "text/html": [
       "<div>\n",
       "<style scoped>\n",
       "    .dataframe tbody tr th:only-of-type {\n",
       "        vertical-align: middle;\n",
       "    }\n",
       "\n",
       "    .dataframe tbody tr th {\n",
       "        vertical-align: top;\n",
       "    }\n",
       "\n",
       "    .dataframe thead th {\n",
       "        text-align: right;\n",
       "    }\n",
       "</style>\n",
       "<table border=\"1\" class=\"dataframe\">\n",
       "  <thead>\n",
       "    <tr style=\"text-align: right;\">\n",
       "      <th></th>\n",
       "      <th>complex.id</th>\n",
       "      <th>gene</th>\n",
       "      <th>cdr3</th>\n",
       "      <th>v.segm</th>\n",
       "      <th>j.segm</th>\n",
       "      <th>species</th>\n",
       "      <th>mhc.a</th>\n",
       "      <th>mhc.b</th>\n",
       "      <th>mhc.class</th>\n",
       "      <th>antigen.epitope</th>\n",
       "      <th>antigen.gene</th>\n",
       "      <th>antigen.species</th>\n",
       "      <th>vdjdb.score</th>\n",
       "      <th>cdr3_v_j</th>\n",
       "    </tr>\n",
       "  </thead>\n",
       "  <tbody>\n",
       "    <tr>\n",
       "      <th>1</th>\n",
       "      <td>1</td>\n",
       "      <td>TRB</td>\n",
       "      <td>CASSYLPGQGDHYSNQPQHF</td>\n",
       "      <td>TRBV13*01</td>\n",
       "      <td>TRBJ1-5*01</td>\n",
       "      <td>HomoSapiens</td>\n",
       "      <td>HLA-B*08</td>\n",
       "      <td>B2M</td>\n",
       "      <td>MHCI</td>\n",
       "      <td>FLKEKGGL</td>\n",
       "      <td>Nef</td>\n",
       "      <td>HIV-1</td>\n",
       "      <td>2</td>\n",
       "      <td>CASSYLPGQGDHYSNQPQHF_TRBV13*01_TRBJ1-5*01</td>\n",
       "    </tr>\n",
       "    <tr>\n",
       "      <th>2</th>\n",
       "      <td>0</td>\n",
       "      <td>TRB</td>\n",
       "      <td>CASSFEAGQGFFSNQPQHF</td>\n",
       "      <td>TRBV13*01</td>\n",
       "      <td>TRBJ1-5*01</td>\n",
       "      <td>HomoSapiens</td>\n",
       "      <td>HLA-B*08</td>\n",
       "      <td>B2M</td>\n",
       "      <td>MHCI</td>\n",
       "      <td>FLKEKGGL</td>\n",
       "      <td>Nef</td>\n",
       "      <td>HIV-1</td>\n",
       "      <td>2</td>\n",
       "      <td>CASSFEAGQGFFSNQPQHF_TRBV13*01_TRBJ1-5*01</td>\n",
       "    </tr>\n",
       "    <tr>\n",
       "      <th>4</th>\n",
       "      <td>2</td>\n",
       "      <td>TRB</td>\n",
       "      <td>CASSFEPGQGFYSNQPQHF</td>\n",
       "      <td>TRBV13*01</td>\n",
       "      <td>TRBJ1-5*01</td>\n",
       "      <td>HomoSapiens</td>\n",
       "      <td>HLA-B*08</td>\n",
       "      <td>B2M</td>\n",
       "      <td>MHCI</td>\n",
       "      <td>FLKEKGGL</td>\n",
       "      <td>Nef</td>\n",
       "      <td>HIV-1</td>\n",
       "      <td>2</td>\n",
       "      <td>CASSFEPGQGFYSNQPQHF_TRBV13*01_TRBJ1-5*01</td>\n",
       "    </tr>\n",
       "    <tr>\n",
       "      <th>6</th>\n",
       "      <td>3</td>\n",
       "      <td>TRB</td>\n",
       "      <td>CASSYEPGQVSHYSNQPQHF</td>\n",
       "      <td>TRBV13*01</td>\n",
       "      <td>TRBJ1-5*01</td>\n",
       "      <td>HomoSapiens</td>\n",
       "      <td>HLA-B*08</td>\n",
       "      <td>B2M</td>\n",
       "      <td>MHCI</td>\n",
       "      <td>FLKEKGGL</td>\n",
       "      <td>Nef</td>\n",
       "      <td>HIV-1</td>\n",
       "      <td>2</td>\n",
       "      <td>CASSYEPGQVSHYSNQPQHF_TRBV13*01_TRBJ1-5*01</td>\n",
       "    </tr>\n",
       "  </tbody>\n",
       "</table>\n",
       "</div>"
      ],
      "text/plain": [
       "   complex.id gene                  cdr3     v.segm      j.segm      species  \\\n",
       "1           1  TRB  CASSYLPGQGDHYSNQPQHF  TRBV13*01  TRBJ1-5*01  HomoSapiens   \n",
       "2           0  TRB   CASSFEAGQGFFSNQPQHF  TRBV13*01  TRBJ1-5*01  HomoSapiens   \n",
       "4           2  TRB   CASSFEPGQGFYSNQPQHF  TRBV13*01  TRBJ1-5*01  HomoSapiens   \n",
       "6           3  TRB  CASSYEPGQVSHYSNQPQHF  TRBV13*01  TRBJ1-5*01  HomoSapiens   \n",
       "\n",
       "      mhc.a mhc.b mhc.class antigen.epitope antigen.gene antigen.species  \\\n",
       "1  HLA-B*08   B2M      MHCI        FLKEKGGL          Nef           HIV-1   \n",
       "2  HLA-B*08   B2M      MHCI        FLKEKGGL          Nef           HIV-1   \n",
       "4  HLA-B*08   B2M      MHCI        FLKEKGGL          Nef           HIV-1   \n",
       "6  HLA-B*08   B2M      MHCI        FLKEKGGL          Nef           HIV-1   \n",
       "\n",
       "   vdjdb.score                                   cdr3_v_j  \n",
       "1            2  CASSYLPGQGDHYSNQPQHF_TRBV13*01_TRBJ1-5*01  \n",
       "2            2   CASSFEAGQGFFSNQPQHF_TRBV13*01_TRBJ1-5*01  \n",
       "4            2   CASSFEPGQGFYSNQPQHF_TRBV13*01_TRBJ1-5*01  \n",
       "6            2  CASSYEPGQVSHYSNQPQHF_TRBV13*01_TRBJ1-5*01  "
      ]
     },
     "execution_count": 10,
     "metadata": {},
     "output_type": "execute_result"
    }
   ],
   "source": [
    "dataset_beta.head(4)"
   ]
  },
  {
   "cell_type": "markdown",
   "id": "0b4d0f7e-c229-43fc-816c-5ecd7bdb8b3b",
   "metadata": {},
   "source": [
    "# Relationship Exploration "
   ]
  },
  {
   "cell_type": "markdown",
   "id": "05ae1e1d-d35c-4e47-8c07-c558b1fa5be4",
   "metadata": {},
   "source": [
    "## Dataset grouped on anitegen.epitoge, finding the count of cdr3_v_j"
   ]
  },
  {
   "cell_type": "code",
   "execution_count": 11,
   "id": "a9e553af-6dae-4ce0-ab5a-9a546b82f93a",
   "metadata": {},
   "outputs": [
    {
     "data": {
      "text/html": [
       "<div>\n",
       "<style scoped>\n",
       "    .dataframe tbody tr th:only-of-type {\n",
       "        vertical-align: middle;\n",
       "    }\n",
       "\n",
       "    .dataframe tbody tr th {\n",
       "        vertical-align: top;\n",
       "    }\n",
       "\n",
       "    .dataframe thead th {\n",
       "        text-align: right;\n",
       "    }\n",
       "</style>\n",
       "<table border=\"1\" class=\"dataframe\">\n",
       "  <thead>\n",
       "    <tr style=\"text-align: right;\">\n",
       "      <th></th>\n",
       "      <th>antigen.epitope</th>\n",
       "      <th>cdr3_v_j</th>\n",
       "      <th>count</th>\n",
       "    </tr>\n",
       "  </thead>\n",
       "  <tbody>\n",
       "    <tr>\n",
       "      <th>0</th>\n",
       "      <td>AAFKRSCLK</td>\n",
       "      <td>CAGAIPRDDKIIF_TRAV27*01_TRAJ30*01</td>\n",
       "      <td>1</td>\n",
       "    </tr>\n",
       "    <tr>\n",
       "      <th>1</th>\n",
       "      <td>AAFKRSCLK</td>\n",
       "      <td>CAGARNDYKLSF_TRAV25*01_TRAJ20*01</td>\n",
       "      <td>1</td>\n",
       "    </tr>\n",
       "    <tr>\n",
       "      <th>2</th>\n",
       "      <td>AAFKRSCLK</td>\n",
       "      <td>CALATHTGTASKLTF_TRAV38-1*01_TRAJ44*01</td>\n",
       "      <td>1</td>\n",
       "    </tr>\n",
       "    <tr>\n",
       "      <th>3</th>\n",
       "      <td>AAFKRSCLK</td>\n",
       "      <td>CASSLNPGRSDSPLHF_TRBV7-6*01_TRBJ2-1*01</td>\n",
       "      <td>1</td>\n",
       "    </tr>\n",
       "    <tr>\n",
       "      <th>4</th>\n",
       "      <td>AAFKRSCLK</td>\n",
       "      <td>CASSQDPGSSYNEQFF_TRBV4-3*01_TRBJ2-1*01</td>\n",
       "      <td>1</td>\n",
       "    </tr>\n",
       "  </tbody>\n",
       "</table>\n",
       "</div>"
      ],
      "text/plain": [
       "  antigen.epitope                                cdr3_v_j  count\n",
       "0       AAFKRSCLK       CAGAIPRDDKIIF_TRAV27*01_TRAJ30*01      1\n",
       "1       AAFKRSCLK        CAGARNDYKLSF_TRAV25*01_TRAJ20*01      1\n",
       "2       AAFKRSCLK   CALATHTGTASKLTF_TRAV38-1*01_TRAJ44*01      1\n",
       "3       AAFKRSCLK  CASSLNPGRSDSPLHF_TRBV7-6*01_TRBJ2-1*01      1\n",
       "4       AAFKRSCLK  CASSQDPGSSYNEQFF_TRBV4-3*01_TRBJ2-1*01      1"
      ]
     },
     "execution_count": 11,
     "metadata": {},
     "output_type": "execute_result"
    }
   ],
   "source": [
    "group_epitope_cdr3_v_j = dataset.groupby(['antigen.epitope','cdr3_v_j']).size().to_frame('count').reset_index()\n",
    "group_epitope_cdr3_v_j.head(5)"
   ]
  },
  {
   "cell_type": "markdown",
   "id": "74d330dc-dc03-4b42-9b98-5420976c4cbd",
   "metadata": {},
   "source": [
    "### Finding top 10 values"
   ]
  },
  {
   "cell_type": "code",
   "execution_count": 12,
   "id": "b6389582-26db-4225-83e8-84a89bf1c556",
   "metadata": {},
   "outputs": [],
   "source": [
    "group_epitope_cdr3_v_j.sort_values(['count'],ascending=False,inplace=True)\n",
    "group_epitope_cdr3_v_j.to_csv('Visualisation_Df/group_epitope_cdr3_v_j.csv',index=False)"
   ]
  },
  {
   "cell_type": "markdown",
   "id": "b73d5841-1edd-4c26-b20b-609f7d8b6a61",
   "metadata": {},
   "source": [
    "## Dataset grouped on species & anitegen.epitoge, finding the count of cdr3_v_j"
   ]
  },
  {
   "cell_type": "code",
   "execution_count": 13,
   "id": "74d1aa04-262d-4c1e-b967-704f635895c1",
   "metadata": {},
   "outputs": [],
   "source": [
    "group_epitope_species_cdr3_v_j = dataset.groupby(['antigen.epitope','species','cdr3_v_j']).size().to_frame('count').reset_index()"
   ]
  },
  {
   "cell_type": "markdown",
   "id": "906d17d5-0ec5-4f46-a4d4-1dd2f1bd6fc8",
   "metadata": {},
   "source": [
    "### Top 10 values"
   ]
  },
  {
   "cell_type": "code",
   "execution_count": 14,
   "id": "6ef1fb6e-78ce-4932-b38c-0709a1ad8a08",
   "metadata": {},
   "outputs": [],
   "source": [
    "group_epitope_species_cdr3_v_j.sort_values(['count','antigen.epitope'],ascending=False,inplace=True)"
   ]
  },
  {
   "cell_type": "code",
   "execution_count": 15,
   "id": "57e251d1-f866-4a60-a0cc-e2877c602e15",
   "metadata": {},
   "outputs": [
    {
     "name": "stderr",
     "output_type": "stream",
     "text": [
      "<ipython-input-15-9a52ab0b4f1e>:1: UserWarning: Boolean Series key will be reindexed to match DataFrame index.\n",
      "  len(group_epitope_species_cdr3_v_j.head(50)[group_epitope_species_cdr3_v_j['antigen.epitope'] == 'GILGFVFTL'])\n"
     ]
    },
    {
     "data": {
      "text/plain": [
       "17"
      ]
     },
     "execution_count": 15,
     "metadata": {},
     "output_type": "execute_result"
    }
   ],
   "source": [
    "len(group_epitope_species_cdr3_v_j.head(50)[group_epitope_species_cdr3_v_j['antigen.epitope'] == 'GILGFVFTL'])"
   ]
  },
  {
   "cell_type": "markdown",
   "id": "84590e1b-eef8-4426-8a3a-e7b4f0895c2e",
   "metadata": {},
   "source": [
    "## Count of most occurring CDR3_V_J combinations for each species"
   ]
  },
  {
   "cell_type": "code",
   "execution_count": 16,
   "id": "a6d2276e-f981-46a1-b82b-d34e4722616c",
   "metadata": {},
   "outputs": [],
   "source": [
    "count_of_cdr3_v_j_df = dataset.groupby(['cdr3_v_j','species']).size().to_frame('count').reset_index()"
   ]
  },
  {
   "cell_type": "code",
   "execution_count": 17,
   "id": "4755849e-f1de-4cea-aa58-68e849b4bbfb",
   "metadata": {},
   "outputs": [],
   "source": [
    "count_of_cdr3_v_j_df.sort_values(['count'],ascending=False,inplace=True)"
   ]
  },
  {
   "cell_type": "markdown",
   "id": "d5de86bd-596e-4380-b51c-d01f2be98f62",
   "metadata": {},
   "source": [
    "## Count of records for each species"
   ]
  },
  {
   "cell_type": "code",
   "execution_count": 18,
   "id": "07b6291c-4b45-4472-8b14-5fa63c6a6921",
   "metadata": {},
   "outputs": [],
   "source": [
    "count_of_species_df = dataset.groupby(['species']).size().to_frame('count').reset_index()"
   ]
  },
  {
   "cell_type": "code",
   "execution_count": 19,
   "id": "86bb541d-8bba-43f5-b145-39ea8d7bf36f",
   "metadata": {},
   "outputs": [
    {
     "data": {
      "text/html": [
       "<div>\n",
       "<style scoped>\n",
       "    .dataframe tbody tr th:only-of-type {\n",
       "        vertical-align: middle;\n",
       "    }\n",
       "\n",
       "    .dataframe tbody tr th {\n",
       "        vertical-align: top;\n",
       "    }\n",
       "\n",
       "    .dataframe thead th {\n",
       "        text-align: right;\n",
       "    }\n",
       "</style>\n",
       "<table border=\"1\" class=\"dataframe\">\n",
       "  <thead>\n",
       "    <tr style=\"text-align: right;\">\n",
       "      <th></th>\n",
       "      <th>species</th>\n",
       "      <th>count</th>\n",
       "    </tr>\n",
       "  </thead>\n",
       "  <tbody>\n",
       "    <tr>\n",
       "      <th>0</th>\n",
       "      <td>HomoSapiens</td>\n",
       "      <td>85329</td>\n",
       "    </tr>\n",
       "    <tr>\n",
       "      <th>1</th>\n",
       "      <td>MacacaMulatta</td>\n",
       "      <td>2119</td>\n",
       "    </tr>\n",
       "    <tr>\n",
       "      <th>2</th>\n",
       "      <td>MusMusculus</td>\n",
       "      <td>5323</td>\n",
       "    </tr>\n",
       "  </tbody>\n",
       "</table>\n",
       "</div>"
      ],
      "text/plain": [
       "         species  count\n",
       "0    HomoSapiens  85329\n",
       "1  MacacaMulatta   2119\n",
       "2    MusMusculus   5323"
      ]
     },
     "execution_count": 19,
     "metadata": {},
     "output_type": "execute_result"
    }
   ],
   "source": [
    "count_of_species_df"
   ]
  },
  {
   "cell_type": "markdown",
   "id": "ea54d7fa-4a53-471e-bbfe-a9bba9e8516e",
   "metadata": {},
   "source": [
    "## Count of records for each species and vdj_score"
   ]
  },
  {
   "cell_type": "code",
   "execution_count": 20,
   "id": "49da1d11-1af2-4281-9a53-56167fda0580",
   "metadata": {},
   "outputs": [],
   "source": [
    "count_of_species_vdj_df = dataset.groupby(['species','vdjdb.score']).size().to_frame('count').reset_index()\n",
    "count_of_species_vdj_df.to_csv('Visualisation_Df/count_of_species_vdj_df.csv',index=False)"
   ]
  },
  {
   "cell_type": "code",
   "execution_count": 21,
   "id": "cbd0999e-7bbf-4111-9363-bbf29a1be7a3",
   "metadata": {},
   "outputs": [
    {
     "data": {
      "image/png": "[encoded data removed]",
      "text/plain": [
       "<Figure size 864x576 with 1 Axes>"
      ]
     },
     "metadata": {
      "needs_background": "light"
     },
     "output_type": "display_data"
    }
   ],
   "source": [
    "import seaborn as sns\n",
    "import matplotlib.pyplot as plt\n",
    "# Create the bar plot\n",
    "plt.figure(figsize=(12, 8))\n",
    "sns.barplot(x='vdjdb.score', y='count', hue='species', data=count_of_species_vdj_df)\n",
    "plt.title('Bar Plot of VDJdb Score by Species')\n",
    "plt.xlabel('VDJdb Score')\n",
    "plt.ylabel('Count')\n",
    "\n",
    "# Save the plot as an image (PNG format by default)\n",
    "plt.savefig('Figures/Bar_Plot_of_VDJdb_Score_by_Species.png')\n",
    "\n",
    "plt.show()"
   ]
  },
  {
   "cell_type": "code",
   "execution_count": 22,
   "id": "783e1908-b721-4ef1-88bc-d81355d3e9e5",
   "metadata": {},
   "outputs": [
    {
     "data": {
      "text/html": [
       "<div>\n",
       "<style scoped>\n",
       "    .dataframe tbody tr th:only-of-type {\n",
       "        vertical-align: middle;\n",
       "    }\n",
       "\n",
       "    .dataframe tbody tr th {\n",
       "        vertical-align: top;\n",
       "    }\n",
       "\n",
       "    .dataframe thead th {\n",
       "        text-align: right;\n",
       "    }\n",
       "</style>\n",
       "<table border=\"1\" class=\"dataframe\">\n",
       "  <thead>\n",
       "    <tr style=\"text-align: right;\">\n",
       "      <th></th>\n",
       "      <th>species</th>\n",
       "      <th>vdjdb.score</th>\n",
       "      <th>count</th>\n",
       "    </tr>\n",
       "  </thead>\n",
       "  <tbody>\n",
       "    <tr>\n",
       "      <th>0</th>\n",
       "      <td>HomoSapiens</td>\n",
       "      <td>0</td>\n",
       "      <td>75747</td>\n",
       "    </tr>\n",
       "    <tr>\n",
       "      <th>1</th>\n",
       "      <td>HomoSapiens</td>\n",
       "      <td>1</td>\n",
       "      <td>5700</td>\n",
       "    </tr>\n",
       "    <tr>\n",
       "      <th>2</th>\n",
       "      <td>HomoSapiens</td>\n",
       "      <td>2</td>\n",
       "      <td>2280</td>\n",
       "    </tr>\n",
       "    <tr>\n",
       "      <th>3</th>\n",
       "      <td>HomoSapiens</td>\n",
       "      <td>3</td>\n",
       "      <td>1602</td>\n",
       "    </tr>\n",
       "    <tr>\n",
       "      <th>4</th>\n",
       "      <td>MacacaMulatta</td>\n",
       "      <td>0</td>\n",
       "      <td>1432</td>\n",
       "    </tr>\n",
       "    <tr>\n",
       "      <th>5</th>\n",
       "      <td>MacacaMulatta</td>\n",
       "      <td>1</td>\n",
       "      <td>687</td>\n",
       "    </tr>\n",
       "    <tr>\n",
       "      <th>6</th>\n",
       "      <td>MusMusculus</td>\n",
       "      <td>0</td>\n",
       "      <td>3178</td>\n",
       "    </tr>\n",
       "    <tr>\n",
       "      <th>7</th>\n",
       "      <td>MusMusculus</td>\n",
       "      <td>1</td>\n",
       "      <td>1942</td>\n",
       "    </tr>\n",
       "    <tr>\n",
       "      <th>8</th>\n",
       "      <td>MusMusculus</td>\n",
       "      <td>2</td>\n",
       "      <td>56</td>\n",
       "    </tr>\n",
       "    <tr>\n",
       "      <th>9</th>\n",
       "      <td>MusMusculus</td>\n",
       "      <td>3</td>\n",
       "      <td>147</td>\n",
       "    </tr>\n",
       "  </tbody>\n",
       "</table>\n",
       "</div>"
      ],
      "text/plain": [
       "         species  vdjdb.score  count\n",
       "0    HomoSapiens            0  75747\n",
       "1    HomoSapiens            1   5700\n",
       "2    HomoSapiens            2   2280\n",
       "3    HomoSapiens            3   1602\n",
       "4  MacacaMulatta            0   1432\n",
       "5  MacacaMulatta            1    687\n",
       "6    MusMusculus            0   3178\n",
       "7    MusMusculus            1   1942\n",
       "8    MusMusculus            2     56\n",
       "9    MusMusculus            3    147"
      ]
     },
     "execution_count": 22,
     "metadata": {},
     "output_type": "execute_result"
    }
   ],
   "source": [
    "count_of_species_vdj_df"
   ]
  },
  {
   "cell_type": "markdown",
   "id": "7005543a-ebdf-4082-9665-e7296160b195",
   "metadata": {},
   "source": [
    "---"
   ]
  },
  {
   "cell_type": "markdown",
   "id": "0868bb25-b75e-4e45-a08c-041044c34949",
   "metadata": {},
   "source": [
    "## Can one CDR3 find more than 1 Epitope?\n",
    "\n",
    "Yes"
   ]
  },
  {
   "cell_type": "code",
   "execution_count": 23,
   "id": "6c0dfaa8-cad2-4b4a-9f28-1fac6c428808",
   "metadata": {},
   "outputs": [],
   "source": [
    "group_cdr3_antigen = dataset.groupby(['cdr3'])['antigen.epitope'].unique().to_frame('antigen_found').reset_index()"
   ]
  },
  {
   "cell_type": "code",
   "execution_count": 24,
   "id": "ee782348-4683-45e5-a7bd-bc4c353cc003",
   "metadata": {
    "tags": []
   },
   "outputs": [],
   "source": [
    "cdr3_found = []\n",
    "for index,row in group_cdr3_antigen.iterrows():\n",
    "    if len(row[1]) > 1:\n",
    "        cdr3_found.append([row[0],len(row[1])])\n",
    "#         print(row)\n",
    " "
   ]
  },
  {
   "cell_type": "code",
   "execution_count": 25,
   "id": "014bf914-e903-49e1-bf2a-695cffaacd2e",
   "metadata": {},
   "outputs": [
    {
     "data": {
      "text/plain": [
       "[['CAAADNYGQNFVF', 3],\n",
       " ['CAAAETSYDKVIF', 5],\n",
       " ['CAAALNTNAGKSTF', 2],\n",
       " ['CAAANSGTYQRF', 2],\n",
       " ['CAAARDDKIIF', 3],\n",
       " ['CAAARMDSSYKLIF', 5],\n",
       " ['CAAASSGSWQLIF', 2],\n",
       " ['CAAATSSGQKLVF', 2],\n",
       " ['CAADDGRLMF', 2],\n",
       " ['CAADGGATNKLIF', 2]]"
      ]
     },
     "execution_count": 25,
     "metadata": {},
     "output_type": "execute_result"
    }
   ],
   "source": [
    "cdr3_found[:10]"
   ]
  },
  {
   "cell_type": "markdown",
   "id": "53590c71-aca2-4276-8683-6af3e60cf367",
   "metadata": {},
   "source": [
    "## Can one epitope find more than 1 CDR3?\n",
    "\n",
    "Yes"
   ]
  },
  {
   "cell_type": "code",
   "execution_count": 26,
   "id": "1e56f1cb-8dba-4fc6-a798-6eab5036e79b",
   "metadata": {},
   "outputs": [],
   "source": [
    "group_antigen_cdr3 = dataset.groupby(['antigen.epitope'])['cdr3'].unique().to_frame('cdr3_found').reset_index()"
   ]
  },
  {
   "cell_type": "code",
   "execution_count": 27,
   "id": "4a0be0e0-b97e-4de5-9607-29462a73d76a",
   "metadata": {},
   "outputs": [],
   "source": [
    "group_antigen_cdr3['cdr3_found_count'] = group_antigen_cdr3['cdr3_found'].apply(lambda x:len(x))"
   ]
  },
  {
   "cell_type": "code",
   "execution_count": 28,
   "id": "8022930c-3236-48b2-9eee-53d9d1c0a43f",
   "metadata": {},
   "outputs": [],
   "source": [
    "group_antigen_cdr3.sort_values(by=['cdr3_found_count'],ascending=False,inplace=True)"
   ]
  },
  {
   "cell_type": "code",
   "execution_count": 29,
   "id": "3aa1c8cf-7545-4b09-ba56-8ed3fa296048",
   "metadata": {},
   "outputs": [
    {
     "data": {
      "text/html": [
       "<div>\n",
       "<style scoped>\n",
       "    .dataframe tbody tr th:only-of-type {\n",
       "        vertical-align: middle;\n",
       "    }\n",
       "\n",
       "    .dataframe tbody tr th {\n",
       "        vertical-align: top;\n",
       "    }\n",
       "\n",
       "    .dataframe thead th {\n",
       "        text-align: right;\n",
       "    }\n",
       "</style>\n",
       "<table border=\"1\" class=\"dataframe\">\n",
       "  <thead>\n",
       "    <tr style=\"text-align: right;\">\n",
       "      <th></th>\n",
       "      <th>antigen.epitope</th>\n",
       "      <th>cdr3_found</th>\n",
       "      <th>cdr3_found_count</th>\n",
       "    </tr>\n",
       "  </thead>\n",
       "  <tbody>\n",
       "    <tr>\n",
       "      <th>412</th>\n",
       "      <td>KGYVYQGL</td>\n",
       "      <td>[CASSSGVGTEVFF, CASSLGTGTEVFF, CASSPGTGVEQYF, ...</td>\n",
       "      <td>9</td>\n",
       "    </tr>\n",
       "    <tr>\n",
       "      <th>193</th>\n",
       "      <td>FLGKIWPSHK</td>\n",
       "      <td>[CASSFTSGTDTQYF, CASSYVGGDGYTF, CASSLAAGGDEQYF...</td>\n",
       "      <td>9</td>\n",
       "    </tr>\n",
       "    <tr>\n",
       "      <th>612</th>\n",
       "      <td>MLAKALRKV</td>\n",
       "      <td>[CAGPIGTSYDKVIF, CASSSAHYGYTF, CAASDDNYGQNFVF,...</td>\n",
       "      <td>9</td>\n",
       "    </tr>\n",
       "    <tr>\n",
       "      <th>326</th>\n",
       "      <td>HMTEVVRHC</td>\n",
       "      <td>[CAMSGLKEDSSYKLIF, CASSIQQGADTQYF, CVVQPGGYQKV...</td>\n",
       "      <td>9</td>\n",
       "    </tr>\n",
       "    <tr>\n",
       "      <th>1</th>\n",
       "      <td>AAGIGILTV</td>\n",
       "      <td>[CAVNFGGGKLIF, CASSLSFGTEAFF, CAGGTGNQFYF, CAI...</td>\n",
       "      <td>9</td>\n",
       "    </tr>\n",
       "    <tr>\n",
       "      <th>...</th>\n",
       "      <td>...</td>\n",
       "      <td>...</td>\n",
       "      <td>...</td>\n",
       "    </tr>\n",
       "    <tr>\n",
       "      <th>351</th>\n",
       "      <td>IIWFLLLSV</td>\n",
       "      <td>[CASSLRSMNTEAFF]</td>\n",
       "      <td>1</td>\n",
       "    </tr>\n",
       "    <tr>\n",
       "      <th>632</th>\n",
       "      <td>MPLKAPKEV</td>\n",
       "      <td>[CASTLTPNTEAFF]</td>\n",
       "      <td>1</td>\n",
       "    </tr>\n",
       "    <tr>\n",
       "      <th>347</th>\n",
       "      <td>IIFWFSLEL</td>\n",
       "      <td>[CASSLTGTKNNEQFF]</td>\n",
       "      <td>1</td>\n",
       "    </tr>\n",
       "    <tr>\n",
       "      <th>168</th>\n",
       "      <td>FFSYFAVHF</td>\n",
       "      <td>[CASNPSRGGVTGELFF]</td>\n",
       "      <td>1</td>\n",
       "    </tr>\n",
       "    <tr>\n",
       "      <th>530</th>\n",
       "      <td>LLVDLAEEL</td>\n",
       "      <td>[CASSPSLGSSYEQYF]</td>\n",
       "      <td>1</td>\n",
       "    </tr>\n",
       "  </tbody>\n",
       "</table>\n",
       "<p>902 rows × 3 columns</p>\n",
       "</div>"
      ],
      "text/plain": [
       "    antigen.epitope                                         cdr3_found  \\\n",
       "412        KGYVYQGL  [CASSSGVGTEVFF, CASSLGTGTEVFF, CASSPGTGVEQYF, ...   \n",
       "193      FLGKIWPSHK  [CASSFTSGTDTQYF, CASSYVGGDGYTF, CASSLAAGGDEQYF...   \n",
       "612       MLAKALRKV  [CAGPIGTSYDKVIF, CASSSAHYGYTF, CAASDDNYGQNFVF,...   \n",
       "326       HMTEVVRHC  [CAMSGLKEDSSYKLIF, CASSIQQGADTQYF, CVVQPGGYQKV...   \n",
       "1         AAGIGILTV  [CAVNFGGGKLIF, CASSLSFGTEAFF, CAGGTGNQFYF, CAI...   \n",
       "..              ...                                                ...   \n",
       "351       IIWFLLLSV                                   [CASSLRSMNTEAFF]   \n",
       "632       MPLKAPKEV                                    [CASTLTPNTEAFF]   \n",
       "347       IIFWFSLEL                                  [CASSLTGTKNNEQFF]   \n",
       "168       FFSYFAVHF                                 [CASNPSRGGVTGELFF]   \n",
       "530       LLVDLAEEL                                  [CASSPSLGSSYEQYF]   \n",
       "\n",
       "     cdr3_found_count  \n",
       "412                 9  \n",
       "193                 9  \n",
       "612                 9  \n",
       "326                 9  \n",
       "1                   9  \n",
       "..                ...  \n",
       "351                 1  \n",
       "632                 1  \n",
       "347                 1  \n",
       "168                 1  \n",
       "530                 1  \n",
       "\n",
       "[902 rows x 3 columns]"
      ]
     },
     "execution_count": 29,
     "metadata": {},
     "output_type": "execute_result"
    }
   ],
   "source": [
    "group_antigen_cdr3[group_antigen_cdr3['cdr3_found_count'] < 10]"
   ]
  },
  {
   "cell_type": "markdown",
   "id": "7120fadb-5a5f-407c-b9ac-65bc8ccf67f0",
   "metadata": {},
   "source": [
    "---"
   ]
  },
  {
   "cell_type": "code",
   "execution_count": 30,
   "id": "cc8e771d-e006-400f-92d8-831dd31ea1e0",
   "metadata": {},
   "outputs": [
    {
     "data": {
      "text/plain": [
       "gene\n",
       "TRA    38049\n",
       "TRB    54722\n",
       "dtype: int64"
      ]
     },
     "execution_count": 30,
     "metadata": {},
     "output_type": "execute_result"
    }
   ],
   "source": [
    "dataset.groupby(['gene']).size()"
   ]
  },
  {
   "cell_type": "markdown",
   "id": "9a768e3a-1dec-4638-9639-a29ab6908f66",
   "metadata": {},
   "source": [
    "---"
   ]
  },
  {
   "cell_type": "code",
   "execution_count": 31,
   "id": "56ef70be-493b-4c7d-b8a3-cc9dc184c6f7",
   "metadata": {},
   "outputs": [
    {
     "data": {
      "text/plain": [
       "mhc.class\n",
       "MHCI     88368\n",
       "MHCII     4403\n",
       "dtype: int64"
      ]
     },
     "execution_count": 31,
     "metadata": {},
     "output_type": "execute_result"
    }
   ],
   "source": [
    "dataset.groupby(['mhc.class']).size()"
   ]
  },
  {
   "cell_type": "markdown",
   "id": "dd22372e-881f-4cd3-9dd2-a29ef744ccab",
   "metadata": {},
   "source": [
    "---"
   ]
  },
  {
   "cell_type": "markdown",
   "id": "86f468eb-564c-449c-bbc1-e92c6be64e16",
   "metadata": {},
   "source": [
    "---"
   ]
  },
  {
   "cell_type": "markdown",
   "id": "52ab1a58-eddf-4d33-8b58-bbf4a46beb86",
   "metadata": {},
   "source": [
    "## How valueable is the different lengths of the CDR"
   ]
  },
  {
   "cell_type": "code",
   "execution_count": 138,
   "id": "9f707c44-618a-4bc9-acbd-b54ff6c82686",
   "metadata": {},
   "outputs": [],
   "source": [
    "sample_dataset = dataset[['cdr3','antigen.epitope','vdjdb.score','species','antigen.species','gene','mhc.class']]"
   ]
  },
  {
   "cell_type": "markdown",
   "id": "73bbfa4c-6dcb-44fd-98b1-a6f86dd07b10",
   "metadata": {},
   "source": [
    "#### Taking only beta chains of humans"
   ]
  },
  {
   "cell_type": "code",
   "execution_count": 139,
   "id": "ddaa188c-f8fd-45e8-a86a-663cc3f13fe1",
   "metadata": {},
   "outputs": [],
   "source": [
    "sample_dataset = sample_dataset[(sample_dataset['gene'] == 'TRB') & (sample_dataset['species'] == 'HomoSapiens')]"
   ]
  },
  {
   "cell_type": "code",
   "execution_count": 140,
   "id": "2bda4d7c-1919-426a-a648-3d57f6e318af",
   "metadata": {},
   "outputs": [
    {
     "data": {
      "text/html": [
       "<div>\n",
       "<style scoped>\n",
       "    .dataframe tbody tr th:only-of-type {\n",
       "        vertical-align: middle;\n",
       "    }\n",
       "\n",
       "    .dataframe tbody tr th {\n",
       "        vertical-align: top;\n",
       "    }\n",
       "\n",
       "    .dataframe thead th {\n",
       "        text-align: right;\n",
       "    }\n",
       "</style>\n",
       "<table border=\"1\" class=\"dataframe\">\n",
       "  <thead>\n",
       "    <tr style=\"text-align: right;\">\n",
       "      <th></th>\n",
       "      <th>cdr3</th>\n",
       "      <th>antigen.epitope</th>\n",
       "      <th>vdjdb.score</th>\n",
       "      <th>species</th>\n",
       "      <th>antigen.species</th>\n",
       "      <th>gene</th>\n",
       "      <th>mhc.class</th>\n",
       "    </tr>\n",
       "  </thead>\n",
       "  <tbody>\n",
       "    <tr>\n",
       "      <th>1</th>\n",
       "      <td>CASSYLPGQGDHYSNQPQHF</td>\n",
       "      <td>FLKEKGGL</td>\n",
       "      <td>2</td>\n",
       "      <td>HomoSapiens</td>\n",
       "      <td>HIV-1</td>\n",
       "      <td>TRB</td>\n",
       "      <td>MHCI</td>\n",
       "    </tr>\n",
       "    <tr>\n",
       "      <th>2</th>\n",
       "      <td>CASSFEAGQGFFSNQPQHF</td>\n",
       "      <td>FLKEKGGL</td>\n",
       "      <td>2</td>\n",
       "      <td>HomoSapiens</td>\n",
       "      <td>HIV-1</td>\n",
       "      <td>TRB</td>\n",
       "      <td>MHCI</td>\n",
       "    </tr>\n",
       "    <tr>\n",
       "      <th>4</th>\n",
       "      <td>CASSFEPGQGFYSNQPQHF</td>\n",
       "      <td>FLKEKGGL</td>\n",
       "      <td>2</td>\n",
       "      <td>HomoSapiens</td>\n",
       "      <td>HIV-1</td>\n",
       "      <td>TRB</td>\n",
       "      <td>MHCI</td>\n",
       "    </tr>\n",
       "    <tr>\n",
       "      <th>6</th>\n",
       "      <td>CASSYEPGQVSHYSNQPQHF</td>\n",
       "      <td>FLKEKGGL</td>\n",
       "      <td>2</td>\n",
       "      <td>HomoSapiens</td>\n",
       "      <td>HIV-1</td>\n",
       "      <td>TRB</td>\n",
       "      <td>MHCI</td>\n",
       "    </tr>\n",
       "    <tr>\n",
       "      <th>8</th>\n",
       "      <td>CASSALASLNEQFF</td>\n",
       "      <td>FLKEKGGL</td>\n",
       "      <td>2</td>\n",
       "      <td>HomoSapiens</td>\n",
       "      <td>HIV-1</td>\n",
       "      <td>TRB</td>\n",
       "      <td>MHCI</td>\n",
       "    </tr>\n",
       "  </tbody>\n",
       "</table>\n",
       "</div>"
      ],
      "text/plain": [
       "                   cdr3 antigen.epitope  vdjdb.score      species  \\\n",
       "1  CASSYLPGQGDHYSNQPQHF        FLKEKGGL            2  HomoSapiens   \n",
       "2   CASSFEAGQGFFSNQPQHF        FLKEKGGL            2  HomoSapiens   \n",
       "4   CASSFEPGQGFYSNQPQHF        FLKEKGGL            2  HomoSapiens   \n",
       "6  CASSYEPGQVSHYSNQPQHF        FLKEKGGL            2  HomoSapiens   \n",
       "8        CASSALASLNEQFF        FLKEKGGL            2  HomoSapiens   \n",
       "\n",
       "  antigen.species gene mhc.class  \n",
       "1           HIV-1  TRB      MHCI  \n",
       "2           HIV-1  TRB      MHCI  \n",
       "4           HIV-1  TRB      MHCI  \n",
       "6           HIV-1  TRB      MHCI  \n",
       "8           HIV-1  TRB      MHCI  "
      ]
     },
     "execution_count": 140,
     "metadata": {},
     "output_type": "execute_result"
    }
   ],
   "source": [
    "sample_dataset.head(5)"
   ]
  },
  {
   "cell_type": "markdown",
   "id": "37de6eac-1902-43ff-a5d4-2574f83ac551",
   "metadata": {},
   "source": [
    "### Creating subset for positive and negative sampling"
   ]
  },
  {
   "cell_type": "code",
   "execution_count": 141,
   "id": "65c74c53-1f6a-4862-8c8c-1f1841daf253",
   "metadata": {},
   "outputs": [],
   "source": [
    "# positive = sample_dataset[sample_dataset['vdjdb.score'] > 1]\n",
    "# negative = sample_dataset[sample_dataset['vdjdb.score'] < 2]"
   ]
  },
  {
   "cell_type": "markdown",
   "id": "e5218e6d-437f-4eb7-988d-cc0fd05f2998",
   "metadata": {},
   "source": [
    "### Removing Duplicates"
   ]
  },
  {
   "cell_type": "code",
   "execution_count": 142,
   "id": "e669bf53-8202-49d0-9eec-0f5c7a0abbf7",
   "metadata": {},
   "outputs": [
    {
     "data": {
      "text/plain": [
       "Index(['cdr3', 'antigen.epitope', 'vdjdb.score', 'species', 'antigen.species',\n",
       "       'gene', 'mhc.class'],\n",
       "      dtype='object')"
      ]
     },
     "execution_count": 142,
     "metadata": {},
     "output_type": "execute_result"
    }
   ],
   "source": [
    "sample_dataset.columns"
   ]
  },
  {
   "cell_type": "code",
   "execution_count": 143,
   "id": "2a019de2-e589-4dbe-b610-1f935a1a09f3",
   "metadata": {},
   "outputs": [
    {
     "data": {
      "text/plain": [
       "Int64Index([   30,    31,    33,    37,   104,   154,   171,   221,   233,\n",
       "              398,\n",
       "            ...\n",
       "            92726, 92728, 92732, 92734, 92738, 92746, 92750, 92752, 92754,\n",
       "            92756],\n",
       "           dtype='int64', length=7824)"
      ]
     },
     "execution_count": 143,
     "metadata": {},
     "output_type": "execute_result"
    }
   ],
   "source": [
    "duplicate_indexes = sample_dataset[sample_dataset.duplicated(keep='last')].index\n",
    "duplicate_indexes"
   ]
  },
  {
   "cell_type": "code",
   "execution_count": 144,
   "id": "dd5ad769-e54a-4088-9220-1b5f01338f72",
   "metadata": {},
   "outputs": [],
   "source": [
    "sample_dataset.drop(index=duplicate_indexes,inplace=True)"
   ]
  },
  {
   "cell_type": "code",
   "execution_count": 145,
   "id": "33eabd9e-99c4-4b82-8187-502460013d9d",
   "metadata": {},
   "outputs": [
    {
     "data": {
      "text/html": [
       "<div>\n",
       "<style scoped>\n",
       "    .dataframe tbody tr th:only-of-type {\n",
       "        vertical-align: middle;\n",
       "    }\n",
       "\n",
       "    .dataframe tbody tr th {\n",
       "        vertical-align: top;\n",
       "    }\n",
       "\n",
       "    .dataframe thead th {\n",
       "        text-align: right;\n",
       "    }\n",
       "</style>\n",
       "<table border=\"1\" class=\"dataframe\">\n",
       "  <thead>\n",
       "    <tr style=\"text-align: right;\">\n",
       "      <th></th>\n",
       "      <th>cdr3</th>\n",
       "      <th>antigen.epitope</th>\n",
       "      <th>vdjdb.score</th>\n",
       "      <th>species</th>\n",
       "      <th>antigen.species</th>\n",
       "      <th>gene</th>\n",
       "      <th>mhc.class</th>\n",
       "    </tr>\n",
       "  </thead>\n",
       "  <tbody>\n",
       "    <tr>\n",
       "      <th>1</th>\n",
       "      <td>CASSYLPGQGDHYSNQPQHF</td>\n",
       "      <td>FLKEKGGL</td>\n",
       "      <td>2</td>\n",
       "      <td>HomoSapiens</td>\n",
       "      <td>HIV-1</td>\n",
       "      <td>TRB</td>\n",
       "      <td>MHCI</td>\n",
       "    </tr>\n",
       "    <tr>\n",
       "      <th>2</th>\n",
       "      <td>CASSFEAGQGFFSNQPQHF</td>\n",
       "      <td>FLKEKGGL</td>\n",
       "      <td>2</td>\n",
       "      <td>HomoSapiens</td>\n",
       "      <td>HIV-1</td>\n",
       "      <td>TRB</td>\n",
       "      <td>MHCI</td>\n",
       "    </tr>\n",
       "    <tr>\n",
       "      <th>4</th>\n",
       "      <td>CASSFEPGQGFYSNQPQHF</td>\n",
       "      <td>FLKEKGGL</td>\n",
       "      <td>2</td>\n",
       "      <td>HomoSapiens</td>\n",
       "      <td>HIV-1</td>\n",
       "      <td>TRB</td>\n",
       "      <td>MHCI</td>\n",
       "    </tr>\n",
       "    <tr>\n",
       "      <th>6</th>\n",
       "      <td>CASSYEPGQVSHYSNQPQHF</td>\n",
       "      <td>FLKEKGGL</td>\n",
       "      <td>2</td>\n",
       "      <td>HomoSapiens</td>\n",
       "      <td>HIV-1</td>\n",
       "      <td>TRB</td>\n",
       "      <td>MHCI</td>\n",
       "    </tr>\n",
       "    <tr>\n",
       "      <th>8</th>\n",
       "      <td>CASSALASLNEQFF</td>\n",
       "      <td>FLKEKGGL</td>\n",
       "      <td>2</td>\n",
       "      <td>HomoSapiens</td>\n",
       "      <td>HIV-1</td>\n",
       "      <td>TRB</td>\n",
       "      <td>MHCI</td>\n",
       "    </tr>\n",
       "    <tr>\n",
       "      <th>10</th>\n",
       "      <td>CASSYLPGQGDHYSNQPQHF</td>\n",
       "      <td>FLKEQGGL</td>\n",
       "      <td>2</td>\n",
       "      <td>HomoSapiens</td>\n",
       "      <td>HIV-1</td>\n",
       "      <td>TRB</td>\n",
       "      <td>MHCI</td>\n",
       "    </tr>\n",
       "    <tr>\n",
       "      <th>11</th>\n",
       "      <td>CASSFEAGQGFFSNQPQHF</td>\n",
       "      <td>FLKEQGGL</td>\n",
       "      <td>2</td>\n",
       "      <td>HomoSapiens</td>\n",
       "      <td>HIV-1</td>\n",
       "      <td>TRB</td>\n",
       "      <td>MHCI</td>\n",
       "    </tr>\n",
       "    <tr>\n",
       "      <th>13</th>\n",
       "      <td>CASSFEPGQGFYSNQPQHF</td>\n",
       "      <td>FLKEQGGL</td>\n",
       "      <td>2</td>\n",
       "      <td>HomoSapiens</td>\n",
       "      <td>HIV-1</td>\n",
       "      <td>TRB</td>\n",
       "      <td>MHCI</td>\n",
       "    </tr>\n",
       "    <tr>\n",
       "      <th>15</th>\n",
       "      <td>CASSYEPGQVSHYSNQPQHF</td>\n",
       "      <td>FLKEQGGL</td>\n",
       "      <td>2</td>\n",
       "      <td>HomoSapiens</td>\n",
       "      <td>HIV-1</td>\n",
       "      <td>TRB</td>\n",
       "      <td>MHCI</td>\n",
       "    </tr>\n",
       "    <tr>\n",
       "      <th>17</th>\n",
       "      <td>CASSYLPGQGDHYSNQPQHF</td>\n",
       "      <td>FLKETGGL</td>\n",
       "      <td>2</td>\n",
       "      <td>HomoSapiens</td>\n",
       "      <td>HIV-1</td>\n",
       "      <td>TRB</td>\n",
       "      <td>MHCI</td>\n",
       "    </tr>\n",
       "  </tbody>\n",
       "</table>\n",
       "</div>"
      ],
      "text/plain": [
       "                    cdr3 antigen.epitope  vdjdb.score      species  \\\n",
       "1   CASSYLPGQGDHYSNQPQHF        FLKEKGGL            2  HomoSapiens   \n",
       "2    CASSFEAGQGFFSNQPQHF        FLKEKGGL            2  HomoSapiens   \n",
       "4    CASSFEPGQGFYSNQPQHF        FLKEKGGL            2  HomoSapiens   \n",
       "6   CASSYEPGQVSHYSNQPQHF        FLKEKGGL            2  HomoSapiens   \n",
       "8         CASSALASLNEQFF        FLKEKGGL            2  HomoSapiens   \n",
       "10  CASSYLPGQGDHYSNQPQHF        FLKEQGGL            2  HomoSapiens   \n",
       "11   CASSFEAGQGFFSNQPQHF        FLKEQGGL            2  HomoSapiens   \n",
       "13   CASSFEPGQGFYSNQPQHF        FLKEQGGL            2  HomoSapiens   \n",
       "15  CASSYEPGQVSHYSNQPQHF        FLKEQGGL            2  HomoSapiens   \n",
       "17  CASSYLPGQGDHYSNQPQHF        FLKETGGL            2  HomoSapiens   \n",
       "\n",
       "   antigen.species gene mhc.class  \n",
       "1            HIV-1  TRB      MHCI  \n",
       "2            HIV-1  TRB      MHCI  \n",
       "4            HIV-1  TRB      MHCI  \n",
       "6            HIV-1  TRB      MHCI  \n",
       "8            HIV-1  TRB      MHCI  \n",
       "10           HIV-1  TRB      MHCI  \n",
       "11           HIV-1  TRB      MHCI  \n",
       "13           HIV-1  TRB      MHCI  \n",
       "15           HIV-1  TRB      MHCI  \n",
       "17           HIV-1  TRB      MHCI  "
      ]
     },
     "execution_count": 145,
     "metadata": {},
     "output_type": "execute_result"
    }
   ],
   "source": [
    "sample_dataset.head(10)"
   ]
  },
  {
   "cell_type": "markdown",
   "id": "31f6330f-9fdd-4fd7-891e-e8a63516100f",
   "metadata": {},
   "source": [
    "# CDR3 Lengths"
   ]
  },
  {
   "cell_type": "markdown",
   "id": "a75bae51-96a0-4ec5-a508-11c7a44fed00",
   "metadata": {},
   "source": [
    "## Adding column of length of CDR3 chain"
   ]
  },
  {
   "cell_type": "code",
   "execution_count": 146,
   "id": "497aba7f-f731-47bc-9dec-9f6a6bcc802c",
   "metadata": {},
   "outputs": [],
   "source": [
    "sample_dataset['CDR3_Length'] = sample_dataset.apply(lambda row: len(row['cdr3']),axis=1)"
   ]
  },
  {
   "cell_type": "code",
   "execution_count": 147,
   "id": "0aeed6e3-fc9a-4391-9854-4d240e4bb8a7",
   "metadata": {},
   "outputs": [],
   "source": [
    "cdr3_length_count = sample_dataset.groupby(by=['CDR3_Length']).size().to_frame('count_of_records').reset_index()"
   ]
  },
  {
   "cell_type": "code",
   "execution_count": 148,
   "id": "ab6931f2-8b95-477d-b0b1-faaddb2d8544",
   "metadata": {},
   "outputs": [
    {
     "data": {
      "image/png": "[encoded data removed]",
      "text/plain": [
       "<Figure size 720x432 with 1 Axes>"
      ]
     },
     "metadata": {
      "needs_background": "light"
     },
     "output_type": "display_data"
    }
   ],
   "source": [
    "# Plotting\n",
    "plt.figure(figsize=(10, 6))\n",
    "plt.bar(cdr3_length_count['CDR3_Length'], cdr3_length_count['count_of_records'], width=0.8, color='b')\n",
    "plt.xlabel('CDR3 Length')\n",
    "plt.ylabel('Count of Records')\n",
    "plt.title('Frequency Histogram of CDR3 Length')\n",
    "plt.grid(True)\n",
    "plt.show()"
   ]
  },
  {
   "cell_type": "code",
   "execution_count": 149,
   "id": "738b996f-26e5-4e46-bd34-8d8752e6e86b",
   "metadata": {},
   "outputs": [
    {
     "data": {
      "text/html": [
       "<div>\n",
       "<style scoped>\n",
       "    .dataframe tbody tr th:only-of-type {\n",
       "        vertical-align: middle;\n",
       "    }\n",
       "\n",
       "    .dataframe tbody tr th {\n",
       "        vertical-align: top;\n",
       "    }\n",
       "\n",
       "    .dataframe thead th {\n",
       "        text-align: right;\n",
       "    }\n",
       "</style>\n",
       "<table border=\"1\" class=\"dataframe\">\n",
       "  <thead>\n",
       "    <tr style=\"text-align: right;\">\n",
       "      <th></th>\n",
       "      <th>cdr3</th>\n",
       "      <th>antigen.epitope</th>\n",
       "      <th>vdjdb.score</th>\n",
       "      <th>species</th>\n",
       "      <th>antigen.species</th>\n",
       "      <th>gene</th>\n",
       "      <th>mhc.class</th>\n",
       "      <th>CDR3_Length</th>\n",
       "    </tr>\n",
       "  </thead>\n",
       "  <tbody>\n",
       "    <tr>\n",
       "      <th>1</th>\n",
       "      <td>CASSYLPGQGDHYSNQPQHF</td>\n",
       "      <td>FLKEKGGL</td>\n",
       "      <td>2</td>\n",
       "      <td>HomoSapiens</td>\n",
       "      <td>HIV-1</td>\n",
       "      <td>TRB</td>\n",
       "      <td>MHCI</td>\n",
       "      <td>20</td>\n",
       "    </tr>\n",
       "    <tr>\n",
       "      <th>2</th>\n",
       "      <td>CASSFEAGQGFFSNQPQHF</td>\n",
       "      <td>FLKEKGGL</td>\n",
       "      <td>2</td>\n",
       "      <td>HomoSapiens</td>\n",
       "      <td>HIV-1</td>\n",
       "      <td>TRB</td>\n",
       "      <td>MHCI</td>\n",
       "      <td>19</td>\n",
       "    </tr>\n",
       "    <tr>\n",
       "      <th>4</th>\n",
       "      <td>CASSFEPGQGFYSNQPQHF</td>\n",
       "      <td>FLKEKGGL</td>\n",
       "      <td>2</td>\n",
       "      <td>HomoSapiens</td>\n",
       "      <td>HIV-1</td>\n",
       "      <td>TRB</td>\n",
       "      <td>MHCI</td>\n",
       "      <td>19</td>\n",
       "    </tr>\n",
       "    <tr>\n",
       "      <th>6</th>\n",
       "      <td>CASSYEPGQVSHYSNQPQHF</td>\n",
       "      <td>FLKEKGGL</td>\n",
       "      <td>2</td>\n",
       "      <td>HomoSapiens</td>\n",
       "      <td>HIV-1</td>\n",
       "      <td>TRB</td>\n",
       "      <td>MHCI</td>\n",
       "      <td>20</td>\n",
       "    </tr>\n",
       "    <tr>\n",
       "      <th>8</th>\n",
       "      <td>CASSALASLNEQFF</td>\n",
       "      <td>FLKEKGGL</td>\n",
       "      <td>2</td>\n",
       "      <td>HomoSapiens</td>\n",
       "      <td>HIV-1</td>\n",
       "      <td>TRB</td>\n",
       "      <td>MHCI</td>\n",
       "      <td>14</td>\n",
       "    </tr>\n",
       "    <tr>\n",
       "      <th>10</th>\n",
       "      <td>CASSYLPGQGDHYSNQPQHF</td>\n",
       "      <td>FLKEQGGL</td>\n",
       "      <td>2</td>\n",
       "      <td>HomoSapiens</td>\n",
       "      <td>HIV-1</td>\n",
       "      <td>TRB</td>\n",
       "      <td>MHCI</td>\n",
       "      <td>20</td>\n",
       "    </tr>\n",
       "    <tr>\n",
       "      <th>11</th>\n",
       "      <td>CASSFEAGQGFFSNQPQHF</td>\n",
       "      <td>FLKEQGGL</td>\n",
       "      <td>2</td>\n",
       "      <td>HomoSapiens</td>\n",
       "      <td>HIV-1</td>\n",
       "      <td>TRB</td>\n",
       "      <td>MHCI</td>\n",
       "      <td>19</td>\n",
       "    </tr>\n",
       "    <tr>\n",
       "      <th>13</th>\n",
       "      <td>CASSFEPGQGFYSNQPQHF</td>\n",
       "      <td>FLKEQGGL</td>\n",
       "      <td>2</td>\n",
       "      <td>HomoSapiens</td>\n",
       "      <td>HIV-1</td>\n",
       "      <td>TRB</td>\n",
       "      <td>MHCI</td>\n",
       "      <td>19</td>\n",
       "    </tr>\n",
       "    <tr>\n",
       "      <th>15</th>\n",
       "      <td>CASSYEPGQVSHYSNQPQHF</td>\n",
       "      <td>FLKEQGGL</td>\n",
       "      <td>2</td>\n",
       "      <td>HomoSapiens</td>\n",
       "      <td>HIV-1</td>\n",
       "      <td>TRB</td>\n",
       "      <td>MHCI</td>\n",
       "      <td>20</td>\n",
       "    </tr>\n",
       "    <tr>\n",
       "      <th>17</th>\n",
       "      <td>CASSYLPGQGDHYSNQPQHF</td>\n",
       "      <td>FLKETGGL</td>\n",
       "      <td>2</td>\n",
       "      <td>HomoSapiens</td>\n",
       "      <td>HIV-1</td>\n",
       "      <td>TRB</td>\n",
       "      <td>MHCI</td>\n",
       "      <td>20</td>\n",
       "    </tr>\n",
       "  </tbody>\n",
       "</table>\n",
       "</div>"
      ],
      "text/plain": [
       "                    cdr3 antigen.epitope  vdjdb.score      species  \\\n",
       "1   CASSYLPGQGDHYSNQPQHF        FLKEKGGL            2  HomoSapiens   \n",
       "2    CASSFEAGQGFFSNQPQHF        FLKEKGGL            2  HomoSapiens   \n",
       "4    CASSFEPGQGFYSNQPQHF        FLKEKGGL            2  HomoSapiens   \n",
       "6   CASSYEPGQVSHYSNQPQHF        FLKEKGGL            2  HomoSapiens   \n",
       "8         CASSALASLNEQFF        FLKEKGGL            2  HomoSapiens   \n",
       "10  CASSYLPGQGDHYSNQPQHF        FLKEQGGL            2  HomoSapiens   \n",
       "11   CASSFEAGQGFFSNQPQHF        FLKEQGGL            2  HomoSapiens   \n",
       "13   CASSFEPGQGFYSNQPQHF        FLKEQGGL            2  HomoSapiens   \n",
       "15  CASSYEPGQVSHYSNQPQHF        FLKEQGGL            2  HomoSapiens   \n",
       "17  CASSYLPGQGDHYSNQPQHF        FLKETGGL            2  HomoSapiens   \n",
       "\n",
       "   antigen.species gene mhc.class  CDR3_Length  \n",
       "1            HIV-1  TRB      MHCI           20  \n",
       "2            HIV-1  TRB      MHCI           19  \n",
       "4            HIV-1  TRB      MHCI           19  \n",
       "6            HIV-1  TRB      MHCI           20  \n",
       "8            HIV-1  TRB      MHCI           14  \n",
       "10           HIV-1  TRB      MHCI           20  \n",
       "11           HIV-1  TRB      MHCI           19  \n",
       "13           HIV-1  TRB      MHCI           19  \n",
       "15           HIV-1  TRB      MHCI           20  \n",
       "17           HIV-1  TRB      MHCI           20  "
      ]
     },
     "execution_count": 149,
     "metadata": {},
     "output_type": "execute_result"
    }
   ],
   "source": [
    "sample_dataset.head(10)"
   ]
  },
  {
   "cell_type": "code",
   "execution_count": 150,
   "id": "8ff9e25a-1ee6-4f41-a65f-0dd78e676391",
   "metadata": {},
   "outputs": [],
   "source": [
    "## Remove rows which have CDR3 lengths < 10 or > 20\n",
    "sample_dataset = sample_dataset[(sample_dataset['CDR3_Length'] >= 10) & (sample_dataset['CDR3_Length'] <= 20)]"
   ]
  },
  {
   "cell_type": "markdown",
   "id": "fa483dbb-8f6b-4a9e-8221-614a5bcb5388",
   "metadata": {},
   "source": [
    "## Finding Epitope Lengths"
   ]
  },
  {
   "cell_type": "code",
   "execution_count": 151,
   "id": "95734bd4-6fed-4b7e-8e92-a632eb531e13",
   "metadata": {},
   "outputs": [],
   "source": [
    "sample_dataset['Epitope_Length'] = sample_dataset.apply(lambda row: len(row['antigen.epitope']),axis=1)"
   ]
  },
  {
   "cell_type": "code",
   "execution_count": 152,
   "id": "b648dfe5-e360-4003-9767-3ee73896e586",
   "metadata": {},
   "outputs": [],
   "source": [
    "epitope_length_count = sample_dataset.groupby(by=['Epitope_Length']).size().to_frame('count_of_records').reset_index()"
   ]
  },
  {
   "cell_type": "code",
   "execution_count": 153,
   "id": "7bed4702-dcc0-4301-8b40-ff4109c79316",
   "metadata": {},
   "outputs": [
    {
     "data": {
      "image/png": "[encoded data removed]",
      "text/plain": [
       "<Figure size 720x432 with 1 Axes>"
      ]
     },
     "metadata": {
      "needs_background": "light"
     },
     "output_type": "display_data"
    }
   ],
   "source": [
    "# Plotting\n",
    "plt.figure(figsize=(10, 6))\n",
    "plt.bar(epitope_length_count['Epitope_Length'], epitope_length_count['count_of_records'], width=0.8, color='b')\n",
    "plt.xlabel('Epitope_Length')\n",
    "plt.ylabel('Count of Records')\n",
    "plt.title('Frequency Histogram of Epitope_Length')\n",
    "plt.grid(True)\n",
    "plt.show()"
   ]
  },
  {
   "cell_type": "markdown",
   "id": "cf4f9752-bd14-46d8-8500-0d09e4a318f7",
   "metadata": {},
   "source": [
    "## Taking only those epitopes which have 10 or more associated TCR sequences"
   ]
  },
  {
   "cell_type": "code",
   "execution_count": 154,
   "id": "5bab5d0c-1c64-40fc-be5d-9dacd3eab698",
   "metadata": {},
   "outputs": [],
   "source": [
    "group_antigen_cdr3 = sample_dataset.groupby(['antigen.epitope'])['cdr3'].unique().to_frame('cdr3_found').reset_index()"
   ]
  },
  {
   "cell_type": "code",
   "execution_count": 155,
   "id": "a49347bf-6241-4966-9dd2-43d04184b190",
   "metadata": {},
   "outputs": [],
   "source": [
    "group_antigen_cdr3['cdr3_found_count'] = group_antigen_cdr3['cdr3_found'].apply(lambda x:len(x))"
   ]
  },
  {
   "cell_type": "code",
   "execution_count": 156,
   "id": "e96848bc-eecf-47cf-8b30-79a0bc4a016b",
   "metadata": {},
   "outputs": [],
   "source": [
    "group_antigen_cdr3_count = group_antigen_cdr3.groupby(by=['cdr3_found_count']).size().to_frame('count').reset_index()"
   ]
  },
  {
   "cell_type": "code",
   "execution_count": 157,
   "id": "65aad5b1-d3d2-4831-9410-23afb7d9d972",
   "metadata": {},
   "outputs": [
    {
     "data": {
      "text/html": [
       "<div>\n",
       "<style scoped>\n",
       "    .dataframe tbody tr th:only-of-type {\n",
       "        vertical-align: middle;\n",
       "    }\n",
       "\n",
       "    .dataframe tbody tr th {\n",
       "        vertical-align: top;\n",
       "    }\n",
       "\n",
       "    .dataframe thead th {\n",
       "        text-align: right;\n",
       "    }\n",
       "</style>\n",
       "<table border=\"1\" class=\"dataframe\">\n",
       "  <thead>\n",
       "    <tr style=\"text-align: right;\">\n",
       "      <th></th>\n",
       "      <th>cdr3_found_count</th>\n",
       "      <th>count</th>\n",
       "    </tr>\n",
       "  </thead>\n",
       "  <tbody>\n",
       "    <tr>\n",
       "      <th>count</th>\n",
       "      <td>108.000000</td>\n",
       "      <td>108.000000</td>\n",
       "    </tr>\n",
       "    <tr>\n",
       "      <th>mean</th>\n",
       "      <td>341.277778</td>\n",
       "      <td>10.240741</td>\n",
       "    </tr>\n",
       "    <tr>\n",
       "      <th>std</th>\n",
       "      <td>1331.830957</td>\n",
       "      <td>47.892182</td>\n",
       "    </tr>\n",
       "    <tr>\n",
       "      <th>min</th>\n",
       "      <td>1.000000</td>\n",
       "      <td>1.000000</td>\n",
       "    </tr>\n",
       "    <tr>\n",
       "      <th>25%</th>\n",
       "      <td>27.750000</td>\n",
       "      <td>1.000000</td>\n",
       "    </tr>\n",
       "    <tr>\n",
       "      <th>50%</th>\n",
       "      <td>63.000000</td>\n",
       "      <td>1.000000</td>\n",
       "    </tr>\n",
       "    <tr>\n",
       "      <th>75%</th>\n",
       "      <td>155.250000</td>\n",
       "      <td>2.000000</td>\n",
       "    </tr>\n",
       "    <tr>\n",
       "      <th>max</th>\n",
       "      <td>12595.000000</td>\n",
       "      <td>450.000000</td>\n",
       "    </tr>\n",
       "  </tbody>\n",
       "</table>\n",
       "</div>"
      ],
      "text/plain": [
       "       cdr3_found_count       count\n",
       "count        108.000000  108.000000\n",
       "mean         341.277778   10.240741\n",
       "std         1331.830957   47.892182\n",
       "min            1.000000    1.000000\n",
       "25%           27.750000    1.000000\n",
       "50%           63.000000    1.000000\n",
       "75%          155.250000    2.000000\n",
       "max        12595.000000  450.000000"
      ]
     },
     "execution_count": 157,
     "metadata": {},
     "output_type": "execute_result"
    }
   ],
   "source": [
    "group_antigen_cdr3_count.describe()"
   ]
  },
  {
   "cell_type": "code",
   "execution_count": 158,
   "id": "a37bacf5-a25f-4590-afc6-7fc39c780dc9",
   "metadata": {},
   "outputs": [
    {
     "data": {
      "text/html": [
       "<div>\n",
       "<style scoped>\n",
       "    .dataframe tbody tr th:only-of-type {\n",
       "        vertical-align: middle;\n",
       "    }\n",
       "\n",
       "    .dataframe tbody tr th {\n",
       "        vertical-align: top;\n",
       "    }\n",
       "\n",
       "    .dataframe thead th {\n",
       "        text-align: right;\n",
       "    }\n",
       "</style>\n",
       "<table border=\"1\" class=\"dataframe\">\n",
       "  <thead>\n",
       "    <tr style=\"text-align: right;\">\n",
       "      <th></th>\n",
       "      <th>antigen.epitope</th>\n",
       "      <th>cdr3_found</th>\n",
       "      <th>cdr3_found_count</th>\n",
       "    </tr>\n",
       "  </thead>\n",
       "  <tbody>\n",
       "    <tr>\n",
       "      <th>0</th>\n",
       "      <td>AAFKRSCLK</td>\n",
       "      <td>[CASSQGFGANVLTF, CASVSGQGVSPLHF, CATSRDGAGLVNQ...</td>\n",
       "      <td>5</td>\n",
       "    </tr>\n",
       "    <tr>\n",
       "      <th>1</th>\n",
       "      <td>AAGIGILTV</td>\n",
       "      <td>[CASSLSFGTEAFF, CAISEVGVGQPQHF, CASSWSFGTEAFF,...</td>\n",
       "      <td>5</td>\n",
       "    </tr>\n",
       "  </tbody>\n",
       "</table>\n",
       "</div>"
      ],
      "text/plain": [
       "  antigen.epitope                                         cdr3_found  \\\n",
       "0       AAFKRSCLK  [CASSQGFGANVLTF, CASVSGQGVSPLHF, CATSRDGAGLVNQ...   \n",
       "1       AAGIGILTV  [CASSLSFGTEAFF, CAISEVGVGQPQHF, CASSWSFGTEAFF,...   \n",
       "\n",
       "   cdr3_found_count  \n",
       "0                 5  \n",
       "1                 5  "
      ]
     },
     "execution_count": 158,
     "metadata": {},
     "output_type": "execute_result"
    }
   ],
   "source": [
    "group_antigen_cdr3.head(2)"
   ]
  },
  {
   "cell_type": "code",
   "execution_count": 159,
   "id": "87a92fde-eafa-451a-9820-1443ea63265d",
   "metadata": {},
   "outputs": [],
   "source": [
    "antigen_needed_list = group_antigen_cdr3[group_antigen_cdr3['cdr3_found_count'] >= 10]['antigen.epitope']"
   ]
  },
  {
   "cell_type": "code",
   "execution_count": 160,
   "id": "dcea9a79-d36c-475a-9ce0-289e60d7f064",
   "metadata": {},
   "outputs": [
    {
     "data": {
      "text/plain": [
       "8      AIFYLITPV\n",
       "29     ALSKGVHFV\n",
       "33     ALWEIQQVV\n",
       "41     AMFWSVPTV\n",
       "62     ARMILMTHF\n",
       "64     ATDALMTGF\n",
       "65     ATDALMTGY\n",
       "71    AVFDRKSDAK\n",
       "77     AYAQKIFKI\n",
       "79     CINGVCWTV\n",
       "Name: antigen.epitope, dtype: object"
      ]
     },
     "execution_count": 160,
     "metadata": {},
     "output_type": "execute_result"
    }
   ],
   "source": [
    "antigen_needed_list[:10]"
   ]
  },
  {
   "cell_type": "markdown",
   "id": "1893e187-d96f-4138-beaa-d0b598d5dfb1",
   "metadata": {},
   "source": [
    "### Selecting only these epitopes"
   ]
  },
  {
   "cell_type": "code",
   "execution_count": 161,
   "id": "3de8e7a2-ba84-4c5d-9908-d168c3dcff2b",
   "metadata": {},
   "outputs": [],
   "source": [
    "sample_dataset = sample_dataset[sample_dataset['antigen.epitope'].isin(antigen_needed_list)]"
   ]
  },
  {
   "cell_type": "markdown",
   "id": "75bf637c-f089-43f8-8383-ca7d848044f9",
   "metadata": {},
   "source": [
    "## Checking for ambigous amino acids\n",
    "\n",
    "Taking only those TCR which have common (20) amino acids\n",
    "\n",
    "https://www.imgt.org/IMGTeducation/Aide-memoire/_UK/aminoacids/IMGTclasses.html\n",
    "Citation:  Citing this page: Pommié, C. et al., J. Mol. Recognit., 17, 17-32 (2004). PMID: 14872534 pdf "
   ]
  },
  {
   "cell_type": "code",
   "execution_count": 162,
   "id": "1441076d-51ee-4987-aedc-cb8292022bed",
   "metadata": {},
   "outputs": [],
   "source": [
    "amino_acids_df = pd.DataFrame([\n",
    "{\n",
    "\"name\": \"Alanine\",\n",
    "\"abbreviation\": \"Ala\",\n",
    "\"symbol\": \"A\",\n",
    "\"description\": \"A nonpolar, aliphatic amino acid.\"\n",
    "},\n",
    "{\n",
    "\"name\": \"Arginine\",\n",
    "\"abbreviation\": \"Arg\",\n",
    "\"symbol\": \"R\",\n",
    "\"description\": \"A positively charged, polar amino acid with a guanidino group.\"\n",
    "},\n",
    "{\n",
    "\"name\": \"Asparagine\",\n",
    "\"abbreviation\": \"Asn\",\n",
    "\"symbol\": \"N\",\n",
    "\"description\": \"A polar amino acid with an amide group.\"\n",
    "},\n",
    "{\n",
    "\"name\": \"Aspartic acid\",\n",
    "\"abbreviation\": \"Asp\",\n",
    "\"symbol\": \"D\",\n",
    "\"description\": \"A negatively charged, polar amino acid.\"\n",
    "},\n",
    "{\n",
    "\"name\": \"Cysteine\",\n",
    "\"abbreviation\": \"Cys\",\n",
    "\"symbol\": \"C\",\n",
    "\"description\": \"A polar amino acid that can form disulfide bridges.\"\n",
    "},\n",
    "{\n",
    "\"name\": \"Glutamic acid\",\n",
    "\"abbreviation\": \"Glu\",\n",
    "\"symbol\": \"E\",\n",
    "\"description\": \"A negatively charged, polar amino acid.\"\n",
    "},\n",
    "{\n",
    "\"name\": \"Glutamine\",\n",
    "\"abbreviation\": \"Gln\",\n",
    "\"symbol\": \"Q\",\n",
    "\"description\": \"A polar amino acid with an amide group.\"\n",
    "},\n",
    "{\n",
    "\"name\": \"Glycine\",\n",
    "\"abbreviation\": \"Gly\",\n",
    "\"symbol\": \"G\",\n",
    "\"description\": \"The smallest amino acid, often found in tight turns and bends.\"\n",
    "},\n",
    "{\n",
    "\"name\": \"Histidine\",\n",
    "\"abbreviation\": \"His\",\n",
    "\"symbol\": \"H\",\n",
    "\"description\": \"A weakly polar amino acid with an imidazole ring.\"\n",
    "},\n",
    "{\n",
    "\"name\": \"Isoleucine\",\n",
    "\"abbreviation\": \"Ile\",\n",
    "\"symbol\": \"I\",\n",
    "\"description\": \"A nonpolar, aliphatic amino acid.\"\n",
    "},\n",
    "{\n",
    "\"name\": \"Leucine\",\n",
    "\"abbreviation\": \"Leu\",\n",
    "\"symbol\": \"L\",\n",
    "\"description\": \"A nonpolar, aliphatic amino acid.\"\n",
    "},\n",
    "{\n",
    "\"name\": \"Lysine\",\n",
    "\"abbreviation\": \"Lys\",\n",
    "\"symbol\": \"K\",\n",
    "\"description\": \"A positively charged, polar amino acid with a long side chain.\"\n",
    "},\n",
    "{\n",
    "\"name\": \"Methionine\",\n",
    "\"abbreviation\": \"Met\",\n",
    "\"symbol\": \"M\",\n",
    "\"description\": \"A nonpolar amino acid with a sulfur-containing side chain.\"\n",
    "},\n",
    "{\n",
    "\"name\": \"Phenylalanine\",\n",
    "\"abbreviation\": \"Phe\",\n",
    "\"symbol\": \"F\",\n",
    "\"description\": \"A nonpolar amino acid with an aromatic ring.\"\n",
    "},\n",
    "{\n",
    "\"name\": \"Proline\",\n",
    "\"abbreviation\": \"Pro\",\n",
    "\"symbol\": \"P\",\n",
    "\"description\": \"A cyclic amino acid that introduces bends and kinks in protein structures.\"\n",
    "},\n",
    "{\n",
    "\"name\": \"Serine\",\n",
    "\"abbreviation\": \"Ser\",\n",
    "\"symbol\": \"S\",\n",
    "\"description\": \"A polar amino acid with a hydroxyl group.\"\n",
    "},\n",
    "{\n",
    "\"name\": \"Threonine\",\n",
    "\"abbreviation\": \"Thr\",\n",
    "\"symbol\": \"T\",\n",
    "\"description\": \"A polar amino acid with a hydroxyl group.\"\n",
    "},\n",
    "{\n",
    "\"name\": \"Tryptophan\",\n",
    "\"abbreviation\": \"Trp\",\n",
    "\"symbol\": \"W\",\n",
    "\"description\": \"A nonpolar amino acid with an aromatic indole ring.\"\n",
    "},\n",
    "{\n",
    "\"name\": \"Tyrosine\",\n",
    "\"abbreviation\": \"Tyr\",\n",
    "\"symbol\": \"Y\",\n",
    "\"description\": \"A polar amino acid with a phenol group.\"\n",
    "},\n",
    "{\n",
    "\"name\": \"Valine\",\n",
    "\"abbreviation\": \"Val\",\n",
    "\"symbol\": \"V\",\n",
    "\"description\": \"A nonpolar, aliphatic amino acid.\"\n",
    "}\n",
    "])"
   ]
  },
  {
   "cell_type": "code",
   "execution_count": 163,
   "id": "2b7d38f4-8720-41f8-a0e3-2ff17e961008",
   "metadata": {},
   "outputs": [],
   "source": [
    "amino_acids_symbols = list(amino_acids_df['symbol'])\n",
    "def filter_ambiguous_cdr3(row):\n",
    "    cdr3 = row['cdr3']\n",
    "    for amino_acid in cdr3:\n",
    "        if amino_acid not in amino_acids_symbols:\n",
    "            return 1\n",
    "    return 0        "
   ]
  },
  {
   "cell_type": "code",
   "execution_count": 164,
   "id": "840427fa-7b42-4929-87a2-dfbd57381256",
   "metadata": {},
   "outputs": [],
   "source": [
    "sample_dataset['ambiguous_cdr3s'] = sample_dataset.apply(filter_ambiguous_cdr3,axis=1)"
   ]
  },
  {
   "cell_type": "code",
   "execution_count": 165,
   "id": "2dcba3ed-0d6b-46e3-9db2-ce1382dcd7ab",
   "metadata": {},
   "outputs": [
    {
     "data": {
      "text/plain": [
       "array([0], dtype=int64)"
      ]
     },
     "execution_count": 165,
     "metadata": {},
     "output_type": "execute_result"
    }
   ],
   "source": [
    "sample_dataset['ambiguous_cdr3s'].unique()"
   ]
  },
  {
   "cell_type": "markdown",
   "id": "81b0a8a7-514b-461f-b2df-0d19cec55e50",
   "metadata": {},
   "source": [
    "There were no ambiguous CDRs found"
   ]
  },
  {
   "cell_type": "markdown",
   "id": "3231bcd8-b7a7-4225-91ca-e7bd423b14a1",
   "metadata": {},
   "source": [
    "## Finding which antigen.species have how many records for each vdjdb.score"
   ]
  },
  {
   "cell_type": "code",
   "execution_count": 166,
   "id": "8de96419-360d-4d61-8ab8-de89c5f0aca4",
   "metadata": {},
   "outputs": [],
   "source": [
    "graph_df = sample_dataset.groupby(['antigen.species','antigen.epitope','vdjdb.score']).size().to_frame('count').reset_index()"
   ]
  },
  {
   "cell_type": "markdown",
   "id": "8456a98f-a21a-4eac-ba2a-3ec230539719",
   "metadata": {},
   "source": [
    "#### We can see that not all antigen.species have records with all vdjdb.score"
   ]
  },
  {
   "cell_type": "code",
   "execution_count": 170,
   "id": "c4c149d5-76ab-4253-a7df-6e539b63b4e9",
   "metadata": {},
   "outputs": [
    {
     "data": {
      "text/html": [
       "<div>\n",
       "<style scoped>\n",
       "    .dataframe tbody tr th:only-of-type {\n",
       "        vertical-align: middle;\n",
       "    }\n",
       "\n",
       "    .dataframe tbody tr th {\n",
       "        vertical-align: top;\n",
       "    }\n",
       "\n",
       "    .dataframe thead th {\n",
       "        text-align: right;\n",
       "    }\n",
       "</style>\n",
       "<table border=\"1\" class=\"dataframe\">\n",
       "  <thead>\n",
       "    <tr style=\"text-align: right;\">\n",
       "      <th></th>\n",
       "      <th>antigen.species</th>\n",
       "      <th>antigen.epitope</th>\n",
       "      <th>vdjdb.score</th>\n",
       "      <th>count</th>\n",
       "    </tr>\n",
       "  </thead>\n",
       "  <tbody>\n",
       "    <tr>\n",
       "      <th>0</th>\n",
       "      <td>AdV</td>\n",
       "      <td>TDLGQNLLY</td>\n",
       "      <td>0</td>\n",
       "      <td>12</td>\n",
       "    </tr>\n",
       "    <tr>\n",
       "      <th>1</th>\n",
       "      <td>CMV</td>\n",
       "      <td>AYAQKIFKI</td>\n",
       "      <td>0</td>\n",
       "      <td>39</td>\n",
       "    </tr>\n",
       "    <tr>\n",
       "      <th>2</th>\n",
       "      <td>CMV</td>\n",
       "      <td>CRVLCCYVL</td>\n",
       "      <td>2</td>\n",
       "      <td>31</td>\n",
       "    </tr>\n",
       "    <tr>\n",
       "      <th>3</th>\n",
       "      <td>CMV</td>\n",
       "      <td>EHPTFTSQYRIQGKL</td>\n",
       "      <td>0</td>\n",
       "      <td>30</td>\n",
       "    </tr>\n",
       "    <tr>\n",
       "      <th>4</th>\n",
       "      <td>CMV</td>\n",
       "      <td>ELRRKMMYM</td>\n",
       "      <td>0</td>\n",
       "      <td>7</td>\n",
       "    </tr>\n",
       "    <tr>\n",
       "      <th>5</th>\n",
       "      <td>CMV</td>\n",
       "      <td>ELRRKMMYM</td>\n",
       "      <td>1</td>\n",
       "      <td>3</td>\n",
       "    </tr>\n",
       "    <tr>\n",
       "      <th>6</th>\n",
       "      <td>CMV</td>\n",
       "      <td>ELRRKMMYM</td>\n",
       "      <td>2</td>\n",
       "      <td>1</td>\n",
       "    </tr>\n",
       "    <tr>\n",
       "      <th>7</th>\n",
       "      <td>CMV</td>\n",
       "      <td>FPTKDVAL</td>\n",
       "      <td>1</td>\n",
       "      <td>10</td>\n",
       "    </tr>\n",
       "    <tr>\n",
       "      <th>8</th>\n",
       "      <td>CMV</td>\n",
       "      <td>FRCPRRFCF</td>\n",
       "      <td>2</td>\n",
       "      <td>10</td>\n",
       "    </tr>\n",
       "    <tr>\n",
       "      <th>9</th>\n",
       "      <td>CMV</td>\n",
       "      <td>IPSINVHHY</td>\n",
       "      <td>0</td>\n",
       "      <td>34</td>\n",
       "    </tr>\n",
       "  </tbody>\n",
       "</table>\n",
       "</div>"
      ],
      "text/plain": [
       "  antigen.species  antigen.epitope  vdjdb.score  count\n",
       "0             AdV        TDLGQNLLY            0     12\n",
       "1             CMV        AYAQKIFKI            0     39\n",
       "2             CMV        CRVLCCYVL            2     31\n",
       "3             CMV  EHPTFTSQYRIQGKL            0     30\n",
       "4             CMV        ELRRKMMYM            0      7\n",
       "5             CMV        ELRRKMMYM            1      3\n",
       "6             CMV        ELRRKMMYM            2      1\n",
       "7             CMV         FPTKDVAL            1     10\n",
       "8             CMV        FRCPRRFCF            2     10\n",
       "9             CMV        IPSINVHHY            0     34"
      ]
     },
     "execution_count": 170,
     "metadata": {},
     "output_type": "execute_result"
    }
   ],
   "source": [
    "graph_df.head(10)"
   ]
  },
  {
   "cell_type": "code",
   "execution_count": 171,
   "id": "797d04fb-a04a-4c52-a19c-c19eacd8c037",
   "metadata": {},
   "outputs": [
    {
     "data": {
      "image/png": "[encoded data removed]",
      "text/plain": [
       "<Figure size 1152x720 with 1 Axes>"
      ]
     },
     "metadata": {
      "needs_background": "light"
     },
     "output_type": "display_data"
    }
   ],
   "source": [
    "plt.figure(figsize=(16, 10))  # Set the figure size\n",
    "sns.barplot(x='antigen.species', y='count', hue='vdjdb.score', data=graph_df)\n",
    "plt.title('Count of Records for Each Species by VDJdb Score')\n",
    "plt.xlabel('Antigen Species')\n",
    "plt.ylabel('Count')\n",
    "plt.legend(title='VDJdb Score')\n",
    "plt.xticks(rotation=45, ha='right')\n",
    "plt.show()"
   ]
  },
  {
   "cell_type": "code",
   "execution_count": 177,
   "id": "bf34b132-f7a8-4b60-b426-a6232e6b7677",
   "metadata": {},
   "outputs": [],
   "source": [
    "scores_needed = {0, 1, 2, 3}\n",
    "species_with_all_scores = graph_df.groupby('antigen.species').apply(\n",
    "    lambda x: scores_needed.issubset(x['vdjdb.score'].unique()))"
   ]
  },
  {
   "cell_type": "code",
   "execution_count": 178,
   "id": "eea1e995-fbde-4cf1-980d-9f880d35d425",
   "metadata": {},
   "outputs": [],
   "source": [
    "species_to_plot = species_with_all_scores[species_with_all_scores].index"
   ]
  },
  {
   "cell_type": "code",
   "execution_count": 179,
   "id": "7a4f0838-7670-4611-8328-675248aca683",
   "metadata": {},
   "outputs": [],
   "source": [
    "filtered_df = graph_df[graph_df['antigen.species'].isin(species_to_plot)]"
   ]
  },
  {
   "cell_type": "markdown",
   "id": "e3804da2-955f-468c-a267-fdf5a9542f59",
   "metadata": {},
   "source": [
    "#### Removed species which don't have all vdjdb.score"
   ]
  },
  {
   "cell_type": "code",
   "execution_count": 180,
   "id": "fd5cefcf-2d8f-44df-9355-9ba19000631b",
   "metadata": {},
   "outputs": [],
   "source": [
    "sample_dataset = sample_dataset[sample_dataset['antigen.species'].isin(species_to_plot)]"
   ]
  },
  {
   "cell_type": "markdown",
   "id": "8c0ecfe2-39bc-4a11-bd07-35690708194e",
   "metadata": {},
   "source": [
    "## Assigning Negative and Positive Samples\n",
    "\n",
    "Records with VDJ score 0 and 1 are Negative samples while Score of 2 and 3 are positive samples"
   ]
  },
  {
   "cell_type": "code",
   "execution_count": 183,
   "id": "6fe7a384-90a4-4615-b2b3-260009ff37dd",
   "metadata": {},
   "outputs": [
    {
     "data": {
      "text/html": [
       "<div>\n",
       "<style scoped>\n",
       "    .dataframe tbody tr th:only-of-type {\n",
       "        vertical-align: middle;\n",
       "    }\n",
       "\n",
       "    .dataframe tbody tr th {\n",
       "        vertical-align: top;\n",
       "    }\n",
       "\n",
       "    .dataframe thead th {\n",
       "        text-align: right;\n",
       "    }\n",
       "</style>\n",
       "<table border=\"1\" class=\"dataframe\">\n",
       "  <thead>\n",
       "    <tr style=\"text-align: right;\">\n",
       "      <th></th>\n",
       "      <th>cdr3</th>\n",
       "      <th>antigen.epitope</th>\n",
       "      <th>vdjdb.score</th>\n",
       "      <th>species</th>\n",
       "      <th>antigen.species</th>\n",
       "      <th>gene</th>\n",
       "      <th>mhc.class</th>\n",
       "      <th>CDR3_Length</th>\n",
       "      <th>Epitope_Length</th>\n",
       "      <th>ambiguous_cdr3s</th>\n",
       "    </tr>\n",
       "  </thead>\n",
       "  <tbody>\n",
       "    <tr>\n",
       "      <th>1</th>\n",
       "      <td>CASSYLPGQGDHYSNQPQHF</td>\n",
       "      <td>FLKEKGGL</td>\n",
       "      <td>2</td>\n",
       "      <td>HomoSapiens</td>\n",
       "      <td>HIV-1</td>\n",
       "      <td>TRB</td>\n",
       "      <td>MHCI</td>\n",
       "      <td>20</td>\n",
       "      <td>8</td>\n",
       "      <td>0</td>\n",
       "    </tr>\n",
       "    <tr>\n",
       "      <th>2</th>\n",
       "      <td>CASSFEAGQGFFSNQPQHF</td>\n",
       "      <td>FLKEKGGL</td>\n",
       "      <td>2</td>\n",
       "      <td>HomoSapiens</td>\n",
       "      <td>HIV-1</td>\n",
       "      <td>TRB</td>\n",
       "      <td>MHCI</td>\n",
       "      <td>19</td>\n",
       "      <td>8</td>\n",
       "      <td>0</td>\n",
       "    </tr>\n",
       "    <tr>\n",
       "      <th>4</th>\n",
       "      <td>CASSFEPGQGFYSNQPQHF</td>\n",
       "      <td>FLKEKGGL</td>\n",
       "      <td>2</td>\n",
       "      <td>HomoSapiens</td>\n",
       "      <td>HIV-1</td>\n",
       "      <td>TRB</td>\n",
       "      <td>MHCI</td>\n",
       "      <td>19</td>\n",
       "      <td>8</td>\n",
       "      <td>0</td>\n",
       "    </tr>\n",
       "    <tr>\n",
       "      <th>6</th>\n",
       "      <td>CASSYEPGQVSHYSNQPQHF</td>\n",
       "      <td>FLKEKGGL</td>\n",
       "      <td>2</td>\n",
       "      <td>HomoSapiens</td>\n",
       "      <td>HIV-1</td>\n",
       "      <td>TRB</td>\n",
       "      <td>MHCI</td>\n",
       "      <td>20</td>\n",
       "      <td>8</td>\n",
       "      <td>0</td>\n",
       "    </tr>\n",
       "    <tr>\n",
       "      <th>8</th>\n",
       "      <td>CASSALASLNEQFF</td>\n",
       "      <td>FLKEKGGL</td>\n",
       "      <td>2</td>\n",
       "      <td>HomoSapiens</td>\n",
       "      <td>HIV-1</td>\n",
       "      <td>TRB</td>\n",
       "      <td>MHCI</td>\n",
       "      <td>14</td>\n",
       "      <td>8</td>\n",
       "      <td>0</td>\n",
       "    </tr>\n",
       "    <tr>\n",
       "      <th>57</th>\n",
       "      <td>CASSLGETQYF</td>\n",
       "      <td>LLQTGIHVRVSQPSL</td>\n",
       "      <td>0</td>\n",
       "      <td>HomoSapiens</td>\n",
       "      <td>CMV</td>\n",
       "      <td>TRB</td>\n",
       "      <td>MHCII</td>\n",
       "      <td>11</td>\n",
       "      <td>15</td>\n",
       "      <td>0</td>\n",
       "    </tr>\n",
       "    <tr>\n",
       "      <th>58</th>\n",
       "      <td>CASSLGSRAQETQYF</td>\n",
       "      <td>LLQTGIHVRVSQPSL</td>\n",
       "      <td>0</td>\n",
       "      <td>HomoSapiens</td>\n",
       "      <td>CMV</td>\n",
       "      <td>TRB</td>\n",
       "      <td>MHCII</td>\n",
       "      <td>15</td>\n",
       "      <td>15</td>\n",
       "      <td>0</td>\n",
       "    </tr>\n",
       "    <tr>\n",
       "      <th>59</th>\n",
       "      <td>CASSLGQSTQYF</td>\n",
       "      <td>LLQTGIHVRVSQPSL</td>\n",
       "      <td>0</td>\n",
       "      <td>HomoSapiens</td>\n",
       "      <td>CMV</td>\n",
       "      <td>TRB</td>\n",
       "      <td>MHCII</td>\n",
       "      <td>12</td>\n",
       "      <td>15</td>\n",
       "      <td>0</td>\n",
       "    </tr>\n",
       "    <tr>\n",
       "      <th>60</th>\n",
       "      <td>CASSLQGSRRQGQNEQYF</td>\n",
       "      <td>LLQTGIHVRVSQPSL</td>\n",
       "      <td>0</td>\n",
       "      <td>HomoSapiens</td>\n",
       "      <td>CMV</td>\n",
       "      <td>TRB</td>\n",
       "      <td>MHCII</td>\n",
       "      <td>18</td>\n",
       "      <td>15</td>\n",
       "      <td>0</td>\n",
       "    </tr>\n",
       "    <tr>\n",
       "      <th>61</th>\n",
       "      <td>CASSSQGGEGTEAFF</td>\n",
       "      <td>LLQTGIHVRVSQPSL</td>\n",
       "      <td>0</td>\n",
       "      <td>HomoSapiens</td>\n",
       "      <td>CMV</td>\n",
       "      <td>TRB</td>\n",
       "      <td>MHCII</td>\n",
       "      <td>15</td>\n",
       "      <td>15</td>\n",
       "      <td>0</td>\n",
       "    </tr>\n",
       "  </tbody>\n",
       "</table>\n",
       "</div>"
      ],
      "text/plain": [
       "                    cdr3  antigen.epitope  vdjdb.score      species  \\\n",
       "1   CASSYLPGQGDHYSNQPQHF         FLKEKGGL            2  HomoSapiens   \n",
       "2    CASSFEAGQGFFSNQPQHF         FLKEKGGL            2  HomoSapiens   \n",
       "4    CASSFEPGQGFYSNQPQHF         FLKEKGGL            2  HomoSapiens   \n",
       "6   CASSYEPGQVSHYSNQPQHF         FLKEKGGL            2  HomoSapiens   \n",
       "8         CASSALASLNEQFF         FLKEKGGL            2  HomoSapiens   \n",
       "57           CASSLGETQYF  LLQTGIHVRVSQPSL            0  HomoSapiens   \n",
       "58       CASSLGSRAQETQYF  LLQTGIHVRVSQPSL            0  HomoSapiens   \n",
       "59          CASSLGQSTQYF  LLQTGIHVRVSQPSL            0  HomoSapiens   \n",
       "60    CASSLQGSRRQGQNEQYF  LLQTGIHVRVSQPSL            0  HomoSapiens   \n",
       "61       CASSSQGGEGTEAFF  LLQTGIHVRVSQPSL            0  HomoSapiens   \n",
       "\n",
       "   antigen.species gene mhc.class  CDR3_Length  Epitope_Length  \\\n",
       "1            HIV-1  TRB      MHCI           20               8   \n",
       "2            HIV-1  TRB      MHCI           19               8   \n",
       "4            HIV-1  TRB      MHCI           19               8   \n",
       "6            HIV-1  TRB      MHCI           20               8   \n",
       "8            HIV-1  TRB      MHCI           14               8   \n",
       "57             CMV  TRB     MHCII           11              15   \n",
       "58             CMV  TRB     MHCII           15              15   \n",
       "59             CMV  TRB     MHCII           12              15   \n",
       "60             CMV  TRB     MHCII           18              15   \n",
       "61             CMV  TRB     MHCII           15              15   \n",
       "\n",
       "    ambiguous_cdr3s  \n",
       "1                 0  \n",
       "2                 0  \n",
       "4                 0  \n",
       "6                 0  \n",
       "8                 0  \n",
       "57                0  \n",
       "58                0  \n",
       "59                0  \n",
       "60                0  \n",
       "61                0  "
      ]
     },
     "execution_count": 183,
     "metadata": {},
     "output_type": "execute_result"
    }
   ],
   "source": [
    "sample_dataset.head(10)"
   ]
  },
  {
   "cell_type": "code",
   "execution_count": 184,
   "id": "e135c089-39a5-46bf-af3d-675acf2b3482",
   "metadata": {},
   "outputs": [],
   "source": [
    "sample_dataset.to_csv('./Prepared_Df/pre_processed_vdj_db.csv',index=False)"
   ]
  },
  {
   "cell_type": "markdown",
   "id": "b0001a2c-a6e3-4f5a-bf80-98c85f168a69",
   "metadata": {},
   "source": [
    "---"
   ]
  },
  {
   "cell_type": "markdown",
   "id": "acee340b-42e2-41aa-b6a3-5c08a0a824bd",
   "metadata": {},
   "source": [
    "### Encoding TCR and epitopes"
   ]
  },
  {
   "cell_type": "markdown",
   "id": "ad56099e-3bbb-4d76-803a-52dd2f776cf0",
   "metadata": {},
   "source": [
    "Using Blosum62 to encode the amino acid sequences"
   ]
  },
  {
   "cell_type": "code",
   "execution_count": 185,
   "id": "39c8a268-5401-4b4a-bd86-0593ed6c2e29",
   "metadata": {},
   "outputs": [],
   "source": [
    "# def encode_sequence(sequence, blosum_matrix):\n",
    "#     encoded_seq = []\n",
    "#     for acid in sequence:\n",
    "#         encoded_seq.append(blosum_matrix[acid])\n",
    "#     return encoded_seq\n",
    "\n",
    "# bl62={'A':[4,-1,-2,-2,0,-1,-1,0,-2,-1,-1,-1,-1,-2,-1,1,0,-3,-2,0],\n",
    "#       'R':[-1,4,0,-2,-3,1,0,-2,0,-3,-2,2,-1,-3,-2,-1,-1,-3,-2,-3],\n",
    "#       'N':[-2,0,4,1,-3,0,0,0,1,-3,-3,0,-2,-3,-2,1,0,-4,-2,-3],\n",
    "#       'D':[-2,-2,1,4,-3,0,2,-1,-1,-3,-4,-1,-3,-3,-1,0,-1,-4,-3,-3],\n",
    "#       'C':[0,-3,-3,-3,4,-3,-4,-3,-3,-1,-1,-3,-1,-2,-3,-1,-1,-2,-2,-1],\n",
    "#       'Q':[-1,1,0,0,-3,4,2,-2,0,-3,-2,1,0,-3,-1,0,-1,-2,-1,-2],\n",
    "#       'E':[-1,0,0,2,-4,2,4,-2,0,-3,-3,1,-2,-3,-1,0,-1,-3,-2,-2],\n",
    "#       'G':[0,-2,0,-1,-3,-2,-2,4,-2,-4,-4,-2,-3,-3,-2,0,-2,-2,-3,-3],\n",
    "#       'H':[-2,0,1,-1,-3,0,0,-2,4,-3,-3,-1,-2,-1,-2,-1,-2,-2,2,-3],\n",
    "#       'I':[-1,-3,-3,-3,-1,-3,-3,-4,-3,4,2,-3,1,0,-3,-2,-1,-3,-1,3],\n",
    "#       'L':[-1,-2,-3,-4,-1,-2,-3,-4,-3,2,4,-2,2,0,-3,-2,-1,-2,-1,1],\n",
    "#       'K':[-1,2,0,-1,-3,1,1,-2,-1,-3,-2,4,-1,-3,-1,0,-1,-3,-2,-2],\n",
    "#       'M':[-1,-1,-2,-3,-1,0,-2,-3,-2,1,2,-1,4,0,-2,-1,-1,-1,-1,1],\n",
    "#       'F':[-2,-3,-3,-3,-2,-3,-3,-3,-1,0,0,-3,0,4,-4,-2,-2,1,3,-1],\n",
    "#       'P':[-1,-2,-2,-1,-3,-1,-1,-2,-2,-3,-3,-1,-2,-4,4,-1,-1,-4,-3,-2],\n",
    "#       'S':[1,-1,1,0,-1,0,0,0,-1,-2,-2,0,-1,-2,-1,4,1,-3,-2,-2],\n",
    "#       'T':[0,-1,0,-1,-1,-1,-1,-2,-2,-1,-1,-1,-1,-2,-1,1,4,-2,-2,0],\n",
    "#       'W':[-3,-3,-4,-4,-2,-2,-3,-2,-2,-3,-2,-3,-1,1,-4,-3,-2,4,2,-3],\n",
    "#       'Y':[-2,-2,-2,-3,-2,-1,-2,-3,2,-1,-1,-2,-1,3,-3,-2,-2,2,4,-1],\n",
    "#       'V':[0,-3,-3,-3,-1,-2,-2,-3,-3,3,1,-2,1,-1,-2,-2,0,-3,-1,4]}\n",
    "\n",
    "# encoded_vectors = encode_sequence(sequence=\"CAISEYPPTGRKADTQYF\", blosum_matrix=bl62)\n",
    "\n",
    "# import numpy as np\n",
    "# print(np.ravel(encoded_vectors))"
   ]
  },
  {
   "cell_type": "markdown",
   "id": "81d66cef-5015-4620-9122-789534cd8772",
   "metadata": {},
   "source": [
    "Using Pandas Categorical to encode the columns"
   ]
  },
  {
   "cell_type": "code",
   "execution_count": 186,
   "id": "f8a79434-106c-47f8-a18b-12aceb3027c7",
   "metadata": {},
   "outputs": [
    {
     "data": {
      "text/plain": [
       "Index(['cdr3', 'antigen.epitope', 'vdjdb.score', 'species', 'antigen.species',\n",
       "       'gene', 'mhc.class', 'CDR3_Length', 'Epitope_Length',\n",
       "       'ambiguous_cdr3s'],\n",
       "      dtype='object')"
      ]
     },
     "execution_count": 186,
     "metadata": {},
     "output_type": "execute_result"
    }
   ],
   "source": [
    "sample_dataset.columns"
   ]
  },
  {
   "cell_type": "code",
   "execution_count": 187,
   "id": "9c76c309-183c-4e3b-a4da-390677dca119",
   "metadata": {},
   "outputs": [],
   "source": [
    "model_df = sample_dataset[['cdr3','antigen.species','mhc.class','antigen.epitope','vdjdb.score']]"
   ]
  },
  {
   "cell_type": "code",
   "execution_count": 188,
   "id": "34794142-a83c-4f64-8727-5591b1b0c24a",
   "metadata": {},
   "outputs": [
    {
     "name": "stderr",
     "output_type": "stream",
     "text": [
      "<ipython-input-188-f1b846506ddb>:1: SettingWithCopyWarning: \n",
      "A value is trying to be set on a copy of a slice from a DataFrame.\n",
      "Try using .loc[row_indexer,col_indexer] = value instead\n",
      "\n",
      "See the caveats in the documentation: https://pandas.pydata.org/pandas-docs/stable/user_guide/indexing.html#returning-a-view-versus-a-copy\n",
      "  model_df['cdr3_cat_code'] = pd.Categorical(model_df['cdr3']).codes\n"
     ]
    }
   ],
   "source": [
    "model_df['cdr3_cat_code'] = pd.Categorical(model_df['cdr3']).codes"
   ]
  },
  {
   "cell_type": "code",
   "execution_count": 189,
   "id": "5026e9f9-6070-4bcf-9bae-73b576d2e7a1",
   "metadata": {},
   "outputs": [
    {
     "name": "stderr",
     "output_type": "stream",
     "text": [
      "<ipython-input-189-1fbd5dbe18ab>:1: SettingWithCopyWarning: \n",
      "A value is trying to be set on a copy of a slice from a DataFrame.\n",
      "Try using .loc[row_indexer,col_indexer] = value instead\n",
      "\n",
      "See the caveats in the documentation: https://pandas.pydata.org/pandas-docs/stable/user_guide/indexing.html#returning-a-view-versus-a-copy\n",
      "  model_df['antigen.epitope_cat_code'] = pd.Categorical(model_df['antigen.epitope']).codes\n",
      "<ipython-input-189-1fbd5dbe18ab>:2: SettingWithCopyWarning: \n",
      "A value is trying to be set on a copy of a slice from a DataFrame.\n",
      "Try using .loc[row_indexer,col_indexer] = value instead\n",
      "\n",
      "See the caveats in the documentation: https://pandas.pydata.org/pandas-docs/stable/user_guide/indexing.html#returning-a-view-versus-a-copy\n",
      "  model_df['antigen.species_cat_code'] = pd.Categorical(model_df['antigen.species']).codes\n",
      "<ipython-input-189-1fbd5dbe18ab>:3: SettingWithCopyWarning: \n",
      "A value is trying to be set on a copy of a slice from a DataFrame.\n",
      "Try using .loc[row_indexer,col_indexer] = value instead\n",
      "\n",
      "See the caveats in the documentation: https://pandas.pydata.org/pandas-docs/stable/user_guide/indexing.html#returning-a-view-versus-a-copy\n",
      "  model_df['mhc.class_cat_code'] = pd.Categorical(model_df['mhc.class']).codes\n"
     ]
    }
   ],
   "source": [
    "model_df['antigen.epitope_cat_code'] = pd.Categorical(model_df['antigen.epitope']).codes\n",
    "model_df['antigen.species_cat_code'] = pd.Categorical(model_df['antigen.species']).codes\n",
    "model_df['mhc.class_cat_code'] = pd.Categorical(model_df['mhc.class']).codes"
   ]
  },
  {
   "cell_type": "code",
   "execution_count": 190,
   "id": "9f7cac1b-646f-4d96-a90f-3941425056b6",
   "metadata": {},
   "outputs": [
    {
     "data": {
      "text/html": [
       "<div>\n",
       "<style scoped>\n",
       "    .dataframe tbody tr th:only-of-type {\n",
       "        vertical-align: middle;\n",
       "    }\n",
       "\n",
       "    .dataframe tbody tr th {\n",
       "        vertical-align: top;\n",
       "    }\n",
       "\n",
       "    .dataframe thead th {\n",
       "        text-align: right;\n",
       "    }\n",
       "</style>\n",
       "<table border=\"1\" class=\"dataframe\">\n",
       "  <thead>\n",
       "    <tr style=\"text-align: right;\">\n",
       "      <th></th>\n",
       "      <th>cdr3</th>\n",
       "      <th>antigen.species</th>\n",
       "      <th>mhc.class</th>\n",
       "      <th>antigen.epitope</th>\n",
       "      <th>vdjdb.score</th>\n",
       "      <th>cdr3_cat_code</th>\n",
       "      <th>antigen.epitope_cat_code</th>\n",
       "      <th>antigen.species_cat_code</th>\n",
       "      <th>mhc.class_cat_code</th>\n",
       "    </tr>\n",
       "  </thead>\n",
       "  <tbody>\n",
       "    <tr>\n",
       "      <th>1</th>\n",
       "      <td>CASSYLPGQGDHYSNQPQHF</td>\n",
       "      <td>HIV-1</td>\n",
       "      <td>MHCI</td>\n",
       "      <td>FLKEKGGL</td>\n",
       "      <td>2</td>\n",
       "      <td>27285</td>\n",
       "      <td>25</td>\n",
       "      <td>4</td>\n",
       "      <td>0</td>\n",
       "    </tr>\n",
       "  </tbody>\n",
       "</table>\n",
       "</div>"
      ],
      "text/plain": [
       "                   cdr3 antigen.species mhc.class antigen.epitope  \\\n",
       "1  CASSYLPGQGDHYSNQPQHF           HIV-1      MHCI        FLKEKGGL   \n",
       "\n",
       "   vdjdb.score  cdr3_cat_code  antigen.epitope_cat_code  \\\n",
       "1            2          27285                        25   \n",
       "\n",
       "   antigen.species_cat_code  mhc.class_cat_code  \n",
       "1                         4                   0  "
      ]
     },
     "execution_count": 190,
     "metadata": {},
     "output_type": "execute_result"
    }
   ],
   "source": [
    "model_df.head(1)"
   ]
  },
  {
   "cell_type": "code",
   "execution_count": 191,
   "id": "064cf9c7-4521-4855-8e23-45a19e4a3c9a",
   "metadata": {},
   "outputs": [
    {
     "data": {
      "text/plain": [
       "Index(['cdr3', 'antigen.species', 'mhc.class', 'antigen.epitope',\n",
       "       'vdjdb.score', 'cdr3_cat_code', 'antigen.epitope_cat_code',\n",
       "       'antigen.species_cat_code', 'mhc.class_cat_code'],\n",
       "      dtype='object')"
      ]
     },
     "execution_count": 191,
     "metadata": {},
     "output_type": "execute_result"
    }
   ],
   "source": [
    "model_df.columns"
   ]
  },
  {
   "cell_type": "code",
   "execution_count": 192,
   "id": "01c50175-d557-49e0-80f0-43fe7a539a2b",
   "metadata": {},
   "outputs": [],
   "source": [
    "df_final = model_df[['vdjdb.score', 'cdr3_cat_code', 'antigen.epitope_cat_code',\n",
    "       'antigen.species_cat_code', 'mhc.class_cat_code']]"
   ]
  },
  {
   "cell_type": "code",
   "execution_count": 193,
   "id": "1186045b-dea9-4734-94a8-6ebc2718fc68",
   "metadata": {},
   "outputs": [
    {
     "data": {
      "text/html": [
       "<div>\n",
       "<style scoped>\n",
       "    .dataframe tbody tr th:only-of-type {\n",
       "        vertical-align: middle;\n",
       "    }\n",
       "\n",
       "    .dataframe tbody tr th {\n",
       "        vertical-align: top;\n",
       "    }\n",
       "\n",
       "    .dataframe thead th {\n",
       "        text-align: right;\n",
       "    }\n",
       "</style>\n",
       "<table border=\"1\" class=\"dataframe\">\n",
       "  <thead>\n",
       "    <tr style=\"text-align: right;\">\n",
       "      <th></th>\n",
       "      <th>vdjdb.score</th>\n",
       "      <th>cdr3_cat_code</th>\n",
       "      <th>antigen.epitope_cat_code</th>\n",
       "      <th>antigen.species_cat_code</th>\n",
       "      <th>mhc.class_cat_code</th>\n",
       "    </tr>\n",
       "  </thead>\n",
       "  <tbody>\n",
       "    <tr>\n",
       "      <th>1</th>\n",
       "      <td>2</td>\n",
       "      <td>27285</td>\n",
       "      <td>25</td>\n",
       "      <td>4</td>\n",
       "      <td>0</td>\n",
       "    </tr>\n",
       "    <tr>\n",
       "      <th>2</th>\n",
       "      <td>2</td>\n",
       "      <td>6552</td>\n",
       "      <td>25</td>\n",
       "      <td>4</td>\n",
       "      <td>0</td>\n",
       "    </tr>\n",
       "    <tr>\n",
       "      <th>4</th>\n",
       "      <td>2</td>\n",
       "      <td>6579</td>\n",
       "      <td>25</td>\n",
       "      <td>4</td>\n",
       "      <td>0</td>\n",
       "    </tr>\n",
       "    <tr>\n",
       "      <th>6</th>\n",
       "      <td>2</td>\n",
       "      <td>26920</td>\n",
       "      <td>25</td>\n",
       "      <td>4</td>\n",
       "      <td>0</td>\n",
       "    </tr>\n",
       "    <tr>\n",
       "      <th>8</th>\n",
       "      <td>2</td>\n",
       "      <td>4400</td>\n",
       "      <td>25</td>\n",
       "      <td>4</td>\n",
       "      <td>0</td>\n",
       "    </tr>\n",
       "    <tr>\n",
       "      <th>...</th>\n",
       "      <td>...</td>\n",
       "      <td>...</td>\n",
       "      <td>...</td>\n",
       "      <td>...</td>\n",
       "      <td>...</td>\n",
       "    </tr>\n",
       "    <tr>\n",
       "      <th>92395</th>\n",
       "      <td>0</td>\n",
       "      <td>3950</td>\n",
       "      <td>47</td>\n",
       "      <td>4</td>\n",
       "      <td>0</td>\n",
       "    </tr>\n",
       "    <tr>\n",
       "      <th>92396</th>\n",
       "      <td>1</td>\n",
       "      <td>3176</td>\n",
       "      <td>47</td>\n",
       "      <td>4</td>\n",
       "      <td>0</td>\n",
       "    </tr>\n",
       "    <tr>\n",
       "      <th>92397</th>\n",
       "      <td>1</td>\n",
       "      <td>25601</td>\n",
       "      <td>47</td>\n",
       "      <td>4</td>\n",
       "      <td>0</td>\n",
       "    </tr>\n",
       "    <tr>\n",
       "      <th>92398</th>\n",
       "      <td>1</td>\n",
       "      <td>4018</td>\n",
       "      <td>47</td>\n",
       "      <td>4</td>\n",
       "      <td>0</td>\n",
       "    </tr>\n",
       "    <tr>\n",
       "      <th>92399</th>\n",
       "      <td>0</td>\n",
       "      <td>11280</td>\n",
       "      <td>47</td>\n",
       "      <td>4</td>\n",
       "      <td>0</td>\n",
       "    </tr>\n",
       "  </tbody>\n",
       "</table>\n",
       "<p>37540 rows × 5 columns</p>\n",
       "</div>"
      ],
      "text/plain": [
       "       vdjdb.score  cdr3_cat_code  antigen.epitope_cat_code  \\\n",
       "1                2          27285                        25   \n",
       "2                2           6552                        25   \n",
       "4                2           6579                        25   \n",
       "6                2          26920                        25   \n",
       "8                2           4400                        25   \n",
       "...            ...            ...                       ...   \n",
       "92395            0           3950                        47   \n",
       "92396            1           3176                        47   \n",
       "92397            1          25601                        47   \n",
       "92398            1           4018                        47   \n",
       "92399            0          11280                        47   \n",
       "\n",
       "       antigen.species_cat_code  mhc.class_cat_code  \n",
       "1                             4                   0  \n",
       "2                             4                   0  \n",
       "4                             4                   0  \n",
       "6                             4                   0  \n",
       "8                             4                   0  \n",
       "...                         ...                 ...  \n",
       "92395                         4                   0  \n",
       "92396                         4                   0  \n",
       "92397                         4                   0  \n",
       "92398                         4                   0  \n",
       "92399                         4                   0  \n",
       "\n",
       "[37540 rows x 5 columns]"
      ]
     },
     "execution_count": 193,
     "metadata": {},
     "output_type": "execute_result"
    }
   ],
   "source": [
    "df_final"
   ]
  },
  {
   "cell_type": "code",
   "execution_count": 194,
   "id": "1843135b-1579-4ab0-924b-249cd43674dc",
   "metadata": {},
   "outputs": [
    {
     "data": {
      "text/plain": [
       "vdjdb.score\n",
       "0    33835\n",
       "1     2588\n",
       "2      747\n",
       "3      370\n",
       "dtype: int64"
      ]
     },
     "execution_count": 194,
     "metadata": {},
     "output_type": "execute_result"
    }
   ],
   "source": [
    "df_final.groupby(['vdjdb.score']).size()"
   ]
  },
  {
   "cell_type": "code",
   "execution_count": 196,
   "id": "a0854947-b40f-440d-b033-88d13069581c",
   "metadata": {},
   "outputs": [
    {
     "data": {
      "text/plain": [
       "Index(['vdjdb.score', 'cdr3_cat_code', 'antigen.epitope_cat_code',\n",
       "       'antigen.species_cat_code', 'mhc.class_cat_code'],\n",
       "      dtype='object')"
      ]
     },
     "execution_count": 196,
     "metadata": {},
     "output_type": "execute_result"
    }
   ],
   "source": [
    "df_final.columns"
   ]
  },
  {
   "cell_type": "markdown",
   "id": "1c7c7f0f-decb-499f-832f-eafaf4d8e03c",
   "metadata": {},
   "source": [
    "---"
   ]
  },
  {
   "cell_type": "markdown",
   "id": "75c4bada-b6c2-474c-9641-23d9b52237f4",
   "metadata": {},
   "source": [
    "### Applying Classification model\n",
    "\n",
    "    1. Decision Trees\n",
    "    2. Random Forest"
   ]
  },
  {
   "cell_type": "code",
   "execution_count": 215,
   "id": "66afd9b8-f821-4868-9ba4-64f7ee41697b",
   "metadata": {},
   "outputs": [],
   "source": [
    "# Load libraries\n",
    "import pandas as pd\n",
    "from sklearn.tree import DecisionTreeClassifier # Import Decision Tree Classifier\n",
    "from sklearn.model_selection import train_test_split # Import train_test_split function\n",
    "from sklearn.metrics import accuracy_score,precision_score, recall_score, multilabel_confusion_matrix,hamming_loss, classification_report\n"
   ]
  },
  {
   "cell_type": "code",
   "execution_count": 199,
   "id": "896e188e-b000-4fc8-911d-184c4f3d4dda",
   "metadata": {},
   "outputs": [],
   "source": [
    "X = df_final[['cdr3_cat_code', 'antigen.epitope_cat_code',\n",
    "       'antigen.species_cat_code', 'mhc.class_cat_code']] # Features\n",
    "y = df_final[['vdjdb.score']]# Target variable\n"
   ]
  },
  {
   "cell_type": "code",
   "execution_count": 201,
   "id": "86fc02a5-d4fc-495c-902c-83f9062b63e3",
   "metadata": {},
   "outputs": [],
   "source": [
    "# Split dataset into training set and test set\n",
    "X_train, X_test, y_train, y_test = train_test_split(X, y, test_size=0.3, random_state=1) # 70% training and 30% test\n"
   ]
  },
  {
   "cell_type": "code",
   "execution_count": 202,
   "id": "412b240e-ba91-41c8-aff6-a8263ef55932",
   "metadata": {},
   "outputs": [],
   "source": [
    "# Create Decision Tree classifer object\n",
    "clf = DecisionTreeClassifier()\n",
    "\n",
    "# Train Decision Tree Classifer\n",
    "clf = clf.fit(X_train,y_train)\n",
    "\n",
    "#Predict the response for test dataset\n",
    "y_pred = clf.predict(X_test)"
   ]
  },
  {
   "cell_type": "markdown",
   "id": "f04356a1-6349-461e-a63c-73bc8569cff1",
   "metadata": {},
   "source": [
    "## Metrics to use?\n",
    "\n",
    "Hamming Loss: This is particularly useful in multi-label classification. It measures the fraction of labels that are incorrectly predicted, i.e., the fraction of the wrong labels to the total number of labels."
   ]
  },
  {
   "cell_type": "markdown",
   "id": "157c746c-cda3-423b-8caa-c685b8fa5f1d",
   "metadata": {},
   "source": [
    "### Which averaging techniques to use? Micro or Macro?"
   ]
  },
  {
   "cell_type": "code",
   "execution_count": 210,
   "id": "1e3cbd9f-dfe5-470b-ab32-17d1cef305f6",
   "metadata": {},
   "outputs": [
    {
     "name": "stdout",
     "output_type": "stream",
     "text": [
      "Accuracy: 0.8641449120937666\n",
      "Precision: 0.8637733601541822\n",
      "Recall: 0.8641449120937666\n"
     ]
    }
   ],
   "source": [
    "# Model Accuracy, how often is the classifier correct?\n",
    "print(\"Accuracy:\", accuracy_score(y_test, y_pred))\n",
    "print(\"Precision:\", precision_score(y_test, y_pred, average='weighted'))\n",
    "print(\"Recall:\", recall_score(y_test, y_pred, average='weighted'))"
   ]
  },
  {
   "cell_type": "code",
   "execution_count": 216,
   "id": "9503139d-2d3d-431b-8474-1d62fd49a0ad",
   "metadata": {},
   "outputs": [
    {
     "name": "stdout",
     "output_type": "stream",
     "text": [
      "Hamming Loss: 0.13585508790623335\n",
      "Classification Report:\n",
      "               precision    recall  f1-score   support\n",
      "\n",
      "           0       0.93      0.93      0.93     10152\n",
      "           1       0.29      0.29      0.29       790\n",
      "           2       0.33      0.33      0.33       209\n",
      "           3       0.06      0.05      0.06       111\n",
      "\n",
      "    accuracy                           0.86     11262\n",
      "   macro avg       0.40      0.40      0.40     11262\n",
      "weighted avg       0.86      0.86      0.86     11262\n",
      "\n"
     ]
    },
    {
     "data": {
      "image/png": "[encoded data removed]",
      "text/plain": [
       "<Figure size 432x288 with 2 Axes>"
      ]
     },
     "metadata": {
      "needs_background": "light"
     },
     "output_type": "display_data"
    },
    {
     "data": {
      "image/png": "[encoded data removed]",
      "text/plain": [
       "<Figure size 432x288 with 2 Axes>"
      ]
     },
     "metadata": {
      "needs_background": "light"
     },
     "output_type": "display_data"
    },
    {
     "data": {
      "image/png": "[encoded data removed]",
      "text/plain": [
       "<Figure size 432x288 with 2 Axes>"
      ]
     },
     "metadata": {
      "needs_background": "light"
     },
     "output_type": "display_data"
    },
    {
     "data": {
      "image/png": "[encoded data removed]",
      "text/plain": [
       "<Figure size 432x288 with 2 Axes>"
      ]
     },
     "metadata": {
      "needs_background": "light"
     },
     "output_type": "display_data"
    }
   ],
   "source": [
    "print(\"Hamming Loss:\", hamming_loss(y_test, y_pred))\n",
    "print(\"Classification Report:\\n\", classification_report(y_test, y_pred))\n",
    "\n",
    "# Confusion Matrix for each class\n",
    "conf_matrices = multilabel_confusion_matrix(y_test, y_pred)\n",
    "for i, matrix in enumerate(conf_matrices):\n",
    "    plt.figure()\n",
    "    sns.heatmap(matrix, annot=True, fmt='d', cmap='Blues')\n",
    "    plt.title(f'Confusion Matrix for Class {i}')\n",
    "    plt.xlabel('Predicted Labels')\n",
    "    plt.ylabel('True Labels')\n",
    "    plt.show()"
   ]
  },
  {
   "cell_type": "code",
   "execution_count": null,
   "id": "2e0012dd-b449-4ff7-9f46-b6a4d5d67f98",
   "metadata": {},
   "outputs": [],
   "source": []
  }
 ],
 "metadata": {
  "kernelspec": {
   "display_name": "Python 3",
   "language": "python",
   "name": "python3"
  },
  "language_info": {
   "codemirror_mode": {
    "name": "ipython",
    "version": 3
   },
   "file_extension": ".py",
   "mimetype": "text/x-python",
   "name": "python",
   "nbconvert_exporter": "python",
   "pygments_lexer": "ipython3",
   "version": "3.8.8"
  }
 },
 "nbformat": 4,
 "nbformat_minor": 5
}
